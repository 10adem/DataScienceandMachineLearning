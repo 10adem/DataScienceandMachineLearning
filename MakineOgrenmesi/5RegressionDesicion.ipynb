{
 "cells": [
  {
   "cell_type": "code",
   "execution_count": 1,
   "id": "fe57e55e-1f6b-4299-80a0-134fee8b4ef5",
   "metadata": {},
   "outputs": [],
   "source": [
    "# https://github.com/shankarpandala/lazypredict"
   ]
  },
  {
   "cell_type": "code",
   "execution_count": 2,
   "id": "11a1537a-ed4b-46a0-b1b1-2719beb1cae8",
   "metadata": {},
   "outputs": [
    {
     "name": "stdout",
     "output_type": "stream",
     "text": [
      "Defaulting to user installation because normal site-packages is not writeable\n",
      "Requirement already satisfied: lazypredict in c:\\users\\ademy\\appdata\\roaming\\python\\python310\\site-packages (0.2.16)\n",
      "Requirement already satisfied: click in c:\\users\\ademy\\appdata\\roaming\\python\\python310\\site-packages (from lazypredict) (8.2.1)\n",
      "Requirement already satisfied: scikit-learn in c:\\programdata\\anaconda3\\envs\\my_new_env\\lib\\site-packages (from lazypredict) (1.7.1)\n",
      "Requirement already satisfied: pandas in c:\\users\\ademy\\appdata\\roaming\\python\\python310\\site-packages (from lazypredict) (2.3.1)\n",
      "Requirement already satisfied: tqdm in c:\\users\\ademy\\appdata\\roaming\\python\\python310\\site-packages (from lazypredict) (4.67.1)\n",
      "Requirement already satisfied: joblib in c:\\programdata\\anaconda3\\envs\\my_new_env\\lib\\site-packages (from lazypredict) (1.5.1)\n",
      "Requirement already satisfied: lightgbm in c:\\programdata\\anaconda3\\envs\\my_new_env\\lib\\site-packages (from lazypredict) (4.6.0)\n",
      "Requirement already satisfied: xgboost in c:\\users\\ademy\\appdata\\roaming\\python\\python310\\site-packages (from lazypredict) (3.0.4)\n",
      "Requirement already satisfied: pytest-runner in c:\\users\\ademy\\appdata\\roaming\\python\\python310\\site-packages (from lazypredict) (6.0.1)\n",
      "Requirement already satisfied: mlflow>=2.0.0 in c:\\users\\ademy\\appdata\\roaming\\python\\python310\\site-packages (from lazypredict) (3.3.1)\n",
      "Requirement already satisfied: mlflow-skinny==3.3.1 in c:\\users\\ademy\\appdata\\roaming\\python\\python310\\site-packages (from mlflow>=2.0.0->lazypredict) (3.3.1)\n",
      "Requirement already satisfied: mlflow-tracing==3.3.1 in c:\\users\\ademy\\appdata\\roaming\\python\\python310\\site-packages (from mlflow>=2.0.0->lazypredict) (3.3.1)\n",
      "Requirement already satisfied: Flask<4 in c:\\users\\ademy\\appdata\\roaming\\python\\python310\\site-packages (from mlflow>=2.0.0->lazypredict) (3.1.2)\n",
      "Requirement already satisfied: alembic!=1.10.0,<2 in c:\\users\\ademy\\appdata\\roaming\\python\\python310\\site-packages (from mlflow>=2.0.0->lazypredict) (1.16.4)\n",
      "Requirement already satisfied: cryptography<46,>=43.0.0 in c:\\users\\ademy\\appdata\\roaming\\python\\python310\\site-packages (from mlflow>=2.0.0->lazypredict) (45.0.6)\n",
      "Requirement already satisfied: docker<8,>=4.0.0 in c:\\users\\ademy\\appdata\\roaming\\python\\python310\\site-packages (from mlflow>=2.0.0->lazypredict) (7.1.0)\n",
      "Requirement already satisfied: graphene<4 in c:\\users\\ademy\\appdata\\roaming\\python\\python310\\site-packages (from mlflow>=2.0.0->lazypredict) (3.4.3)\n",
      "Requirement already satisfied: matplotlib<4 in c:\\programdata\\anaconda3\\envs\\my_new_env\\lib\\site-packages (from mlflow>=2.0.0->lazypredict) (3.10.0)\n",
      "Requirement already satisfied: numpy<3 in c:\\programdata\\anaconda3\\envs\\my_new_env\\lib\\site-packages (from mlflow>=2.0.0->lazypredict) (2.0.1)\n",
      "Requirement already satisfied: pyarrow<22,>=4.0.0 in c:\\users\\ademy\\appdata\\roaming\\python\\python310\\site-packages (from mlflow>=2.0.0->lazypredict) (21.0.0)\n",
      "Requirement already satisfied: scipy<2 in c:\\programdata\\anaconda3\\envs\\my_new_env\\lib\\site-packages (from mlflow>=2.0.0->lazypredict) (1.15.2)\n",
      "Requirement already satisfied: sqlalchemy<3,>=1.4.0 in c:\\users\\ademy\\appdata\\roaming\\python\\python310\\site-packages (from mlflow>=2.0.0->lazypredict) (2.0.43)\n",
      "Requirement already satisfied: waitress<4 in c:\\users\\ademy\\appdata\\roaming\\python\\python310\\site-packages (from mlflow>=2.0.0->lazypredict) (3.0.2)\n",
      "Requirement already satisfied: cachetools<7,>=5.0.0 in c:\\users\\ademy\\appdata\\roaming\\python\\python310\\site-packages (from mlflow-skinny==3.3.1->mlflow>=2.0.0->lazypredict) (5.5.2)\n",
      "Requirement already satisfied: cloudpickle<4 in c:\\users\\ademy\\appdata\\roaming\\python\\python310\\site-packages (from mlflow-skinny==3.3.1->mlflow>=2.0.0->lazypredict) (3.1.1)\n",
      "Requirement already satisfied: databricks-sdk<1,>=0.20.0 in c:\\users\\ademy\\appdata\\roaming\\python\\python310\\site-packages (from mlflow-skinny==3.3.1->mlflow>=2.0.0->lazypredict) (0.64.0)\n",
      "Requirement already satisfied: fastapi<1 in c:\\users\\ademy\\appdata\\roaming\\python\\python310\\site-packages (from mlflow-skinny==3.3.1->mlflow>=2.0.0->lazypredict) (0.116.1)\n",
      "Requirement already satisfied: gitpython<4,>=3.1.9 in c:\\users\\ademy\\appdata\\roaming\\python\\python310\\site-packages (from mlflow-skinny==3.3.1->mlflow>=2.0.0->lazypredict) (3.1.45)\n",
      "Requirement already satisfied: importlib_metadata!=4.7.0,<9,>=3.7.0 in c:\\users\\ademy\\appdata\\roaming\\python\\python310\\site-packages (from mlflow-skinny==3.3.1->mlflow>=2.0.0->lazypredict) (8.7.0)\n",
      "Requirement already satisfied: opentelemetry-api<3,>=1.9.0 in c:\\users\\ademy\\appdata\\roaming\\python\\python310\\site-packages (from mlflow-skinny==3.3.1->mlflow>=2.0.0->lazypredict) (1.36.0)\n",
      "Requirement already satisfied: opentelemetry-sdk<3,>=1.9.0 in c:\\users\\ademy\\appdata\\roaming\\python\\python310\\site-packages (from mlflow-skinny==3.3.1->mlflow>=2.0.0->lazypredict) (1.36.0)\n",
      "Requirement already satisfied: packaging<26 in c:\\programdata\\anaconda3\\envs\\my_new_env\\lib\\site-packages (from mlflow-skinny==3.3.1->mlflow>=2.0.0->lazypredict) (25.0)\n",
      "Requirement already satisfied: protobuf<7,>=3.12.0 in c:\\users\\ademy\\appdata\\roaming\\python\\python310\\site-packages (from mlflow-skinny==3.3.1->mlflow>=2.0.0->lazypredict) (6.32.0)\n",
      "Requirement already satisfied: pydantic<3,>=1.10.8 in c:\\users\\ademy\\appdata\\roaming\\python\\python310\\site-packages (from mlflow-skinny==3.3.1->mlflow>=2.0.0->lazypredict) (2.11.7)\n",
      "Requirement already satisfied: pyyaml<7,>=5.1 in c:\\users\\ademy\\appdata\\roaming\\python\\python310\\site-packages (from mlflow-skinny==3.3.1->mlflow>=2.0.0->lazypredict) (6.0.2)\n",
      "Requirement already satisfied: requests<3,>=2.17.3 in c:\\users\\ademy\\appdata\\roaming\\python\\python310\\site-packages (from mlflow-skinny==3.3.1->mlflow>=2.0.0->lazypredict) (2.32.5)\n",
      "Requirement already satisfied: sqlparse<1,>=0.4.0 in c:\\users\\ademy\\appdata\\roaming\\python\\python310\\site-packages (from mlflow-skinny==3.3.1->mlflow>=2.0.0->lazypredict) (0.5.3)\n",
      "Requirement already satisfied: typing-extensions<5,>=4.0.0 in c:\\programdata\\anaconda3\\envs\\my_new_env\\lib\\site-packages (from mlflow-skinny==3.3.1->mlflow>=2.0.0->lazypredict) (4.12.2)\n",
      "Requirement already satisfied: uvicorn<1 in c:\\users\\ademy\\appdata\\roaming\\python\\python310\\site-packages (from mlflow-skinny==3.3.1->mlflow>=2.0.0->lazypredict) (0.35.0)\n",
      "Requirement already satisfied: Mako in c:\\users\\ademy\\appdata\\roaming\\python\\python310\\site-packages (from alembic!=1.10.0,<2->mlflow>=2.0.0->lazypredict) (1.3.10)\n",
      "Requirement already satisfied: tomli in c:\\programdata\\anaconda3\\envs\\my_new_env\\lib\\site-packages (from alembic!=1.10.0,<2->mlflow>=2.0.0->lazypredict) (2.2.1)\n",
      "Requirement already satisfied: colorama in c:\\programdata\\anaconda3\\envs\\my_new_env\\lib\\site-packages (from click->lazypredict) (0.4.6)\n",
      "Requirement already satisfied: cffi>=1.14 in c:\\users\\ademy\\appdata\\roaming\\python\\python310\\site-packages (from cryptography<46,>=43.0.0->mlflow>=2.0.0->lazypredict) (1.17.1)\n",
      "Requirement already satisfied: google-auth~=2.0 in c:\\users\\ademy\\appdata\\roaming\\python\\python310\\site-packages (from databricks-sdk<1,>=0.20.0->mlflow-skinny==3.3.1->mlflow>=2.0.0->lazypredict) (2.40.3)\n",
      "Requirement already satisfied: pywin32>=304 in c:\\programdata\\anaconda3\\envs\\my_new_env\\lib\\site-packages (from docker<8,>=4.0.0->mlflow>=2.0.0->lazypredict) (311)\n",
      "Requirement already satisfied: urllib3>=1.26.0 in c:\\users\\ademy\\appdata\\roaming\\python\\python310\\site-packages (from docker<8,>=4.0.0->mlflow>=2.0.0->lazypredict) (2.5.0)\n",
      "Requirement already satisfied: starlette<0.48.0,>=0.40.0 in c:\\users\\ademy\\appdata\\roaming\\python\\python310\\site-packages (from fastapi<1->mlflow-skinny==3.3.1->mlflow>=2.0.0->lazypredict) (0.47.3)\n",
      "Requirement already satisfied: blinker>=1.9.0 in c:\\users\\ademy\\appdata\\roaming\\python\\python310\\site-packages (from Flask<4->mlflow>=2.0.0->lazypredict) (1.9.0)\n",
      "Requirement already satisfied: itsdangerous>=2.2.0 in c:\\users\\ademy\\appdata\\roaming\\python\\python310\\site-packages (from Flask<4->mlflow>=2.0.0->lazypredict) (2.2.0)\n",
      "Requirement already satisfied: jinja2>=3.1.2 in c:\\users\\ademy\\appdata\\roaming\\python\\python310\\site-packages (from Flask<4->mlflow>=2.0.0->lazypredict) (3.1.6)\n",
      "Requirement already satisfied: markupsafe>=2.1.1 in c:\\users\\ademy\\appdata\\roaming\\python\\python310\\site-packages (from Flask<4->mlflow>=2.0.0->lazypredict) (3.0.2)\n",
      "Requirement already satisfied: werkzeug>=3.1.0 in c:\\users\\ademy\\appdata\\roaming\\python\\python310\\site-packages (from Flask<4->mlflow>=2.0.0->lazypredict) (3.1.3)\n",
      "Requirement already satisfied: gitdb<5,>=4.0.1 in c:\\users\\ademy\\appdata\\roaming\\python\\python310\\site-packages (from gitpython<4,>=3.1.9->mlflow-skinny==3.3.1->mlflow>=2.0.0->lazypredict) (4.0.12)\n",
      "Requirement already satisfied: smmap<6,>=3.0.1 in c:\\users\\ademy\\appdata\\roaming\\python\\python310\\site-packages (from gitdb<5,>=4.0.1->gitpython<4,>=3.1.9->mlflow-skinny==3.3.1->mlflow>=2.0.0->lazypredict) (5.0.2)\n",
      "Requirement already satisfied: pyasn1-modules>=0.2.1 in c:\\users\\ademy\\appdata\\roaming\\python\\python310\\site-packages (from google-auth~=2.0->databricks-sdk<1,>=0.20.0->mlflow-skinny==3.3.1->mlflow>=2.0.0->lazypredict) (0.4.2)\n",
      "Requirement already satisfied: rsa<5,>=3.1.4 in c:\\users\\ademy\\appdata\\roaming\\python\\python310\\site-packages (from google-auth~=2.0->databricks-sdk<1,>=0.20.0->mlflow-skinny==3.3.1->mlflow>=2.0.0->lazypredict) (4.9.1)\n",
      "Requirement already satisfied: graphql-core<3.3,>=3.1 in c:\\users\\ademy\\appdata\\roaming\\python\\python310\\site-packages (from graphene<4->mlflow>=2.0.0->lazypredict) (3.2.6)\n",
      "Requirement already satisfied: graphql-relay<3.3,>=3.1 in c:\\users\\ademy\\appdata\\roaming\\python\\python310\\site-packages (from graphene<4->mlflow>=2.0.0->lazypredict) (3.2.0)\n",
      "Requirement already satisfied: python-dateutil<3,>=2.7.0 in c:\\programdata\\anaconda3\\envs\\my_new_env\\lib\\site-packages (from graphene<4->mlflow>=2.0.0->lazypredict) (2.9.0.post0)\n",
      "Requirement already satisfied: zipp>=3.20 in c:\\users\\ademy\\appdata\\roaming\\python\\python310\\site-packages (from importlib_metadata!=4.7.0,<9,>=3.7.0->mlflow-skinny==3.3.1->mlflow>=2.0.0->lazypredict) (3.23.0)\n",
      "Requirement already satisfied: contourpy>=1.0.1 in c:\\programdata\\anaconda3\\envs\\my_new_env\\lib\\site-packages (from matplotlib<4->mlflow>=2.0.0->lazypredict) (1.3.1)\n",
      "Requirement already satisfied: cycler>=0.10 in c:\\programdata\\anaconda3\\envs\\my_new_env\\lib\\site-packages (from matplotlib<4->mlflow>=2.0.0->lazypredict) (0.11.0)\n",
      "Requirement already satisfied: fonttools>=4.22.0 in c:\\programdata\\anaconda3\\envs\\my_new_env\\lib\\site-packages (from matplotlib<4->mlflow>=2.0.0->lazypredict) (4.55.3)\n",
      "Requirement already satisfied: kiwisolver>=1.3.1 in c:\\programdata\\anaconda3\\envs\\my_new_env\\lib\\site-packages (from matplotlib<4->mlflow>=2.0.0->lazypredict) (1.4.8)\n",
      "Requirement already satisfied: pillow>=8 in c:\\programdata\\anaconda3\\envs\\my_new_env\\lib\\site-packages (from matplotlib<4->mlflow>=2.0.0->lazypredict) (11.1.0)\n",
      "Requirement already satisfied: pyparsing>=2.3.1 in c:\\programdata\\anaconda3\\envs\\my_new_env\\lib\\site-packages (from matplotlib<4->mlflow>=2.0.0->lazypredict) (3.2.0)\n",
      "Requirement already satisfied: opentelemetry-semantic-conventions==0.57b0 in c:\\users\\ademy\\appdata\\roaming\\python\\python310\\site-packages (from opentelemetry-sdk<3,>=1.9.0->mlflow-skinny==3.3.1->mlflow>=2.0.0->lazypredict) (0.57b0)\n",
      "Requirement already satisfied: pytz>=2020.1 in c:\\users\\ademy\\appdata\\roaming\\python\\python310\\site-packages (from pandas->lazypredict) (2025.2)\n",
      "Requirement already satisfied: tzdata>=2022.7 in c:\\users\\ademy\\appdata\\roaming\\python\\python310\\site-packages (from pandas->lazypredict) (2025.2)\n",
      "Requirement already satisfied: annotated-types>=0.6.0 in c:\\users\\ademy\\appdata\\roaming\\python\\python310\\site-packages (from pydantic<3,>=1.10.8->mlflow-skinny==3.3.1->mlflow>=2.0.0->lazypredict) (0.7.0)\n",
      "Requirement already satisfied: pydantic-core==2.33.2 in c:\\users\\ademy\\appdata\\roaming\\python\\python310\\site-packages (from pydantic<3,>=1.10.8->mlflow-skinny==3.3.1->mlflow>=2.0.0->lazypredict) (2.33.2)\n",
      "Requirement already satisfied: typing-inspection>=0.4.0 in c:\\users\\ademy\\appdata\\roaming\\python\\python310\\site-packages (from pydantic<3,>=1.10.8->mlflow-skinny==3.3.1->mlflow>=2.0.0->lazypredict) (0.4.1)\n",
      "Requirement already satisfied: six>=1.5 in c:\\programdata\\anaconda3\\envs\\my_new_env\\lib\\site-packages (from python-dateutil<3,>=2.7.0->graphene<4->mlflow>=2.0.0->lazypredict) (1.17.0)\n",
      "Requirement already satisfied: charset_normalizer<4,>=2 in c:\\users\\ademy\\appdata\\roaming\\python\\python310\\site-packages (from requests<3,>=2.17.3->mlflow-skinny==3.3.1->mlflow>=2.0.0->lazypredict) (3.4.3)\n",
      "Requirement already satisfied: idna<4,>=2.5 in c:\\users\\ademy\\appdata\\roaming\\python\\python310\\site-packages (from requests<3,>=2.17.3->mlflow-skinny==3.3.1->mlflow>=2.0.0->lazypredict) (3.10)\n",
      "Requirement already satisfied: certifi>=2017.4.17 in c:\\users\\ademy\\appdata\\roaming\\python\\python310\\site-packages (from requests<3,>=2.17.3->mlflow-skinny==3.3.1->mlflow>=2.0.0->lazypredict) (2025.8.3)\n",
      "Requirement already satisfied: pyasn1>=0.1.3 in c:\\users\\ademy\\appdata\\roaming\\python\\python310\\site-packages (from rsa<5,>=3.1.4->google-auth~=2.0->databricks-sdk<1,>=0.20.0->mlflow-skinny==3.3.1->mlflow>=2.0.0->lazypredict) (0.6.1)\n",
      "Requirement already satisfied: threadpoolctl>=3.1.0 in c:\\programdata\\anaconda3\\envs\\my_new_env\\lib\\site-packages (from scikit-learn->lazypredict) (3.6.0)\n",
      "Requirement already satisfied: greenlet>=1 in c:\\users\\ademy\\appdata\\roaming\\python\\python310\\site-packages (from sqlalchemy<3,>=1.4.0->mlflow>=2.0.0->lazypredict) (3.2.4)\n",
      "Requirement already satisfied: anyio<5,>=3.6.2 in c:\\users\\ademy\\appdata\\roaming\\python\\python310\\site-packages (from starlette<0.48.0,>=0.40.0->fastapi<1->mlflow-skinny==3.3.1->mlflow>=2.0.0->lazypredict) (4.10.0)\n",
      "Requirement already satisfied: exceptiongroup>=1.0.2 in c:\\programdata\\anaconda3\\envs\\my_new_env\\lib\\site-packages (from anyio<5,>=3.6.2->starlette<0.48.0,>=0.40.0->fastapi<1->mlflow-skinny==3.3.1->mlflow>=2.0.0->lazypredict) (1.2.0)\n",
      "Requirement already satisfied: sniffio>=1.1 in c:\\users\\ademy\\appdata\\roaming\\python\\python310\\site-packages (from anyio<5,>=3.6.2->starlette<0.48.0,>=0.40.0->fastapi<1->mlflow-skinny==3.3.1->mlflow>=2.0.0->lazypredict) (1.3.1)\n",
      "Requirement already satisfied: h11>=0.8 in c:\\users\\ademy\\appdata\\roaming\\python\\python310\\site-packages (from uvicorn<1->mlflow-skinny==3.3.1->mlflow>=2.0.0->lazypredict) (0.16.0)\n",
      "Requirement already satisfied: pycparser in c:\\users\\ademy\\appdata\\roaming\\python\\python310\\site-packages (from cffi>=1.14->cryptography<46,>=43.0.0->mlflow>=2.0.0->lazypredict) (2.22)\n",
      "Note: you may need to restart the kernel to use updated packages.\n"
     ]
    }
   ],
   "source": [
    "pip install lazypredict"
   ]
  },
  {
   "cell_type": "code",
   "execution_count": 3,
   "id": "6f95e817-ecfc-4510-939e-c9c67d1dbba5",
   "metadata": {},
   "outputs": [
    {
     "name": "stdout",
     "output_type": "stream",
     "text": [
      "Defaulting to user installation because normal site-packages is not writeable\n",
      "Requirement already satisfied: ipywidgets in c:\\users\\ademy\\appdata\\roaming\\python\\python310\\site-packages (8.1.7)\n",
      "Requirement already satisfied: comm>=0.1.3 in c:\\programdata\\anaconda3\\envs\\my_new_env\\lib\\site-packages (from ipywidgets) (0.2.1)\n",
      "Requirement already satisfied: ipython>=6.1.0 in c:\\programdata\\anaconda3\\envs\\my_new_env\\lib\\site-packages (from ipywidgets) (8.30.0)\n",
      "Requirement already satisfied: traitlets>=4.3.1 in c:\\programdata\\anaconda3\\envs\\my_new_env\\lib\\site-packages (from ipywidgets) (5.14.3)\n",
      "Requirement already satisfied: widgetsnbextension~=4.0.14 in c:\\users\\ademy\\appdata\\roaming\\python\\python310\\site-packages (from ipywidgets) (4.0.14)\n",
      "Requirement already satisfied: jupyterlab_widgets~=3.0.15 in c:\\users\\ademy\\appdata\\roaming\\python\\python310\\site-packages (from ipywidgets) (3.0.15)\n",
      "Requirement already satisfied: decorator in c:\\programdata\\anaconda3\\envs\\my_new_env\\lib\\site-packages (from ipython>=6.1.0->ipywidgets) (5.1.1)\n",
      "Requirement already satisfied: jedi>=0.16 in c:\\programdata\\anaconda3\\envs\\my_new_env\\lib\\site-packages (from ipython>=6.1.0->ipywidgets) (0.19.2)\n",
      "Requirement already satisfied: matplotlib-inline in c:\\programdata\\anaconda3\\envs\\my_new_env\\lib\\site-packages (from ipython>=6.1.0->ipywidgets) (0.1.6)\n",
      "Requirement already satisfied: prompt-toolkit<3.1.0,>=3.0.41 in c:\\programdata\\anaconda3\\envs\\my_new_env\\lib\\site-packages (from ipython>=6.1.0->ipywidgets) (3.0.43)\n",
      "Requirement already satisfied: pygments>=2.4.0 in c:\\programdata\\anaconda3\\envs\\my_new_env\\lib\\site-packages (from ipython>=6.1.0->ipywidgets) (2.19.1)\n",
      "Requirement already satisfied: stack-data in c:\\programdata\\anaconda3\\envs\\my_new_env\\lib\\site-packages (from ipython>=6.1.0->ipywidgets) (0.2.0)\n",
      "Requirement already satisfied: exceptiongroup in c:\\programdata\\anaconda3\\envs\\my_new_env\\lib\\site-packages (from ipython>=6.1.0->ipywidgets) (1.2.0)\n",
      "Requirement already satisfied: typing-extensions>=4.6 in c:\\programdata\\anaconda3\\envs\\my_new_env\\lib\\site-packages (from ipython>=6.1.0->ipywidgets) (4.12.2)\n",
      "Requirement already satisfied: colorama in c:\\programdata\\anaconda3\\envs\\my_new_env\\lib\\site-packages (from ipython>=6.1.0->ipywidgets) (0.4.6)\n",
      "Requirement already satisfied: wcwidth in c:\\programdata\\anaconda3\\envs\\my_new_env\\lib\\site-packages (from prompt-toolkit<3.1.0,>=3.0.41->ipython>=6.1.0->ipywidgets) (0.2.13)\n",
      "Requirement already satisfied: parso<0.9.0,>=0.8.4 in c:\\programdata\\anaconda3\\envs\\my_new_env\\lib\\site-packages (from jedi>=0.16->ipython>=6.1.0->ipywidgets) (0.8.4)\n",
      "Requirement already satisfied: executing in c:\\programdata\\anaconda3\\envs\\my_new_env\\lib\\site-packages (from stack-data->ipython>=6.1.0->ipywidgets) (0.8.3)\n",
      "Requirement already satisfied: asttokens in c:\\programdata\\anaconda3\\envs\\my_new_env\\lib\\site-packages (from stack-data->ipython>=6.1.0->ipywidgets) (3.0.0)\n",
      "Requirement already satisfied: pure-eval in c:\\programdata\\anaconda3\\envs\\my_new_env\\lib\\site-packages (from stack-data->ipython>=6.1.0->ipywidgets) (0.2.2)\n",
      "Note: you may need to restart the kernel to use updated packages.\n"
     ]
    }
   ],
   "source": [
    "pip install ipywidgets"
   ]
  },
  {
   "cell_type": "code",
   "execution_count": 8,
   "id": "21714a97-a392-46f3-ad32-356d03040228",
   "metadata": {},
   "outputs": [
    {
     "data": {
      "application/vnd.jupyter.widget-view+json": {
       "model_id": "b60510182a64445d8a4fb7740e7c87bc",
       "version_major": 2,
       "version_minor": 0
      },
      "text/plain": [
       "IntSlider(value=0)"
      ]
     },
     "execution_count": 8,
     "metadata": {},
     "output_type": "execute_result"
    }
   ],
   "source": [
    "import ipywidgets as widgets\n",
    "widgets.IntSlider()"
   ]
  },
  {
   "cell_type": "code",
   "execution_count": 5,
   "id": "00596971-667f-4997-ba0f-3e5966913263",
   "metadata": {
    "jupyter": {
     "source_hidden": true
    }
   },
   "outputs": [],
   "source": [
    "from lazypredict.Supervised import LazyRegressor\n",
    "from sklearn import datasets\n",
    "from sklearn.utils import shuffle\n",
    "import numpy as np"
   ]
  },
  {
   "cell_type": "code",
   "execution_count": 9,
   "id": "3e7fbef4-4b1c-42e1-ab45-405d626490b5",
   "metadata": {},
   "outputs": [],
   "source": [
    "diabetes  = datasets.load_diabetes()"
   ]
  },
  {
   "cell_type": "code",
   "execution_count": 10,
   "id": "11bf1486-6545-4687-a6ae-234a7bf64cf5",
   "metadata": {},
   "outputs": [
    {
     "data": {
      "text/plain": [
       "sklearn.utils._bunch.Bunch"
      ]
     },
     "execution_count": 10,
     "metadata": {},
     "output_type": "execute_result"
    }
   ],
   "source": [
    "type(diabetes)"
   ]
  },
  {
   "cell_type": "code",
   "execution_count": 11,
   "id": "7ea4572c-b2fc-4518-a798-41b88c2dddfe",
   "metadata": {},
   "outputs": [
    {
     "data": {
      "text/plain": [
       "'.. _diabetes_dataset:\\n\\nDiabetes dataset\\n----------------\\n\\nTen baseline variables, age, sex, body mass index, average blood\\npressure, and six blood serum measurements were obtained for each of n =\\n442 diabetes patients, as well as the response of interest, a\\nquantitative measure of disease progression one year after baseline.\\n\\n**Data Set Characteristics:**\\n\\n:Number of Instances: 442\\n\\n:Number of Attributes: First 10 columns are numeric predictive values\\n\\n:Target: Column 11 is a quantitative measure of disease progression one year after baseline\\n\\n:Attribute Information:\\n    - age     age in years\\n    - sex\\n    - bmi     body mass index\\n    - bp      average blood pressure\\n    - s1      tc, total serum cholesterol\\n    - s2      ldl, low-density lipoproteins\\n    - s3      hdl, high-density lipoproteins\\n    - s4      tch, total cholesterol / HDL\\n    - s5      ltg, possibly log of serum triglycerides level\\n    - s6      glu, blood sugar level\\n\\nNote: Each of these 10 feature variables have been mean centered and scaled by the standard deviation times the square root of `n_samples` (i.e. the sum of squares of each column totals 1).\\n\\nSource URL:\\nhttps://www4.stat.ncsu.edu/~boos/var.select/diabetes.html\\n\\nFor more information see:\\nBradley Efron, Trevor Hastie, Iain Johnstone and Robert Tibshirani (2004) \"Least Angle Regression,\" Annals of Statistics (with discussion), 407-499.\\n(https://web.stanford.edu/~hastie/Papers/LARS/LeastAngle_2002.pdf)\\n'"
      ]
     },
     "execution_count": 11,
     "metadata": {},
     "output_type": "execute_result"
    }
   ],
   "source": [
    "diabetes.DESCR"
   ]
  },
  {
   "cell_type": "code",
   "execution_count": 12,
   "id": "bab52170-276a-4988-beea-07b3e9a58136",
   "metadata": {},
   "outputs": [
    {
     "data": {
      "text/plain": [
       "'.. _diabetes_dataset:\\n\\nDiabetes dataset\\n----------------\\n\\nTen baseline variables, age, sex, body mass index, average blood\\npressure, and six blood serum measurements were obtained for each of n =\\n442 diabetes patients, as well as the response of interest, a\\nquantitative measure of disease progression one year after baseline.\\n\\n**Data Set Characteristics:**\\n\\n:Number of Instances: 442\\n\\n:Number of Attributes: First 10 columns are numeric predictive values\\n\\n:Target: Column 11 is a quantitative measure of disease progression one year after baseline\\n\\n:Attribute Information:\\n    - age     age in years\\n    - sex\\n    - bmi     body mass index\\n    - bp      average blood pressure\\n    - s1      tc, total serum cholesterol\\n    - s2      ldl, low-density lipoproteins\\n    - s3      hdl, high-density lipoproteins\\n    - s4      tch, total cholesterol / HDL\\n    - s5      ltg, possibly log of serum triglycerides level\\n    - s6      glu, blood sugar level\\n\\nNote: Each of these 10 feature variables have been mean centered and scaled by the standard deviation times the square root of `n_samples` (i.e. the sum of squares of each column totals 1).\\n\\nSource URL:\\nhttps://www4.stat.ncsu.edu/~boos/var.select/diabetes.html\\n\\nFor more information see:\\nBradley Efron, Trevor Hastie, Iain Johnstone and Robert Tibshirani (2004) \"Least Angle Regression,\" Annals of Statistics (with discussion), 407-499.\\n(https://web.stanford.edu/~hastie/Papers/LARS/LeastAngle_2002.pdf)\\n'"
      ]
     },
     "execution_count": 12,
     "metadata": {},
     "output_type": "execute_result"
    }
   ],
   "source": [
    "diabetes[\"DESCR\"]"
   ]
  },
  {
   "cell_type": "code",
   "execution_count": 13,
   "id": "6fb43d21-4c18-4df8-b697-f2dc25741b1a",
   "metadata": {},
   "outputs": [
    {
     "data": {
      "text/plain": [
       "array([[ 0.03807591,  0.05068012,  0.06169621, ..., -0.00259226,\n",
       "         0.01990749, -0.01764613],\n",
       "       [-0.00188202, -0.04464164, -0.05147406, ..., -0.03949338,\n",
       "        -0.06833155, -0.09220405],\n",
       "       [ 0.08529891,  0.05068012,  0.04445121, ..., -0.00259226,\n",
       "         0.00286131, -0.02593034],\n",
       "       ...,\n",
       "       [ 0.04170844,  0.05068012, -0.01590626, ..., -0.01107952,\n",
       "        -0.04688253,  0.01549073],\n",
       "       [-0.04547248, -0.04464164,  0.03906215, ...,  0.02655962,\n",
       "         0.04452873, -0.02593034],\n",
       "       [-0.04547248, -0.04464164, -0.0730303 , ..., -0.03949338,\n",
       "        -0.00422151,  0.00306441]])"
      ]
     },
     "execution_count": 13,
     "metadata": {},
     "output_type": "execute_result"
    }
   ],
   "source": [
    "diabetes.data"
   ]
  },
  {
   "cell_type": "code",
   "execution_count": 14,
   "id": "d0dcdbb7-451d-4182-aa06-163071321ff5",
   "metadata": {},
   "outputs": [
    {
     "data": {
      "text/plain": [
       "array([151.,  75., 141., 206., 135.,  97., 138.,  63., 110., 310., 101.,\n",
       "        69., 179., 185., 118., 171., 166., 144.,  97., 168.,  68.,  49.,\n",
       "        68., 245., 184., 202., 137.,  85., 131., 283., 129.,  59., 341.,\n",
       "        87.,  65., 102., 265., 276., 252.,  90., 100.,  55.,  61.,  92.,\n",
       "       259.,  53., 190., 142.,  75., 142., 155., 225.,  59., 104., 182.,\n",
       "       128.,  52.,  37., 170., 170.,  61., 144.,  52., 128.,  71., 163.,\n",
       "       150.,  97., 160., 178.,  48., 270., 202., 111.,  85.,  42., 170.,\n",
       "       200., 252., 113., 143.,  51.,  52., 210.,  65., 141.,  55., 134.,\n",
       "        42., 111.,  98., 164.,  48.,  96.,  90., 162., 150., 279.,  92.,\n",
       "        83., 128., 102., 302., 198.,  95.,  53., 134., 144., 232.,  81.,\n",
       "       104.,  59., 246., 297., 258., 229., 275., 281., 179., 200., 200.,\n",
       "       173., 180.,  84., 121., 161.,  99., 109., 115., 268., 274., 158.,\n",
       "       107.,  83., 103., 272.,  85., 280., 336., 281., 118., 317., 235.,\n",
       "        60., 174., 259., 178., 128.,  96., 126., 288.,  88., 292.,  71.,\n",
       "       197., 186.,  25.,  84.,  96., 195.,  53., 217., 172., 131., 214.,\n",
       "        59.,  70., 220., 268., 152.,  47.,  74., 295., 101., 151., 127.,\n",
       "       237., 225.,  81., 151., 107.,  64., 138., 185., 265., 101., 137.,\n",
       "       143., 141.,  79., 292., 178.,  91., 116.,  86., 122.,  72., 129.,\n",
       "       142.,  90., 158.,  39., 196., 222., 277.,  99., 196., 202., 155.,\n",
       "        77., 191.,  70.,  73.,  49.,  65., 263., 248., 296., 214., 185.,\n",
       "        78.,  93., 252., 150.,  77., 208.,  77., 108., 160.,  53., 220.,\n",
       "       154., 259.,  90., 246., 124.,  67.,  72., 257., 262., 275., 177.,\n",
       "        71.,  47., 187., 125.,  78.,  51., 258., 215., 303., 243.,  91.,\n",
       "       150., 310., 153., 346.,  63.,  89.,  50.,  39., 103., 308., 116.,\n",
       "       145.,  74.,  45., 115., 264.,  87., 202., 127., 182., 241.,  66.,\n",
       "        94., 283.,  64., 102., 200., 265.,  94., 230., 181., 156., 233.,\n",
       "        60., 219.,  80.,  68., 332., 248.,  84., 200.,  55.,  85.,  89.,\n",
       "        31., 129.,  83., 275.,  65., 198., 236., 253., 124.,  44., 172.,\n",
       "       114., 142., 109., 180., 144., 163., 147.,  97., 220., 190., 109.,\n",
       "       191., 122., 230., 242., 248., 249., 192., 131., 237.,  78., 135.,\n",
       "       244., 199., 270., 164.,  72.,  96., 306.,  91., 214.,  95., 216.,\n",
       "       263., 178., 113., 200., 139., 139.,  88., 148.,  88., 243.,  71.,\n",
       "        77., 109., 272.,  60.,  54., 221.,  90., 311., 281., 182., 321.,\n",
       "        58., 262., 206., 233., 242., 123., 167.,  63., 197.,  71., 168.,\n",
       "       140., 217., 121., 235., 245.,  40.,  52., 104., 132.,  88.,  69.,\n",
       "       219.,  72., 201., 110.,  51., 277.,  63., 118.,  69., 273., 258.,\n",
       "        43., 198., 242., 232., 175.,  93., 168., 275., 293., 281.,  72.,\n",
       "       140., 189., 181., 209., 136., 261., 113., 131., 174., 257.,  55.,\n",
       "        84.,  42., 146., 212., 233.,  91., 111., 152., 120.,  67., 310.,\n",
       "        94., 183.,  66., 173.,  72.,  49.,  64.,  48., 178., 104., 132.,\n",
       "       220.,  57.])"
      ]
     },
     "execution_count": 14,
     "metadata": {},
     "output_type": "execute_result"
    }
   ],
   "source": [
    "diabetes.target"
   ]
  },
  {
   "cell_type": "code",
   "execution_count": 15,
   "id": "7d943031-7368-40f4-a2db-f2c150f00291",
   "metadata": {},
   "outputs": [],
   "source": [
    "X, y = shuffle(diabetes.data, diabetes.target, random_state=13)\n",
    "X = X.astype(np.float32)"
   ]
  },
  {
   "cell_type": "code",
   "execution_count": 16,
   "id": "d06d223a-9ea1-40b8-b3a7-4ccd5d8f5820",
   "metadata": {},
   "outputs": [],
   "source": [
    "offset = int(X.shape[0] * 0.9)\n",
    "\n",
    "X_train, y_train = X[:offset], y[:offset]\n",
    "X_test, y_test = X[offset:], y[offset:]"
   ]
  },
  {
   "cell_type": "code",
   "execution_count": 18,
   "id": "610d5248-f7f8-4738-ae7e-ca66cb556049",
   "metadata": {
    "collapsed": true,
    "jupyter": {
     "outputs_hidden": true
    }
   },
   "outputs": [
    {
     "data": {
      "application/vnd.jupyter.widget-view+json": {
       "model_id": "e11423d432c44b57b1a4d921b5986ba9",
       "version_major": 2,
       "version_minor": 0
      },
      "text/plain": [
       "  0%|          | 0/42 [00:00<?, ?it/s]"
      ]
     },
     "metadata": {},
     "output_type": "display_data"
    },
    {
     "name": "stdout",
     "output_type": "stream",
     "text": [
      "[LightGBM] [Info] Auto-choosing col-wise multi-threading, the overhead of testing was 0.000091 seconds.\n",
      "You can set `force_col_wise=true` to remove the overhead.\n",
      "[LightGBM] [Info] Total Bins 640\n",
      "[LightGBM] [Info] Number of data points in the train set: 397, number of used features: 10\n",
      "[LightGBM] [Info] Start training from score 151.722922\n",
      "[LightGBM] [Warning] No further splits with positive gain, best gain: -inf\n",
      "[LightGBM] [Warning] No further splits with positive gain, best gain: -inf\n",
      "[LightGBM] [Warning] No further splits with positive gain, best gain: -inf\n",
      "[LightGBM] [Warning] No further splits with positive gain, best gain: -inf\n",
      "[LightGBM] [Warning] No further splits with positive gain, best gain: -inf\n",
      "[LightGBM] [Warning] No further splits with positive gain, best gain: -inf\n",
      "[LightGBM] [Warning] No further splits with positive gain, best gain: -inf\n",
      "[LightGBM] [Warning] No further splits with positive gain, best gain: -inf\n",
      "[LightGBM] [Warning] No further splits with positive gain, best gain: -inf\n",
      "[LightGBM] [Warning] No further splits with positive gain, best gain: -inf\n",
      "[LightGBM] [Warning] No further splits with positive gain, best gain: -inf\n",
      "[LightGBM] [Warning] No further splits with positive gain, best gain: -inf\n",
      "[LightGBM] [Warning] No further splits with positive gain, best gain: -inf\n",
      "[LightGBM] [Warning] No further splits with positive gain, best gain: -inf\n",
      "[LightGBM] [Warning] No further splits with positive gain, best gain: -inf\n",
      "[LightGBM] [Warning] No further splits with positive gain, best gain: -inf\n",
      "[LightGBM] [Warning] No further splits with positive gain, best gain: -inf\n",
      "[LightGBM] [Warning] No further splits with positive gain, best gain: -inf\n",
      "[LightGBM] [Warning] No further splits with positive gain, best gain: -inf\n",
      "[LightGBM] [Warning] No further splits with positive gain, best gain: -inf\n",
      "[LightGBM] [Warning] No further splits with positive gain, best gain: -inf\n",
      "[LightGBM] [Warning] No further splits with positive gain, best gain: -inf\n",
      "[LightGBM] [Warning] No further splits with positive gain, best gain: -inf\n",
      "[LightGBM] [Warning] No further splits with positive gain, best gain: -inf\n",
      "[LightGBM] [Warning] No further splits with positive gain, best gain: -inf\n",
      "[LightGBM] [Warning] No further splits with positive gain, best gain: -inf\n",
      "[LightGBM] [Warning] No further splits with positive gain, best gain: -inf\n",
      "[LightGBM] [Warning] No further splits with positive gain, best gain: -inf\n",
      "[LightGBM] [Warning] No further splits with positive gain, best gain: -inf\n",
      "[LightGBM] [Warning] No further splits with positive gain, best gain: -inf\n",
      "[LightGBM] [Warning] No further splits with positive gain, best gain: -inf\n",
      "[LightGBM] [Warning] No further splits with positive gain, best gain: -inf\n",
      "[LightGBM] [Warning] No further splits with positive gain, best gain: -inf\n",
      "[LightGBM] [Warning] No further splits with positive gain, best gain: -inf\n",
      "[LightGBM] [Warning] No further splits with positive gain, best gain: -inf\n",
      "[LightGBM] [Warning] No further splits with positive gain, best gain: -inf\n",
      "[LightGBM] [Warning] No further splits with positive gain, best gain: -inf\n",
      "[LightGBM] [Warning] No further splits with positive gain, best gain: -inf\n",
      "[LightGBM] [Warning] No further splits with positive gain, best gain: -inf\n",
      "[LightGBM] [Warning] No further splits with positive gain, best gain: -inf\n",
      "[LightGBM] [Warning] No further splits with positive gain, best gain: -inf\n",
      "[LightGBM] [Warning] No further splits with positive gain, best gain: -inf\n",
      "[LightGBM] [Warning] No further splits with positive gain, best gain: -inf\n",
      "[LightGBM] [Warning] No further splits with positive gain, best gain: -inf\n",
      "[LightGBM] [Warning] No further splits with positive gain, best gain: -inf\n",
      "[LightGBM] [Warning] No further splits with positive gain, best gain: -inf\n",
      "[LightGBM] [Warning] No further splits with positive gain, best gain: -inf\n",
      "[LightGBM] [Warning] No further splits with positive gain, best gain: -inf\n",
      "[LightGBM] [Warning] No further splits with positive gain, best gain: -inf\n",
      "[LightGBM] [Warning] No further splits with positive gain, best gain: -inf\n",
      "[LightGBM] [Warning] No further splits with positive gain, best gain: -inf\n",
      "[LightGBM] [Warning] No further splits with positive gain, best gain: -inf\n",
      "[LightGBM] [Warning] No further splits with positive gain, best gain: -inf\n",
      "[LightGBM] [Warning] No further splits with positive gain, best gain: -inf\n",
      "[LightGBM] [Warning] No further splits with positive gain, best gain: -inf\n",
      "[LightGBM] [Warning] No further splits with positive gain, best gain: -inf\n",
      "[LightGBM] [Warning] No further splits with positive gain, best gain: -inf\n",
      "[LightGBM] [Warning] No further splits with positive gain, best gain: -inf\n",
      "[LightGBM] [Warning] No further splits with positive gain, best gain: -inf\n",
      "[LightGBM] [Warning] No further splits with positive gain, best gain: -inf\n",
      "[LightGBM] [Warning] No further splits with positive gain, best gain: -inf\n",
      "[LightGBM] [Warning] No further splits with positive gain, best gain: -inf\n",
      "[LightGBM] [Warning] No further splits with positive gain, best gain: -inf\n",
      "[LightGBM] [Warning] No further splits with positive gain, best gain: -inf\n",
      "[LightGBM] [Warning] No further splits with positive gain, best gain: -inf\n",
      "[LightGBM] [Warning] No further splits with positive gain, best gain: -inf\n",
      "[LightGBM] [Warning] No further splits with positive gain, best gain: -inf\n",
      "[LightGBM] [Warning] No further splits with positive gain, best gain: -inf\n",
      "[LightGBM] [Warning] No further splits with positive gain, best gain: -inf\n",
      "[LightGBM] [Warning] No further splits with positive gain, best gain: -inf\n",
      "[LightGBM] [Warning] No further splits with positive gain, best gain: -inf\n",
      "[LightGBM] [Warning] No further splits with positive gain, best gain: -inf\n",
      "[LightGBM] [Warning] No further splits with positive gain, best gain: -inf\n",
      "[LightGBM] [Warning] No further splits with positive gain, best gain: -inf\n",
      "[LightGBM] [Warning] No further splits with positive gain, best gain: -inf\n",
      "[LightGBM] [Warning] No further splits with positive gain, best gain: -inf\n",
      "[LightGBM] [Warning] No further splits with positive gain, best gain: -inf\n",
      "[LightGBM] [Warning] No further splits with positive gain, best gain: -inf\n",
      "[LightGBM] [Warning] No further splits with positive gain, best gain: -inf\n",
      "[LightGBM] [Warning] No further splits with positive gain, best gain: -inf\n",
      "[LightGBM] [Warning] No further splits with positive gain, best gain: -inf\n",
      "[LightGBM] [Warning] No further splits with positive gain, best gain: -inf\n",
      "[LightGBM] [Warning] No further splits with positive gain, best gain: -inf\n",
      "[LightGBM] [Warning] No further splits with positive gain, best gain: -inf\n",
      "[LightGBM] [Warning] No further splits with positive gain, best gain: -inf\n",
      "[LightGBM] [Warning] No further splits with positive gain, best gain: -inf\n",
      "[LightGBM] [Warning] No further splits with positive gain, best gain: -inf\n",
      "[LightGBM] [Warning] No further splits with positive gain, best gain: -inf\n",
      "[LightGBM] [Warning] No further splits with positive gain, best gain: -inf\n",
      "[LightGBM] [Warning] No further splits with positive gain, best gain: -inf\n",
      "[LightGBM] [Warning] No further splits with positive gain, best gain: -inf\n",
      "[LightGBM] [Warning] No further splits with positive gain, best gain: -inf\n",
      "[LightGBM] [Warning] No further splits with positive gain, best gain: -inf\n",
      "[LightGBM] [Warning] No further splits with positive gain, best gain: -inf\n",
      "[LightGBM] [Warning] No further splits with positive gain, best gain: -inf\n",
      "[LightGBM] [Warning] No further splits with positive gain, best gain: -inf\n",
      "[LightGBM] [Warning] No further splits with positive gain, best gain: -inf\n",
      "[LightGBM] [Warning] No further splits with positive gain, best gain: -inf\n",
      "[LightGBM] [Warning] No further splits with positive gain, best gain: -inf\n",
      "[LightGBM] [Warning] No further splits with positive gain, best gain: -inf\n"
     ]
    }
   ],
   "source": [
    "reg = LazyRegressor(verbose=0, ignore_warnings=False, custom_metric=None)\n",
    "models, predictions = reg.fit(X_train, X_test, y_train, y_test)"
   ]
  },
  {
   "cell_type": "code",
   "execution_count": 19,
   "id": "1f9fe681-9445-4683-8a13-61ae17127a1d",
   "metadata": {},
   "outputs": [
    {
     "name": "stdout",
     "output_type": "stream",
     "text": [
      "                               Adjusted R-Squared  R-Squared   RMSE  \\\n",
      "Model                                                                 \n",
      "ExtraTreesRegressor                          0.38       0.52  54.22   \n",
      "OrthogonalMatchingPursuitCV                  0.37       0.52  54.39   \n",
      "Lasso                                        0.37       0.52  54.46   \n",
      "LassoLars                                    0.37       0.52  54.46   \n",
      "LarsCV                                       0.37       0.51  54.54   \n",
      "LassoCV                                      0.37       0.51  54.59   \n",
      "PassiveAggressiveRegressor                   0.37       0.51  54.74   \n",
      "LassoLarsIC                                  0.36       0.51  54.83   \n",
      "SGDRegressor                                 0.36       0.51  54.85   \n",
      "Ridge                                        0.36       0.51  54.91   \n",
      "RidgeCV                                      0.36       0.51  54.91   \n",
      "BayesianRidge                                0.36       0.51  54.94   \n",
      "LassoLarsCV                                  0.36       0.51  54.96   \n",
      "TransformedTargetRegressor                   0.36       0.51  54.96   \n",
      "LinearRegression                             0.36       0.51  54.96   \n",
      "Lars                                         0.36       0.50  55.09   \n",
      "ElasticNetCV                                 0.36       0.50  55.20   \n",
      "HuberRegressor                               0.36       0.50  55.24   \n",
      "RandomForestRegressor                        0.35       0.50  55.48   \n",
      "AdaBoostRegressor                            0.34       0.49  55.88   \n",
      "LGBMRegressor                                0.34       0.49  55.93   \n",
      "HistGradientBoostingRegressor                0.34       0.49  56.08   \n",
      "PoissonRegressor                             0.32       0.48  56.61   \n",
      "ElasticNet                                   0.30       0.46  57.49   \n",
      "KNeighborsRegressor                          0.30       0.46  57.57   \n",
      "OrthogonalMatchingPursuit                    0.29       0.45  57.87   \n",
      "BaggingRegressor                             0.29       0.45  57.92   \n",
      "GradientBoostingRegressor                    0.25       0.42  59.70   \n",
      "TweedieRegressor                             0.24       0.42  59.81   \n",
      "XGBRegressor                                 0.22       0.40  60.60   \n",
      "GammaRegressor                               0.22       0.40  60.61   \n",
      "RANSACRegressor                              0.20       0.38  61.40   \n",
      "LinearSVR                                    0.12       0.32  64.66   \n",
      "ExtraTreeRegressor                           0.00       0.23  68.73   \n",
      "NuSVR                                       -0.07       0.18  71.06   \n",
      "SVR                                         -0.10       0.15  72.04   \n",
      "DummyRegressor                              -0.30      -0.00  78.37   \n",
      "QuantileRegressor                           -0.35      -0.04  79.84   \n",
      "DecisionTreeRegressor                       -0.47      -0.14  83.42   \n",
      "GaussianProcessRegressor                    -0.77      -0.37  91.51   \n",
      "MLPRegressor                                -1.87      -1.22 116.51   \n",
      "KernelRidge                                 -5.04      -3.67 169.06   \n",
      "\n",
      "                               Time Taken  \n",
      "Model                                      \n",
      "ExtraTreesRegressor                  0.16  \n",
      "OrthogonalMatchingPursuitCV          0.01  \n",
      "Lasso                                0.01  \n",
      "LassoLars                            0.01  \n",
      "LarsCV                               0.02  \n",
      "LassoCV                              0.05  \n",
      "PassiveAggressiveRegressor           0.01  \n",
      "LassoLarsIC                          0.01  \n",
      "SGDRegressor                         0.01  \n",
      "Ridge                                0.01  \n",
      "RidgeCV                              0.01  \n",
      "BayesianRidge                        0.01  \n",
      "LassoLarsCV                          0.02  \n",
      "TransformedTargetRegressor           0.01  \n",
      "LinearRegression                     0.01  \n",
      "Lars                                 0.01  \n",
      "ElasticNetCV                         0.05  \n",
      "HuberRegressor                       0.01  \n",
      "RandomForestRegressor                0.21  \n",
      "AdaBoostRegressor                    0.06  \n",
      "LGBMRegressor                        0.03  \n",
      "HistGradientBoostingRegressor        0.12  \n",
      "PoissonRegressor                     0.01  \n",
      "ElasticNet                           0.01  \n",
      "KNeighborsRegressor                  0.01  \n",
      "OrthogonalMatchingPursuit            0.01  \n",
      "BaggingRegressor                     0.03  \n",
      "GradientBoostingRegressor            0.10  \n",
      "TweedieRegressor                     0.01  \n",
      "XGBRegressor                         0.07  \n",
      "GammaRegressor                       0.01  \n",
      "RANSACRegressor                      0.06  \n",
      "LinearSVR                            0.01  \n",
      "ExtraTreeRegressor                   0.00  \n",
      "NuSVR                                0.01  \n",
      "SVR                                  0.01  \n",
      "DummyRegressor                       0.01  \n",
      "QuantileRegressor                    0.46  \n",
      "DecisionTreeRegressor                0.01  \n",
      "GaussianProcessRegressor             0.02  \n",
      "MLPRegressor                         0.18  \n",
      "KernelRidge                          0.02  \n"
     ]
    }
   ],
   "source": [
    "print(models)"
   ]
  },
  {
   "cell_type": "code",
   "execution_count": null,
   "id": "2ef045e0-31c3-4775-bd06-24b0de3359a7",
   "metadata": {},
   "outputs": [],
   "source": []
  }
 ],
 "metadata": {
  "kernelspec": {
   "display_name": "Veri Bilimi Ortamı (my_new_env)",
   "language": "python",
   "name": "my_new_env"
  },
  "language_info": {
   "codemirror_mode": {
    "name": "ipython",
    "version": 3
   },
   "file_extension": ".py",
   "mimetype": "text/x-python",
   "name": "python",
   "nbconvert_exporter": "python",
   "pygments_lexer": "ipython3",
   "version": "3.10.18"
  }
 },
 "nbformat": 4,
 "nbformat_minor": 5
}
