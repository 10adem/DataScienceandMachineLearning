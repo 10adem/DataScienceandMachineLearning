{
 "cells": [
  {
   "cell_type": "code",
   "execution_count": 1,
   "id": "f4fb5a4d-3d89-4325-b3a1-f63f98ef5d69",
   "metadata": {},
   "outputs": [],
   "source": [
    "import numpy as np"
   ]
  },
  {
   "cell_type": "code",
   "execution_count": 2,
   "id": "36c4f35b-9f50-48c8-98a8-788dd5635b7d",
   "metadata": {},
   "outputs": [],
   "source": [
    "my_matrix = [[5,10], [15,20]]"
   ]
  },
  {
   "cell_type": "code",
   "execution_count": 3,
   "id": "50ad78c4-a6fa-4611-953a-672334398a58",
   "metadata": {},
   "outputs": [
    {
     "data": {
      "text/plain": [
       "[5, 10]"
      ]
     },
     "execution_count": 3,
     "metadata": {},
     "output_type": "execute_result"
    }
   ],
   "source": [
    "my_matrix[0]"
   ]
  },
  {
   "cell_type": "code",
   "execution_count": 4,
   "id": "3e703943-1edc-41e7-9a2f-2462abd8c027",
   "metadata": {},
   "outputs": [
    {
     "data": {
      "text/plain": [
       "[15, 20]"
      ]
     },
     "execution_count": 4,
     "metadata": {},
     "output_type": "execute_result"
    }
   ],
   "source": [
    "my_matrix[1]"
   ]
  },
  {
   "cell_type": "code",
   "execution_count": 5,
   "id": "240c41be-5837-41fa-a235-8d7e662c2386",
   "metadata": {},
   "outputs": [
    {
     "data": {
      "text/plain": [
       "10"
      ]
     },
     "execution_count": 5,
     "metadata": {},
     "output_type": "execute_result"
    }
   ],
   "source": [
    "my_matrix[0][1]"
   ]
  },
  {
   "cell_type": "code",
   "execution_count": 32,
   "id": "bce14dfb-8423-4746-8ae2-4f91dd2e2317",
   "metadata": {},
   "outputs": [],
   "source": [
    "# row -> sıra * column -> kolon\n",
    "# row by column"
   ]
  },
  {
   "cell_type": "code",
   "execution_count": 8,
   "id": "406f6c16-81fd-422d-aff7-38ff87e8cf45",
   "metadata": {},
   "outputs": [],
   "source": [
    "numpy_matrix = np.array([[5,10], [15,20]])"
   ]
  },
  {
   "cell_type": "code",
   "execution_count": 9,
   "id": "206f6643-1369-4cd9-9632-cdf0f55fd45b",
   "metadata": {},
   "outputs": [
    {
     "data": {
      "text/plain": [
       "array([[ 5, 10],\n",
       "       [15, 20]])"
      ]
     },
     "execution_count": 9,
     "metadata": {},
     "output_type": "execute_result"
    }
   ],
   "source": [
    "numpy_matrix"
   ]
  },
  {
   "cell_type": "code",
   "execution_count": 10,
   "id": "0278d032-c9ca-4d3a-ba1a-3700b3a1f2f1",
   "metadata": {},
   "outputs": [
    {
     "data": {
      "text/plain": [
       "np.int64(15)"
      ]
     },
     "execution_count": 10,
     "metadata": {},
     "output_type": "execute_result"
    }
   ],
   "source": [
    "numpy_matrix[1][0]"
   ]
  },
  {
   "cell_type": "code",
   "execution_count": 13,
   "id": "1caaf827-5fbe-4412-8dc2-c7737ef6c07b",
   "metadata": {},
   "outputs": [
    {
     "data": {
      "text/plain": [
       "np.int64(50)"
      ]
     },
     "execution_count": 13,
     "metadata": {},
     "output_type": "execute_result"
    }
   ],
   "source": [
    "numpy_matrix.sum()"
   ]
  },
  {
   "cell_type": "code",
   "execution_count": 14,
   "id": "2c560dd7-0ada-4ad3-8c55-a0cf7a37d280",
   "metadata": {},
   "outputs": [
    {
     "data": {
      "text/plain": [
       "array([[1., 1.],\n",
       "       [1., 1.],\n",
       "       [1., 1.],\n",
       "       [1., 1.]])"
      ]
     },
     "execution_count": 14,
     "metadata": {},
     "output_type": "execute_result"
    }
   ],
   "source": [
    "np.ones((4,2))"
   ]
  },
  {
   "cell_type": "code",
   "execution_count": 15,
   "id": "c3681e27-8ff8-4d85-9697-9f3d7496ce7c",
   "metadata": {},
   "outputs": [
    {
     "data": {
      "text/plain": [
       "array([[0., 0., 0.],\n",
       "       [0., 0., 0.],\n",
       "       [0., 0., 0.],\n",
       "       [0., 0., 0.],\n",
       "       [0., 0., 0.]])"
      ]
     },
     "execution_count": 15,
     "metadata": {},
     "output_type": "execute_result"
    }
   ],
   "source": [
    "np.zeros((5,3))"
   ]
  },
  {
   "cell_type": "code",
   "execution_count": 16,
   "id": "a0f449e9-3677-494c-bed7-1de4929d087d",
   "metadata": {},
   "outputs": [
    {
     "data": {
      "text/plain": [
       "array([[0., 0., 0., 0., 0.],\n",
       "       [0., 0., 0., 0., 0.],\n",
       "       [0., 0., 0., 0., 0.]])"
      ]
     },
     "execution_count": 16,
     "metadata": {},
     "output_type": "execute_result"
    }
   ],
   "source": [
    "np.zeros((3,5))"
   ]
  },
  {
   "cell_type": "code",
   "execution_count": 17,
   "id": "485d8e29-8939-44a6-92c0-9cdddcefbc68",
   "metadata": {},
   "outputs": [
    {
     "data": {
      "text/plain": [
       "array([[0.07112491, 0.18768025],\n",
       "       [0.05491724, 0.67636057],\n",
       "       [0.81040184, 0.79314078]])"
      ]
     },
     "execution_count": 17,
     "metadata": {},
     "output_type": "execute_result"
    }
   ],
   "source": [
    "np.random.random((3,2))"
   ]
  },
  {
   "cell_type": "code",
   "execution_count": 18,
   "id": "58cd82b4-4906-4841-bc63-545c48dfeafb",
   "metadata": {},
   "outputs": [],
   "source": [
    "# matrix arithmetic"
   ]
  },
  {
   "cell_type": "code",
   "execution_count": 19,
   "id": "2124aeca-d89a-40bb-9994-3482bc1792b8",
   "metadata": {},
   "outputs": [],
   "source": [
    "first_array = np.array([[10,20], [30,40]])"
   ]
  },
  {
   "cell_type": "code",
   "execution_count": 20,
   "id": "ef5d5964-62f5-4e9a-9d44-953dea256a99",
   "metadata": {},
   "outputs": [],
   "source": [
    "second_array = np.array([[5,15],[25,35]])"
   ]
  },
  {
   "cell_type": "code",
   "execution_count": 21,
   "id": "cd74ba62-adfb-4890-8fc3-ccdf2951da3e",
   "metadata": {},
   "outputs": [
    {
     "data": {
      "text/plain": [
       "array([[15, 35],\n",
       "       [55, 75]])"
      ]
     },
     "execution_count": 21,
     "metadata": {},
     "output_type": "execute_result"
    }
   ],
   "source": [
    "first_array + second_array"
   ]
  },
  {
   "cell_type": "code",
   "execution_count": 22,
   "id": "84cf3836-405a-4cf7-a311-f50bcf5d6fa0",
   "metadata": {},
   "outputs": [],
   "source": [
    "third_array = np.array([[50,60]])"
   ]
  },
  {
   "cell_type": "code",
   "execution_count": 23,
   "id": "9bd63b28-ec43-449c-9c41-c4a69c0422a6",
   "metadata": {},
   "outputs": [
    {
     "data": {
      "text/plain": [
       "array([[50, 60]])"
      ]
     },
     "execution_count": 23,
     "metadata": {},
     "output_type": "execute_result"
    }
   ],
   "source": [
    "third_array"
   ]
  },
  {
   "cell_type": "code",
   "execution_count": 24,
   "id": "20230d8e-f3b0-4c89-8034-d003baad814d",
   "metadata": {},
   "outputs": [
    {
     "data": {
      "text/plain": [
       "array([[ 60,  80],\n",
       "       [ 80, 100]])"
      ]
     },
     "execution_count": 24,
     "metadata": {},
     "output_type": "execute_result"
    }
   ],
   "source": [
    "first_array + third_array"
   ]
  },
  {
   "cell_type": "code",
   "execution_count": 25,
   "id": "76ab3bac-8ea0-4341-bdfd-d3dfdd8c33b2",
   "metadata": {},
   "outputs": [],
   "source": [
    "fourth_array = np.array([[10,20,30,40,50]])"
   ]
  },
  {
   "cell_type": "code",
   "execution_count": 26,
   "id": "7b48f9d8-91db-40f4-8ca3-802586e2526f",
   "metadata": {},
   "outputs": [
    {
     "ename": "ValueError",
     "evalue": "operands could not be broadcast together with shapes (2,2) (1,5) ",
     "output_type": "error",
     "traceback": [
      "\u001b[1;31m---------------------------------------------------------------------------\u001b[0m",
      "\u001b[1;31mValueError\u001b[0m                                Traceback (most recent call last)",
      "Cell \u001b[1;32mIn[26], line 1\u001b[0m\n\u001b[1;32m----> 1\u001b[0m first_array \u001b[38;5;241m+\u001b[39m fourth_array\n",
      "\u001b[1;31mValueError\u001b[0m: operands could not be broadcast together with shapes (2,2) (1,5) "
     ]
    }
   ],
   "source": [
    "first_array + fourth_array"
   ]
  },
  {
   "cell_type": "code",
   "execution_count": 27,
   "id": "9677c536-359a-4703-9c4a-a13d013439b2",
   "metadata": {},
   "outputs": [
    {
     "data": {
      "text/plain": [
       "array([[20, 40],\n",
       "       [60, 80]])"
      ]
     },
     "execution_count": 27,
     "metadata": {},
     "output_type": "execute_result"
    }
   ],
   "source": [
    "first_array * 2"
   ]
  },
  {
   "cell_type": "code",
   "execution_count": 28,
   "id": "920bbb21-17a0-4949-b93a-061c88475dd7",
   "metadata": {},
   "outputs": [
    {
     "data": {
      "text/plain": [
       "array([[ 2.5,  5. ],\n",
       "       [ 7.5, 10. ]])"
      ]
     },
     "execution_count": 28,
     "metadata": {},
     "output_type": "execute_result"
    }
   ],
   "source": [
    "first_array / 4"
   ]
  },
  {
   "cell_type": "code",
   "execution_count": 29,
   "id": "82fb70f9-a43f-4929-8c28-ec61b90c2746",
   "metadata": {},
   "outputs": [],
   "source": [
    "third_array = np.array([[10], [20]])"
   ]
  },
  {
   "cell_type": "code",
   "execution_count": 30,
   "id": "a26dfecb-1d91-40ac-9e6d-099ccbbe031e",
   "metadata": {},
   "outputs": [
    {
     "data": {
      "text/plain": [
       "array([[10],\n",
       "       [20]])"
      ]
     },
     "execution_count": 30,
     "metadata": {},
     "output_type": "execute_result"
    }
   ],
   "source": [
    "third_array"
   ]
  },
  {
   "cell_type": "code",
   "execution_count": 31,
   "id": "cc8c05e4-c0a8-4e8a-9c04-132e458c84c7",
   "metadata": {},
   "outputs": [
    {
     "data": {
      "text/plain": [
       "(2, 1)"
      ]
     },
     "execution_count": 31,
     "metadata": {},
     "output_type": "execute_result"
    }
   ],
   "source": [
    "third_array.shape"
   ]
  },
  {
   "cell_type": "code",
   "execution_count": 33,
   "id": "8cd6391a-582e-4ba5-8b18-f3e5a468c5fb",
   "metadata": {},
   "outputs": [
    {
     "data": {
      "text/plain": [
       "(2, 2)"
      ]
     },
     "execution_count": 33,
     "metadata": {},
     "output_type": "execute_result"
    }
   ],
   "source": [
    "first_array.shape"
   ]
  },
  {
   "cell_type": "code",
   "execution_count": 34,
   "id": "3adfe01c-021f-430a-bbb0-aa0f2357ffa8",
   "metadata": {},
   "outputs": [
    {
     "data": {
      "text/plain": [
       "array([[20, 30],\n",
       "       [50, 60]])"
      ]
     },
     "execution_count": 34,
     "metadata": {},
     "output_type": "execute_result"
    }
   ],
   "source": [
    "first_array + third_array"
   ]
  },
  {
   "cell_type": "code",
   "execution_count": 35,
   "id": "2b527267-28a7-4d02-ac00-6a2fde2ee6ae",
   "metadata": {},
   "outputs": [
    {
     "data": {
      "text/plain": [
       "array([[10, 20],\n",
       "       [30, 40]])"
      ]
     },
     "execution_count": 35,
     "metadata": {},
     "output_type": "execute_result"
    }
   ],
   "source": [
    "first_array"
   ]
  },
  {
   "cell_type": "code",
   "execution_count": 36,
   "id": "cea2ea56-f316-4956-9575-244bcf4db320",
   "metadata": {},
   "outputs": [],
   "source": [
    "# matrix multiplication"
   ]
  },
  {
   "cell_type": "code",
   "execution_count": 37,
   "id": "793e7ad5-4537-40be-b6ed-92bac606bd98",
   "metadata": {},
   "outputs": [
    {
     "data": {
      "text/plain": [
       "array([[10, 20],\n",
       "       [30, 40]])"
      ]
     },
     "execution_count": 37,
     "metadata": {},
     "output_type": "execute_result"
    }
   ],
   "source": [
    "first_array"
   ]
  },
  {
   "cell_type": "code",
   "execution_count": 38,
   "id": "023b6514-fe6c-428f-9bca-4425167311f8",
   "metadata": {},
   "outputs": [
    {
     "data": {
      "text/plain": [
       "array([[ 5, 15],\n",
       "       [25, 35]])"
      ]
     },
     "execution_count": 38,
     "metadata": {},
     "output_type": "execute_result"
    }
   ],
   "source": [
    "second_array"
   ]
  },
  {
   "cell_type": "code",
   "execution_count": 39,
   "id": "8d5fe34e-1be4-4547-9c98-94150825920a",
   "metadata": {},
   "outputs": [
    {
     "data": {
      "text/plain": [
       "array([[  50,  300],\n",
       "       [ 750, 1400]])"
      ]
     },
     "execution_count": 39,
     "metadata": {},
     "output_type": "execute_result"
    }
   ],
   "source": [
    "first_array * second_array"
   ]
  },
  {
   "cell_type": "code",
   "execution_count": 40,
   "id": "b0adc3e0-1e13-4e76-b079-588011c6e0a3",
   "metadata": {},
   "outputs": [],
   "source": [
    "# dot product"
   ]
  },
  {
   "cell_type": "code",
   "execution_count": 42,
   "id": "139e94e6-010c-427e-98ce-ca60c4cd66c7",
   "metadata": {},
   "outputs": [],
   "source": [
    "# matrix dimension = 1x3 3x2 = 1x2 -> dot product yapılabilmesi için sol tarafın son sayısı yani kolon sayısıyla sağ tarafın ilk sayısı\n",
    "# yani satır sayısı eşit olmalıdır."
   ]
  },
  {
   "cell_type": "code",
   "execution_count": 43,
   "id": "f7d3bbb9-943d-43db-b8fc-4738097393c0",
   "metadata": {},
   "outputs": [],
   "source": [
    "first_matrix = np.array([[10,20,30]])"
   ]
  },
  {
   "cell_type": "code",
   "execution_count": 44,
   "id": "fb6553f4-8baa-4aa1-8f5f-455e0781dc41",
   "metadata": {},
   "outputs": [
    {
     "data": {
      "text/plain": [
       "array([[10, 20, 30]])"
      ]
     },
     "execution_count": 44,
     "metadata": {},
     "output_type": "execute_result"
    }
   ],
   "source": [
    "first_matrix"
   ]
  },
  {
   "cell_type": "code",
   "execution_count": 45,
   "id": "2ddbe7b4-687f-49ae-9adf-0c294a1314b5",
   "metadata": {},
   "outputs": [
    {
     "data": {
      "text/plain": [
       "(1, 3)"
      ]
     },
     "execution_count": 45,
     "metadata": {},
     "output_type": "execute_result"
    }
   ],
   "source": [
    "first_matrix.shape"
   ]
  },
  {
   "cell_type": "code",
   "execution_count": 46,
   "id": "65a10284-cccb-445f-9a6b-b107c33e401e",
   "metadata": {},
   "outputs": [],
   "source": [
    "second_matrix = np.array([[2,3], [2,3], [2,3]])"
   ]
  },
  {
   "cell_type": "code",
   "execution_count": 47,
   "id": "3676954d-abaf-4358-8b3a-4626aec33224",
   "metadata": {},
   "outputs": [
    {
     "data": {
      "text/plain": [
       "array([[2, 3],\n",
       "       [2, 3],\n",
       "       [2, 3]])"
      ]
     },
     "execution_count": 47,
     "metadata": {},
     "output_type": "execute_result"
    }
   ],
   "source": [
    "second_matrix"
   ]
  },
  {
   "cell_type": "code",
   "execution_count": 48,
   "id": "450f387c-60b8-422a-828f-68e667bb4a50",
   "metadata": {},
   "outputs": [
    {
     "data": {
      "text/plain": [
       "(3, 2)"
      ]
     },
     "execution_count": 48,
     "metadata": {},
     "output_type": "execute_result"
    }
   ],
   "source": [
    "second_matrix.shape"
   ]
  },
  {
   "cell_type": "code",
   "execution_count": 49,
   "id": "be38000e-c709-4543-8632-e9e9825409f1",
   "metadata": {},
   "outputs": [
    {
     "ename": "ValueError",
     "evalue": "operands could not be broadcast together with shapes (1,3) (3,2) ",
     "output_type": "error",
     "traceback": [
      "\u001b[1;31m---------------------------------------------------------------------------\u001b[0m",
      "\u001b[1;31mValueError\u001b[0m                                Traceback (most recent call last)",
      "Cell \u001b[1;32mIn[49], line 1\u001b[0m\n\u001b[1;32m----> 1\u001b[0m first_matrix \u001b[38;5;241m*\u001b[39m second_matrix\n",
      "\u001b[1;31mValueError\u001b[0m: operands could not be broadcast together with shapes (1,3) (3,2) "
     ]
    }
   ],
   "source": [
    "first_matrix * second_matrix"
   ]
  },
  {
   "cell_type": "code",
   "execution_count": 50,
   "id": "edd9ad59-f4eb-4042-829d-4c177445c36b",
   "metadata": {},
   "outputs": [],
   "source": [
    "result_matrix = first_matrix.dot(second_matrix)"
   ]
  },
  {
   "cell_type": "code",
   "execution_count": 51,
   "id": "75ad4f99-dd29-4a3d-8b3e-3c11da57badf",
   "metadata": {},
   "outputs": [
    {
     "data": {
      "text/plain": [
       "array([[120, 180]])"
      ]
     },
     "execution_count": 51,
     "metadata": {},
     "output_type": "execute_result"
    }
   ],
   "source": [
    "result_matrix"
   ]
  },
  {
   "cell_type": "code",
   "execution_count": 52,
   "id": "6411f034-cf0b-4a73-ad93-bd5ebebdc6fa",
   "metadata": {},
   "outputs": [
    {
     "data": {
      "text/plain": [
       "(1, 2)"
      ]
     },
     "execution_count": 52,
     "metadata": {},
     "output_type": "execute_result"
    }
   ],
   "source": [
    "result_matrix.shape"
   ]
  },
  {
   "cell_type": "code",
   "execution_count": null,
   "id": "aa1e02f9-4ae2-4631-84cd-cdd4d782729d",
   "metadata": {},
   "outputs": [],
   "source": []
  }
 ],
 "metadata": {
  "kernelspec": {
   "display_name": "Python 3 (ipykernel)",
   "language": "python",
   "name": "python3"
  },
  "language_info": {
   "codemirror_mode": {
    "name": "ipython",
    "version": 3
   },
   "file_extension": ".py",
   "mimetype": "text/x-python",
   "name": "python",
   "nbconvert_exporter": "python",
   "pygments_lexer": "ipython3",
   "version": "3.13.5"
  }
 },
 "nbformat": 4,
 "nbformat_minor": 5
}
