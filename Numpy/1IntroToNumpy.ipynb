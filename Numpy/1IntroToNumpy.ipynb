{
 "cells": [
  {
   "cell_type": "code",
   "execution_count": 1,
   "id": "ab2eecd0-0335-45f1-a213-8b7beac9eaa3",
   "metadata": {},
   "outputs": [],
   "source": [
    "import numpy as np"
   ]
  },
  {
   "cell_type": "code",
   "execution_count": 2,
   "id": "6f6bfb4f-c25e-43bc-b991-20d9bcd8b836",
   "metadata": {},
   "outputs": [],
   "source": [
    "#!pip install numpy"
   ]
  },
  {
   "cell_type": "code",
   "execution_count": 5,
   "id": "7c917f22-f61d-4587-9fa3-80ab0bd4ef78",
   "metadata": {},
   "outputs": [],
   "source": [
    "# https://jalammar.github.io/visual-numpy/"
   ]
  },
  {
   "cell_type": "code",
   "execution_count": 6,
   "id": "5658fa7c-cd36-45ad-8d34-fa496618a2b4",
   "metadata": {},
   "outputs": [],
   "source": [
    "my_list = [10,20,30,40]"
   ]
  },
  {
   "cell_type": "code",
   "execution_count": 7,
   "id": "cfbc1549-9441-4ff0-9c68-18af23cec2c2",
   "metadata": {},
   "outputs": [
    {
     "data": {
      "text/plain": [
       "list"
      ]
     },
     "execution_count": 7,
     "metadata": {},
     "output_type": "execute_result"
    }
   ],
   "source": [
    "type(my_list)"
   ]
  },
  {
   "cell_type": "code",
   "execution_count": 8,
   "id": "07f24f53-93a5-49ee-bdcc-59f829d7efd1",
   "metadata": {},
   "outputs": [
    {
     "data": {
      "text/plain": [
       "array([10, 20, 30, 40])"
      ]
     },
     "execution_count": 8,
     "metadata": {},
     "output_type": "execute_result"
    }
   ],
   "source": [
    "np.array(my_list)"
   ]
  },
  {
   "cell_type": "code",
   "execution_count": 9,
   "id": "ecd260ed-98f3-4b21-a19d-a65defdf60b4",
   "metadata": {},
   "outputs": [],
   "source": [
    "my_numpy_array = np.array(my_list)"
   ]
  },
  {
   "cell_type": "code",
   "execution_count": 10,
   "id": "ad8db253-cde0-4dad-b066-a32f6607c9a6",
   "metadata": {},
   "outputs": [
    {
     "data": {
      "text/plain": [
       "numpy.ndarray"
      ]
     },
     "execution_count": 10,
     "metadata": {},
     "output_type": "execute_result"
    }
   ],
   "source": [
    "type(my_numpy_array)"
   ]
  },
  {
   "cell_type": "code",
   "execution_count": 13,
   "id": "a3f5262a-92cf-4798-9513-6f166389bb6b",
   "metadata": {},
   "outputs": [
    {
     "data": {
      "text/plain": [
       "np.int64(40)"
      ]
     },
     "execution_count": 13,
     "metadata": {},
     "output_type": "execute_result"
    }
   ],
   "source": [
    "my_numpy_array.max()"
   ]
  },
  {
   "cell_type": "code",
   "execution_count": 14,
   "id": "583a1597-22b9-4104-ac57-75972966ec9e",
   "metadata": {},
   "outputs": [
    {
     "data": {
      "text/plain": [
       "array([1., 1., 1., 1., 1.])"
      ]
     },
     "execution_count": 14,
     "metadata": {},
     "output_type": "execute_result"
    }
   ],
   "source": [
    "np.ones(5)"
   ]
  },
  {
   "cell_type": "code",
   "execution_count": 15,
   "id": "ed2a6f37-7164-4ed8-a961-df0210fa8dd5",
   "metadata": {},
   "outputs": [
    {
     "data": {
      "text/plain": [
       "array([0., 0., 0., 0., 0.])"
      ]
     },
     "execution_count": 15,
     "metadata": {},
     "output_type": "execute_result"
    }
   ],
   "source": [
    "np.zeros(5)"
   ]
  },
  {
   "cell_type": "code",
   "execution_count": 16,
   "id": "bbc4641b-4f6c-4fc5-9ca8-2323aa0a4378",
   "metadata": {},
   "outputs": [
    {
     "data": {
      "text/plain": [
       "array([0.22845759, 0.30495888, 0.40393983, 0.07140705, 0.66782906])"
      ]
     },
     "execution_count": 16,
     "metadata": {},
     "output_type": "execute_result"
    }
   ],
   "source": [
    "np.random.random(5)"
   ]
  },
  {
   "cell_type": "code",
   "execution_count": 17,
   "id": "3933b62b-66ea-4399-8619-dc650e8af440",
   "metadata": {},
   "outputs": [],
   "source": [
    "# array arithmetic"
   ]
  },
  {
   "cell_type": "code",
   "execution_count": 18,
   "id": "c3f09438-7d21-43a6-9446-d03590ca4b50",
   "metadata": {},
   "outputs": [],
   "source": [
    "my_list1 = [1,2]"
   ]
  },
  {
   "cell_type": "code",
   "execution_count": 21,
   "id": "56cc3de7-78d2-43ca-a416-8442f739d166",
   "metadata": {},
   "outputs": [],
   "source": [
    "my_list2 = [2,3]"
   ]
  },
  {
   "cell_type": "code",
   "execution_count": 22,
   "id": "59f220f3-ccf8-46c8-92f7-7178df2d7fce",
   "metadata": {},
   "outputs": [
    {
     "data": {
      "text/plain": [
       "[1, 2, 2, 3]"
      ]
     },
     "execution_count": 22,
     "metadata": {},
     "output_type": "execute_result"
    }
   ],
   "source": [
    "my_list1 + my_list2"
   ]
  },
  {
   "cell_type": "code",
   "execution_count": 23,
   "id": "edabee66-6d23-485a-aa4e-211aed5b1a41",
   "metadata": {},
   "outputs": [],
   "source": [
    "my_numpy_array1 = np.array(my_list1)"
   ]
  },
  {
   "cell_type": "code",
   "execution_count": 24,
   "id": "0d9e217a-765f-492f-961f-f4e5ffb00668",
   "metadata": {},
   "outputs": [],
   "source": [
    "my_numpy_array2 = np.array(my_list2)"
   ]
  },
  {
   "cell_type": "code",
   "execution_count": 25,
   "id": "9236658a-615f-413f-a986-c8df8c98634d",
   "metadata": {},
   "outputs": [
    {
     "data": {
      "text/plain": [
       "array([3, 5])"
      ]
     },
     "execution_count": 25,
     "metadata": {},
     "output_type": "execute_result"
    }
   ],
   "source": [
    "my_numpy_array1 + my_numpy_array2"
   ]
  },
  {
   "cell_type": "code",
   "execution_count": 26,
   "id": "3ad06749-80e2-444d-b8d6-2d29de615892",
   "metadata": {},
   "outputs": [
    {
     "data": {
      "text/plain": [
       "array([2, 6])"
      ]
     },
     "execution_count": 26,
     "metadata": {},
     "output_type": "execute_result"
    }
   ],
   "source": [
    "my_numpy_array1 * my_numpy_array2"
   ]
  },
  {
   "cell_type": "code",
   "execution_count": 27,
   "id": "f3d3a7b7-0437-4b14-8bff-e0d67c6979d5",
   "metadata": {},
   "outputs": [
    {
     "data": {
      "text/plain": [
       "array([-1, -1])"
      ]
     },
     "execution_count": 27,
     "metadata": {},
     "output_type": "execute_result"
    }
   ],
   "source": [
    "my_numpy_array1 - my_numpy_array2"
   ]
  },
  {
   "cell_type": "code",
   "execution_count": 28,
   "id": "7a455ace-404f-4350-b428-7e05ea439117",
   "metadata": {},
   "outputs": [
    {
     "data": {
      "text/plain": [
       "array([0.5       , 0.66666667])"
      ]
     },
     "execution_count": 28,
     "metadata": {},
     "output_type": "execute_result"
    }
   ],
   "source": [
    "my_numpy_array1 / my_numpy_array2"
   ]
  },
  {
   "cell_type": "code",
   "execution_count": 29,
   "id": "c557e44e-c0aa-4c7f-be29-7953d89ab5c5",
   "metadata": {},
   "outputs": [
    {
     "data": {
      "text/plain": [
       "array([ 5, 10])"
      ]
     },
     "execution_count": 29,
     "metadata": {},
     "output_type": "execute_result"
    }
   ],
   "source": [
    "my_numpy_array1 * 5"
   ]
  },
  {
   "cell_type": "code",
   "execution_count": 30,
   "id": "d4be7b9c-672b-48b6-80c4-7d1502986c2d",
   "metadata": {},
   "outputs": [
    {
     "data": {
      "text/plain": [
       "[1, 2, 1, 2, 1, 2, 1, 2, 1, 2]"
      ]
     },
     "execution_count": 30,
     "metadata": {},
     "output_type": "execute_result"
    }
   ],
   "source": [
    "my_list1 * 5"
   ]
  },
  {
   "cell_type": "code",
   "execution_count": 31,
   "id": "5319f135-a013-4cd2-98db-ab23f8d022e6",
   "metadata": {},
   "outputs": [],
   "source": [
    "other_array = np.array([10,20,30,40,50])"
   ]
  },
  {
   "cell_type": "code",
   "execution_count": 32,
   "id": "acbade1c-3a36-4314-b878-41e2f3d16647",
   "metadata": {},
   "outputs": [
    {
     "data": {
      "text/plain": [
       "np.int64(10)"
      ]
     },
     "execution_count": 32,
     "metadata": {},
     "output_type": "execute_result"
    }
   ],
   "source": [
    "other_array.min()"
   ]
  },
  {
   "cell_type": "code",
   "execution_count": 33,
   "id": "db92249a-c75b-4c53-9189-512be651d264",
   "metadata": {},
   "outputs": [
    {
     "data": {
      "text/plain": [
       "np.int64(150)"
      ]
     },
     "execution_count": 33,
     "metadata": {},
     "output_type": "execute_result"
    }
   ],
   "source": [
    "other_array.sum()"
   ]
  },
  {
   "cell_type": "code",
   "execution_count": 34,
   "id": "5e4171e0-55b5-405b-922c-cc8999bd8427",
   "metadata": {},
   "outputs": [
    {
     "data": {
      "text/plain": [
       "array([1, 2])"
      ]
     },
     "execution_count": 34,
     "metadata": {},
     "output_type": "execute_result"
    }
   ],
   "source": [
    "my_numpy_array1"
   ]
  },
  {
   "cell_type": "code",
   "execution_count": 35,
   "id": "db52192d-d87a-4e89-bc30-e49740333b01",
   "metadata": {},
   "outputs": [
    {
     "data": {
      "text/plain": [
       "array([10, 20, 30, 40, 50])"
      ]
     },
     "execution_count": 35,
     "metadata": {},
     "output_type": "execute_result"
    }
   ],
   "source": [
    "other_array"
   ]
  },
  {
   "cell_type": "code",
   "execution_count": 36,
   "id": "ea68466e-105b-494b-a22f-b6dd3da365fd",
   "metadata": {},
   "outputs": [
    {
     "ename": "ValueError",
     "evalue": "operands could not be broadcast together with shapes (2,) (5,) ",
     "output_type": "error",
     "traceback": [
      "\u001b[1;31m---------------------------------------------------------------------------\u001b[0m",
      "\u001b[1;31mValueError\u001b[0m                                Traceback (most recent call last)",
      "Cell \u001b[1;32mIn[36], line 1\u001b[0m\n\u001b[1;32m----> 1\u001b[0m my_numpy_array1 \u001b[38;5;241m+\u001b[39m other_array\n",
      "\u001b[1;31mValueError\u001b[0m: operands could not be broadcast together with shapes (2,) (5,) "
     ]
    }
   ],
   "source": [
    "my_numpy_array1 + other_array"
   ]
  },
  {
   "cell_type": "code",
   "execution_count": 37,
   "id": "300ea5af-749c-4f95-a3b2-c334ea748e0e",
   "metadata": {},
   "outputs": [],
   "source": [
    "# arange & indexing"
   ]
  },
  {
   "cell_type": "code",
   "execution_count": 38,
   "id": "b0840306-7149-49eb-bdd4-e5d4a73bcbd0",
   "metadata": {},
   "outputs": [
    {
     "data": {
      "text/plain": [
       "[0, 1, 2, 3, 4, 5, 6, 7, 8, 9]"
      ]
     },
     "execution_count": 38,
     "metadata": {},
     "output_type": "execute_result"
    }
   ],
   "source": [
    "list(range(0,10))"
   ]
  },
  {
   "cell_type": "code",
   "execution_count": 39,
   "id": "4d7a6c18-adc4-4f9c-ac47-9c546f3ce9a1",
   "metadata": {},
   "outputs": [
    {
     "data": {
      "text/plain": [
       "array([0, 1, 2, 3, 4, 5, 6, 7, 8, 9])"
      ]
     },
     "execution_count": 39,
     "metadata": {},
     "output_type": "execute_result"
    }
   ],
   "source": [
    "np.arange(0,10)"
   ]
  },
  {
   "cell_type": "code",
   "execution_count": 40,
   "id": "9388eb63-5e8c-4472-a061-e131b3a81fd2",
   "metadata": {},
   "outputs": [
    {
     "data": {
      "text/plain": [
       "array([ 0,  2,  4,  6,  8, 10, 12, 14, 16, 18])"
      ]
     },
     "execution_count": 40,
     "metadata": {},
     "output_type": "execute_result"
    }
   ],
   "source": [
    "np.arange(0,20,2)"
   ]
  },
  {
   "cell_type": "code",
   "execution_count": 42,
   "id": "2967bb4b-4f3c-4c36-9c70-e9f4784107f9",
   "metadata": {},
   "outputs": [],
   "source": [
    "np_array = np.arange(0,10)"
   ]
  },
  {
   "cell_type": "code",
   "execution_count": 43,
   "id": "07de8030-28bb-4a8f-afeb-db0632b03542",
   "metadata": {},
   "outputs": [
    {
     "data": {
      "text/plain": [
       "array([0, 1, 2, 3, 4, 5, 6, 7, 8, 9])"
      ]
     },
     "execution_count": 43,
     "metadata": {},
     "output_type": "execute_result"
    }
   ],
   "source": [
    "np_array"
   ]
  },
  {
   "cell_type": "code",
   "execution_count": 44,
   "id": "08992f35-6551-45f3-a3ed-295d4f05097d",
   "metadata": {},
   "outputs": [
    {
     "data": {
      "text/plain": [
       "np.int64(0)"
      ]
     },
     "execution_count": 44,
     "metadata": {},
     "output_type": "execute_result"
    }
   ],
   "source": [
    "np_array[0]"
   ]
  },
  {
   "cell_type": "code",
   "execution_count": 45,
   "id": "f525e2d2-85ec-4335-83ee-31b43ebf43ad",
   "metadata": {},
   "outputs": [
    {
     "data": {
      "text/plain": [
       "np.int64(9)"
      ]
     },
     "execution_count": 45,
     "metadata": {},
     "output_type": "execute_result"
    }
   ],
   "source": [
    "np_array[-1]"
   ]
  },
  {
   "cell_type": "code",
   "execution_count": 46,
   "id": "79932390-49d2-46d4-864d-b09658f342b5",
   "metadata": {},
   "outputs": [
    {
     "data": {
      "text/plain": [
       "array([1, 2, 3])"
      ]
     },
     "execution_count": 46,
     "metadata": {},
     "output_type": "execute_result"
    }
   ],
   "source": [
    "np_array[1:4:]"
   ]
  },
  {
   "cell_type": "code",
   "execution_count": 47,
   "id": "238dc89c-3be8-4f6b-b8bd-509ef5fd7a56",
   "metadata": {},
   "outputs": [
    {
     "data": {
      "text/plain": [
       "array([9, 8, 7, 6, 5, 4, 3, 2, 1, 0])"
      ]
     },
     "execution_count": 47,
     "metadata": {},
     "output_type": "execute_result"
    }
   ],
   "source": [
    "np_array[::-1]"
   ]
  },
  {
   "cell_type": "code",
   "execution_count": 48,
   "id": "df848ad2-801b-48dc-af4f-e0f147bc73a8",
   "metadata": {},
   "outputs": [
    {
     "data": {
      "text/plain": [
       "array([2, 4])"
      ]
     },
     "execution_count": 48,
     "metadata": {},
     "output_type": "execute_result"
    }
   ],
   "source": [
    "np_array[2:6:2]"
   ]
  },
  {
   "cell_type": "code",
   "execution_count": 49,
   "id": "f5b75528-a9a0-4162-9399-3533da89d845",
   "metadata": {},
   "outputs": [],
   "source": [
    "# random"
   ]
  },
  {
   "cell_type": "code",
   "execution_count": 50,
   "id": "f6ea26ba-2c39-4553-aab5-e7bfe25ba0c2",
   "metadata": {},
   "outputs": [
    {
     "data": {
      "text/plain": [
       "array([-1.25649585, -1.35857096,  0.78011125,  0.57858724])"
      ]
     },
     "execution_count": 50,
     "metadata": {},
     "output_type": "execute_result"
    }
   ],
   "source": [
    "np.random.randn(4)"
   ]
  },
  {
   "cell_type": "code",
   "execution_count": 51,
   "id": "3ca1bc67-3392-4866-83a3-49fd9ae0901f",
   "metadata": {},
   "outputs": [
    {
     "data": {
      "text/plain": [
       "array([[ 0.41248495, -0.59649135,  0.9845451 ,  0.46332627],\n",
       "       [-0.56231481, -0.16225232,  1.01864705,  1.50935278],\n",
       "       [-1.11548351, -1.2813887 , -0.2177521 ,  0.21453147],\n",
       "       [-0.69165226, -0.97948758, -1.35134729, -0.96714959]])"
      ]
     },
     "execution_count": 51,
     "metadata": {},
     "output_type": "execute_result"
    }
   ],
   "source": [
    "np.random.randn(4,4)"
   ]
  },
  {
   "cell_type": "code",
   "execution_count": 52,
   "id": "dcaf1c91-951b-4c1b-8198-a8b6107ff72e",
   "metadata": {},
   "outputs": [
    {
     "data": {
      "text/plain": [
       "array([208,  64, 151, 167, 160], dtype=int32)"
      ]
     },
     "execution_count": 52,
     "metadata": {},
     "output_type": "execute_result"
    }
   ],
   "source": [
    "np.random.randint(1,300,5)"
   ]
  },
  {
   "cell_type": "code",
   "execution_count": null,
   "id": "08529017-f922-44fb-b8ce-95126916daa8",
   "metadata": {},
   "outputs": [],
   "source": []
  }
 ],
 "metadata": {
  "kernelspec": {
   "display_name": "Python 3 (ipykernel)",
   "language": "python",
   "name": "python3"
  },
  "language_info": {
   "codemirror_mode": {
    "name": "ipython",
    "version": 3
   },
   "file_extension": ".py",
   "mimetype": "text/x-python",
   "name": "python",
   "nbconvert_exporter": "python",
   "pygments_lexer": "ipython3",
   "version": "3.13.5"
  }
 },
 "nbformat": 4,
 "nbformat_minor": 5
}
