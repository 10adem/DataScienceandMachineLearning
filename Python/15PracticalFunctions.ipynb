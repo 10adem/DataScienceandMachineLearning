{
 "cells": [
  {
   "cell_type": "code",
   "execution_count": 1,
   "id": "dc6c0d6c-eef2-4413-a273-d6d10a912e93",
   "metadata": {},
   "outputs": [],
   "source": [
    "def divideNumber(number):\n",
    "    return number / 2"
   ]
  },
  {
   "cell_type": "code",
   "execution_count": 2,
   "id": "71fe370c-52a5-4a0f-b17d-395470cd52ee",
   "metadata": {},
   "outputs": [
    {
     "data": {
      "text/plain": [
       "10.0"
      ]
     },
     "execution_count": 2,
     "metadata": {},
     "output_type": "execute_result"
    }
   ],
   "source": [
    "divideNumber(20)"
   ]
  },
  {
   "cell_type": "code",
   "execution_count": 3,
   "id": "0d4c0232-5ea7-4398-8ad5-a91b437755c3",
   "metadata": {},
   "outputs": [],
   "source": [
    "myList = [3,4,5,10,20,30]"
   ]
  },
  {
   "cell_type": "code",
   "execution_count": 4,
   "id": "d3a3af6b-65c3-4637-a418-a4b484d8acfe",
   "metadata": {},
   "outputs": [
    {
     "name": "stdout",
     "output_type": "stream",
     "text": [
      "[1.5, 2.0, 2.5, 5.0, 10.0, 15.0]\n"
     ]
    }
   ],
   "source": [
    "myResultList = []\n",
    "for num in myList:\n",
    "    myResultList.append(divideNumber(num))\n",
    "print(myResultList)"
   ]
  },
  {
   "cell_type": "markdown",
   "id": "2d89faa4-b0e1-4e66-9ab1-0565bad91ba6",
   "metadata": {},
   "source": [
    "# map"
   ]
  },
  {
   "cell_type": "code",
   "execution_count": 5,
   "id": "82e63deb-0391-488c-8708-746c336a974f",
   "metadata": {},
   "outputs": [
    {
     "name": "stdout",
     "output_type": "stream",
     "text": [
      "Help on class map in module builtins:\n",
      "\n",
      "class map(object)\n",
      " |  map(function, iterable, /, *iterables)\n",
      " |\n",
      " |  Make an iterator that computes the function using arguments from\n",
      " |  each of the iterables.  Stops when the shortest iterable is exhausted.\n",
      " |\n",
      " |  Methods defined here:\n",
      " |\n",
      " |  __getattribute__(self, name, /)\n",
      " |      Return getattr(self, name).\n",
      " |\n",
      " |  __iter__(self, /)\n",
      " |      Implement iter(self).\n",
      " |\n",
      " |  __next__(self, /)\n",
      " |      Implement next(self).\n",
      " |\n",
      " |  __reduce__(self, /)\n",
      " |      Return state information for pickling.\n",
      " |\n",
      " |  ----------------------------------------------------------------------\n",
      " |  Static methods defined here:\n",
      " |\n",
      " |  __new__(*args, **kwargs)\n",
      " |      Create and return a new object.  See help(type) for accurate signature.\n",
      "\n"
     ]
    }
   ],
   "source": [
    "help(map)"
   ]
  },
  {
   "cell_type": "code",
   "execution_count": 6,
   "id": "e6c46168-592c-4dd1-a062-3e6094d4e665",
   "metadata": {},
   "outputs": [
    {
     "data": {
      "text/plain": [
       "<map at 0x232fcd50100>"
      ]
     },
     "execution_count": 6,
     "metadata": {},
     "output_type": "execute_result"
    }
   ],
   "source": [
    "map(divideNumber, myList)"
   ]
  },
  {
   "cell_type": "code",
   "execution_count": 7,
   "id": "9ad1cafb-e8f3-441e-9085-7261355835cd",
   "metadata": {},
   "outputs": [
    {
     "data": {
      "text/plain": [
       "[1.5, 2.0, 2.5, 5.0, 10.0, 15.0]"
      ]
     },
     "execution_count": 7,
     "metadata": {},
     "output_type": "execute_result"
    }
   ],
   "source": [
    "list(map(divideNumber, myList))"
   ]
  },
  {
   "cell_type": "code",
   "execution_count": 8,
   "id": "bf99e242-4a54-4cee-9f5c-b13cf4c6c5fb",
   "metadata": {},
   "outputs": [],
   "source": [
    "def controlString(string):\n",
    "    return \"Adem\" in string"
   ]
  },
  {
   "cell_type": "code",
   "execution_count": 11,
   "id": "035c24f9-c65a-4749-9aca-beec452cfcaf",
   "metadata": {},
   "outputs": [
    {
     "data": {
      "text/plain": [
       "True"
      ]
     },
     "execution_count": 11,
     "metadata": {},
     "output_type": "execute_result"
    }
   ],
   "source": [
    "controlString(\"Adem Yildiz\")"
   ]
  },
  {
   "cell_type": "code",
   "execution_count": 12,
   "id": "4518c5b0-70ac-4b45-812d-f6026ec18d16",
   "metadata": {},
   "outputs": [
    {
     "data": {
      "text/plain": [
       "False"
      ]
     },
     "execution_count": 12,
     "metadata": {},
     "output_type": "execute_result"
    }
   ],
   "source": [
    "controlString(\"Yildiz\")"
   ]
  },
  {
   "cell_type": "code",
   "execution_count": 13,
   "id": "13c1be10-1e08-4579-88cb-2fd28b0fcff0",
   "metadata": {},
   "outputs": [],
   "source": [
    "myStringList = [\"Adem Yildiz\", \"Adem\", \"Yildiz\", \"Atlas\"]"
   ]
  },
  {
   "cell_type": "code",
   "execution_count": 14,
   "id": "199a443d-2014-4685-8894-58c22e7f12e3",
   "metadata": {},
   "outputs": [
    {
     "data": {
      "text/plain": [
       "[True, True, False, False]"
      ]
     },
     "execution_count": 14,
     "metadata": {},
     "output_type": "execute_result"
    }
   ],
   "source": [
    "list(map(controlString, myStringList))"
   ]
  },
  {
   "cell_type": "markdown",
   "id": "fa6e3eae-c376-4ed9-8ce2-c46835b13f7b",
   "metadata": {},
   "source": [
    "# filter"
   ]
  },
  {
   "cell_type": "code",
   "execution_count": 15,
   "id": "f28f271e-af8e-4fe5-974a-2ca7b8db91ad",
   "metadata": {},
   "outputs": [
    {
     "data": {
      "text/plain": [
       "<filter at 0x232fcafcbe0>"
      ]
     },
     "execution_count": 15,
     "metadata": {},
     "output_type": "execute_result"
    }
   ],
   "source": [
    "filter(controlString, myStringList)"
   ]
  },
  {
   "cell_type": "code",
   "execution_count": 16,
   "id": "7603eefb-eace-4c0f-8fba-29991f265b7e",
   "metadata": {},
   "outputs": [
    {
     "data": {
      "text/plain": [
       "['Adem Yildiz', 'Adem']"
      ]
     },
     "execution_count": 16,
     "metadata": {},
     "output_type": "execute_result"
    }
   ],
   "source": [
    "list(filter(controlString, myStringList))"
   ]
  },
  {
   "cell_type": "markdown",
   "id": "c2319c5b-4710-4f3f-ad5a-d7084e8fac3b",
   "metadata": {},
   "source": [
    "# lambda"
   ]
  },
  {
   "cell_type": "code",
   "execution_count": 17,
   "id": "9447f4de-b9c1-4bc3-ab7a-e079b386d4f9",
   "metadata": {},
   "outputs": [],
   "source": [
    "multiplyLambda = lambda num : num * 3"
   ]
  },
  {
   "cell_type": "code",
   "execution_count": 18,
   "id": "0393eed6-2bf7-4768-8a83-c59ba3df3f9f",
   "metadata": {},
   "outputs": [
    {
     "data": {
      "text/plain": [
       "function"
      ]
     },
     "execution_count": 18,
     "metadata": {},
     "output_type": "execute_result"
    }
   ],
   "source": [
    "type(multiplyLambda)"
   ]
  },
  {
   "cell_type": "code",
   "execution_count": 19,
   "id": "95a588d8-81ac-4b7b-906d-503ec202adcc",
   "metadata": {},
   "outputs": [
    {
     "data": {
      "text/plain": [
       "60"
      ]
     },
     "execution_count": 19,
     "metadata": {},
     "output_type": "execute_result"
    }
   ],
   "source": [
    "multiplyLambda(20)"
   ]
  },
  {
   "cell_type": "code",
   "execution_count": 20,
   "id": "d20679ee-7ffd-45a6-917b-232859b8433d",
   "metadata": {},
   "outputs": [],
   "source": [
    "result = multiplyLambda(10)"
   ]
  },
  {
   "cell_type": "code",
   "execution_count": 21,
   "id": "0feec1ee-4533-45cb-9cd3-d457d573f4b0",
   "metadata": {},
   "outputs": [
    {
     "data": {
      "text/plain": [
       "30"
      ]
     },
     "execution_count": 21,
     "metadata": {},
     "output_type": "execute_result"
    }
   ],
   "source": [
    "result"
   ]
  },
  {
   "cell_type": "code",
   "execution_count": 22,
   "id": "0a10ba56-fc8f-43f0-ae03-59ed41d49673",
   "metadata": {},
   "outputs": [],
   "source": [
    "def multiply(num):\n",
    "    return num * 3"
   ]
  },
  {
   "cell_type": "code",
   "execution_count": 23,
   "id": "a2cc34b3-bc4c-413f-b8fe-d0f380e7779c",
   "metadata": {},
   "outputs": [],
   "source": [
    "numList = [10,20,30,40,50]"
   ]
  },
  {
   "cell_type": "code",
   "execution_count": 24,
   "id": "ceaefbda-c9c8-4790-86db-e0845563b414",
   "metadata": {},
   "outputs": [
    {
     "data": {
      "text/plain": [
       "[2.5, 5.0, 7.5, 10.0, 12.5]"
      ]
     },
     "execution_count": 24,
     "metadata": {},
     "output_type": "execute_result"
    }
   ],
   "source": [
    "list(map(lambda num : num / 4,numList))"
   ]
  },
  {
   "cell_type": "markdown",
   "id": "744d9944-dd5a-476e-a646-7606f6271ff3",
   "metadata": {},
   "source": [
    "# scope"
   ]
  },
  {
   "cell_type": "code",
   "execution_count": 25,
   "id": "b07fd24f-39ee-4b82-84b6-14d6215f3bd9",
   "metadata": {},
   "outputs": [],
   "source": [
    "x = 20\n",
    "\n",
    "def multiply(num):\n",
    "    x = 5\n",
    "    return num * x"
   ]
  },
  {
   "cell_type": "code",
   "execution_count": 26,
   "id": "fc56fd71-405f-4526-ab1c-cb1a8352ec6d",
   "metadata": {},
   "outputs": [
    {
     "data": {
      "text/plain": [
       "50"
      ]
     },
     "execution_count": 26,
     "metadata": {},
     "output_type": "execute_result"
    }
   ],
   "source": [
    "multiply(10)"
   ]
  },
  {
   "cell_type": "code",
   "execution_count": 27,
   "id": "37649ad6-ba31-4493-87f7-a8466d102851",
   "metadata": {},
   "outputs": [
    {
     "name": "stdout",
     "output_type": "stream",
     "text": [
      "20\n"
     ]
    }
   ],
   "source": [
    "print(x)"
   ]
  },
  {
   "cell_type": "code",
   "execution_count": 28,
   "id": "00d023bc-ff3d-4c8d-8308-35adc4337181",
   "metadata": {},
   "outputs": [],
   "source": [
    "a = 10"
   ]
  },
  {
   "cell_type": "code",
   "execution_count": 29,
   "id": "de6ce604-8556-46ff-94aa-86ad7aadcd9f",
   "metadata": {},
   "outputs": [
    {
     "data": {
      "text/plain": [
       "10"
      ]
     },
     "execution_count": 29,
     "metadata": {},
     "output_type": "execute_result"
    }
   ],
   "source": [
    "a"
   ]
  },
  {
   "cell_type": "code",
   "execution_count": 30,
   "id": "db71d82f-6334-4b7c-9242-b886d001abca",
   "metadata": {},
   "outputs": [],
   "source": [
    "a = 20"
   ]
  },
  {
   "cell_type": "code",
   "execution_count": 31,
   "id": "b6ec1e70-604c-459d-a88a-91a7ba702cfc",
   "metadata": {},
   "outputs": [
    {
     "data": {
      "text/plain": [
       "20"
      ]
     },
     "execution_count": 31,
     "metadata": {},
     "output_type": "execute_result"
    }
   ],
   "source": [
    "a"
   ]
  },
  {
   "cell_type": "code",
   "execution_count": 32,
   "id": "4ee2d105-8df8-41df-bb9e-f083efa62033",
   "metadata": {},
   "outputs": [],
   "source": [
    "x = 20\n",
    "\n",
    "def multiply(num):\n",
    "    x = 5\n",
    "    return num * x\n",
    "\n",
    "x = 10"
   ]
  },
  {
   "cell_type": "code",
   "execution_count": 33,
   "id": "46849d2a-0f36-48c5-9198-95c2af74814f",
   "metadata": {},
   "outputs": [
    {
     "data": {
      "text/plain": [
       "10"
      ]
     },
     "execution_count": 33,
     "metadata": {},
     "output_type": "execute_result"
    }
   ],
   "source": [
    "x"
   ]
  },
  {
   "cell_type": "code",
   "execution_count": 34,
   "id": "457cde4a-e382-41cb-a0a8-9129609e60e3",
   "metadata": {},
   "outputs": [
    {
     "data": {
      "text/plain": [
       "15"
      ]
     },
     "execution_count": 34,
     "metadata": {},
     "output_type": "execute_result"
    }
   ],
   "source": [
    "multiply(3)"
   ]
  },
  {
   "cell_type": "code",
   "execution_count": 35,
   "id": "711ab7fe-7a87-4ce9-9e56-e355b5c35636",
   "metadata": {},
   "outputs": [],
   "source": [
    "x = 20\n",
    "\n",
    "def multiply(num):\n",
    "    return num * x"
   ]
  },
  {
   "cell_type": "code",
   "execution_count": 36,
   "id": "f411c194-861e-4c0c-9100-ab248b74774a",
   "metadata": {},
   "outputs": [
    {
     "data": {
      "text/plain": [
       "200"
      ]
     },
     "execution_count": 36,
     "metadata": {},
     "output_type": "execute_result"
    }
   ],
   "source": [
    "multiply(10)"
   ]
  },
  {
   "cell_type": "markdown",
   "id": "8eff0cc9-66b7-4b8c-a4ee-f952c90f4c8c",
   "metadata": {},
   "source": [
    "# LEGB -> L->Local,E->Enclosing,G->Global,B->Built-In"
   ]
  },
  {
   "cell_type": "code",
   "execution_count": 49,
   "id": "3ae9df83-4244-4849-a7a6-b335c9927fa9",
   "metadata": {},
   "outputs": [],
   "source": [
    "# Global\n",
    "myString = \"Adem\"\n",
    "\n",
    "def myFunction():\n",
    "    # Enclosing\n",
    "    myString = \"Adem 2\"\n",
    "    print(myString)\n",
    "    \n",
    "    def myFunction2():\n",
    "        # Local\n",
    "        myString = \"Adem 3\"\n",
    "        print(myString)\n",
    "        \n",
    "    myFunction2()"
   ]
  },
  {
   "cell_type": "code",
   "execution_count": 50,
   "id": "c62b1ab6-17d2-4eae-a4ec-fe6f5504e314",
   "metadata": {},
   "outputs": [
    {
     "data": {
      "text/plain": [
       "'Adem'"
      ]
     },
     "execution_count": 50,
     "metadata": {},
     "output_type": "execute_result"
    }
   ],
   "source": [
    "myString"
   ]
  },
  {
   "cell_type": "code",
   "execution_count": 51,
   "id": "763699cb-6916-4284-81a6-6c892a9fb8b4",
   "metadata": {},
   "outputs": [
    {
     "name": "stdout",
     "output_type": "stream",
     "text": [
      "Adem 2\n",
      "Adem 3\n"
     ]
    }
   ],
   "source": [
    "myFunction()"
   ]
  },
  {
   "cell_type": "code",
   "execution_count": 52,
   "id": "27c404a9-333e-455f-bb91-241830a20a74",
   "metadata": {},
   "outputs": [
    {
     "data": {
      "text/plain": [
       "'Adem'"
      ]
     },
     "execution_count": 52,
     "metadata": {},
     "output_type": "execute_result"
    }
   ],
   "source": [
    "myString"
   ]
  },
  {
   "cell_type": "code",
   "execution_count": 53,
   "id": "3bd04c46-3455-4d88-bd37-323219ab35a6",
   "metadata": {},
   "outputs": [],
   "source": [
    "# Global\n",
    "myString = \"Adem\"\n",
    "\n",
    "def myFunction():\n",
    "    # Enclosing\n",
    "    myString = \"Adem 2\"\n",
    "    print(myString)\n",
    "    \n",
    "    def myFunction2():\n",
    "        # Local\n",
    "        #myString = \"Adem 3\"\n",
    "        print(myString)\n",
    "        \n",
    "    myFunction2()"
   ]
  },
  {
   "cell_type": "code",
   "execution_count": 54,
   "id": "fd0e20be-5522-4e67-9d53-e4bc5bd10ff5",
   "metadata": {},
   "outputs": [
    {
     "data": {
      "text/plain": [
       "'Adem'"
      ]
     },
     "execution_count": 54,
     "metadata": {},
     "output_type": "execute_result"
    }
   ],
   "source": [
    "myString"
   ]
  },
  {
   "cell_type": "code",
   "execution_count": 55,
   "id": "2f8f4356-1b7a-46c6-86ff-76f6141d7662",
   "metadata": {},
   "outputs": [
    {
     "name": "stdout",
     "output_type": "stream",
     "text": [
      "Adem 2\n",
      "Adem 2\n"
     ]
    }
   ],
   "source": [
    "myFunction()"
   ]
  },
  {
   "cell_type": "code",
   "execution_count": 56,
   "id": "5028b6fa-3cb6-416e-ba18-fc3dbc9f602b",
   "metadata": {},
   "outputs": [
    {
     "data": {
      "text/plain": [
       "'Adem'"
      ]
     },
     "execution_count": 56,
     "metadata": {},
     "output_type": "execute_result"
    }
   ],
   "source": [
    "myString"
   ]
  },
  {
   "cell_type": "code",
   "execution_count": 57,
   "id": "714098c0-6982-4ba8-9623-234ecb51c2e2",
   "metadata": {},
   "outputs": [],
   "source": [
    "# Global\n",
    "myString = \"Adem\"\n",
    "\n",
    "def myFunction():\n",
    "    # Enclosing\n",
    "    #myString = \"Adem 2\"\n",
    "    print(myString)\n",
    "    \n",
    "    def myFunction2():\n",
    "        # Local\n",
    "        #myString = \"Adem 3\"\n",
    "        print(myString)\n",
    "        \n",
    "    myFunction2()"
   ]
  },
  {
   "cell_type": "code",
   "execution_count": 58,
   "id": "57172b38-554d-48e7-bf6b-f7d7fc5cd399",
   "metadata": {},
   "outputs": [
    {
     "data": {
      "text/plain": [
       "'Adem'"
      ]
     },
     "execution_count": 58,
     "metadata": {},
     "output_type": "execute_result"
    }
   ],
   "source": [
    "myString"
   ]
  },
  {
   "cell_type": "code",
   "execution_count": 59,
   "id": "7c5b0cc0-0575-4db9-8076-c278b9a297c1",
   "metadata": {},
   "outputs": [
    {
     "name": "stdout",
     "output_type": "stream",
     "text": [
      "Adem\n",
      "Adem\n"
     ]
    }
   ],
   "source": [
    "myFunction()"
   ]
  },
  {
   "cell_type": "code",
   "execution_count": 60,
   "id": "7d91816a-3791-41c8-9199-c3c95f0fcf82",
   "metadata": {},
   "outputs": [
    {
     "data": {
      "text/plain": [
       "'Adem'"
      ]
     },
     "execution_count": 60,
     "metadata": {},
     "output_type": "execute_result"
    }
   ],
   "source": [
    "myString"
   ]
  },
  {
   "cell_type": "code",
   "execution_count": 64,
   "id": "7fcf0c47-ac49-42cc-93cd-f295a1a723bf",
   "metadata": {},
   "outputs": [],
   "source": [
    "# Global\n",
    "#myString = \"Adem\"\n",
    "\n",
    "def myFunction():\n",
    "    # Enclosing\n",
    "    #myString = \"Adem 2\"\n",
    "    print(myName)\n",
    "    \n",
    "    def myFunction2():\n",
    "        # Local\n",
    "        #myString = \"Adem 3\"\n",
    "        print(myName)\n",
    "        \n",
    "    myFunction2()"
   ]
  },
  {
   "cell_type": "code",
   "execution_count": 65,
   "id": "65220958-9c22-4993-9dbd-f66ec68ec664",
   "metadata": {},
   "outputs": [
    {
     "data": {
      "text/plain": [
       "'Adem'"
      ]
     },
     "execution_count": 65,
     "metadata": {},
     "output_type": "execute_result"
    }
   ],
   "source": [
    "myString"
   ]
  },
  {
   "cell_type": "code",
   "execution_count": 66,
   "id": "353638b5-32f0-4653-b2a2-0b908350844c",
   "metadata": {},
   "outputs": [
    {
     "ename": "NameError",
     "evalue": "name 'myName' is not defined",
     "output_type": "error",
     "traceback": [
      "\u001b[1;31m---------------------------------------------------------------------------\u001b[0m",
      "\u001b[1;31mNameError\u001b[0m                                 Traceback (most recent call last)",
      "Cell \u001b[1;32mIn[66], line 1\u001b[0m\n\u001b[1;32m----> 1\u001b[0m myFunction()\n",
      "Cell \u001b[1;32mIn[64], line 7\u001b[0m, in \u001b[0;36mmyFunction\u001b[1;34m()\u001b[0m\n\u001b[0;32m      4\u001b[0m \u001b[38;5;28;01mdef\u001b[39;00m\u001b[38;5;250m \u001b[39m\u001b[38;5;21mmyFunction\u001b[39m():\n\u001b[0;32m      5\u001b[0m     \u001b[38;5;66;03m# Enclosing\u001b[39;00m\n\u001b[0;32m      6\u001b[0m     \u001b[38;5;66;03m#myString = \"Adem 2\"\u001b[39;00m\n\u001b[1;32m----> 7\u001b[0m     \u001b[38;5;28mprint\u001b[39m(myName)\n\u001b[0;32m      9\u001b[0m     \u001b[38;5;28;01mdef\u001b[39;00m\u001b[38;5;250m \u001b[39m\u001b[38;5;21mmyFunction2\u001b[39m():\n\u001b[0;32m     10\u001b[0m         \u001b[38;5;66;03m# Local\u001b[39;00m\n\u001b[0;32m     11\u001b[0m         \u001b[38;5;66;03m#myString = \"Adem 3\"\u001b[39;00m\n\u001b[0;32m     12\u001b[0m         \u001b[38;5;28mprint\u001b[39m(myName)\n",
      "\u001b[1;31mNameError\u001b[0m: name 'myName' is not defined"
     ]
    }
   ],
   "source": [
    "myFunction()"
   ]
  },
  {
   "cell_type": "code",
   "execution_count": 67,
   "id": "b5cf7bd0-0560-4028-a6db-5d0302bd8db1",
   "metadata": {},
   "outputs": [
    {
     "data": {
      "text/plain": [
       "'Adem'"
      ]
     },
     "execution_count": 67,
     "metadata": {},
     "output_type": "execute_result"
    }
   ],
   "source": [
    "myString"
   ]
  },
  {
   "cell_type": "code",
   "execution_count": 68,
   "id": "c37e13a3-eadf-4cd8-82f1-a0bfff8d3b8d",
   "metadata": {},
   "outputs": [],
   "source": [
    "# Global\n",
    "myString = \"Adem\"\n",
    "\n",
    "def myFunction():\n",
    "    # Enclosing\n",
    "    myString = \"Adem 2\"\n",
    "    print(myString)\n",
    "    \n",
    "    def myFunction2():\n",
    "        # Local\n",
    "        myString = \"Adem 3\"\n",
    "        print(myString)\n",
    "        \n",
    "    myFunction2()"
   ]
  },
  {
   "cell_type": "code",
   "execution_count": 69,
   "id": "c1408734-5eb7-413a-bc09-4f5edfbbca43",
   "metadata": {},
   "outputs": [
    {
     "data": {
      "text/plain": [
       "'Adem'"
      ]
     },
     "execution_count": 69,
     "metadata": {},
     "output_type": "execute_result"
    }
   ],
   "source": [
    "myString"
   ]
  },
  {
   "cell_type": "code",
   "execution_count": 70,
   "id": "cf845253-bfa6-4ed7-8137-983df2a9c94a",
   "metadata": {},
   "outputs": [
    {
     "name": "stdout",
     "output_type": "stream",
     "text": [
      "Adem 2\n",
      "Adem 3\n"
     ]
    }
   ],
   "source": [
    "myFunction()"
   ]
  },
  {
   "cell_type": "code",
   "execution_count": 71,
   "id": "95124647-190b-47a8-9c8d-c32e574eca6d",
   "metadata": {},
   "outputs": [
    {
     "data": {
      "text/plain": [
       "'Adem'"
      ]
     },
     "execution_count": 71,
     "metadata": {},
     "output_type": "execute_result"
    }
   ],
   "source": [
    "myString"
   ]
  },
  {
   "cell_type": "code",
   "execution_count": 72,
   "id": "473077d4-a53d-44b7-a181-ec879cc0d3e7",
   "metadata": {},
   "outputs": [],
   "source": [
    "def test1():\n",
    "    myVariable = 10\n",
    "    print(myVariable * 2)"
   ]
  },
  {
   "cell_type": "code",
   "execution_count": 73,
   "id": "110bb735-74b9-4b49-ba59-020ca0b13e85",
   "metadata": {},
   "outputs": [],
   "source": [
    "def test2():\n",
    "    print(myVariable * 3)"
   ]
  },
  {
   "cell_type": "code",
   "execution_count": 74,
   "id": "3a959ff1-d6d2-4928-930b-dc6d8d9d731b",
   "metadata": {},
   "outputs": [
    {
     "ename": "NameError",
     "evalue": "name 'myVariable' is not defined",
     "output_type": "error",
     "traceback": [
      "\u001b[1;31m---------------------------------------------------------------------------\u001b[0m",
      "\u001b[1;31mNameError\u001b[0m                                 Traceback (most recent call last)",
      "Cell \u001b[1;32mIn[74], line 1\u001b[0m\n\u001b[1;32m----> 1\u001b[0m test2()\n",
      "Cell \u001b[1;32mIn[73], line 2\u001b[0m, in \u001b[0;36mtest2\u001b[1;34m()\u001b[0m\n\u001b[0;32m      1\u001b[0m \u001b[38;5;28;01mdef\u001b[39;00m\u001b[38;5;250m \u001b[39m\u001b[38;5;21mtest2\u001b[39m():\n\u001b[1;32m----> 2\u001b[0m     \u001b[38;5;28mprint\u001b[39m(myVariable \u001b[38;5;241m*\u001b[39m \u001b[38;5;241m3\u001b[39m)\n",
      "\u001b[1;31mNameError\u001b[0m: name 'myVariable' is not defined"
     ]
    }
   ],
   "source": [
    "test2()"
   ]
  },
  {
   "cell_type": "code",
   "execution_count": 76,
   "id": "d0770869-9278-4954-9988-7cda485ae4b0",
   "metadata": {},
   "outputs": [],
   "source": [
    "myVariable = 10\n",
    "def test1():\n",
    "    print(myVariable * 2)\n",
    "\n",
    "def test2():\n",
    "    print(myVariable * 3)"
   ]
  },
  {
   "cell_type": "code",
   "execution_count": 77,
   "id": "0f04344a-7043-48f6-b5c5-ae9f4cb1eccd",
   "metadata": {},
   "outputs": [
    {
     "name": "stdout",
     "output_type": "stream",
     "text": [
      "20\n"
     ]
    }
   ],
   "source": [
    "test1()"
   ]
  },
  {
   "cell_type": "code",
   "execution_count": 79,
   "id": "edeed028-62c4-41b9-bf34-4eaab9f8bac8",
   "metadata": {},
   "outputs": [
    {
     "name": "stdout",
     "output_type": "stream",
     "text": [
      "30\n"
     ]
    }
   ],
   "source": [
    "test2()"
   ]
  },
  {
   "cell_type": "code",
   "execution_count": 81,
   "id": "9f19e1e9-bc5a-47de-bfbe-345f08c165a1",
   "metadata": {},
   "outputs": [],
   "source": [
    "def test1():\n",
    "    myX = 10\n",
    "    print(myX * 2)\n",
    "\n",
    "def test2():\n",
    "    print(myX * 3)"
   ]
  },
  {
   "cell_type": "code",
   "execution_count": 82,
   "id": "36f67f8c-2aa6-41fc-bf3e-99f6d69d790c",
   "metadata": {},
   "outputs": [
    {
     "name": "stdout",
     "output_type": "stream",
     "text": [
      "20\n"
     ]
    }
   ],
   "source": [
    "test1()"
   ]
  },
  {
   "cell_type": "code",
   "execution_count": 83,
   "id": "da4ec99f-071d-4ff3-8967-052a829728f0",
   "metadata": {},
   "outputs": [
    {
     "ename": "NameError",
     "evalue": "name 'myX' is not defined",
     "output_type": "error",
     "traceback": [
      "\u001b[1;31m---------------------------------------------------------------------------\u001b[0m",
      "\u001b[1;31mNameError\u001b[0m                                 Traceback (most recent call last)",
      "Cell \u001b[1;32mIn[83], line 1\u001b[0m\n\u001b[1;32m----> 1\u001b[0m test2()\n",
      "Cell \u001b[1;32mIn[81], line 6\u001b[0m, in \u001b[0;36mtest2\u001b[1;34m()\u001b[0m\n\u001b[0;32m      5\u001b[0m \u001b[38;5;28;01mdef\u001b[39;00m\u001b[38;5;250m \u001b[39m\u001b[38;5;21mtest2\u001b[39m():\n\u001b[1;32m----> 6\u001b[0m     \u001b[38;5;28mprint\u001b[39m(myX \u001b[38;5;241m*\u001b[39m \u001b[38;5;241m3\u001b[39m)\n",
      "\u001b[1;31mNameError\u001b[0m: name 'myX' is not defined"
     ]
    }
   ],
   "source": [
    "test2()"
   ]
  },
  {
   "cell_type": "code",
   "execution_count": 85,
   "id": "a514a591-13d3-4846-b606-1d9ed0e54cc5",
   "metadata": {},
   "outputs": [],
   "source": [
    "y = 10\n",
    "\n",
    "def newFunction(y):\n",
    "    print(y)\n",
    "    y = 5\n",
    "    print(y)\n",
    "    return y"
   ]
  },
  {
   "cell_type": "code",
   "execution_count": 86,
   "id": "a547a4ae-e3a3-4402-ab09-7dd72a8b9ed4",
   "metadata": {},
   "outputs": [
    {
     "name": "stdout",
     "output_type": "stream",
     "text": [
      "10\n",
      "5\n"
     ]
    },
    {
     "data": {
      "text/plain": [
       "5"
      ]
     },
     "execution_count": 86,
     "metadata": {},
     "output_type": "execute_result"
    }
   ],
   "source": [
    "newFunction(10)"
   ]
  },
  {
   "cell_type": "code",
   "execution_count": 87,
   "id": "0a8a5d8d-3a9d-40c8-a5f7-090b6e23bd43",
   "metadata": {},
   "outputs": [
    {
     "data": {
      "text/plain": [
       "10"
      ]
     },
     "execution_count": 87,
     "metadata": {},
     "output_type": "execute_result"
    }
   ],
   "source": [
    "y"
   ]
  },
  {
   "cell_type": "code",
   "execution_count": 88,
   "id": "b9c4a161-1565-4c03-afb6-65103f42b457",
   "metadata": {},
   "outputs": [],
   "source": [
    "y = 10\n",
    "\n",
    "def changeY():\n",
    "    global y\n",
    "    y = 5\n",
    "    print(y)"
   ]
  },
  {
   "cell_type": "code",
   "execution_count": 89,
   "id": "0599b2bc-63ac-469b-bf8c-a26ab70feed0",
   "metadata": {},
   "outputs": [
    {
     "name": "stdout",
     "output_type": "stream",
     "text": [
      "5\n"
     ]
    }
   ],
   "source": [
    "changeY()"
   ]
  },
  {
   "cell_type": "code",
   "execution_count": 90,
   "id": "4f0c4233-e78a-42da-9a6c-b674956f7146",
   "metadata": {},
   "outputs": [
    {
     "data": {
      "text/plain": [
       "5"
      ]
     },
     "execution_count": 90,
     "metadata": {},
     "output_type": "execute_result"
    }
   ],
   "source": [
    "y"
   ]
  },
  {
   "cell_type": "code",
   "execution_count": null,
   "id": "7ebe1257-5cce-4a82-97ec-3662831dd3f4",
   "metadata": {},
   "outputs": [],
   "source": []
  }
 ],
 "metadata": {
  "kernelspec": {
   "display_name": "Python 3 (ipykernel)",
   "language": "python",
   "name": "python3"
  },
  "language_info": {
   "codemirror_mode": {
    "name": "ipython",
    "version": 3
   },
   "file_extension": ".py",
   "mimetype": "text/x-python",
   "name": "python",
   "nbconvert_exporter": "python",
   "pygments_lexer": "ipython3",
   "version": "3.13.5"
  }
 },
 "nbformat": 4,
 "nbformat_minor": 5
}
