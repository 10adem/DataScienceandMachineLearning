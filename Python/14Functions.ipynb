{
 "cells": [
  {
   "cell_type": "code",
   "execution_count": null,
   "id": "758a201d-4b8b-4f0d-8891-d14dd9b7677a",
   "metadata": {},
   "outputs": [],
   "source": [
    "# method vs function"
   ]
  },
  {
   "cell_type": "code",
   "execution_count": 2,
   "id": "204c3bd4-af54-4c26-9e0c-9385cb022349",
   "metadata": {},
   "outputs": [],
   "source": [
    "my_name = \"adem\""
   ]
  },
  {
   "cell_type": "code",
   "execution_count": 3,
   "id": "698f7b48-fee3-460d-9447-5b60b42ceed9",
   "metadata": {},
   "outputs": [
    {
     "data": {
      "text/plain": [
       "'ADEM'"
      ]
     },
     "execution_count": 3,
     "metadata": {},
     "output_type": "execute_result"
    }
   ],
   "source": [
    "my_name.upper()"
   ]
  },
  {
   "cell_type": "code",
   "execution_count": 4,
   "id": "60af4757-3490-4489-9780-b33b3c3166fe",
   "metadata": {},
   "outputs": [
    {
     "data": {
      "text/plain": [
       "'adem'"
      ]
     },
     "execution_count": 4,
     "metadata": {},
     "output_type": "execute_result"
    }
   ],
   "source": [
    "my_name"
   ]
  },
  {
   "cell_type": "code",
   "execution_count": 5,
   "id": "113968b9-ae86-4d49-aec2-59e6aebd437e",
   "metadata": {},
   "outputs": [],
   "source": [
    "my_name_upper = my_name.upper()"
   ]
  },
  {
   "cell_type": "code",
   "execution_count": 6,
   "id": "d30bc5bd-1092-42bb-afb9-3d7e5a8caa00",
   "metadata": {},
   "outputs": [
    {
     "data": {
      "text/plain": [
       "'ADEM'"
      ]
     },
     "execution_count": 6,
     "metadata": {},
     "output_type": "execute_result"
    }
   ],
   "source": [
    "my_name_upper"
   ]
  },
  {
   "cell_type": "code",
   "execution_count": 7,
   "id": "d93e6434-9fbb-4b79-b0ab-b5a1b8100ce3",
   "metadata": {},
   "outputs": [
    {
     "data": {
      "text/plain": [
       "'adem'"
      ]
     },
     "execution_count": 7,
     "metadata": {},
     "output_type": "execute_result"
    }
   ],
   "source": [
    "my_name"
   ]
  },
  {
   "cell_type": "code",
   "execution_count": 8,
   "id": "e073dc9d-f33e-425c-9a04-3adfb4067e30",
   "metadata": {},
   "outputs": [
    {
     "name": "stdout",
     "output_type": "stream",
     "text": [
      "Help on built-in function upper:\n",
      "\n",
      "upper() method of builtins.str instance\n",
      "    Return a copy of the string converted to uppercase.\n",
      "\n"
     ]
    }
   ],
   "source": [
    "help(my_name.upper)"
   ]
  },
  {
   "cell_type": "code",
   "execution_count": 9,
   "id": "59117544-c9f7-4bbf-b553-ab1b978ff1aa",
   "metadata": {},
   "outputs": [],
   "source": [
    "# functions"
   ]
  },
  {
   "cell_type": "code",
   "execution_count": 10,
   "id": "7e5ee368-f81f-4420-a58c-f31ad5701d5d",
   "metadata": {},
   "outputs": [],
   "source": [
    "def hello_python():\n",
    "    print(\"hello\")\n",
    "    print(\"python\")"
   ]
  },
  {
   "cell_type": "code",
   "execution_count": 11,
   "id": "d56cb633-8e7e-4d44-bbcd-efb0e6d2b3ab",
   "metadata": {},
   "outputs": [
    {
     "data": {
      "text/plain": [
       "<function __main__.hello_python()>"
      ]
     },
     "execution_count": 11,
     "metadata": {},
     "output_type": "execute_result"
    }
   ],
   "source": [
    "hello_python"
   ]
  },
  {
   "cell_type": "code",
   "execution_count": 13,
   "id": "0abb177c-bbe2-46bd-a44e-e6865fbd3f07",
   "metadata": {},
   "outputs": [
    {
     "name": "stdout",
     "output_type": "stream",
     "text": [
      "hello\n",
      "python\n"
     ]
    }
   ],
   "source": [
    "hello_python()"
   ]
  },
  {
   "cell_type": "code",
   "execution_count": 14,
   "id": "c407db6d-f859-4276-aa1f-5ca868193ec6",
   "metadata": {},
   "outputs": [],
   "source": [
    "# input"
   ]
  },
  {
   "cell_type": "code",
   "execution_count": 15,
   "id": "fc0095fe-8936-445c-8a8a-7b43d67a9e80",
   "metadata": {},
   "outputs": [],
   "source": [
    "def hello_name(name):\n",
    "    print(\"hello\")\n",
    "    print(name)"
   ]
  },
  {
   "cell_type": "code",
   "execution_count": 16,
   "id": "547b2dac-7101-4798-a9aa-f7df4899b918",
   "metadata": {},
   "outputs": [
    {
     "name": "stdout",
     "output_type": "stream",
     "text": [
      "hello\n",
      "adem\n"
     ]
    }
   ],
   "source": [
    "hello_name(\"adem\")"
   ]
  },
  {
   "cell_type": "code",
   "execution_count": 17,
   "id": "96b92dd1-ddfa-4b22-aa4f-66c67f644593",
   "metadata": {},
   "outputs": [
    {
     "name": "stdout",
     "output_type": "stream",
     "text": [
      "hello\n",
      "python\n"
     ]
    }
   ],
   "source": [
    "hello_name(\"python\")"
   ]
  },
  {
   "cell_type": "code",
   "execution_count": 18,
   "id": "fc92ba23-7aba-4c8b-bac0-5d2a687a3f9c",
   "metadata": {},
   "outputs": [
    {
     "name": "stdout",
     "output_type": "stream",
     "text": [
      "hello\n",
      "java\n"
     ]
    }
   ],
   "source": [
    "hello_name(\"java\")"
   ]
  },
  {
   "cell_type": "code",
   "execution_count": 19,
   "id": "486c1c03-f71e-4e15-9e81-5d2eb5e5a922",
   "metadata": {},
   "outputs": [],
   "source": [
    "def sum_example(num1, num2):\n",
    "    print(num1 + num2)"
   ]
  },
  {
   "cell_type": "code",
   "execution_count": 20,
   "id": "17fe6008-4627-4954-a9d8-c45770f8495b",
   "metadata": {},
   "outputs": [
    {
     "name": "stdout",
     "output_type": "stream",
     "text": [
      "15\n"
     ]
    }
   ],
   "source": [
    "sum_example(5, 10)"
   ]
  },
  {
   "cell_type": "code",
   "execution_count": 21,
   "id": "dae4f05c-a5b8-4efe-bd82-2b86c22cb726",
   "metadata": {},
   "outputs": [],
   "source": [
    "def sum_example(num1, num2):\n",
    "    num3 = num1 + num2\n",
    "    print(num3)"
   ]
  },
  {
   "cell_type": "code",
   "execution_count": 23,
   "id": "907336e6-543c-400a-9604-796eb24f2df0",
   "metadata": {},
   "outputs": [
    {
     "name": "stdout",
     "output_type": "stream",
     "text": [
      "32\n"
     ]
    }
   ],
   "source": [
    "sum_example(20, 12)"
   ]
  },
  {
   "cell_type": "code",
   "execution_count": 24,
   "id": "7972dc83-5ae3-4d40-875f-0da24aebae19",
   "metadata": {},
   "outputs": [
    {
     "name": "stdout",
     "output_type": "stream",
     "text": [
      "hello\n",
      "required\n"
     ]
    }
   ],
   "source": [
    "hello_name(\"required\")"
   ]
  },
  {
   "cell_type": "code",
   "execution_count": 25,
   "id": "f0286534-1f40-46dd-81df-b550041aeffc",
   "metadata": {},
   "outputs": [],
   "source": [
    "def hello_surname(surname=\"adem\"):\n",
    "    print(\"hello\")\n",
    "    print(surname)"
   ]
  },
  {
   "cell_type": "code",
   "execution_count": 30,
   "id": "0a9225f6-a6a1-4c99-840c-34988fb99ce5",
   "metadata": {},
   "outputs": [
    {
     "name": "stdout",
     "output_type": "stream",
     "text": [
      "hello\n",
      "yildiz\n"
     ]
    }
   ],
   "source": [
    "hello_surname(\"yildiz\")"
   ]
  },
  {
   "cell_type": "code",
   "execution_count": 31,
   "id": "4f8859f5-46e5-4647-9495-19f5a8ae1f3e",
   "metadata": {},
   "outputs": [
    {
     "name": "stdout",
     "output_type": "stream",
     "text": [
      "hello\n",
      "adem\n"
     ]
    }
   ],
   "source": [
    "hello_surname()"
   ]
  },
  {
   "cell_type": "code",
   "execution_count": 32,
   "id": "61d0baf9-0130-47ce-952d-9c9c546af310",
   "metadata": {},
   "outputs": [],
   "source": [
    "# return"
   ]
  },
  {
   "cell_type": "code",
   "execution_count": 34,
   "id": "0ed14ac0-94c9-4247-aecd-a6176054d2e3",
   "metadata": {},
   "outputs": [],
   "source": [
    "def summation(num1, num2, num3):\n",
    "    print(num1 + num2 + num3)"
   ]
  },
  {
   "cell_type": "code",
   "execution_count": 35,
   "id": "c965ff12-a748-4472-a291-5eed4c6a8e3a",
   "metadata": {},
   "outputs": [
    {
     "name": "stdout",
     "output_type": "stream",
     "text": [
      "20\n"
     ]
    }
   ],
   "source": [
    "summation(10,2,8)"
   ]
  },
  {
   "cell_type": "code",
   "execution_count": 36,
   "id": "69787d2f-0521-4184-aebc-2e5b70112062",
   "metadata": {},
   "outputs": [
    {
     "name": "stdout",
     "output_type": "stream",
     "text": [
      "20\n"
     ]
    }
   ],
   "source": [
    "x = summation(10,2,8)"
   ]
  },
  {
   "cell_type": "code",
   "execution_count": 37,
   "id": "a116b556-5da4-4a97-9607-9c6c931eb3ad",
   "metadata": {},
   "outputs": [],
   "source": [
    "x"
   ]
  },
  {
   "cell_type": "code",
   "execution_count": 38,
   "id": "ba088cdd-ed03-4c0a-a43f-0181dd2bf1fa",
   "metadata": {},
   "outputs": [
    {
     "name": "stdout",
     "output_type": "stream",
     "text": [
      "None\n"
     ]
    }
   ],
   "source": [
    "print(x)"
   ]
  },
  {
   "cell_type": "code",
   "execution_count": 39,
   "id": "3d34186b-7a82-4fbc-8321-6a8eb06a44ae",
   "metadata": {},
   "outputs": [
    {
     "data": {
      "text/plain": [
       "NoneType"
      ]
     },
     "execution_count": 39,
     "metadata": {},
     "output_type": "execute_result"
    }
   ],
   "source": [
    "type(x)"
   ]
  },
  {
   "cell_type": "code",
   "execution_count": 40,
   "id": "1ad4ba6a-7fce-4cc1-a162-4e66676f1fe8",
   "metadata": {},
   "outputs": [],
   "source": [
    "def return_summation(num1, num2, num3):\n",
    "    return num1 + num2 + num3"
   ]
  },
  {
   "cell_type": "code",
   "execution_count": 41,
   "id": "c087bf70-66a7-44cd-a166-56ea66d3c8b2",
   "metadata": {},
   "outputs": [
    {
     "data": {
      "text/plain": [
       "20"
      ]
     },
     "execution_count": 41,
     "metadata": {},
     "output_type": "execute_result"
    }
   ],
   "source": [
    "return_summation(10,2,8)"
   ]
  },
  {
   "cell_type": "code",
   "execution_count": 42,
   "id": "e2532f1c-3ace-44bb-b39f-7652934b7ff3",
   "metadata": {},
   "outputs": [],
   "source": [
    "x = return_summation(10,2,8)"
   ]
  },
  {
   "cell_type": "code",
   "execution_count": 43,
   "id": "b271d9d7-3fce-4a81-bf57-91c7eef33545",
   "metadata": {},
   "outputs": [
    {
     "data": {
      "text/plain": [
       "20"
      ]
     },
     "execution_count": 43,
     "metadata": {},
     "output_type": "execute_result"
    }
   ],
   "source": [
    "x"
   ]
  },
  {
   "cell_type": "code",
   "execution_count": 44,
   "id": "626b11ab-3c33-49a5-b06c-2376f78587a7",
   "metadata": {},
   "outputs": [],
   "source": [
    "def return_summation(num1, num2, num3):\n",
    "    result = num1+num2+num3\n",
    "    print(result)\n",
    "    return result"
   ]
  },
  {
   "cell_type": "code",
   "execution_count": 45,
   "id": "5ddc6d0d-5759-458f-bc53-c4507a9d9731",
   "metadata": {},
   "outputs": [
    {
     "name": "stdout",
     "output_type": "stream",
     "text": [
      "20\n"
     ]
    }
   ],
   "source": [
    "x = return_summation(10,2,8)"
   ]
  },
  {
   "cell_type": "code",
   "execution_count": 46,
   "id": "26c43a37-818e-4048-aa64-7c21f96b2619",
   "metadata": {},
   "outputs": [
    {
     "data": {
      "text/plain": [
       "20"
      ]
     },
     "execution_count": 46,
     "metadata": {},
     "output_type": "execute_result"
    }
   ],
   "source": [
    "x"
   ]
  },
  {
   "cell_type": "code",
   "execution_count": 47,
   "id": "50b25ced-9f94-4e15-9afd-80f368f001ad",
   "metadata": {},
   "outputs": [],
   "source": [
    "def control_string(s):\n",
    "    if s[0] == \"a\":\n",
    "        print(\"a\")"
   ]
  },
  {
   "cell_type": "code",
   "execution_count": 48,
   "id": "a742da1e-b757-4351-8399-5d8d24cdbe93",
   "metadata": {},
   "outputs": [
    {
     "name": "stdout",
     "output_type": "stream",
     "text": [
      "a\n"
     ]
    }
   ],
   "source": [
    "control_string(\"atlas\")"
   ]
  },
  {
   "cell_type": "code",
   "execution_count": 49,
   "id": "1b5e0908-9792-4a2c-9e60-3c88e2527b5f",
   "metadata": {},
   "outputs": [
    {
     "name": "stdout",
     "output_type": "stream",
     "text": [
      "a\n"
     ]
    }
   ],
   "source": [
    "control_string(\"adem\")"
   ]
  },
  {
   "cell_type": "code",
   "execution_count": 50,
   "id": "8955da25-ef35-4781-b2ba-e78e3b2de419",
   "metadata": {},
   "outputs": [],
   "source": [
    "control_string(\"james\")"
   ]
  },
  {
   "cell_type": "code",
   "execution_count": 51,
   "id": "7dfd1742-fb04-409c-851f-90ac51fcb3b9",
   "metadata": {},
   "outputs": [],
   "source": [
    "# args, kwargs (arguments, key word arguments)"
   ]
  },
  {
   "cell_type": "code",
   "execution_count": 52,
   "id": "1006e195-8e31-4a9e-852b-650544441017",
   "metadata": {},
   "outputs": [],
   "source": [
    "def args_sum(*args):\n",
    "    return sum(args)"
   ]
  },
  {
   "cell_type": "code",
   "execution_count": 53,
   "id": "89419fe1-76e8-4a5b-b666-8cc54d58b4fe",
   "metadata": {},
   "outputs": [
    {
     "data": {
      "text/plain": [
       "210"
      ]
     },
     "execution_count": 53,
     "metadata": {},
     "output_type": "execute_result"
    }
   ],
   "source": [
    "args_sum(10,20,30,40,50,60)"
   ]
  },
  {
   "cell_type": "code",
   "execution_count": 54,
   "id": "19c5ec5f-c2cb-4047-bf8a-d16c05b0023a",
   "metadata": {},
   "outputs": [],
   "source": [
    "def args_examples(*args):\n",
    "    print(args)"
   ]
  },
  {
   "cell_type": "code",
   "execution_count": 55,
   "id": "c3bd131f-213a-48c0-9dab-5cb73932769c",
   "metadata": {},
   "outputs": [
    {
     "name": "stdout",
     "output_type": "stream",
     "text": [
      "(123, 1203123, 343, 123, 34)\n"
     ]
    }
   ],
   "source": [
    "args_examples(123,1203123,343,123,34)"
   ]
  },
  {
   "cell_type": "code",
   "execution_count": 56,
   "id": "dc7fdf81-1b4d-477a-8656-c25b28035e9c",
   "metadata": {},
   "outputs": [],
   "source": [
    "def kwargs_example(**kwargs):\n",
    "    print(kwargs)"
   ]
  },
  {
   "cell_type": "code",
   "execution_count": 57,
   "id": "bcbdaf4d-48fb-42a5-9e90-f43decf9d6c1",
   "metadata": {},
   "outputs": [
    {
     "name": "stdout",
     "output_type": "stream",
     "text": [
      "{'apple': 100, 'banana': 200, 'melon': 300}\n"
     ]
    }
   ],
   "source": [
    "kwargs_example(apple=100, banana=200, melon=300)"
   ]
  },
  {
   "cell_type": "code",
   "execution_count": 58,
   "id": "75bf13af-55f9-4e82-9eb6-347e6d14326d",
   "metadata": {},
   "outputs": [],
   "source": [
    "def kwargs_example2(**kwargs):\n",
    "    if \"apple\" in kwargs:\n",
    "        print(\"appleeee\")\n",
    "    else:\n",
    "        print(\":(\")"
   ]
  },
  {
   "cell_type": "code",
   "execution_count": 59,
   "id": "f945aa0b-0b90-44c4-a8bb-702481420669",
   "metadata": {},
   "outputs": [
    {
     "name": "stdout",
     "output_type": "stream",
     "text": [
      "appleeee\n"
     ]
    }
   ],
   "source": [
    "kwargs_example2(apple=10, banana=15)"
   ]
  },
  {
   "cell_type": "code",
   "execution_count": 60,
   "id": "3aa04caf-9084-4148-910b-d42df23d143f",
   "metadata": {},
   "outputs": [
    {
     "name": "stdout",
     "output_type": "stream",
     "text": [
      ":(\n"
     ]
    }
   ],
   "source": [
    "kwargs_example2(banana=15)"
   ]
  },
  {
   "cell_type": "code",
   "execution_count": null,
   "id": "0e451787-9be1-43bd-9109-77d62d1d79de",
   "metadata": {},
   "outputs": [],
   "source": []
  }
 ],
 "metadata": {
  "kernelspec": {
   "display_name": "Python 3 (ipykernel)",
   "language": "python",
   "name": "python3"
  },
  "language_info": {
   "codemirror_mode": {
    "name": "ipython",
    "version": 3
   },
   "file_extension": ".py",
   "mimetype": "text/x-python",
   "name": "python",
   "nbconvert_exporter": "python",
   "pygments_lexer": "ipython3",
   "version": "3.13.5"
  }
 },
 "nbformat": 4,
 "nbformat_minor": 5
}
