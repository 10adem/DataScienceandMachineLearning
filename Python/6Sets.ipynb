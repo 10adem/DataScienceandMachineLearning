{
 "cells": [
  {
   "cell_type": "markdown",
   "id": "6718b24b-cfec-4087-8d9d-d0441c28d528",
   "metadata": {},
   "source": [
    "# sets"
   ]
  },
  {
   "cell_type": "code",
   "execution_count": 1,
   "id": "c015797f-d0b2-427d-87b2-dc4edb7e2269",
   "metadata": {},
   "outputs": [],
   "source": [
    "# unique elements, unordered"
   ]
  },
  {
   "cell_type": "code",
   "execution_count": 2,
   "id": "b7685b60-a60e-4afb-9803-f21589cacf85",
   "metadata": {},
   "outputs": [],
   "source": [
    "myList = [10, 20, 30, 10, 20, 40, 10, 20, 40]"
   ]
  },
  {
   "cell_type": "code",
   "execution_count": 3,
   "id": "c1c880c5-ef7e-409d-b0fc-b1d254d9fe1e",
   "metadata": {},
   "outputs": [
    {
     "data": {
      "text/plain": [
       "9"
      ]
     },
     "execution_count": 3,
     "metadata": {},
     "output_type": "execute_result"
    }
   ],
   "source": [
    "len(myList)"
   ]
  },
  {
   "cell_type": "code",
   "execution_count": 4,
   "id": "7d3fa1ce-ac18-44ff-8551-4174a3a0c71b",
   "metadata": {},
   "outputs": [
    {
     "data": {
      "text/plain": [
       "[10, 20, 30, 10, 20, 40, 10, 20, 40]"
      ]
     },
     "execution_count": 4,
     "metadata": {},
     "output_type": "execute_result"
    }
   ],
   "source": [
    "myList"
   ]
  },
  {
   "cell_type": "code",
   "execution_count": 5,
   "id": "b3ff8d7f-672d-45fe-a5d0-8fefe12dfc40",
   "metadata": {},
   "outputs": [],
   "source": [
    "mySet = set(myList)"
   ]
  },
  {
   "cell_type": "code",
   "execution_count": 6,
   "id": "267332e2-e828-4d3b-8d3c-01b9c40bdc30",
   "metadata": {},
   "outputs": [
    {
     "data": {
      "text/plain": [
       "{10, 20, 30, 40}"
      ]
     },
     "execution_count": 6,
     "metadata": {},
     "output_type": "execute_result"
    }
   ],
   "source": [
    "mySet"
   ]
  },
  {
   "cell_type": "code",
   "execution_count": 7,
   "id": "42cd0420-94b4-4c31-8b25-c810a830e1de",
   "metadata": {},
   "outputs": [],
   "source": [
    "mySet2 = {10, 20, 30, 10, 20, 40, 10, 20, 40}"
   ]
  },
  {
   "cell_type": "code",
   "execution_count": 8,
   "id": "faa64dd6-46bc-4d45-b587-4703b87ccd41",
   "metadata": {},
   "outputs": [
    {
     "data": {
      "text/plain": [
       "{10, 20, 30, 40}"
      ]
     },
     "execution_count": 8,
     "metadata": {},
     "output_type": "execute_result"
    }
   ],
   "source": [
    "mySet2"
   ]
  },
  {
   "cell_type": "code",
   "execution_count": 9,
   "id": "97cf1771-4326-4462-b4d7-328f2952d5b8",
   "metadata": {},
   "outputs": [],
   "source": [
    "mySet.add(10)"
   ]
  },
  {
   "cell_type": "code",
   "execution_count": 10,
   "id": "4f148df9-fb77-4d0d-85ba-ed78b4fb61f5",
   "metadata": {},
   "outputs": [
    {
     "data": {
      "text/plain": [
       "{10, 20, 30, 40}"
      ]
     },
     "execution_count": 10,
     "metadata": {},
     "output_type": "execute_result"
    }
   ],
   "source": [
    "mySet"
   ]
  },
  {
   "cell_type": "code",
   "execution_count": 11,
   "id": "3ce82607-20c6-4b21-808f-61bc1f736e31",
   "metadata": {},
   "outputs": [],
   "source": [
    "mySet.add(50)"
   ]
  },
  {
   "cell_type": "code",
   "execution_count": 12,
   "id": "855db68a-0a96-4729-8d73-e53f254f82f5",
   "metadata": {},
   "outputs": [
    {
     "data": {
      "text/plain": [
       "{10, 20, 30, 40, 50}"
      ]
     },
     "execution_count": 12,
     "metadata": {},
     "output_type": "execute_result"
    }
   ],
   "source": [
    "mySet"
   ]
  },
  {
   "cell_type": "code",
   "execution_count": 53,
   "id": "0044ba56-73f8-4291-beec-f501b634fa05",
   "metadata": {},
   "outputs": [
    {
     "ename": "TypeError",
     "evalue": "'set' object is not subscriptable",
     "output_type": "error",
     "traceback": [
      "\u001b[1;31m---------------------------------------------------------------------------\u001b[0m",
      "\u001b[1;31mTypeError\u001b[0m                                 Traceback (most recent call last)",
      "Cell \u001b[1;32mIn[53], line 1\u001b[0m\n\u001b[1;32m----> 1\u001b[0m mySet[\u001b[38;5;241m0\u001b[39m]\n",
      "\u001b[1;31mTypeError\u001b[0m: 'set' object is not subscriptable"
     ]
    }
   ],
   "source": [
    "mySet[0] # index mantığı yok."
   ]
  },
  {
   "cell_type": "code",
   "execution_count": 17,
   "id": "d449cd94-dbbd-4fa4-b068-35ec82520e2e",
   "metadata": {},
   "outputs": [],
   "source": [
    "mySet3 = {30, 40, 50, 60, 70}"
   ]
  },
  {
   "cell_type": "code",
   "execution_count": 15,
   "id": "ab7788ba-3564-4509-9559-1c25e636ed11",
   "metadata": {},
   "outputs": [
    {
     "data": {
      "text/plain": [
       "{10, 20, 30, 40, 50}"
      ]
     },
     "execution_count": 15,
     "metadata": {},
     "output_type": "execute_result"
    }
   ],
   "source": [
    "mySet"
   ]
  },
  {
   "cell_type": "code",
   "execution_count": 18,
   "id": "ee7e9521-5d09-4403-9455-f5d411cb2d1b",
   "metadata": {},
   "outputs": [
    {
     "data": {
      "text/plain": [
       "{30, 40, 50, 60, 70}"
      ]
     },
     "execution_count": 18,
     "metadata": {},
     "output_type": "execute_result"
    }
   ],
   "source": [
    "mySet3"
   ]
  },
  {
   "cell_type": "code",
   "execution_count": 19,
   "id": "c4fbe927-c643-478a-8f99-55e33ae93d06",
   "metadata": {},
   "outputs": [
    {
     "data": {
      "text/plain": [
       "{10, 20, 30, 40, 50, 60, 70}"
      ]
     },
     "execution_count": 19,
     "metadata": {},
     "output_type": "execute_result"
    }
   ],
   "source": [
    "mySet.union(mySet3) # birleşimleri"
   ]
  },
  {
   "cell_type": "code",
   "execution_count": 21,
   "id": "15505900-c668-4d83-b8ea-6e53b12ce2d0",
   "metadata": {},
   "outputs": [
    {
     "data": {
      "text/plain": [
       "{30, 40, 50}"
      ]
     },
     "execution_count": 21,
     "metadata": {},
     "output_type": "execute_result"
    }
   ],
   "source": [
    "mySet.intersection(mySet3) # kesişimleri"
   ]
  },
  {
   "cell_type": "code",
   "execution_count": 22,
   "id": "81ebf421-bb5c-4d14-aa0f-1d85af1311a4",
   "metadata": {},
   "outputs": [],
   "source": [
    "countryList = [\"de\",\"fr\",\"tr\",\"fr\",\"tr\",\"tr\",\"de\",\"nl\",\"de\",\"tr\"]"
   ]
  },
  {
   "cell_type": "code",
   "execution_count": 25,
   "id": "ca6d2f5a-7b5d-4726-a968-1f985d4c788d",
   "metadata": {},
   "outputs": [
    {
     "data": {
      "text/plain": [
       "10"
      ]
     },
     "execution_count": 25,
     "metadata": {},
     "output_type": "execute_result"
    }
   ],
   "source": [
    "len(countryList)"
   ]
  },
  {
   "cell_type": "code",
   "execution_count": 27,
   "id": "82544724-ef21-44df-a2f7-4efcf2570f36",
   "metadata": {},
   "outputs": [
    {
     "data": {
      "text/plain": [
       "{'de', 'fr', 'nl', 'tr'}"
      ]
     },
     "execution_count": 27,
     "metadata": {},
     "output_type": "execute_result"
    }
   ],
   "source": [
    "set(countryList)"
   ]
  },
  {
   "cell_type": "code",
   "execution_count": 28,
   "id": "730cba83-2a18-49ac-9751-8476532f3f89",
   "metadata": {},
   "outputs": [
    {
     "data": {
      "text/plain": [
       "4"
      ]
     },
     "execution_count": 28,
     "metadata": {},
     "output_type": "execute_result"
    }
   ],
   "source": [
    "len(set(countryList))"
   ]
  },
  {
   "cell_type": "code",
   "execution_count": 29,
   "id": "97fd11ae-544d-4c76-8d27-bc9fa0177bef",
   "metadata": {},
   "outputs": [],
   "source": [
    "emptyList = []"
   ]
  },
  {
   "cell_type": "code",
   "execution_count": 30,
   "id": "2aa8eed4-d9e3-4d81-b491-30168bf334bb",
   "metadata": {},
   "outputs": [],
   "source": [
    "emptyList.append(10)\n",
    "emptyList.append(20)\n",
    "emptyList.append(30)"
   ]
  },
  {
   "cell_type": "code",
   "execution_count": 31,
   "id": "dadb41f4-c29f-4b31-941f-982c1f9506ff",
   "metadata": {},
   "outputs": [
    {
     "data": {
      "text/plain": [
       "[10, 20, 30]"
      ]
     },
     "execution_count": 31,
     "metadata": {},
     "output_type": "execute_result"
    }
   ],
   "source": [
    "emptyList"
   ]
  },
  {
   "cell_type": "code",
   "execution_count": 32,
   "id": "c79f3ced-b4b9-42d3-8cbf-af360921e29e",
   "metadata": {},
   "outputs": [],
   "source": [
    "emptySet = {}"
   ]
  },
  {
   "cell_type": "code",
   "execution_count": 33,
   "id": "76dc9f70-17da-4807-bed3-afc5b58974b9",
   "metadata": {},
   "outputs": [
    {
     "data": {
      "text/plain": [
       "dict"
      ]
     },
     "execution_count": 33,
     "metadata": {},
     "output_type": "execute_result"
    }
   ],
   "source": [
    "type(emptySet)"
   ]
  },
  {
   "cell_type": "code",
   "execution_count": 35,
   "id": "6417b729-2569-4c7c-b87f-2fbfd87c5c2a",
   "metadata": {},
   "outputs": [],
   "source": [
    "emptySet2 = set() # boş set oluşturmak için"
   ]
  },
  {
   "cell_type": "code",
   "execution_count": 36,
   "id": "1e4aa1d7-85bb-4848-ad5b-9fcccf16fb7d",
   "metadata": {},
   "outputs": [
    {
     "data": {
      "text/plain": [
       "set"
      ]
     },
     "execution_count": 36,
     "metadata": {},
     "output_type": "execute_result"
    }
   ],
   "source": [
    "type(emptySet2)"
   ]
  },
  {
   "cell_type": "code",
   "execution_count": 37,
   "id": "775ad436-a575-404e-85ee-5a97de46138f",
   "metadata": {},
   "outputs": [
    {
     "data": {
      "text/plain": [
       "0"
      ]
     },
     "execution_count": 37,
     "metadata": {},
     "output_type": "execute_result"
    }
   ],
   "source": [
    "len(emptySet2)"
   ]
  },
  {
   "cell_type": "code",
   "execution_count": 38,
   "id": "8333cda7-0873-418a-a6f6-d404047ab8ec",
   "metadata": {},
   "outputs": [],
   "source": [
    "emptySet2.add(10)\n",
    "emptySet2.add(10)\n",
    "emptySet2.add(10)\n",
    "emptySet2.add(20)\n",
    "emptySet2.add(30)"
   ]
  },
  {
   "cell_type": "code",
   "execution_count": 39,
   "id": "aef00eb0-32fd-40e6-98d9-e524bc204973",
   "metadata": {},
   "outputs": [
    {
     "data": {
      "text/plain": [
       "{10, 20, 30}"
      ]
     },
     "execution_count": 39,
     "metadata": {},
     "output_type": "execute_result"
    }
   ],
   "source": [
    "emptySet2"
   ]
  },
  {
   "cell_type": "code",
   "execution_count": 41,
   "id": "d23433dd-e613-466c-9e6a-f24875d2b9a5",
   "metadata": {},
   "outputs": [],
   "source": [
    "emptyList2 = list() # boş listeyi bu şekilde de oluşturabilirim."
   ]
  },
  {
   "cell_type": "code",
   "execution_count": 42,
   "id": "19137198-126d-49d5-b2f5-a11a9b3b1150",
   "metadata": {},
   "outputs": [
    {
     "data": {
      "text/plain": [
       "list"
      ]
     },
     "execution_count": 42,
     "metadata": {},
     "output_type": "execute_result"
    }
   ],
   "source": [
    "type(emptyList2)"
   ]
  },
  {
   "cell_type": "code",
   "execution_count": 43,
   "id": "cb7dab75-324d-4c02-9273-17b8ad974a6d",
   "metadata": {},
   "outputs": [],
   "source": [
    "emptyList2.append(10)\n",
    "emptyList2.append(20)\n",
    "emptyList2.append(30)"
   ]
  },
  {
   "cell_type": "code",
   "execution_count": 44,
   "id": "78dd2426-833b-42d0-8967-ea577381f226",
   "metadata": {},
   "outputs": [
    {
     "data": {
      "text/plain": [
       "[10, 20, 30]"
      ]
     },
     "execution_count": 44,
     "metadata": {},
     "output_type": "execute_result"
    }
   ],
   "source": [
    "emptyList2"
   ]
  },
  {
   "cell_type": "code",
   "execution_count": 49,
   "id": "77cc11e2-9e11-494c-9d58-54534303f8f7",
   "metadata": {},
   "outputs": [],
   "source": [
    "emptyDictionary = dict() # boş dictionary bu şekilde de oluşturabilirim."
   ]
  },
  {
   "cell_type": "code",
   "execution_count": 50,
   "id": "479c65f7-ae37-4ae6-ae0d-c3e58a150a89",
   "metadata": {},
   "outputs": [
    {
     "data": {
      "text/plain": [
       "dict"
      ]
     },
     "execution_count": 50,
     "metadata": {},
     "output_type": "execute_result"
    }
   ],
   "source": [
    "type(emptyDictionary)"
   ]
  },
  {
   "cell_type": "code",
   "execution_count": 51,
   "id": "68bd9cd6-1e9c-42e6-b4de-6a6e06581e4c",
   "metadata": {},
   "outputs": [],
   "source": [
    "emptyDictionary[\"a\"] = 10\n",
    "emptyDictionary[\"b\"] = 20"
   ]
  },
  {
   "cell_type": "code",
   "execution_count": 52,
   "id": "9d97bece-6a95-498f-9df5-fce21241d19f",
   "metadata": {},
   "outputs": [
    {
     "data": {
      "text/plain": [
       "{'a': 10, 'b': 20}"
      ]
     },
     "execution_count": 52,
     "metadata": {},
     "output_type": "execute_result"
    }
   ],
   "source": [
    "emptyDictionary"
   ]
  },
  {
   "cell_type": "code",
   "execution_count": null,
   "id": "5e6499a5-65d0-4de6-91f6-adce1fc584da",
   "metadata": {},
   "outputs": [],
   "source": []
  }
 ],
 "metadata": {
  "kernelspec": {
   "display_name": "Python 3 (ipykernel)",
   "language": "python",
   "name": "python3"
  },
  "language_info": {
   "codemirror_mode": {
    "name": "ipython",
    "version": 3
   },
   "file_extension": ".py",
   "mimetype": "text/x-python",
   "name": "python",
   "nbconvert_exporter": "python",
   "pygments_lexer": "ipython3",
   "version": "3.13.5"
  }
 },
 "nbformat": 4,
 "nbformat_minor": 5
}
