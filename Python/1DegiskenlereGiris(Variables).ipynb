{
 "cells": [
  {
   "cell_type": "code",
   "execution_count": 1,
   "id": "fe4305f6-5708-47c3-b12b-d05a0bac280b",
   "metadata": {},
   "outputs": [
    {
     "data": {
      "text/plain": [
       "8"
      ]
     },
     "execution_count": 1,
     "metadata": {},
     "output_type": "execute_result"
    }
   ],
   "source": [
    "3 + 5"
   ]
  },
  {
   "cell_type": "code",
   "execution_count": 2,
   "id": "5d9b753c-f731-4cdb-bc10-9f0f551cb909",
   "metadata": {},
   "outputs": [
    {
     "data": {
      "text/plain": [
       "12"
      ]
     },
     "execution_count": 2,
     "metadata": {},
     "output_type": "execute_result"
    }
   ],
   "source": [
    "4 * 3"
   ]
  },
  {
   "cell_type": "markdown",
   "id": "5b4eea02-f7be-4f98-8c90-6bc5419adb85",
   "metadata": {},
   "source": [
    "variables"
   ]
  },
  {
   "cell_type": "code",
   "execution_count": 3,
   "id": "1f670f51-b156-4f23-b482-a75baf5a8a07",
   "metadata": {},
   "outputs": [
    {
     "data": {
      "text/plain": [
       "225.0"
      ]
     },
     "execution_count": 3,
     "metadata": {},
     "output_type": "execute_result"
    }
   ],
   "source": [
    "900 / 4"
   ]
  },
  {
   "cell_type": "code",
   "execution_count": 4,
   "id": "03239151-1a67-4726-adfa-baf28c2e7f00",
   "metadata": {},
   "outputs": [
    {
     "data": {
      "text/plain": [
       "128.57142857142858"
      ]
     },
     "execution_count": 4,
     "metadata": {},
     "output_type": "execute_result"
    }
   ],
   "source": [
    "900 / 7"
   ]
  },
  {
   "cell_type": "code",
   "execution_count": 5,
   "id": "f2e3c855-e6de-43cc-b333-733e3e601960",
   "metadata": {},
   "outputs": [
    {
     "data": {
      "text/plain": [
       "-90"
      ]
     },
     "execution_count": 5,
     "metadata": {},
     "output_type": "execute_result"
    }
   ],
   "source": [
    "10 - 100"
   ]
  },
  {
   "cell_type": "code",
   "execution_count": 6,
   "id": "da785ae9-fe0a-4e8f-94e3-65efe8f33295",
   "metadata": {},
   "outputs": [
    {
     "data": {
      "text/plain": [
       "3125"
      ]
     },
     "execution_count": 6,
     "metadata": {},
     "output_type": "execute_result"
    }
   ],
   "source": [
    "5 * 5 * 5 * 5 * 5"
   ]
  },
  {
   "cell_type": "code",
   "execution_count": 7,
   "id": "a4bfabf8-d631-4996-a774-17cd5b7049db",
   "metadata": {},
   "outputs": [
    {
     "data": {
      "text/plain": [
       "3125"
      ]
     },
     "execution_count": 7,
     "metadata": {},
     "output_type": "execute_result"
    }
   ],
   "source": [
    "5*5*5*5*5"
   ]
  },
  {
   "cell_type": "code",
   "execution_count": 8,
   "id": "202faa87-56cc-4662-a4c2-ca1f67c0b791",
   "metadata": {},
   "outputs": [
    {
     "data": {
      "text/plain": [
       "6"
      ]
     },
     "execution_count": 8,
     "metadata": {},
     "output_type": "execute_result"
    }
   ],
   "source": [
    "4+2"
   ]
  },
  {
   "cell_type": "code",
   "execution_count": 9,
   "id": "fc5eef73-74eb-41fb-8c20-0c2d18b04c36",
   "metadata": {},
   "outputs": [
    {
     "data": {
      "text/plain": [
       "30.0"
      ]
     },
     "execution_count": 9,
     "metadata": {},
     "output_type": "execute_result"
    }
   ],
   "source": [
    "60 / 2"
   ]
  },
  {
   "cell_type": "code",
   "execution_count": 10,
   "id": "cc07ce97-6d6e-43e2-9dee-831afc625126",
   "metadata": {},
   "outputs": [
    {
     "data": {
      "text/plain": [
       "300"
      ]
     },
     "execution_count": 10,
     "metadata": {},
     "output_type": "execute_result"
    }
   ],
   "source": [
    "60 * 5"
   ]
  },
  {
   "cell_type": "code",
   "execution_count": 11,
   "id": "11dd8f28-737a-4a41-a433-b8dd483f71ff",
   "metadata": {},
   "outputs": [],
   "source": [
    "age = 50"
   ]
  },
  {
   "cell_type": "code",
   "execution_count": 12,
   "id": "fe1e7121-6264-4127-a890-cb404afabbf5",
   "metadata": {},
   "outputs": [
    {
     "data": {
      "text/plain": [
       "50"
      ]
     },
     "execution_count": 12,
     "metadata": {},
     "output_type": "execute_result"
    }
   ],
   "source": [
    "age"
   ]
  },
  {
   "cell_type": "code",
   "execution_count": 13,
   "id": "fb16b240-4aae-4d3f-8809-324b72c2fcb4",
   "metadata": {},
   "outputs": [
    {
     "data": {
      "text/plain": [
       "250"
      ]
     },
     "execution_count": 13,
     "metadata": {},
     "output_type": "execute_result"
    }
   ],
   "source": [
    "age * 5"
   ]
  },
  {
   "cell_type": "code",
   "execution_count": 14,
   "id": "817f1ce5-bb28-44a2-8c18-f3a4bcd49fa3",
   "metadata": {},
   "outputs": [
    {
     "data": {
      "text/plain": [
       "25.0"
      ]
     },
     "execution_count": 14,
     "metadata": {},
     "output_type": "execute_result"
    }
   ],
   "source": [
    "age / 2"
   ]
  },
  {
   "cell_type": "code",
   "execution_count": 15,
   "id": "ea8cd9f7-01fc-4a92-9b19-2db2c9710de9",
   "metadata": {},
   "outputs": [
    {
     "ename": "NameError",
     "evalue": "name 'aget' is not defined",
     "output_type": "error",
     "traceback": [
      "\u001b[1;31m---------------------------------------------------------------------------\u001b[0m",
      "\u001b[1;31mNameError\u001b[0m                                 Traceback (most recent call last)",
      "Cell \u001b[1;32mIn[15], line 1\u001b[0m\n\u001b[1;32m----> 1\u001b[0m aget \u001b[38;5;241m*\u001b[39m \u001b[38;5;241m3\u001b[39m\n",
      "\u001b[1;31mNameError\u001b[0m: name 'aget' is not defined"
     ]
    }
   ],
   "source": [
    "aget * 3"
   ]
  },
  {
   "cell_type": "code",
   "execution_count": 16,
   "id": "f41a561c-b7bc-495b-b7c0-ecd0b174cd03",
   "metadata": {},
   "outputs": [
    {
     "data": {
      "text/plain": [
       "150"
      ]
     },
     "execution_count": 16,
     "metadata": {},
     "output_type": "execute_result"
    }
   ],
   "source": [
    "age * 3 #düzelttim ardından"
   ]
  },
  {
   "cell_type": "code",
   "execution_count": null,
   "id": "4b5f96c3-8a53-4190-84a1-6a815f0b013d",
   "metadata": {},
   "outputs": [],
   "source": []
  }
 ],
 "metadata": {
  "kernelspec": {
   "display_name": "Python 3 (ipykernel)",
   "language": "python",
   "name": "python3"
  },
  "language_info": {
   "codemirror_mode": {
    "name": "ipython",
    "version": 3
   },
   "file_extension": ".py",
   "mimetype": "text/x-python",
   "name": "python",
   "nbconvert_exporter": "python",
   "pygments_lexer": "ipython3",
   "version": "3.13.5"
  }
 },
 "nbformat": 4,
 "nbformat_minor": 5
}
