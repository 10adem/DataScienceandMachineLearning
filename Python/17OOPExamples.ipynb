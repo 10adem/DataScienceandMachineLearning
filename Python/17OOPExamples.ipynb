{
 "cells": [
  {
   "cell_type": "markdown",
   "id": "c3e813cf-240c-456c-a64c-8a021063734e",
   "metadata": {},
   "source": [
    "# inheritance"
   ]
  },
  {
   "cell_type": "code",
   "execution_count": 1,
   "id": "9e63ce0f-ccee-466c-8aa8-df5b1af6f1ee",
   "metadata": {},
   "outputs": [],
   "source": [
    "class Musician():\n",
    "\n",
    "    def __init__(self, name):\n",
    "        self.name = name\n",
    "        print(\"musician class\")\n",
    "\n",
    "    def test1(self):\n",
    "        print(\"test1\")\n",
    "\n",
    "    def test2(self):\n",
    "        print(\"test2\")"
   ]
  },
  {
   "cell_type": "code",
   "execution_count": 3,
   "id": "b45ac598-e359-43f2-8e46-7dab4ab135e0",
   "metadata": {},
   "outputs": [
    {
     "name": "stdout",
     "output_type": "stream",
     "text": [
      "musician class\n"
     ]
    }
   ],
   "source": [
    "adem = Musician(\"Adem\")"
   ]
  },
  {
   "cell_type": "code",
   "execution_count": 4,
   "id": "67cc1d62-be91-4fb2-9792-12c83a380115",
   "metadata": {},
   "outputs": [
    {
     "data": {
      "text/plain": [
       "'Adem'"
      ]
     },
     "execution_count": 4,
     "metadata": {},
     "output_type": "execute_result"
    }
   ],
   "source": [
    "adem.name"
   ]
  },
  {
   "cell_type": "code",
   "execution_count": 6,
   "id": "d901607c-a7bb-4368-a43b-7bafe646f57e",
   "metadata": {},
   "outputs": [
    {
     "name": "stdout",
     "output_type": "stream",
     "text": [
      "test1\n"
     ]
    }
   ],
   "source": [
    "adem.test1()"
   ]
  },
  {
   "cell_type": "code",
   "execution_count": 7,
   "id": "a5adf870-973d-4593-9cc5-4c31a9e95b47",
   "metadata": {},
   "outputs": [
    {
     "name": "stdout",
     "output_type": "stream",
     "text": [
      "test2\n"
     ]
    }
   ],
   "source": [
    "adem.test2()"
   ]
  },
  {
   "cell_type": "code",
   "execution_count": 34,
   "id": "df0738bf-966a-41a1-a2f2-cd6abd9d49b9",
   "metadata": {},
   "outputs": [],
   "source": [
    "class MusicianPlus(Musician):\n",
    "\n",
    "    def __init__(self,name):\n",
    "        Musician.__init__(self,name)\n",
    "        print(\"musician plus\")\n",
    "\n",
    "    def test3(self):\n",
    "        print(\"test3\")\n",
    "\n",
    "    # override\n",
    "    def test1(self):\n",
    "        print(\"test1 test1 test1\")"
   ]
  },
  {
   "cell_type": "code",
   "execution_count": 35,
   "id": "d5518e7a-4bc2-49de-ad49-c69f0c2439ac",
   "metadata": {},
   "outputs": [
    {
     "name": "stdout",
     "output_type": "stream",
     "text": [
      "musician class\n",
      "musician plus\n"
     ]
    }
   ],
   "source": [
    "atlas = MusicianPlus(\"Atlas\")"
   ]
  },
  {
   "cell_type": "code",
   "execution_count": 36,
   "id": "ee6b37aa-7b3f-4783-aa51-05322a018de2",
   "metadata": {},
   "outputs": [
    {
     "name": "stdout",
     "output_type": "stream",
     "text": [
      "test1 test1 test1\n"
     ]
    }
   ],
   "source": [
    "atlas.test1()"
   ]
  },
  {
   "cell_type": "code",
   "execution_count": 37,
   "id": "d051291c-a06f-4b0b-9d96-7ef139bc1ad8",
   "metadata": {},
   "outputs": [
    {
     "name": "stdout",
     "output_type": "stream",
     "text": [
      "test2\n"
     ]
    }
   ],
   "source": [
    "atlas.test2()"
   ]
  },
  {
   "cell_type": "code",
   "execution_count": 38,
   "id": "af4d8611-e573-4c95-bc43-622838438d2f",
   "metadata": {},
   "outputs": [],
   "source": [
    "atlas.name = \"Adem Yildiz\""
   ]
  },
  {
   "cell_type": "code",
   "execution_count": 39,
   "id": "11fbfa94-4da0-495b-a30a-97e91282c2a5",
   "metadata": {},
   "outputs": [
    {
     "data": {
      "text/plain": [
       "'Adem Yildiz'"
      ]
     },
     "execution_count": 39,
     "metadata": {},
     "output_type": "execute_result"
    }
   ],
   "source": [
    "atlas.name"
   ]
  },
  {
   "cell_type": "code",
   "execution_count": 40,
   "id": "c32a0772-3461-4936-a3bc-8b5a0878dd71",
   "metadata": {},
   "outputs": [
    {
     "data": {
      "text/plain": [
       "__main__.MusicianPlus"
      ]
     },
     "execution_count": 40,
     "metadata": {},
     "output_type": "execute_result"
    }
   ],
   "source": [
    "type(atlas)"
   ]
  },
  {
   "cell_type": "code",
   "execution_count": 41,
   "id": "94577275-9ced-4c87-851d-574a2e0f4dfa",
   "metadata": {},
   "outputs": [
    {
     "name": "stdout",
     "output_type": "stream",
     "text": [
      "test3\n"
     ]
    }
   ],
   "source": [
    "atlas.test3()"
   ]
  },
  {
   "cell_type": "code",
   "execution_count": 42,
   "id": "cf14c58f-d3ff-4234-bfe2-b59c545f5933",
   "metadata": {},
   "outputs": [
    {
     "data": {
      "text/plain": [
       "__main__.Musician"
      ]
     },
     "execution_count": 42,
     "metadata": {},
     "output_type": "execute_result"
    }
   ],
   "source": [
    "type(adem)"
   ]
  },
  {
   "cell_type": "code",
   "execution_count": 43,
   "id": "225d90a9-7e2d-429f-8d09-801518c0e20d",
   "metadata": {},
   "outputs": [
    {
     "name": "stdout",
     "output_type": "stream",
     "text": [
      "test1\n"
     ]
    }
   ],
   "source": [
    "adem.test1()"
   ]
  },
  {
   "cell_type": "code",
   "execution_count": 44,
   "id": "19248096-b76b-4103-b8f5-c46e3ab948fd",
   "metadata": {},
   "outputs": [
    {
     "name": "stdout",
     "output_type": "stream",
     "text": [
      "test1 test1 test1\n"
     ]
    }
   ],
   "source": [
    "atlas.test1()"
   ]
  },
  {
   "cell_type": "markdown",
   "id": "c5c6a1e3-602b-4741-9486-80c8fcd272f5",
   "metadata": {},
   "source": [
    "# polymorphism"
   ]
  },
  {
   "cell_type": "code",
   "execution_count": 45,
   "id": "1b5820ff-fe6c-4b20-9ad9-2a2ea014471d",
   "metadata": {},
   "outputs": [],
   "source": [
    "class Banana():\n",
    "\n",
    "    def __init__(self, name):\n",
    "        self.name = name\n",
    "\n",
    "    def info(self):\n",
    "        return f\"100 calorie {self.name}\"\n",
    "\n",
    "class Apple():\n",
    "\n",
    "    def __init__(self, name):\n",
    "        self.name = name\n",
    "\n",
    "    def info(self):\n",
    "        return f\"150 calorie {self.name}\""
   ]
  },
  {
   "cell_type": "code",
   "execution_count": 47,
   "id": "b378f685-a862-4d49-8269-e2267ef008a6",
   "metadata": {},
   "outputs": [],
   "source": [
    "banana = Banana(\"banana\")"
   ]
  },
  {
   "cell_type": "code",
   "execution_count": 48,
   "id": "bac3a173-5a4b-40c7-954a-ac32214b0a4b",
   "metadata": {},
   "outputs": [],
   "source": [
    "apple = Apple(\"apple\")"
   ]
  },
  {
   "cell_type": "code",
   "execution_count": 49,
   "id": "d22b7aa2-40f7-449c-8d61-f62630a1d16a",
   "metadata": {},
   "outputs": [
    {
     "data": {
      "text/plain": [
       "'100 calorie banana'"
      ]
     },
     "execution_count": 49,
     "metadata": {},
     "output_type": "execute_result"
    }
   ],
   "source": [
    "banana.info()"
   ]
  },
  {
   "cell_type": "code",
   "execution_count": 50,
   "id": "74767bae-e988-4769-a163-b7cf1764b1c7",
   "metadata": {},
   "outputs": [
    {
     "data": {
      "text/plain": [
       "'150 calorie apple'"
      ]
     },
     "execution_count": 50,
     "metadata": {},
     "output_type": "execute_result"
    }
   ],
   "source": [
    "apple.info()"
   ]
  },
  {
   "cell_type": "code",
   "execution_count": 51,
   "id": "4138f478-d533-4515-9884-15a23d7e09d8",
   "metadata": {},
   "outputs": [],
   "source": [
    "fruitList = [banana, apple]"
   ]
  },
  {
   "cell_type": "code",
   "execution_count": 52,
   "id": "3cf3a753-55b0-416e-8e15-9d6253b65904",
   "metadata": {},
   "outputs": [
    {
     "name": "stdout",
     "output_type": "stream",
     "text": [
      "100 calorie banana\n",
      "150 calorie apple\n"
     ]
    }
   ],
   "source": [
    "for fruit in fruitList:\n",
    "    print(fruit.info())"
   ]
  },
  {
   "cell_type": "markdown",
   "id": "3bed5646-441d-4f7a-96af-c0f6ba56f033",
   "metadata": {},
   "source": [
    "# encapsulation"
   ]
  },
  {
   "cell_type": "code",
   "execution_count": 58,
   "id": "97751d8a-9e1c-48fb-acbc-bd9b02855662",
   "metadata": {},
   "outputs": [],
   "source": [
    "class Phone():\n",
    "\n",
    "    def __init__(self,name,price):\n",
    "        self.name = name\n",
    "        self.price = price\n",
    "\n",
    "    def info(self):\n",
    "        print(f\"{self.name} price is: {self.price}\")"
   ]
  },
  {
   "cell_type": "code",
   "execution_count": 59,
   "id": "0ccc6d5a-7d5e-4d7f-9ca7-379b3b4463dd",
   "metadata": {},
   "outputs": [],
   "source": [
    "iphone = Phone(\"iPhone 14\", 500)"
   ]
  },
  {
   "cell_type": "code",
   "execution_count": 60,
   "id": "272d12f5-c44a-4f04-a171-7c6c3c86073f",
   "metadata": {},
   "outputs": [
    {
     "name": "stdout",
     "output_type": "stream",
     "text": [
      "iPhone 14 price is: 500\n"
     ]
    }
   ],
   "source": [
    "iphone.info()"
   ]
  },
  {
   "cell_type": "code",
   "execution_count": 61,
   "id": "40fcd455-b864-452a-a22c-bb4154d941be",
   "metadata": {},
   "outputs": [],
   "source": [
    "iphone.price = 400"
   ]
  },
  {
   "cell_type": "code",
   "execution_count": 62,
   "id": "f107b10b-463c-4f25-9630-ba86cf6311d7",
   "metadata": {},
   "outputs": [
    {
     "name": "stdout",
     "output_type": "stream",
     "text": [
      "iPhone 14 price is: 400\n"
     ]
    }
   ],
   "source": [
    "iphone.info()"
   ]
  },
  {
   "cell_type": "code",
   "execution_count": 69,
   "id": "336ad620-76b9-437c-9b0e-8eaaf2a0403d",
   "metadata": {},
   "outputs": [],
   "source": [
    "class Phone():\n",
    "\n",
    "    def __init__(self,name,price):\n",
    "        self.name = name\n",
    "        self.__price = price # önüne iki tane alt çizgi eklersem sadece bu sınıfın içinden erişilebilir olur.\n",
    "\n",
    "    def info(self):\n",
    "        print(f\"{self.name} price is: {self.__price}\")\n",
    "\n",
    "    def changePrice(self,price):\n",
    "        self.__price = price"
   ]
  },
  {
   "cell_type": "code",
   "execution_count": 70,
   "id": "24ceed37-0c74-4dcb-a021-c4b2cfb942dc",
   "metadata": {},
   "outputs": [],
   "source": [
    "iphone = Phone(\"iPhone 14\", 500)"
   ]
  },
  {
   "cell_type": "code",
   "execution_count": 71,
   "id": "e9859f5a-4fb5-4ccd-afde-0a4a43e92205",
   "metadata": {},
   "outputs": [
    {
     "name": "stdout",
     "output_type": "stream",
     "text": [
      "iPhone 14 price is: 500\n"
     ]
    }
   ],
   "source": [
    "iphone.info()"
   ]
  },
  {
   "cell_type": "code",
   "execution_count": 72,
   "id": "ee5d93ee-5c39-4a76-bb05-06dd0cebc9c5",
   "metadata": {},
   "outputs": [],
   "source": [
    "iphone.price = 400"
   ]
  },
  {
   "cell_type": "code",
   "execution_count": 73,
   "id": "bf163526-f1d0-404f-9fb7-320c66d2786f",
   "metadata": {},
   "outputs": [],
   "source": [
    "iphone.__price = 400"
   ]
  },
  {
   "cell_type": "code",
   "execution_count": 74,
   "id": "31e577e9-ddc7-49a1-93bc-08c9902e495d",
   "metadata": {},
   "outputs": [
    {
     "name": "stdout",
     "output_type": "stream",
     "text": [
      "iPhone 14 price is: 500\n"
     ]
    }
   ],
   "source": [
    "iphone.info()"
   ]
  },
  {
   "cell_type": "code",
   "execution_count": 75,
   "id": "47c1ae59-9e99-42eb-ae05-6baa74ac76cf",
   "metadata": {},
   "outputs": [],
   "source": [
    "iphone.changePrice(300)"
   ]
  },
  {
   "cell_type": "code",
   "execution_count": 76,
   "id": "c2d58ee1-d2c0-47a6-86cd-a8edf77c95f4",
   "metadata": {},
   "outputs": [
    {
     "name": "stdout",
     "output_type": "stream",
     "text": [
      "iPhone 14 price is: 300\n"
     ]
    }
   ],
   "source": [
    "iphone.info()"
   ]
  },
  {
   "cell_type": "markdown",
   "id": "121bc836-ee3c-4905-845b-2619ef47b753",
   "metadata": {},
   "source": [
    "# abstraction"
   ]
  },
  {
   "cell_type": "code",
   "execution_count": 77,
   "id": "54b269cb-0a7c-4717-8c41-e7295aff1503",
   "metadata": {},
   "outputs": [],
   "source": [
    "from abc import ABC, abstractmethod"
   ]
  },
  {
   "cell_type": "code",
   "execution_count": 87,
   "id": "da725fc5-3879-4ee0-ad77-07f9986c6f54",
   "metadata": {},
   "outputs": [],
   "source": [
    "class Car(ABC):\n",
    "\n",
    "    @abstractmethod\n",
    "    def maxSpeed(self):\n",
    "        pass"
   ]
  },
  {
   "cell_type": "code",
   "execution_count": 88,
   "id": "5863da74-d4ba-447c-9d0b-5d9c8f85906b",
   "metadata": {},
   "outputs": [],
   "source": [
    "#myCar = Car()"
   ]
  },
  {
   "cell_type": "code",
   "execution_count": 89,
   "id": "21f0c107-393b-4c95-9afa-3f387032b614",
   "metadata": {},
   "outputs": [],
   "source": [
    "class Tesla(Car):\n",
    "    pass"
   ]
  },
  {
   "cell_type": "code",
   "execution_count": 90,
   "id": "1cd40a90-ff27-4a53-aa95-cd241f41f977",
   "metadata": {},
   "outputs": [
    {
     "ename": "TypeError",
     "evalue": "Can't instantiate abstract class Tesla without an implementation for abstract method 'maxSpeed'",
     "output_type": "error",
     "traceback": [
      "\u001b[1;31m---------------------------------------------------------------------------\u001b[0m",
      "\u001b[1;31mTypeError\u001b[0m                                 Traceback (most recent call last)",
      "Cell \u001b[1;32mIn[90], line 1\u001b[0m\n\u001b[1;32m----> 1\u001b[0m tesla \u001b[38;5;241m=\u001b[39m Tesla()\n",
      "\u001b[1;31mTypeError\u001b[0m: Can't instantiate abstract class Tesla without an implementation for abstract method 'maxSpeed'"
     ]
    }
   ],
   "source": [
    "tesla = Tesla()"
   ]
  },
  {
   "cell_type": "code",
   "execution_count": 91,
   "id": "057c363d-c5fd-42c9-99b5-cfb898ca3a19",
   "metadata": {},
   "outputs": [],
   "source": [
    "class Tesla(Car):\n",
    "\n",
    "    def maxSpeed(self):\n",
    "        print(\"200km\")"
   ]
  },
  {
   "cell_type": "code",
   "execution_count": 92,
   "id": "888c75f5-1d92-4b93-a6dc-651a490cfc5e",
   "metadata": {},
   "outputs": [],
   "source": [
    "tesla = Tesla()"
   ]
  },
  {
   "cell_type": "code",
   "execution_count": 93,
   "id": "aea60204-89da-40d9-9a21-5718941ea952",
   "metadata": {},
   "outputs": [
    {
     "name": "stdout",
     "output_type": "stream",
     "text": [
      "200km\n"
     ]
    }
   ],
   "source": [
    "tesla.maxSpeed()"
   ]
  },
  {
   "cell_type": "code",
   "execution_count": 94,
   "id": "2ff4e592-2356-4e9a-95cc-4133c3a31fab",
   "metadata": {},
   "outputs": [],
   "source": [
    "class Mercedes(Car):\n",
    "\n",
    "    def maxSpeed(self):\n",
    "        print(\"250km\")"
   ]
  },
  {
   "cell_type": "code",
   "execution_count": 95,
   "id": "1451b962-dc22-4bfc-a52b-0b13b6a8d6ca",
   "metadata": {},
   "outputs": [],
   "source": [
    "mercedes = Mercedes()"
   ]
  },
  {
   "cell_type": "code",
   "execution_count": 96,
   "id": "03e75857-08ac-41e7-907a-cce8c9c6326e",
   "metadata": {},
   "outputs": [
    {
     "name": "stdout",
     "output_type": "stream",
     "text": [
      "250km\n"
     ]
    }
   ],
   "source": [
    "mercedes.maxSpeed()"
   ]
  },
  {
   "cell_type": "markdown",
   "id": "1d63edbe-6d23-45c1-8de2-00b8f9c91a0f",
   "metadata": {},
   "source": [
    "# special methods"
   ]
  },
  {
   "cell_type": "code",
   "execution_count": 97,
   "id": "c82c4b28-db5b-4ccd-81a8-18e6c46d9b70",
   "metadata": {},
   "outputs": [],
   "source": [
    "class Fruit():\n",
    "\n",
    "    def __init__(self, name, calories):\n",
    "        self.name = name\n",
    "        self.calories = calories"
   ]
  },
  {
   "cell_type": "code",
   "execution_count": 100,
   "id": "349f0687-26db-4552-8ebf-9914febbba16",
   "metadata": {},
   "outputs": [],
   "source": [
    "myFruit = Fruit(\"banana\", 150)"
   ]
  },
  {
   "cell_type": "code",
   "execution_count": 101,
   "id": "23b10dcd-f28b-442e-a0bd-44a01eab9a4d",
   "metadata": {},
   "outputs": [
    {
     "data": {
      "text/plain": [
       "150"
      ]
     },
     "execution_count": 101,
     "metadata": {},
     "output_type": "execute_result"
    }
   ],
   "source": [
    "myFruit.calories"
   ]
  },
  {
   "cell_type": "code",
   "execution_count": 102,
   "id": "a15f419e-e0b0-497f-a194-44c58018312f",
   "metadata": {},
   "outputs": [
    {
     "data": {
      "text/plain": [
       "'banana'"
      ]
     },
     "execution_count": 102,
     "metadata": {},
     "output_type": "execute_result"
    }
   ],
   "source": [
    "myFruit.name"
   ]
  },
  {
   "cell_type": "code",
   "execution_count": 103,
   "id": "9c948f80-93b5-49e4-80bc-4cbc08a019bf",
   "metadata": {},
   "outputs": [
    {
     "name": "stdout",
     "output_type": "stream",
     "text": [
      "<__main__.Fruit object at 0x0000023EA6383890>\n"
     ]
    }
   ],
   "source": [
    "print(myFruit)"
   ]
  },
  {
   "cell_type": "code",
   "execution_count": 112,
   "id": "bbda0888-2263-4000-8a82-98fa7e1546b0",
   "metadata": {},
   "outputs": [],
   "source": [
    "class Fruit():\n",
    "\n",
    "    def __init__(self, name, calories):\n",
    "        self.name = name\n",
    "        self.calories = calories\n",
    "\n",
    "    def __str__(self):\n",
    "        return f\"{self.name}: {self.calories} calories\""
   ]
  },
  {
   "cell_type": "code",
   "execution_count": 113,
   "id": "69ff6265-432d-40f1-9621-f9998b8b8787",
   "metadata": {},
   "outputs": [],
   "source": [
    "myFruit = Fruit(\"banana\", 150)"
   ]
  },
  {
   "cell_type": "code",
   "execution_count": 114,
   "id": "15075b10-f51c-4064-a9d7-daa504799088",
   "metadata": {},
   "outputs": [
    {
     "data": {
      "text/plain": [
       "150"
      ]
     },
     "execution_count": 114,
     "metadata": {},
     "output_type": "execute_result"
    }
   ],
   "source": [
    "myFruit.calories"
   ]
  },
  {
   "cell_type": "code",
   "execution_count": 115,
   "id": "a5f47931-d6b2-401c-914d-af79c5b1c65b",
   "metadata": {},
   "outputs": [
    {
     "data": {
      "text/plain": [
       "'banana'"
      ]
     },
     "execution_count": 115,
     "metadata": {},
     "output_type": "execute_result"
    }
   ],
   "source": [
    "myFruit.name"
   ]
  },
  {
   "cell_type": "code",
   "execution_count": 116,
   "id": "794bcdcb-4257-40f7-bfaa-025145a76c9d",
   "metadata": {},
   "outputs": [
    {
     "name": "stdout",
     "output_type": "stream",
     "text": [
      "banana: 150 calories\n"
     ]
    }
   ],
   "source": [
    "print(myFruit)"
   ]
  },
  {
   "cell_type": "code",
   "execution_count": 117,
   "id": "6daf2471-2fdf-497b-8504-015993a93ec6",
   "metadata": {},
   "outputs": [
    {
     "ename": "TypeError",
     "evalue": "object of type 'Fruit' has no len()",
     "output_type": "error",
     "traceback": [
      "\u001b[1;31m---------------------------------------------------------------------------\u001b[0m",
      "\u001b[1;31mTypeError\u001b[0m                                 Traceback (most recent call last)",
      "Cell \u001b[1;32mIn[117], line 1\u001b[0m\n\u001b[1;32m----> 1\u001b[0m \u001b[38;5;28mlen\u001b[39m(myFruit)\n",
      "\u001b[1;31mTypeError\u001b[0m: object of type 'Fruit' has no len()"
     ]
    }
   ],
   "source": [
    "len(myFruit)"
   ]
  },
  {
   "cell_type": "code",
   "execution_count": 118,
   "id": "bb7f2e0e-252e-4455-9326-9062ac7ece66",
   "metadata": {},
   "outputs": [],
   "source": [
    "myList = [10,20,30]"
   ]
  },
  {
   "cell_type": "code",
   "execution_count": 119,
   "id": "adaebaf3-1bbb-42b5-99f5-526746de9d71",
   "metadata": {},
   "outputs": [
    {
     "data": {
      "text/plain": [
       "3"
      ]
     },
     "execution_count": 119,
     "metadata": {},
     "output_type": "execute_result"
    }
   ],
   "source": [
    "len(myList)"
   ]
  },
  {
   "cell_type": "code",
   "execution_count": 120,
   "id": "bc5ed669-5727-4be9-a39f-64da51734f4f",
   "metadata": {},
   "outputs": [],
   "source": [
    "class Fruit():\n",
    "\n",
    "    def __init__(self, name, calories):\n",
    "        self.name = name\n",
    "        self.calories = calories\n",
    "\n",
    "    def __str__(self):\n",
    "        return f\"{self.name}: {self.calories} calories\"\n",
    "\n",
    "\n",
    "    def __len__(self):\n",
    "        return self.calories"
   ]
  },
  {
   "cell_type": "code",
   "execution_count": 122,
   "id": "9c67f765-2d83-41e3-a597-35940221155b",
   "metadata": {},
   "outputs": [],
   "source": [
    "myFruit = Fruit(\"banana\", 150)"
   ]
  },
  {
   "cell_type": "code",
   "execution_count": 123,
   "id": "0d195082-e13b-4925-9b2b-12c4fb1378dc",
   "metadata": {},
   "outputs": [
    {
     "data": {
      "text/plain": [
       "150"
      ]
     },
     "execution_count": 123,
     "metadata": {},
     "output_type": "execute_result"
    }
   ],
   "source": [
    "myFruit.calories"
   ]
  },
  {
   "cell_type": "code",
   "execution_count": 124,
   "id": "ece4bd82-d621-42c9-b7b6-cc9d765f9ba5",
   "metadata": {},
   "outputs": [
    {
     "data": {
      "text/plain": [
       "'banana'"
      ]
     },
     "execution_count": 124,
     "metadata": {},
     "output_type": "execute_result"
    }
   ],
   "source": [
    "myFruit.name"
   ]
  },
  {
   "cell_type": "code",
   "execution_count": 125,
   "id": "c9c669da-88f8-4bea-aa59-6b582285d014",
   "metadata": {},
   "outputs": [
    {
     "name": "stdout",
     "output_type": "stream",
     "text": [
      "banana: 150 calories\n"
     ]
    }
   ],
   "source": [
    "print(myFruit)"
   ]
  },
  {
   "cell_type": "code",
   "execution_count": 126,
   "id": "b7e3d542-f934-4d6e-8453-542a4afcab04",
   "metadata": {},
   "outputs": [
    {
     "data": {
      "text/plain": [
       "150"
      ]
     },
     "execution_count": 126,
     "metadata": {},
     "output_type": "execute_result"
    }
   ],
   "source": [
    "len(myFruit)"
   ]
  },
  {
   "cell_type": "code",
   "execution_count": 128,
   "id": "123a947a-4e9f-4b5c-8c4a-3a6ec1e7da9d",
   "metadata": {},
   "outputs": [],
   "source": [
    "class Train():\n",
    "\n",
    "    def __init__(self, name):\n",
    "        self.name = name\n",
    "\n",
    "    def __getitem__(self, key):\n",
    "        if key == \"a\":\n",
    "            return self.name\n",
    "        else:\n",
    "            return \"Not Found\""
   ]
  },
  {
   "cell_type": "code",
   "execution_count": 130,
   "id": "900c51ca-ae70-4b78-9710-a04822118a0a",
   "metadata": {},
   "outputs": [],
   "source": [
    "myTrain = Train(\"myTrain\")"
   ]
  },
  {
   "cell_type": "code",
   "execution_count": 131,
   "id": "e5f08449-cbcd-4617-a12a-02b2f4f8f428",
   "metadata": {},
   "outputs": [
    {
     "data": {
      "text/plain": [
       "'myTrain'"
      ]
     },
     "execution_count": 131,
     "metadata": {},
     "output_type": "execute_result"
    }
   ],
   "source": [
    "myTrain[\"a\"]"
   ]
  },
  {
   "cell_type": "code",
   "execution_count": 132,
   "id": "a98b87e0-ef8e-4c2a-b898-04978660ad86",
   "metadata": {},
   "outputs": [
    {
     "data": {
      "text/plain": [
       "'Not Found'"
      ]
     },
     "execution_count": 132,
     "metadata": {},
     "output_type": "execute_result"
    }
   ],
   "source": [
    "myTrain[\"b\"]"
   ]
  },
  {
   "cell_type": "code",
   "execution_count": 133,
   "id": "ff36c74f-6c71-4ed9-b346-2963bd03deaf",
   "metadata": {},
   "outputs": [
    {
     "ename": "TypeError",
     "evalue": "'Fruit' object is not subscriptable",
     "output_type": "error",
     "traceback": [
      "\u001b[1;31m---------------------------------------------------------------------------\u001b[0m",
      "\u001b[1;31mTypeError\u001b[0m                                 Traceback (most recent call last)",
      "Cell \u001b[1;32mIn[133], line 1\u001b[0m\n\u001b[1;32m----> 1\u001b[0m myFruit[\u001b[38;5;124m\"\u001b[39m\u001b[38;5;124ma\u001b[39m\u001b[38;5;124m\"\u001b[39m]\n",
      "\u001b[1;31mTypeError\u001b[0m: 'Fruit' object is not subscriptable"
     ]
    }
   ],
   "source": [
    "myFruit[\"a\"]"
   ]
  },
  {
   "cell_type": "code",
   "execution_count": null,
   "id": "061eaf76-0e3b-4156-b2ca-53065e7db0e5",
   "metadata": {},
   "outputs": [],
   "source": []
  }
 ],
 "metadata": {
  "kernelspec": {
   "display_name": "Python 3 (ipykernel)",
   "language": "python",
   "name": "python3"
  },
  "language_info": {
   "codemirror_mode": {
    "name": "ipython",
    "version": 3
   },
   "file_extension": ".py",
   "mimetype": "text/x-python",
   "name": "python",
   "nbconvert_exporter": "python",
   "pygments_lexer": "ipython3",
   "version": "3.13.5"
  }
 },
 "nbformat": 4,
 "nbformat_minor": 5
}
