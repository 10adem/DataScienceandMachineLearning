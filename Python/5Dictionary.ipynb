{
 "cells": [
  {
   "cell_type": "markdown",
   "id": "383310b2-6fb0-4ece-b304-8258afaaa80c",
   "metadata": {},
   "source": [
    "# dictionary"
   ]
  },
  {
   "cell_type": "code",
   "execution_count": 1,
   "id": "48c5ed9d-1a28-4e3d-b373-8c40810e149f",
   "metadata": {},
   "outputs": [],
   "source": [
    "# key - value pairing"
   ]
  },
  {
   "cell_type": "code",
   "execution_count": 2,
   "id": "b4fdc73e-0ae3-4918-83fa-1257d0ba8773",
   "metadata": {},
   "outputs": [],
   "source": [
    "fruit_list = [\"banana\", \"apple\"]"
   ]
  },
  {
   "cell_type": "code",
   "execution_count": 3,
   "id": "1987a73b-8a37-442a-99ac-cd86878134f9",
   "metadata": {},
   "outputs": [],
   "source": [
    "calorie_list = [100, 150]"
   ]
  },
  {
   "cell_type": "code",
   "execution_count": 4,
   "id": "528fb8df-9cc8-4fbf-a044-f4d0821f7caf",
   "metadata": {},
   "outputs": [
    {
     "data": {
      "text/plain": [
       "'banana'"
      ]
     },
     "execution_count": 4,
     "metadata": {},
     "output_type": "execute_result"
    }
   ],
   "source": [
    "fruit_list[0]"
   ]
  },
  {
   "cell_type": "code",
   "execution_count": 6,
   "id": "c941bd7e-baa2-434c-8773-892f97bcec76",
   "metadata": {},
   "outputs": [
    {
     "data": {
      "text/plain": [
       "100"
      ]
     },
     "execution_count": 6,
     "metadata": {},
     "output_type": "execute_result"
    }
   ],
   "source": [
    "calorie_list[0]"
   ]
  },
  {
   "cell_type": "code",
   "execution_count": 8,
   "id": "afe586ed-1bda-4d98-9eea-f9b2bb80b353",
   "metadata": {},
   "outputs": [],
   "source": [
    "fitness_dictionary = {\n",
    "    \"banana\":100,\n",
    "    \"apple\":150\n",
    "}"
   ]
  },
  {
   "cell_type": "code",
   "execution_count": 9,
   "id": "b9f96ea5-8fe5-41be-b4ff-2baf3ec157d3",
   "metadata": {},
   "outputs": [],
   "source": [
    "#fitness_dictionary = {\"banana\":100,\"apple\":150}"
   ]
  },
  {
   "cell_type": "code",
   "execution_count": 10,
   "id": "602336e9-419b-4184-a25d-713bc3f37e41",
   "metadata": {},
   "outputs": [
    {
     "data": {
      "text/plain": [
       "dict"
      ]
     },
     "execution_count": 10,
     "metadata": {},
     "output_type": "execute_result"
    }
   ],
   "source": [
    "type(fitness_dictionary)"
   ]
  },
  {
   "cell_type": "code",
   "execution_count": 11,
   "id": "8487a5e4-76b0-46e8-b6ab-62f804cb2082",
   "metadata": {},
   "outputs": [
    {
     "ename": "KeyError",
     "evalue": "0",
     "output_type": "error",
     "traceback": [
      "\u001b[1;31m---------------------------------------------------------------------------\u001b[0m",
      "\u001b[1;31mKeyError\u001b[0m                                  Traceback (most recent call last)",
      "Cell \u001b[1;32mIn[11], line 1\u001b[0m\n\u001b[1;32m----> 1\u001b[0m fitness_dictionary[\u001b[38;5;241m0\u001b[39m]\n",
      "\u001b[1;31mKeyError\u001b[0m: 0"
     ]
    }
   ],
   "source": [
    "fitness_dictionary[0] # index mantığı yok."
   ]
  },
  {
   "cell_type": "code",
   "execution_count": 12,
   "id": "fa9f80f0-a5c9-4303-8d1e-2939f6646786",
   "metadata": {},
   "outputs": [
    {
     "data": {
      "text/plain": [
       "100"
      ]
     },
     "execution_count": 12,
     "metadata": {},
     "output_type": "execute_result"
    }
   ],
   "source": [
    "fitness_dictionary[\"banana\"]"
   ]
  },
  {
   "cell_type": "code",
   "execution_count": 13,
   "id": "7a71567a-a646-4051-9207-a0b184579b47",
   "metadata": {},
   "outputs": [
    {
     "data": {
      "text/plain": [
       "150"
      ]
     },
     "execution_count": 13,
     "metadata": {},
     "output_type": "execute_result"
    }
   ],
   "source": [
    "fitness_dictionary[\"apple\"]"
   ]
  },
  {
   "cell_type": "code",
   "execution_count": 16,
   "id": "aa01bbdb-eb8e-4a07-8886-4c33599e4ae8",
   "metadata": {},
   "outputs": [
    {
     "data": {
      "text/plain": [
       "dict_keys(['banana', 'apple'])"
      ]
     },
     "execution_count": 16,
     "metadata": {},
     "output_type": "execute_result"
    }
   ],
   "source": [
    "fitness_dictionary.keys()"
   ]
  },
  {
   "cell_type": "code",
   "execution_count": 17,
   "id": "8b5bc2ea-764d-4b82-be7a-6375dcceff45",
   "metadata": {},
   "outputs": [
    {
     "data": {
      "text/plain": [
       "dict_values([100, 150])"
      ]
     },
     "execution_count": 17,
     "metadata": {},
     "output_type": "execute_result"
    }
   ],
   "source": [
    "fitness_dictionary.values()"
   ]
  },
  {
   "cell_type": "code",
   "execution_count": 18,
   "id": "55e28fac-77c4-4af2-9db1-f7b812a33659",
   "metadata": {},
   "outputs": [
    {
     "data": {
      "text/plain": [
       "dict_values"
      ]
     },
     "execution_count": 18,
     "metadata": {},
     "output_type": "execute_result"
    }
   ],
   "source": [
    "type(fitness_dictionary.values())"
   ]
  },
  {
   "cell_type": "code",
   "execution_count": 19,
   "id": "f9a5a2e7-15ee-4bff-99f7-8f5c3cb2ce41",
   "metadata": {},
   "outputs": [
    {
     "data": {
      "text/plain": [
       "[100, 150]"
      ]
     },
     "execution_count": 19,
     "metadata": {},
     "output_type": "execute_result"
    }
   ],
   "source": [
    "list(fitness_dictionary.values())"
   ]
  },
  {
   "cell_type": "code",
   "execution_count": 20,
   "id": "b3f8cd5e-86dd-411b-ab14-a2033b6ebdbb",
   "metadata": {},
   "outputs": [
    {
     "data": {
      "text/plain": [
       "list"
      ]
     },
     "execution_count": 20,
     "metadata": {},
     "output_type": "execute_result"
    }
   ],
   "source": [
    "type(list(fitness_dictionary.values()))"
   ]
  },
  {
   "cell_type": "code",
   "execution_count": 21,
   "id": "4e6450cd-30c7-4b2c-8be6-ec2cca1f0843",
   "metadata": {},
   "outputs": [
    {
     "data": {
      "text/plain": [
       "{'banana': 100, 'apple': 150}"
      ]
     },
     "execution_count": 21,
     "metadata": {},
     "output_type": "execute_result"
    }
   ],
   "source": [
    "fitness_dictionary"
   ]
  },
  {
   "cell_type": "code",
   "execution_count": 22,
   "id": "2ab87b35-f598-46cd-97da-b779aa96b966",
   "metadata": {},
   "outputs": [],
   "source": [
    "fitness_dictionary[\"banana\"] = 200"
   ]
  },
  {
   "cell_type": "code",
   "execution_count": 24,
   "id": "55bad53e-8e36-4c1f-ae5c-e84567818c33",
   "metadata": {},
   "outputs": [
    {
     "data": {
      "text/plain": [
       "{'banana': 200, 'apple': 150}"
      ]
     },
     "execution_count": 24,
     "metadata": {},
     "output_type": "execute_result"
    }
   ],
   "source": [
    "fitness_dictionary"
   ]
  },
  {
   "cell_type": "code",
   "execution_count": 28,
   "id": "fbb8f34a-e792-42e2-ad65-8b2a0de4aa47",
   "metadata": {},
   "outputs": [],
   "source": [
    "fitness_dictionary[\"melon\"] = 300 # yeni eklemeyi bu şekilde yapıyoruz."
   ]
  },
  {
   "cell_type": "code",
   "execution_count": 29,
   "id": "c9237b7c-7a05-4dee-8f05-c4356e7a9aef",
   "metadata": {},
   "outputs": [
    {
     "data": {
      "text/plain": [
       "{'banana': 200, 'apple': 150, 'melon': 300}"
      ]
     },
     "execution_count": 29,
     "metadata": {},
     "output_type": "execute_result"
    }
   ],
   "source": [
    "fitness_dictionary"
   ]
  },
  {
   "cell_type": "code",
   "execution_count": 30,
   "id": "0c493e98-2dc7-47e9-bf0e-cc4ad75c3c92",
   "metadata": {},
   "outputs": [
    {
     "ename": "KeyError",
     "evalue": "'appl'",
     "output_type": "error",
     "traceback": [
      "\u001b[1;31m---------------------------------------------------------------------------\u001b[0m",
      "\u001b[1;31mKeyError\u001b[0m                                  Traceback (most recent call last)",
      "Cell \u001b[1;32mIn[30], line 1\u001b[0m\n\u001b[1;32m----> 1\u001b[0m fitness_dictionary[\u001b[38;5;124m\"\u001b[39m\u001b[38;5;124mappl\u001b[39m\u001b[38;5;124m\"\u001b[39m]\n",
      "\u001b[1;31mKeyError\u001b[0m: 'appl'"
     ]
    }
   ],
   "source": [
    "fitness_dictionary[\"appl\"]"
   ]
  },
  {
   "cell_type": "code",
   "execution_count": 31,
   "id": "feaca5a9-3636-4bdf-bbae-2f136941e922",
   "metadata": {},
   "outputs": [
    {
     "name": "stdout",
     "output_type": "stream",
     "text": [
      "Help on built-in function get:\n",
      "\n",
      "get(key, default=None, /) method of builtins.dict instance\n",
      "    Return the value for key if key is in the dictionary, else default.\n",
      "\n"
     ]
    }
   ],
   "source": [
    "help(fitness_dictionary.get)"
   ]
  },
  {
   "cell_type": "code",
   "execution_count": 32,
   "id": "11ca3c23-0a43-46ae-8e0e-d923b15a7e38",
   "metadata": {},
   "outputs": [
    {
     "data": {
      "text/plain": [
       "150"
      ]
     },
     "execution_count": 32,
     "metadata": {},
     "output_type": "execute_result"
    }
   ],
   "source": [
    "fitness_dictionary.get(\"apple\", 0)"
   ]
  },
  {
   "cell_type": "code",
   "execution_count": 33,
   "id": "5ddd75c5-56d8-4f0b-814c-f5d331638948",
   "metadata": {},
   "outputs": [
    {
     "data": {
      "text/plain": [
       "0"
      ]
     },
     "execution_count": 33,
     "metadata": {},
     "output_type": "execute_result"
    }
   ],
   "source": [
    "fitness_dictionary.get(\"appl\", 0)"
   ]
  },
  {
   "cell_type": "markdown",
   "id": "a007b424-739d-4b2f-a6f4-813a43bdb9ce",
   "metadata": {},
   "source": [
    "# sözlük pratikleri"
   ]
  },
  {
   "cell_type": "code",
   "execution_count": 34,
   "id": "ecede605-36aa-4cf8-8507-954b79ec8e7a",
   "metadata": {},
   "outputs": [
    {
     "data": {
      "text/plain": [
       "{'banana': 200, 'apple': 150, 'melon': 300}"
      ]
     },
     "execution_count": 34,
     "metadata": {},
     "output_type": "execute_result"
    }
   ],
   "source": [
    "fitness_dictionary"
   ]
  },
  {
   "cell_type": "code",
   "execution_count": 35,
   "id": "b501274d-9585-40bb-81ff-dd19fc1995a4",
   "metadata": {},
   "outputs": [],
   "source": [
    "my_dictionary = {100:\"a\", 200:\"b\", 300:\"c\"}"
   ]
  },
  {
   "cell_type": "code",
   "execution_count": 36,
   "id": "28fc0c0b-2e19-4be3-933c-234d275ef5d9",
   "metadata": {},
   "outputs": [
    {
     "data": {
      "text/plain": [
       "'a'"
      ]
     },
     "execution_count": 36,
     "metadata": {},
     "output_type": "execute_result"
    }
   ],
   "source": [
    "my_dictionary[100]"
   ]
  },
  {
   "cell_type": "code",
   "execution_count": 37,
   "id": "f2aa9878-4113-41e1-8412-1abc11371612",
   "metadata": {},
   "outputs": [
    {
     "ename": "KeyError",
     "evalue": "'b'",
     "output_type": "error",
     "traceback": [
      "\u001b[1;31m---------------------------------------------------------------------------\u001b[0m",
      "\u001b[1;31mKeyError\u001b[0m                                  Traceback (most recent call last)",
      "Cell \u001b[1;32mIn[37], line 1\u001b[0m\n\u001b[1;32m----> 1\u001b[0m my_dictionary[\u001b[38;5;124m\"\u001b[39m\u001b[38;5;124mb\u001b[39m\u001b[38;5;124m\"\u001b[39m]\n",
      "\u001b[1;31mKeyError\u001b[0m: 'b'"
     ]
    }
   ],
   "source": [
    "my_dictionary[\"b\"]"
   ]
  },
  {
   "cell_type": "code",
   "execution_count": 38,
   "id": "644fe338-d396-4add-82fd-6acd19389552",
   "metadata": {},
   "outputs": [],
   "source": [
    "my_dictionary = {\"key1\":\"value1\", \"key2\":\"value2\",\"key3\":\"value3\"}"
   ]
  },
  {
   "cell_type": "code",
   "execution_count": 39,
   "id": "daf6df7e-7f27-41f7-8626-aea69fcb7179",
   "metadata": {},
   "outputs": [
    {
     "data": {
      "text/plain": [
       "'value1'"
      ]
     },
     "execution_count": 39,
     "metadata": {},
     "output_type": "execute_result"
    }
   ],
   "source": [
    "my_dictionary[\"key1\"]"
   ]
  },
  {
   "cell_type": "code",
   "execution_count": 40,
   "id": "ecc0c57c-8b5d-45fb-9fc1-475ce723b784",
   "metadata": {},
   "outputs": [],
   "source": [
    "my_mixed_dictionary = {\"key1\":100, \"key2\":3.14, \"key3\":[10,20,30]}"
   ]
  },
  {
   "cell_type": "code",
   "execution_count": 41,
   "id": "ed5abad0-755f-4b6e-9bcd-7dc55510ce4b",
   "metadata": {},
   "outputs": [
    {
     "data": {
      "text/plain": [
       "100"
      ]
     },
     "execution_count": 41,
     "metadata": {},
     "output_type": "execute_result"
    }
   ],
   "source": [
    "my_mixed_dictionary[\"key1\"]"
   ]
  },
  {
   "cell_type": "code",
   "execution_count": 42,
   "id": "81a38054-a37d-4296-a1f8-2dc0463c3cfe",
   "metadata": {},
   "outputs": [
    {
     "data": {
      "text/plain": [
       "3.14"
      ]
     },
     "execution_count": 42,
     "metadata": {},
     "output_type": "execute_result"
    }
   ],
   "source": [
    "my_mixed_dictionary[\"key2\"]"
   ]
  },
  {
   "cell_type": "code",
   "execution_count": 43,
   "id": "6ec81db9-22d9-45d9-87b6-d1c7981c19ee",
   "metadata": {},
   "outputs": [
    {
     "data": {
      "text/plain": [
       "[10, 20, 30]"
      ]
     },
     "execution_count": 43,
     "metadata": {},
     "output_type": "execute_result"
    }
   ],
   "source": [
    "my_mixed_dictionary[\"key3\"]"
   ]
  },
  {
   "cell_type": "code",
   "execution_count": 44,
   "id": "4ea6e77b-f201-42df-b215-4113e52208c4",
   "metadata": {},
   "outputs": [
    {
     "data": {
      "text/plain": [
       "20"
      ]
     },
     "execution_count": 44,
     "metadata": {},
     "output_type": "execute_result"
    }
   ],
   "source": [
    "my_mixed_dictionary[\"key3\"][1]"
   ]
  },
  {
   "cell_type": "code",
   "execution_count": 45,
   "id": "d08d7750-13f5-477c-90aa-065b0a9c47cf",
   "metadata": {},
   "outputs": [],
   "source": [
    "last_dictionary = {\"k1\":10,\"k2\":[10,20,30,40,50],\"k3\":\"string\",\"k4\":{\"a\":100,\"b\":200}}"
   ]
  },
  {
   "cell_type": "code",
   "execution_count": 46,
   "id": "533e79f1-680e-4bcd-86dc-238f27884ef4",
   "metadata": {},
   "outputs": [
    {
     "data": {
      "text/plain": [
       "200"
      ]
     },
     "execution_count": 46,
     "metadata": {},
     "output_type": "execute_result"
    }
   ],
   "source": [
    "last_dictionary[\"k4\"][\"b\"]"
   ]
  },
  {
   "cell_type": "code",
   "execution_count": 47,
   "id": "a5c963f4-f591-425b-a49d-1b98dadb514c",
   "metadata": {},
   "outputs": [
    {
     "data": {
      "text/plain": [
       "20"
      ]
     },
     "execution_count": 47,
     "metadata": {},
     "output_type": "execute_result"
    }
   ],
   "source": [
    "last_dictionary[\"k2\"][1]"
   ]
  },
  {
   "cell_type": "code",
   "execution_count": null,
   "id": "0d7855e9-916b-45ac-a2a6-7063fc49b401",
   "metadata": {},
   "outputs": [],
   "source": []
  }
 ],
 "metadata": {
  "kernelspec": {
   "display_name": "Python 3 (ipykernel)",
   "language": "python",
   "name": "python3"
  },
  "language_info": {
   "codemirror_mode": {
    "name": "ipython",
    "version": 3
   },
   "file_extension": ".py",
   "mimetype": "text/x-python",
   "name": "python",
   "nbconvert_exporter": "python",
   "pygments_lexer": "ipython3",
   "version": "3.13.5"
  }
 },
 "nbformat": 4,
 "nbformat_minor": 5
}
