{
 "cells": [
  {
   "cell_type": "code",
   "execution_count": 1,
   "id": "72889173-1901-4764-a3bb-937726060a9d",
   "metadata": {},
   "outputs": [],
   "source": [
    "ademName = \"Adem\""
   ]
  },
  {
   "cell_type": "code",
   "execution_count": 2,
   "id": "1ce3a6a3-03c6-4eab-8525-0454bd128ee9",
   "metadata": {},
   "outputs": [],
   "source": [
    "ademAge = 30"
   ]
  },
  {
   "cell_type": "code",
   "execution_count": 3,
   "id": "88fb7f96-4263-44df-8111-f9ca2319c547",
   "metadata": {},
   "outputs": [],
   "source": [
    "ademGender = \"Male\""
   ]
  },
  {
   "cell_type": "code",
   "execution_count": 4,
   "id": "2f6d012e-8277-4887-a574-90790eef076f",
   "metadata": {},
   "outputs": [],
   "source": [
    "atlasName = \"Atlas\""
   ]
  },
  {
   "cell_type": "code",
   "execution_count": 5,
   "id": "78cc3c95-b237-4ee1-a3f6-a4d66d564044",
   "metadata": {},
   "outputs": [],
   "source": [
    "atlasAge = 10"
   ]
  },
  {
   "cell_type": "code",
   "execution_count": 6,
   "id": "f7406721-0ff5-4468-aa6b-ea0f3a486828",
   "metadata": {},
   "outputs": [],
   "source": [
    "atlasGender = \"Male\""
   ]
  },
  {
   "cell_type": "code",
   "execution_count": 24,
   "id": "d67deb45-650a-4e2d-a120-89b48c271069",
   "metadata": {},
   "outputs": [],
   "source": [
    "class Person():\n",
    "    name = \"\"\n",
    "    age = 0\n",
    "    gender = \"\""
   ]
  },
  {
   "cell_type": "code",
   "execution_count": 8,
   "id": "7de33ada-f798-4506-b6af-dadfba6d0748",
   "metadata": {},
   "outputs": [],
   "source": [
    "myList = list()"
   ]
  },
  {
   "cell_type": "code",
   "execution_count": 11,
   "id": "03dfd2f0-056c-481f-acc7-0abb2b9b1dfb",
   "metadata": {},
   "outputs": [
    {
     "data": {
      "text/plain": [
       "list"
      ]
     },
     "execution_count": 11,
     "metadata": {},
     "output_type": "execute_result"
    }
   ],
   "source": [
    "type(myList)"
   ]
  },
  {
   "cell_type": "code",
   "execution_count": 25,
   "id": "36f5fb1b-bc64-4918-954f-62032da8cfb3",
   "metadata": {},
   "outputs": [],
   "source": [
    "adem = Person()"
   ]
  },
  {
   "cell_type": "code",
   "execution_count": 26,
   "id": "d4b1adf0-d66c-4b26-a116-73611481a07a",
   "metadata": {},
   "outputs": [
    {
     "data": {
      "text/plain": [
       "__main__.Person"
      ]
     },
     "execution_count": 26,
     "metadata": {},
     "output_type": "execute_result"
    }
   ],
   "source": [
    "type(adem)"
   ]
  },
  {
   "cell_type": "code",
   "execution_count": 27,
   "id": "718edd41-307a-4d93-9dc0-e92e225c4b98",
   "metadata": {},
   "outputs": [
    {
     "data": {
      "text/plain": [
       "''"
      ]
     },
     "execution_count": 27,
     "metadata": {},
     "output_type": "execute_result"
    }
   ],
   "source": [
    "adem.name"
   ]
  },
  {
   "cell_type": "code",
   "execution_count": 28,
   "id": "a1b1a87c-0506-4612-8f20-ba2f37af0a61",
   "metadata": {},
   "outputs": [],
   "source": [
    "adem.age = 35"
   ]
  },
  {
   "cell_type": "code",
   "execution_count": 29,
   "id": "3bfd2b7c-b8a6-4c86-9d39-073a92e9b787",
   "metadata": {},
   "outputs": [
    {
     "data": {
      "text/plain": [
       "35"
      ]
     },
     "execution_count": 29,
     "metadata": {},
     "output_type": "execute_result"
    }
   ],
   "source": [
    "adem.age"
   ]
  },
  {
   "cell_type": "code",
   "execution_count": 30,
   "id": "5d39148b-418f-4f60-b9b0-a381cd32344f",
   "metadata": {},
   "outputs": [],
   "source": [
    "adem.name = \"Adem Yildiz\""
   ]
  },
  {
   "cell_type": "code",
   "execution_count": 38,
   "id": "f60d3ab5-7256-4ff8-a5d1-2bf4dfdd5174",
   "metadata": {},
   "outputs": [],
   "source": [
    "class Person2():\n",
    "    name = \"\"\n",
    "    age = 0\n",
    "    gender = \"\"\n",
    "\n",
    "    # method, initilazer\n",
    "    def __init__(self, nameInput, ageInput, genderInput):\n",
    "        #print(\"init executed\")\n",
    "        name = nameInput\n",
    "        age = ageInput\n",
    "        gender = genderInput"
   ]
  },
  {
   "cell_type": "code",
   "execution_count": 42,
   "id": "25e72a27-7b97-406d-aae2-11f4b7d5ca8f",
   "metadata": {},
   "outputs": [],
   "source": [
    "adem = Person2(\"adem\", 30, \"Male\")"
   ]
  },
  {
   "cell_type": "code",
   "execution_count": 43,
   "id": "9079a03e-205d-4986-9356-dc74483a9db8",
   "metadata": {},
   "outputs": [],
   "source": [
    "atlas = Person2(\"atlas\", 20, \"Male\")"
   ]
  },
  {
   "cell_type": "code",
   "execution_count": 44,
   "id": "d75ebdd9-0cd3-412d-ae80-07748d4ee255",
   "metadata": {},
   "outputs": [
    {
     "data": {
      "text/plain": [
       "__main__.Person2"
      ]
     },
     "execution_count": 44,
     "metadata": {},
     "output_type": "execute_result"
    }
   ],
   "source": [
    "type(adem)"
   ]
  },
  {
   "cell_type": "code",
   "execution_count": 45,
   "id": "b603df1f-4156-49e4-8b5d-e16e4729078a",
   "metadata": {},
   "outputs": [
    {
     "data": {
      "text/plain": [
       "__main__.Person2"
      ]
     },
     "execution_count": 45,
     "metadata": {},
     "output_type": "execute_result"
    }
   ],
   "source": [
    "type(atlas)"
   ]
  },
  {
   "cell_type": "code",
   "execution_count": 46,
   "id": "0239afcc-a791-4766-bcef-6eb65b7be8c3",
   "metadata": {},
   "outputs": [
    {
     "data": {
      "text/plain": [
       "''"
      ]
     },
     "execution_count": 46,
     "metadata": {},
     "output_type": "execute_result"
    }
   ],
   "source": [
    "adem.name"
   ]
  },
  {
   "cell_type": "code",
   "execution_count": 47,
   "id": "fd43f4a6-9847-4d1d-9fae-e3a3e26e8f21",
   "metadata": {},
   "outputs": [
    {
     "data": {
      "text/plain": [
       "0"
      ]
     },
     "execution_count": 47,
     "metadata": {},
     "output_type": "execute_result"
    }
   ],
   "source": [
    "adem.age"
   ]
  },
  {
   "cell_type": "code",
   "execution_count": 48,
   "id": "92cea993-ad69-4505-bfa2-33ff64d99e25",
   "metadata": {},
   "outputs": [
    {
     "data": {
      "text/plain": [
       "''"
      ]
     },
     "execution_count": 48,
     "metadata": {},
     "output_type": "execute_result"
    }
   ],
   "source": [
    "adem.gender"
   ]
  },
  {
   "cell_type": "code",
   "execution_count": 49,
   "id": "8ad6b653-6015-4c53-be48-ce210c2a5fb0",
   "metadata": {},
   "outputs": [],
   "source": [
    "class Person2():\n",
    "    name = \"\"\n",
    "    age = 0\n",
    "    gender = \"\"\n",
    "\n",
    "    # method, initilazer\n",
    "    def __init__(self, nameInput, ageInput, genderInput):\n",
    "        #print(\"init executed\")\n",
    "        self.name = nameInput\n",
    "        self.age = ageInput\n",
    "        self.gender = genderInput"
   ]
  },
  {
   "cell_type": "code",
   "execution_count": 50,
   "id": "0cca03dc-4739-4705-b362-1920b0821810",
   "metadata": {},
   "outputs": [],
   "source": [
    "adem = Person2(\"adem\", 30, \"Male\")"
   ]
  },
  {
   "cell_type": "code",
   "execution_count": 52,
   "id": "bec3224b-87ca-46fe-be29-48f598006792",
   "metadata": {},
   "outputs": [
    {
     "data": {
      "text/plain": [
       "'adem'"
      ]
     },
     "execution_count": 52,
     "metadata": {},
     "output_type": "execute_result"
    }
   ],
   "source": [
    "adem.name"
   ]
  },
  {
   "cell_type": "code",
   "execution_count": 53,
   "id": "e417ab9e-6354-4e61-81b4-44e553e379d3",
   "metadata": {},
   "outputs": [
    {
     "data": {
      "text/plain": [
       "30"
      ]
     },
     "execution_count": 53,
     "metadata": {},
     "output_type": "execute_result"
    }
   ],
   "source": [
    "adem.age"
   ]
  },
  {
   "cell_type": "code",
   "execution_count": 54,
   "id": "82c64c9a-9b9a-493b-9127-e00f883113ed",
   "metadata": {},
   "outputs": [
    {
     "data": {
      "text/plain": [
       "'Male'"
      ]
     },
     "execution_count": 54,
     "metadata": {},
     "output_type": "execute_result"
    }
   ],
   "source": [
    "adem.gender"
   ]
  },
  {
   "cell_type": "code",
   "execution_count": 56,
   "id": "0d75dc63-a8cd-422d-8e98-4fd7a78bd78c",
   "metadata": {},
   "outputs": [],
   "source": [
    "class Person2():\n",
    "    name = \"\"\n",
    "    age = 0\n",
    "    gender = \"\"\n",
    "\n",
    "    # method, initilazer\n",
    "    def __init__(self, name, age, gender):\n",
    "        #print(\"init executed\")\n",
    "        self.name = name\n",
    "        self.age = age\n",
    "        self.gender = gender"
   ]
  },
  {
   "cell_type": "code",
   "execution_count": 57,
   "id": "ac5dac9a-6439-4233-b388-aa14ede261aa",
   "metadata": {},
   "outputs": [],
   "source": [
    "adem = Person2(\"adem\", 30, \"Male\")"
   ]
  },
  {
   "cell_type": "code",
   "execution_count": 59,
   "id": "529836d9-1370-4bec-a591-56d284cd5774",
   "metadata": {},
   "outputs": [
    {
     "data": {
      "text/plain": [
       "'adem'"
      ]
     },
     "execution_count": 59,
     "metadata": {},
     "output_type": "execute_result"
    }
   ],
   "source": [
    "adem.name"
   ]
  },
  {
   "cell_type": "code",
   "execution_count": 60,
   "id": "30de1c35-47b1-4380-a410-80b352fc8d12",
   "metadata": {},
   "outputs": [
    {
     "data": {
      "text/plain": [
       "30"
      ]
     },
     "execution_count": 60,
     "metadata": {},
     "output_type": "execute_result"
    }
   ],
   "source": [
    "adem.age"
   ]
  },
  {
   "cell_type": "code",
   "execution_count": 61,
   "id": "1df196d2-129c-4a16-a3fb-92ce073a40f7",
   "metadata": {},
   "outputs": [
    {
     "data": {
      "text/plain": [
       "'Male'"
      ]
     },
     "execution_count": 61,
     "metadata": {},
     "output_type": "execute_result"
    }
   ],
   "source": [
    "adem.gender"
   ]
  },
  {
   "cell_type": "code",
   "execution_count": 70,
   "id": "36469ea7-f5fe-4f90-aeba-a671194b039e",
   "metadata": {},
   "outputs": [],
   "source": [
    "class Person2():\n",
    "    # property\n",
    "    #name = \"\"\n",
    "    #age = 0\n",
    "    #gender = \"\"\n",
    "\n",
    "    # initilazer method\n",
    "    def __init__(self, name, age, gender):\n",
    "        #print(\"init executed\")\n",
    "        self.name = name\n",
    "        self.age = age\n",
    "        self.gender = gender\n",
    "        \n",
    "    # method\n",
    "    def test(self):\n",
    "        print(\"test\")"
   ]
  },
  {
   "cell_type": "code",
   "execution_count": 71,
   "id": "c9b58fac-d09c-4635-9e6d-145391335aa3",
   "metadata": {},
   "outputs": [],
   "source": [
    "adem = Person2(\"adem\", 30, \"Male\")"
   ]
  },
  {
   "cell_type": "code",
   "execution_count": 72,
   "id": "d3f210ef-1613-4e4a-a9b2-fa4ca40ef1fb",
   "metadata": {},
   "outputs": [
    {
     "data": {
      "text/plain": [
       "'adem'"
      ]
     },
     "execution_count": 72,
     "metadata": {},
     "output_type": "execute_result"
    }
   ],
   "source": [
    "adem.name"
   ]
  },
  {
   "cell_type": "code",
   "execution_count": 73,
   "id": "56402a6c-3404-4703-b6a6-44aefd675005",
   "metadata": {},
   "outputs": [
    {
     "data": {
      "text/plain": [
       "30"
      ]
     },
     "execution_count": 73,
     "metadata": {},
     "output_type": "execute_result"
    }
   ],
   "source": [
    "adem.age"
   ]
  },
  {
   "cell_type": "code",
   "execution_count": 74,
   "id": "4076a710-2e18-4c6b-8fac-5f5f347f697d",
   "metadata": {},
   "outputs": [
    {
     "data": {
      "text/plain": [
       "'Male'"
      ]
     },
     "execution_count": 74,
     "metadata": {},
     "output_type": "execute_result"
    }
   ],
   "source": [
    "adem.gender"
   ]
  },
  {
   "cell_type": "code",
   "execution_count": 75,
   "id": "93b35533-319a-4f44-9b21-9bec651b85ef",
   "metadata": {},
   "outputs": [
    {
     "name": "stdout",
     "output_type": "stream",
     "text": [
      "test\n"
     ]
    }
   ],
   "source": [
    "adem.test()"
   ]
  },
  {
   "cell_type": "code",
   "execution_count": 83,
   "id": "50d0cfa3-d1ef-4746-9f9d-b760445485b7",
   "metadata": {},
   "outputs": [],
   "source": [
    "class Person2():\n",
    "    # property\n",
    "    #name = \"\"\n",
    "    #age = 0\n",
    "    #gender = \"\"\n",
    "\n",
    "    # initilazer method\n",
    "    def __init__(self, name, age, gender):\n",
    "        #print(\"init executed\")\n",
    "        self.name = name\n",
    "        self.age = age\n",
    "        self.gender = gender\n",
    "        \n",
    "    # method\n",
    "    def printName(self):\n",
    "        # print(name) olmaz\n",
    "        print(self.name)"
   ]
  },
  {
   "cell_type": "code",
   "execution_count": 84,
   "id": "52f9342e-24d4-4801-a9ab-9e8b39727508",
   "metadata": {},
   "outputs": [],
   "source": [
    "adem = Person2(\"adem\", 30, \"Male\")"
   ]
  },
  {
   "cell_type": "code",
   "execution_count": 85,
   "id": "d13d6639-b551-4346-b2ed-268a18dda15e",
   "metadata": {},
   "outputs": [
    {
     "data": {
      "text/plain": [
       "'adem'"
      ]
     },
     "execution_count": 85,
     "metadata": {},
     "output_type": "execute_result"
    }
   ],
   "source": [
    "adem.name"
   ]
  },
  {
   "cell_type": "code",
   "execution_count": 86,
   "id": "c3c65de4-46e0-476d-82c5-8b4d8ede3d58",
   "metadata": {},
   "outputs": [
    {
     "data": {
      "text/plain": [
       "30"
      ]
     },
     "execution_count": 86,
     "metadata": {},
     "output_type": "execute_result"
    }
   ],
   "source": [
    "adem.age"
   ]
  },
  {
   "cell_type": "code",
   "execution_count": 87,
   "id": "85c61a13-b1d1-4c4f-9b3e-217a6c7c8695",
   "metadata": {},
   "outputs": [
    {
     "data": {
      "text/plain": [
       "'Male'"
      ]
     },
     "execution_count": 87,
     "metadata": {},
     "output_type": "execute_result"
    }
   ],
   "source": [
    "adem.gender"
   ]
  },
  {
   "cell_type": "code",
   "execution_count": 88,
   "id": "55deb91c-fe7e-4117-b0c2-c3d7fc3978cf",
   "metadata": {},
   "outputs": [
    {
     "name": "stdout",
     "output_type": "stream",
     "text": [
      "adem\n"
     ]
    }
   ],
   "source": [
    "adem.printName()"
   ]
  },
  {
   "cell_type": "code",
   "execution_count": 106,
   "id": "a2ad6b4b-0ce9-4302-ba26-15ef81bb18f3",
   "metadata": {},
   "outputs": [],
   "source": [
    "class Person2():\n",
    "    # property\n",
    "    #name = \"\"\n",
    "    #age = 0\n",
    "    #gender = \"\"\n",
    "    #job = \"\"\n",
    "    #job = \"developer\" default tanımlamak istersem böyle yapabilirim.\n",
    "    job = \"developer\"\n",
    "\n",
    "    # initilazer method\n",
    "    def __init__(self, name, age, gender):\n",
    "        #print(\"init executed\")\n",
    "        self.name = name\n",
    "        self.age = age\n",
    "        self.gender = gender\n",
    "        \n",
    "    # method\n",
    "    def printName(self):\n",
    "        # print(name) olmaz\n",
    "        print(self.name)"
   ]
  },
  {
   "cell_type": "code",
   "execution_count": 107,
   "id": "79a9c972-094b-4df3-b3c2-4ddfcc5f2262",
   "metadata": {},
   "outputs": [],
   "source": [
    "adem = Person2(\"adem\", 30, \"Male\")"
   ]
  },
  {
   "cell_type": "code",
   "execution_count": 108,
   "id": "91939739-45fd-477c-9ff1-c3c320cb4c59",
   "metadata": {},
   "outputs": [
    {
     "data": {
      "text/plain": [
       "'adem'"
      ]
     },
     "execution_count": 108,
     "metadata": {},
     "output_type": "execute_result"
    }
   ],
   "source": [
    "adem.name"
   ]
  },
  {
   "cell_type": "code",
   "execution_count": 109,
   "id": "c33fce6a-82c7-4bbe-92cf-ea3800ee1833",
   "metadata": {},
   "outputs": [
    {
     "data": {
      "text/plain": [
       "30"
      ]
     },
     "execution_count": 109,
     "metadata": {},
     "output_type": "execute_result"
    }
   ],
   "source": [
    "adem.age"
   ]
  },
  {
   "cell_type": "code",
   "execution_count": 110,
   "id": "cef6c784-b5bb-47d7-81d4-50d4a5952933",
   "metadata": {},
   "outputs": [
    {
     "data": {
      "text/plain": [
       "'Male'"
      ]
     },
     "execution_count": 110,
     "metadata": {},
     "output_type": "execute_result"
    }
   ],
   "source": [
    "adem.gender"
   ]
  },
  {
   "cell_type": "code",
   "execution_count": 111,
   "id": "5bed6832-a598-4720-86c2-6999fd2a85e3",
   "metadata": {},
   "outputs": [
    {
     "name": "stdout",
     "output_type": "stream",
     "text": [
      "adem\n"
     ]
    }
   ],
   "source": [
    "adem.printName()"
   ]
  },
  {
   "cell_type": "code",
   "execution_count": 112,
   "id": "c2d1d42e-65d7-4658-a7a6-42b0eca39861",
   "metadata": {},
   "outputs": [
    {
     "data": {
      "text/plain": [
       "'developer'"
      ]
     },
     "execution_count": 112,
     "metadata": {},
     "output_type": "execute_result"
    }
   ],
   "source": [
    "adem.job"
   ]
  },
  {
   "cell_type": "code",
   "execution_count": 113,
   "id": "6b912bb6-e23b-4107-b666-308afc947b46",
   "metadata": {},
   "outputs": [],
   "source": [
    "adem.job = \"instructor\""
   ]
  },
  {
   "cell_type": "code",
   "execution_count": 114,
   "id": "6c866dd4-e7c4-4b3c-9b66-2f1b829f6711",
   "metadata": {},
   "outputs": [
    {
     "data": {
      "text/plain": [
       "'instructor'"
      ]
     },
     "execution_count": 114,
     "metadata": {},
     "output_type": "execute_result"
    }
   ],
   "source": [
    "adem.job"
   ]
  },
  {
   "cell_type": "markdown",
   "id": "93ab0018-8db5-49ea-93f6-efd24046f9ec",
   "metadata": {},
   "source": [
    "# sınıf örnekleri"
   ]
  },
  {
   "cell_type": "code",
   "execution_count": 144,
   "id": "813d6f29-5da4-4fcd-a788-5dff9de65757",
   "metadata": {},
   "outputs": [],
   "source": [
    "class Dog():\n",
    "\n",
    "    year = 7\n",
    "\n",
    "    def __init__(self,age = 5):\n",
    "        self.age = age\n",
    "        self.dogHumanAge = age * self.year\n",
    "        print(\"dog instance\")\n",
    "\n",
    "    def humanAge(self):\n",
    "        return self.age * Dog.year # Dog.year -> self.year"
   ]
  },
  {
   "cell_type": "code",
   "execution_count": 145,
   "id": "b1cb766c-22ae-4f1a-b806-469c489a7b68",
   "metadata": {},
   "outputs": [
    {
     "name": "stdout",
     "output_type": "stream",
     "text": [
      "dog instance\n"
     ]
    }
   ],
   "source": [
    "myDog = Dog(3)"
   ]
  },
  {
   "cell_type": "code",
   "execution_count": 146,
   "id": "6f75795b-67ec-4b6c-8dcd-0f24fa6615b2",
   "metadata": {},
   "outputs": [
    {
     "data": {
      "text/plain": [
       "3"
      ]
     },
     "execution_count": 146,
     "metadata": {},
     "output_type": "execute_result"
    }
   ],
   "source": [
    "myDog.age"
   ]
  },
  {
   "cell_type": "code",
   "execution_count": 147,
   "id": "f543177e-34a0-4686-8eb7-2b99ccbff1b2",
   "metadata": {},
   "outputs": [
    {
     "data": {
      "text/plain": [
       "21"
      ]
     },
     "execution_count": 147,
     "metadata": {},
     "output_type": "execute_result"
    }
   ],
   "source": [
    "myDog.humanAge()"
   ]
  },
  {
   "cell_type": "code",
   "execution_count": 148,
   "id": "c3e00042-ae43-42c4-a379-58616539d256",
   "metadata": {},
   "outputs": [
    {
     "data": {
      "text/plain": [
       "21"
      ]
     },
     "execution_count": 148,
     "metadata": {},
     "output_type": "execute_result"
    }
   ],
   "source": [
    "myDog.dogHumanAge"
   ]
  },
  {
   "cell_type": "code",
   "execution_count": 149,
   "id": "0472988d-d277-4b1d-aa5e-1ef509258c49",
   "metadata": {},
   "outputs": [
    {
     "name": "stdout",
     "output_type": "stream",
     "text": [
      "dog instance\n"
     ]
    }
   ],
   "source": [
    "barley = Dog()"
   ]
  },
  {
   "cell_type": "code",
   "execution_count": 150,
   "id": "da5168ff-38ab-4320-a8ba-b4e19f1ff1ad",
   "metadata": {},
   "outputs": [
    {
     "data": {
      "text/plain": [
       "35"
      ]
     },
     "execution_count": 150,
     "metadata": {},
     "output_type": "execute_result"
    }
   ],
   "source": [
    "barley.dogHumanAge"
   ]
  },
  {
   "cell_type": "code",
   "execution_count": null,
   "id": "ccbe688a-7cca-4ec7-a241-563ad7b0774a",
   "metadata": {},
   "outputs": [],
   "source": []
  }
 ],
 "metadata": {
  "kernelspec": {
   "display_name": "Python 3 (ipykernel)",
   "language": "python",
   "name": "python3"
  },
  "language_info": {
   "codemirror_mode": {
    "name": "ipython",
    "version": 3
   },
   "file_extension": ".py",
   "mimetype": "text/x-python",
   "name": "python",
   "nbconvert_exporter": "python",
   "pygments_lexer": "ipython3",
   "version": "3.13.5"
  }
 },
 "nbformat": 4,
 "nbformat_minor": 5
}
