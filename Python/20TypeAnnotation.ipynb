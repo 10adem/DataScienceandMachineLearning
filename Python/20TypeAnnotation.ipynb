{
 "cells": [
  {
   "cell_type": "code",
   "execution_count": 1,
   "id": "744bf170-7395-40e2-92b5-ec4723d8ea5a",
   "metadata": {},
   "outputs": [],
   "source": [
    "name : str = \"Adem\""
   ]
  },
  {
   "cell_type": "code",
   "execution_count": 2,
   "id": "e3b9be64-b439-40eb-a49a-e142f2244b40",
   "metadata": {},
   "outputs": [
    {
     "data": {
      "text/plain": [
       "str"
      ]
     },
     "execution_count": 2,
     "metadata": {},
     "output_type": "execute_result"
    }
   ],
   "source": [
    "type(name)"
   ]
  },
  {
   "cell_type": "code",
   "execution_count": 5,
   "id": "cf15b1df-25c0-4f84-9f85-1a6381816c77",
   "metadata": {},
   "outputs": [],
   "source": [
    "surname : str = 20 # dökümantasyon, kod okunabilirliğini artırmk amaçlanmış."
   ]
  },
  {
   "cell_type": "code",
   "execution_count": 6,
   "id": "0536929f-83e4-4cfd-84fe-f35546bdfc9f",
   "metadata": {},
   "outputs": [
    {
     "data": {
      "text/plain": [
       "int"
      ]
     },
     "execution_count": 6,
     "metadata": {},
     "output_type": "execute_result"
    }
   ],
   "source": [
    "type(surname)"
   ]
  },
  {
   "cell_type": "code",
   "execution_count": 8,
   "id": "68430c56-19aa-4a10-bea5-b1a9b817d02c",
   "metadata": {},
   "outputs": [],
   "source": [
    "name : str = \"Adem\"\n",
    "age : int = 22\n",
    "is_student : bool = False"
   ]
  },
  {
   "cell_type": "code",
   "execution_count": 9,
   "id": "5a9d355f-5c78-4f72-949c-f5c19b2fb2a0",
   "metadata": {},
   "outputs": [],
   "source": [
    "def add_numbers(a: int, b: int) -> int:\n",
    "    return a + b"
   ]
  },
  {
   "cell_type": "code",
   "execution_count": 10,
   "id": "5559ebe4-9a0b-463c-b398-a9c90ab18a5b",
   "metadata": {},
   "outputs": [
    {
     "data": {
      "text/plain": [
       "9"
      ]
     },
     "execution_count": 10,
     "metadata": {},
     "output_type": "execute_result"
    }
   ],
   "source": [
    "add_numbers(4, 5)"
   ]
  },
  {
   "cell_type": "code",
   "execution_count": 16,
   "id": "1c7bc77d-90e6-4c6f-8f77-3b88a300a65a",
   "metadata": {},
   "outputs": [],
   "source": [
    "# python 3.10 üstünde geçerli\n",
    "def process_value(value: int | str) -> str:\n",
    "    if isinstance(value, int):\n",
    "        return f\"processed integer: {value}\"\n",
    "    else:\n",
    "        return f\"processed string: {value}\""
   ]
  },
  {
   "cell_type": "code",
   "execution_count": 17,
   "id": "46e843bf-e225-4b5a-8011-f60500eeb071",
   "metadata": {},
   "outputs": [
    {
     "data": {
      "text/plain": [
       "'processed integer: 50'"
      ]
     },
     "execution_count": 17,
     "metadata": {},
     "output_type": "execute_result"
    }
   ],
   "source": [
    "process_value(50)"
   ]
  },
  {
   "cell_type": "code",
   "execution_count": 18,
   "id": "79953da6-edce-4a8f-8bc6-4406f6ce70a3",
   "metadata": {},
   "outputs": [
    {
     "data": {
      "text/plain": [
       "'processed string: adem'"
      ]
     },
     "execution_count": 18,
     "metadata": {},
     "output_type": "execute_result"
    }
   ],
   "source": [
    "process_value(\"adem\")"
   ]
  },
  {
   "cell_type": "code",
   "execution_count": 19,
   "id": "99a687d5-225e-4c6d-8cd1-8a9c27bb207e",
   "metadata": {},
   "outputs": [
    {
     "data": {
      "text/plain": [
       "'processed string: [10, 20, 30]'"
      ]
     },
     "execution_count": 19,
     "metadata": {},
     "output_type": "execute_result"
    }
   ],
   "source": [
    "process_value([10,20,30])"
   ]
  },
  {
   "cell_type": "code",
   "execution_count": 21,
   "id": "e7f7fb44-f02b-49b4-a738-711a5dad9e14",
   "metadata": {},
   "outputs": [],
   "source": [
    "# python 3.9 üstünde geçerli\n",
    "from typing import List\n",
    "\n",
    "def sum_list(numbers: List[int]) -> int:\n",
    "    return sum(numbers)"
   ]
  },
  {
   "cell_type": "code",
   "execution_count": 24,
   "id": "231806bf-ff71-4cc1-ba2b-f3506d7e98f0",
   "metadata": {},
   "outputs": [],
   "source": [
    "numbers = [1,2,3,4]\n",
    "total = sum_list(numbers)"
   ]
  },
  {
   "cell_type": "code",
   "execution_count": 25,
   "id": "ee1573de-1fb1-4a68-be50-b6135fd38976",
   "metadata": {},
   "outputs": [
    {
     "data": {
      "text/plain": [
       "10"
      ]
     },
     "execution_count": 25,
     "metadata": {},
     "output_type": "execute_result"
    }
   ],
   "source": [
    "total"
   ]
  },
  {
   "cell_type": "code",
   "execution_count": null,
   "id": "55ab2a80-095f-4d43-8955-9a575f33e65a",
   "metadata": {},
   "outputs": [],
   "source": []
  }
 ],
 "metadata": {
  "kernelspec": {
   "display_name": "Python 3 (ipykernel)",
   "language": "python",
   "name": "python3"
  },
  "language_info": {
   "codemirror_mode": {
    "name": "ipython",
    "version": 3
   },
   "file_extension": ".py",
   "mimetype": "text/x-python",
   "name": "python",
   "nbconvert_exporter": "python",
   "pygments_lexer": "ipython3",
   "version": "3.13.5"
  }
 },
 "nbformat": 4,
 "nbformat_minor": 5
}
