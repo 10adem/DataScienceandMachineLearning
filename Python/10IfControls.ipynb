{
 "cells": [
  {
   "cell_type": "code",
   "execution_count": 2,
   "id": "86569859-54c8-4826-8702-d785618ad530",
   "metadata": {},
   "outputs": [],
   "source": [
    "x = 5\n",
    "y = 2"
   ]
  },
  {
   "cell_type": "code",
   "execution_count": 3,
   "id": "cd9c7cb4-7b6d-41f7-9286-94d0ce26013d",
   "metadata": {},
   "outputs": [
    {
     "data": {
      "text/plain": [
       "True"
      ]
     },
     "execution_count": 3,
     "metadata": {},
     "output_type": "execute_result"
    }
   ],
   "source": [
    "x > y"
   ]
  },
  {
   "cell_type": "code",
   "execution_count": 4,
   "id": "a9445456-caf9-4eb2-8dec-a375ebba58b6",
   "metadata": {},
   "outputs": [
    {
     "data": {
      "text/plain": [
       "False"
      ]
     },
     "execution_count": 4,
     "metadata": {},
     "output_type": "execute_result"
    }
   ],
   "source": [
    "x < y"
   ]
  },
  {
   "cell_type": "code",
   "execution_count": 5,
   "id": "91b88a56-fb81-4f15-917a-649566e151ce",
   "metadata": {},
   "outputs": [
    {
     "data": {
      "text/plain": [
       "False"
      ]
     },
     "execution_count": 5,
     "metadata": {},
     "output_type": "execute_result"
    }
   ],
   "source": [
    "y > x"
   ]
  },
  {
   "cell_type": "code",
   "execution_count": 6,
   "id": "04651838-56a4-4b2f-9691-069a5147725f",
   "metadata": {},
   "outputs": [
    {
     "data": {
      "text/plain": [
       "True"
      ]
     },
     "execution_count": 6,
     "metadata": {},
     "output_type": "execute_result"
    }
   ],
   "source": [
    "y < x"
   ]
  },
  {
   "cell_type": "code",
   "execution_count": 7,
   "id": "cf59e6cf-7096-4b88-b9ca-34f7a0c451d6",
   "metadata": {},
   "outputs": [],
   "source": [
    "y = 5"
   ]
  },
  {
   "cell_type": "code",
   "execution_count": 8,
   "id": "ac097167-d37c-4ed4-9486-7b6f91f3a16d",
   "metadata": {},
   "outputs": [
    {
     "data": {
      "text/plain": [
       "True"
      ]
     },
     "execution_count": 8,
     "metadata": {},
     "output_type": "execute_result"
    }
   ],
   "source": [
    "x >= y"
   ]
  },
  {
   "cell_type": "code",
   "execution_count": 9,
   "id": "d9e427d6-0768-4ea3-a15d-6f2b1114de7e",
   "metadata": {},
   "outputs": [
    {
     "data": {
      "text/plain": [
       "True"
      ]
     },
     "execution_count": 9,
     "metadata": {},
     "output_type": "execute_result"
    }
   ],
   "source": [
    "x <= y"
   ]
  },
  {
   "cell_type": "code",
   "execution_count": 10,
   "id": "bade1cd3-d4b5-4810-86df-e793a053a55f",
   "metadata": {},
   "outputs": [
    {
     "data": {
      "text/plain": [
       "5"
      ]
     },
     "execution_count": 10,
     "metadata": {},
     "output_type": "execute_result"
    }
   ],
   "source": [
    "x"
   ]
  },
  {
   "cell_type": "code",
   "execution_count": 11,
   "id": "7db8b3b2-82b9-4302-8a2c-49d33cc04638",
   "metadata": {},
   "outputs": [
    {
     "data": {
      "text/plain": [
       "5"
      ]
     },
     "execution_count": 11,
     "metadata": {},
     "output_type": "execute_result"
    }
   ],
   "source": [
    "y"
   ]
  },
  {
   "cell_type": "code",
   "execution_count": 12,
   "id": "29410dab-98ef-4b60-b4c0-d90b7e22cbce",
   "metadata": {},
   "outputs": [
    {
     "data": {
      "text/plain": [
       "True"
      ]
     },
     "execution_count": 12,
     "metadata": {},
     "output_type": "execute_result"
    }
   ],
   "source": [
    "x >= 5.0"
   ]
  },
  {
   "cell_type": "code",
   "execution_count": 14,
   "id": "5e60d0e2-7a58-472f-b071-e054d19c8344",
   "metadata": {},
   "outputs": [
    {
     "data": {
      "text/plain": [
       "False"
      ]
     },
     "execution_count": 14,
     "metadata": {},
     "output_type": "execute_result"
    }
   ],
   "source": [
    "x >= 5.001"
   ]
  },
  {
   "cell_type": "code",
   "execution_count": 15,
   "id": "efea15a9-834b-4456-ae0d-c2bba2ddd8b9",
   "metadata": {},
   "outputs": [],
   "source": [
    "x = 10"
   ]
  },
  {
   "cell_type": "code",
   "execution_count": 16,
   "id": "71fc5a04-d336-4bf9-812d-59a88849a5d0",
   "metadata": {},
   "outputs": [],
   "source": [
    "y = 8"
   ]
  },
  {
   "cell_type": "code",
   "execution_count": 18,
   "id": "657e84a9-fb4b-4757-8889-6b7122b2c678",
   "metadata": {},
   "outputs": [],
   "source": [
    "x = y"
   ]
  },
  {
   "cell_type": "code",
   "execution_count": 19,
   "id": "4085b939-8d93-4b3f-a6af-2f53dbdfe1ad",
   "metadata": {},
   "outputs": [
    {
     "data": {
      "text/plain": [
       "8"
      ]
     },
     "execution_count": 19,
     "metadata": {},
     "output_type": "execute_result"
    }
   ],
   "source": [
    "x"
   ]
  },
  {
   "cell_type": "code",
   "execution_count": 20,
   "id": "4e38a225-b8e7-464a-ad80-b79aeab9df8f",
   "metadata": {},
   "outputs": [
    {
     "data": {
      "text/plain": [
       "8"
      ]
     },
     "execution_count": 20,
     "metadata": {},
     "output_type": "execute_result"
    }
   ],
   "source": [
    "y"
   ]
  },
  {
   "cell_type": "code",
   "execution_count": 21,
   "id": "dc8bb835-cf39-423a-9edc-6b524e631199",
   "metadata": {},
   "outputs": [],
   "source": [
    "x = 10"
   ]
  },
  {
   "cell_type": "code",
   "execution_count": 22,
   "id": "bee66c4b-b301-4ea4-9c49-b20155eabf09",
   "metadata": {},
   "outputs": [
    {
     "data": {
      "text/plain": [
       "8"
      ]
     },
     "execution_count": 22,
     "metadata": {},
     "output_type": "execute_result"
    }
   ],
   "source": [
    "y "
   ]
  },
  {
   "cell_type": "code",
   "execution_count": 23,
   "id": "ccbeb283-79e4-4dab-be3d-4b402d896074",
   "metadata": {},
   "outputs": [
    {
     "data": {
      "text/plain": [
       "False"
      ]
     },
     "execution_count": 23,
     "metadata": {},
     "output_type": "execute_result"
    }
   ],
   "source": [
    "x == y"
   ]
  },
  {
   "cell_type": "code",
   "execution_count": 24,
   "id": "1f8ae04e-a30c-4479-87c6-42462aa75ab7",
   "metadata": {},
   "outputs": [
    {
     "data": {
      "text/plain": [
       "True"
      ]
     },
     "execution_count": 24,
     "metadata": {},
     "output_type": "execute_result"
    }
   ],
   "source": [
    "x != y"
   ]
  },
  {
   "cell_type": "code",
   "execution_count": 25,
   "id": "5f3267a5-da27-4b91-be80-294c1548c605",
   "metadata": {},
   "outputs": [
    {
     "data": {
      "text/plain": [
       "True"
      ]
     },
     "execution_count": 25,
     "metadata": {},
     "output_type": "execute_result"
    }
   ],
   "source": [
    "2 > 1 and 3 > 2"
   ]
  },
  {
   "cell_type": "code",
   "execution_count": 26,
   "id": "eeb82b93-f531-4206-b140-ce824429cc59",
   "metadata": {},
   "outputs": [
    {
     "data": {
      "text/plain": [
       "False"
      ]
     },
     "execution_count": 26,
     "metadata": {},
     "output_type": "execute_result"
    }
   ],
   "source": [
    "2 > 1 and 3 < 2"
   ]
  },
  {
   "cell_type": "code",
   "execution_count": 27,
   "id": "d6ff73b7-662c-43aa-9acf-f25346e4657f",
   "metadata": {},
   "outputs": [
    {
     "data": {
      "text/plain": [
       "True"
      ]
     },
     "execution_count": 27,
     "metadata": {},
     "output_type": "execute_result"
    }
   ],
   "source": [
    "True and True"
   ]
  },
  {
   "cell_type": "code",
   "execution_count": 28,
   "id": "76f95f0c-4122-4b6d-b3bc-42465e6c51c8",
   "metadata": {},
   "outputs": [
    {
     "data": {
      "text/plain": [
       "False"
      ]
     },
     "execution_count": 28,
     "metadata": {},
     "output_type": "execute_result"
    }
   ],
   "source": [
    "True and False"
   ]
  },
  {
   "cell_type": "code",
   "execution_count": 29,
   "id": "0f1fe3cb-9a09-4e48-a71d-eb16ec6cdd60",
   "metadata": {},
   "outputs": [
    {
     "data": {
      "text/plain": [
       "False"
      ]
     },
     "execution_count": 29,
     "metadata": {},
     "output_type": "execute_result"
    }
   ],
   "source": [
    "False and False"
   ]
  },
  {
   "cell_type": "code",
   "execution_count": 30,
   "id": "855d9147-fad2-4c8c-b994-9dc1e33f945b",
   "metadata": {},
   "outputs": [
    {
     "data": {
      "text/plain": [
       "True"
      ]
     },
     "execution_count": 30,
     "metadata": {},
     "output_type": "execute_result"
    }
   ],
   "source": [
    "2 > 1 or 3 > 2"
   ]
  },
  {
   "cell_type": "code",
   "execution_count": 31,
   "id": "33f1e427-fec5-47a7-b047-99925f7e64fe",
   "metadata": {},
   "outputs": [
    {
     "data": {
      "text/plain": [
       "False"
      ]
     },
     "execution_count": 31,
     "metadata": {},
     "output_type": "execute_result"
    }
   ],
   "source": [
    "1 > 2 or 3 < 2"
   ]
  },
  {
   "cell_type": "code",
   "execution_count": 33,
   "id": "687f7460-502a-431a-ba74-ba8de5da3c05",
   "metadata": {},
   "outputs": [
    {
     "data": {
      "text/plain": [
       "False"
      ]
     },
     "execution_count": 33,
     "metadata": {},
     "output_type": "execute_result"
    }
   ],
   "source": [
    "not 1 == 1 # not tersine çevirir."
   ]
  },
  {
   "cell_type": "code",
   "execution_count": 34,
   "id": "d8b2696e-e631-4d6f-b2d6-0f6908a42589",
   "metadata": {},
   "outputs": [
    {
     "data": {
      "text/plain": [
       "True"
      ]
     },
     "execution_count": 34,
     "metadata": {},
     "output_type": "execute_result"
    }
   ],
   "source": [
    "10 in [10,20,30]"
   ]
  },
  {
   "cell_type": "code",
   "execution_count": 35,
   "id": "0addab5c-17d4-4cdb-8e89-18bfdfccaa0c",
   "metadata": {},
   "outputs": [
    {
     "data": {
      "text/plain": [
       "True"
      ]
     },
     "execution_count": 35,
     "metadata": {},
     "output_type": "execute_result"
    }
   ],
   "source": [
    "5 not in [10,20,30]"
   ]
  },
  {
   "cell_type": "code",
   "execution_count": 36,
   "id": "b560e49a-1d8b-421f-a350-61dfa7982174",
   "metadata": {},
   "outputs": [
    {
     "data": {
      "text/plain": [
       "False"
      ]
     },
     "execution_count": 36,
     "metadata": {},
     "output_type": "execute_result"
    }
   ],
   "source": [
    "5 in [10,20,30]"
   ]
  },
  {
   "cell_type": "code",
   "execution_count": 37,
   "id": "7e28adcb-3adb-4465-a075-6ccd0048f941",
   "metadata": {},
   "outputs": [
    {
     "data": {
      "text/plain": [
       "True"
      ]
     },
     "execution_count": 37,
     "metadata": {},
     "output_type": "execute_result"
    }
   ],
   "source": [
    "10 in {10,20,30}"
   ]
  },
  {
   "cell_type": "code",
   "execution_count": 38,
   "id": "2bad71f7-8c11-416a-aa10-d0b4aa77ef13",
   "metadata": {},
   "outputs": [],
   "source": [
    "my_dictionary = {\"a\": 10, \"b\":20, \"c\":30}"
   ]
  },
  {
   "cell_type": "code",
   "execution_count": 39,
   "id": "04822715-1a7f-479a-94f6-a930e14c39df",
   "metadata": {},
   "outputs": [
    {
     "data": {
      "text/plain": [
       "False"
      ]
     },
     "execution_count": 39,
     "metadata": {},
     "output_type": "execute_result"
    }
   ],
   "source": [
    "10 in my_dictionary"
   ]
  },
  {
   "cell_type": "code",
   "execution_count": 40,
   "id": "2bc7839d-5f48-4f9b-a09b-b96a2fc91677",
   "metadata": {},
   "outputs": [
    {
     "data": {
      "text/plain": [
       "True"
      ]
     },
     "execution_count": 40,
     "metadata": {},
     "output_type": "execute_result"
    }
   ],
   "source": [
    "10 in my_dictionary.values()"
   ]
  },
  {
   "cell_type": "code",
   "execution_count": 41,
   "id": "fd831cee-7634-4851-8c58-0eb3e0969d92",
   "metadata": {},
   "outputs": [
    {
     "data": {
      "text/plain": [
       "True"
      ]
     },
     "execution_count": 41,
     "metadata": {},
     "output_type": "execute_result"
    }
   ],
   "source": [
    "\"b\" in my_dictionary.keys()"
   ]
  },
  {
   "cell_type": "code",
   "execution_count": 42,
   "id": "a467c432-bb9f-4a84-a39b-c58c65ff82cb",
   "metadata": {},
   "outputs": [
    {
     "data": {
      "text/plain": [
       "True"
      ]
     },
     "execution_count": 42,
     "metadata": {},
     "output_type": "execute_result"
    }
   ],
   "source": [
    "10 in (10,20,30)"
   ]
  },
  {
   "cell_type": "code",
   "execution_count": 43,
   "id": "72681cc7-f3c6-4e5a-832d-1e4f81690fa1",
   "metadata": {},
   "outputs": [],
   "source": [
    "my_superhero = \"Batman\""
   ]
  },
  {
   "cell_type": "code",
   "execution_count": 44,
   "id": "3cdb1fad-d38b-49b2-9c8d-0f6edcccade0",
   "metadata": {},
   "outputs": [
    {
     "data": {
      "text/plain": [
       "True"
      ]
     },
     "execution_count": 44,
     "metadata": {},
     "output_type": "execute_result"
    }
   ],
   "source": [
    "my_superhero == \"Batman\""
   ]
  },
  {
   "cell_type": "code",
   "execution_count": 45,
   "id": "7529fd77-c326-4739-addc-63dd82dc466f",
   "metadata": {},
   "outputs": [
    {
     "data": {
      "text/plain": [
       "False"
      ]
     },
     "execution_count": 45,
     "metadata": {},
     "output_type": "execute_result"
    }
   ],
   "source": [
    "my_superhero == \"Superman\""
   ]
  },
  {
   "cell_type": "code",
   "execution_count": 46,
   "id": "0d5cd912-8ad5-4f2a-8eb6-a908664ad55e",
   "metadata": {},
   "outputs": [
    {
     "name": "stdout",
     "output_type": "stream",
     "text": [
      "Batman\n",
      "adem yildiz\n"
     ]
    }
   ],
   "source": [
    "if my_superhero == \"Batman\":\n",
    "    #indentation\n",
    "    print(\"Batman\")\n",
    "    print(\"adem yildiz\")"
   ]
  },
  {
   "cell_type": "code",
   "execution_count": 47,
   "id": "6c1f109f-462b-40da-bce8-3f46ac5015c1",
   "metadata": {},
   "outputs": [],
   "source": [
    "my_superhero = \"Superman\""
   ]
  },
  {
   "cell_type": "code",
   "execution_count": 48,
   "id": "2ecffa43-6e26-44aa-aad1-ce028891fe6c",
   "metadata": {},
   "outputs": [
    {
     "name": "stdout",
     "output_type": "stream",
     "text": [
      "hello python\n"
     ]
    }
   ],
   "source": [
    "if my_superhero == \"Batman\":\n",
    "    #indentation\n",
    "    print(\"Batman\")\n",
    "    print(\"adem yildiz\")\n",
    "#########---------#########\n",
    "print(\"hello python\")"
   ]
  },
  {
   "cell_type": "code",
   "execution_count": 49,
   "id": "e5d05864-2114-4366-af6a-6c069a493e04",
   "metadata": {},
   "outputs": [],
   "source": [
    "my_superhero = \"Batman\""
   ]
  },
  {
   "cell_type": "code",
   "execution_count": 50,
   "id": "ce861717-7167-4d0b-bb8c-5bc7c7805107",
   "metadata": {},
   "outputs": [
    {
     "name": "stdout",
     "output_type": "stream",
     "text": [
      "Batman\n",
      "adem yildiz\n",
      "hello python\n"
     ]
    }
   ],
   "source": [
    "if my_superhero == \"Batman\":\n",
    "    #indentation\n",
    "    print(\"Batman\")\n",
    "    print(\"adem yildiz\")\n",
    "#########---------#########\n",
    "print(\"hello python\")"
   ]
  },
  {
   "cell_type": "code",
   "execution_count": 51,
   "id": "2f1203c8-502e-41b0-8162-eb68480d4250",
   "metadata": {},
   "outputs": [
    {
     "name": "stdout",
     "output_type": "stream",
     "text": [
      "hello python\n",
      "adem\n"
     ]
    }
   ],
   "source": [
    "if 3 > 2:\n",
    "    print(\"hello python\")\n",
    "    print(\"adem\")"
   ]
  },
  {
   "cell_type": "code",
   "execution_count": 52,
   "id": "fa511c3e-7340-4ad6-a416-a7d925ad2652",
   "metadata": {},
   "outputs": [],
   "source": [
    "if 3 > 4:\n",
    "    print(\"hello python\")\n",
    "    print(\"adem\")"
   ]
  },
  {
   "cell_type": "code",
   "execution_count": 60,
   "id": "c069548c-5500-4e00-8698-2b80c4e89f57",
   "metadata": {},
   "outputs": [
    {
     "name": "stdin",
     "output_type": "stream",
     "text": [
      "enter superhero: Wonder Woman\n"
     ]
    }
   ],
   "source": [
    "enter_my_superhero = input(\"enter superhero:\")"
   ]
  },
  {
   "cell_type": "code",
   "execution_count": 61,
   "id": "2dfd8a05-f452-4f3b-bc6b-b9efd86615a3",
   "metadata": {},
   "outputs": [],
   "source": [
    "if enter_my_superhero == \"Superman\":\n",
    "    print(\"Superman\")\n",
    "elif enter_my_superhero == \"Batman\":\n",
    "    print(\"Batman\")\n",
    "elif enter_my_superhero == \"Aquaman\":\n",
    "    print(\"Aquaman\")\n",
    "elif enter_my_superhero == \"Ironman\":\n",
    "    print(\"Ironman\")"
   ]
  },
  {
   "cell_type": "code",
   "execution_count": 62,
   "id": "b53622a4-f929-48e3-a510-4d07fa3eed17",
   "metadata": {},
   "outputs": [
    {
     "name": "stdout",
     "output_type": "stream",
     "text": [
      ":(\n"
     ]
    }
   ],
   "source": [
    "if enter_my_superhero == \"Superman\":\n",
    "    print(\"Superman\")\n",
    "elif enter_my_superhero == \"Batman\":\n",
    "    print(\"Batman\")\n",
    "elif enter_my_superhero == \"Aquaman\":\n",
    "    print(\"Aquaman\")\n",
    "elif enter_my_superhero == \"Ironman\":\n",
    "    print(\"Ironman\")\n",
    "else:\n",
    "    print(\":(\")"
   ]
  },
  {
   "cell_type": "code",
   "execution_count": 67,
   "id": "bb7e5d93-c2cb-430e-97c0-522440b8ac5e",
   "metadata": {},
   "outputs": [],
   "source": [
    "my_age = 100"
   ]
  },
  {
   "cell_type": "code",
   "execution_count": 68,
   "id": "ff951f50-add4-4376-88e9-0894ee0bb523",
   "metadata": {},
   "outputs": [
    {
     "name": "stdout",
     "output_type": "stream",
     "text": [
      "age > 40\n"
     ]
    }
   ],
   "source": [
    "if my_age <= 18:\n",
    "    print(\"age <= 18\")\n",
    "elif my_age > 18 and my_age <= 30:\n",
    "    print(\"18 - age - 30\")\n",
    "elif my_age > 30 and my_age <= 40:\n",
    "    print(\"30 - age - 40\")\n",
    "else:\n",
    "    print(\"age > 40\")"
   ]
  },
  {
   "cell_type": "code",
   "execution_count": 76,
   "id": "2f7627fa-85c7-4a76-b131-47b499c343d4",
   "metadata": {},
   "outputs": [
    {
     "name": "stdin",
     "output_type": "stream",
     "text": [
      "enter superhero: Batman\n"
     ]
    }
   ],
   "source": [
    "enter_my_superhero = input(\"enter superhero:\")"
   ]
  },
  {
   "cell_type": "code",
   "execution_count": 77,
   "id": "a7006802-07b1-4edb-90dd-b6d70cd247b7",
   "metadata": {},
   "outputs": [],
   "source": [
    "my_superhero_list = [\"Spider Man\", \"Iron Man\", \"Thor\", \"Black Widow\"]"
   ]
  },
  {
   "cell_type": "code",
   "execution_count": 78,
   "id": "7d7e4531-4fda-49ae-9ee1-9f465880b274",
   "metadata": {},
   "outputs": [
    {
     "name": "stdout",
     "output_type": "stream",
     "text": [
      ":(\n"
     ]
    }
   ],
   "source": [
    "if enter_my_superhero in my_superhero_list:\n",
    "    print(\":)\")\n",
    "else:\n",
    "    print(\":(\")"
   ]
  },
  {
   "cell_type": "code",
   "execution_count": null,
   "id": "3047d31e-2888-4548-9bf2-87d424131d76",
   "metadata": {},
   "outputs": [],
   "source": []
  }
 ],
 "metadata": {
  "kernelspec": {
   "display_name": "Python 3 (ipykernel)",
   "language": "python",
   "name": "python3"
  },
  "language_info": {
   "codemirror_mode": {
    "name": "ipython",
    "version": 3
   },
   "file_extension": ".py",
   "mimetype": "text/x-python",
   "name": "python",
   "nbconvert_exporter": "python",
   "pygments_lexer": "ipython3",
   "version": "3.13.5"
  }
 },
 "nbformat": 4,
 "nbformat_minor": 5
}
