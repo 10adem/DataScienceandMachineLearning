{
 "cells": [
  {
   "cell_type": "code",
   "execution_count": 1,
   "id": "5fdc1474-28b1-4265-8a32-51c6629d5ef6",
   "metadata": {},
   "outputs": [
    {
     "name": "stdout",
     "output_type": "stream",
     "text": [
      "Writing myfile.txt\n"
     ]
    }
   ],
   "source": [
    "%%writefile myfile.txt\n",
    "test 1\n",
    "test 2\n",
    "test 3"
   ]
  },
  {
   "cell_type": "code",
   "execution_count": 2,
   "id": "13644e13-8a84-431e-8751-ef98ef3f5e9a",
   "metadata": {},
   "outputs": [],
   "source": [
    "myFile = open(\"myfile.txt\")"
   ]
  },
  {
   "cell_type": "code",
   "execution_count": 3,
   "id": "bfbd0274-1935-4602-964b-d9b6f6a1bab9",
   "metadata": {},
   "outputs": [
    {
     "data": {
      "text/plain": [
       "_io.TextIOWrapper"
      ]
     },
     "execution_count": 3,
     "metadata": {},
     "output_type": "execute_result"
    }
   ],
   "source": [
    "type(myFile)"
   ]
  },
  {
   "cell_type": "code",
   "execution_count": 6,
   "id": "d49320f0-b30e-4026-b513-2e4586e2f40a",
   "metadata": {},
   "outputs": [
    {
     "data": {
      "text/plain": [
       "'test 1\\ntest 2\\ntest 3\\n'"
      ]
     },
     "execution_count": 6,
     "metadata": {},
     "output_type": "execute_result"
    }
   ],
   "source": [
    "myFile.read()"
   ]
  },
  {
   "cell_type": "code",
   "execution_count": 7,
   "id": "b4547b0a-3ac2-4751-ba20-444b44ae9d76",
   "metadata": {},
   "outputs": [
    {
     "data": {
      "text/plain": [
       "''"
      ]
     },
     "execution_count": 7,
     "metadata": {},
     "output_type": "execute_result"
    }
   ],
   "source": [
    "myFile.read()"
   ]
  },
  {
   "cell_type": "code",
   "execution_count": 8,
   "id": "6dd0b422-d73a-42bf-b9ee-722c573706a6",
   "metadata": {},
   "outputs": [
    {
     "data": {
      "text/plain": [
       "0"
      ]
     },
     "execution_count": 8,
     "metadata": {},
     "output_type": "execute_result"
    }
   ],
   "source": [
    "myFile.seek(0)"
   ]
  },
  {
   "cell_type": "code",
   "execution_count": 9,
   "id": "4b8dbec5-1964-4fce-b00c-79c509d6b07a",
   "metadata": {},
   "outputs": [
    {
     "data": {
      "text/plain": [
       "'test 1\\ntest 2\\ntest 3\\n'"
      ]
     },
     "execution_count": 9,
     "metadata": {},
     "output_type": "execute_result"
    }
   ],
   "source": [
    "myFile.read()"
   ]
  },
  {
   "cell_type": "code",
   "execution_count": 10,
   "id": "63a78382-dab9-4e79-bb4f-ea8a36ee09c8",
   "metadata": {},
   "outputs": [
    {
     "data": {
      "text/plain": [
       "''"
      ]
     },
     "execution_count": 10,
     "metadata": {},
     "output_type": "execute_result"
    }
   ],
   "source": [
    "myFile.read()"
   ]
  },
  {
   "cell_type": "code",
   "execution_count": 11,
   "id": "87f7ad4f-8d8a-4e0e-85d2-863cdc701a45",
   "metadata": {},
   "outputs": [],
   "source": [
    "myFile.close()"
   ]
  },
  {
   "cell_type": "code",
   "execution_count": 12,
   "id": "20255725-6b67-47c9-9414-69464fb2040d",
   "metadata": {},
   "outputs": [],
   "source": [
    "with open(\"myfile.txt\") as myFile:\n",
    "    myContent = myFile.read()"
   ]
  },
  {
   "cell_type": "code",
   "execution_count": 13,
   "id": "db773cd0-0d31-4502-89af-6fa654066095",
   "metadata": {},
   "outputs": [
    {
     "data": {
      "text/plain": [
       "'test 1\\ntest 2\\ntest 3\\n'"
      ]
     },
     "execution_count": 13,
     "metadata": {},
     "output_type": "execute_result"
    }
   ],
   "source": [
    "myContent"
   ]
  },
  {
   "cell_type": "code",
   "execution_count": 14,
   "id": "e56b1f58-0927-4a98-9702-960b7b928002",
   "metadata": {},
   "outputs": [
    {
     "data": {
      "text/plain": [
       "'test 1\\ntest 2\\ntest 3\\n'"
      ]
     },
     "execution_count": 14,
     "metadata": {},
     "output_type": "execute_result"
    }
   ],
   "source": [
    "myContent"
   ]
  },
  {
   "cell_type": "code",
   "execution_count": 15,
   "id": "692c9d84-c1b0-40a7-bee6-4d2fe9a66b48",
   "metadata": {},
   "outputs": [],
   "source": [
    "with open(\"myfile.txt\", mode=\"w\") as myNewFile:\n",
    "    myNewFile.write(\"test 4\")"
   ]
  },
  {
   "cell_type": "code",
   "execution_count": 16,
   "id": "a015dec3-e788-4cb7-8ce1-dcfe432313a6",
   "metadata": {},
   "outputs": [
    {
     "data": {
      "text/plain": [
       "<_io.TextIOWrapper name='myfile.txt' mode='w' encoding='cp1254'>"
      ]
     },
     "execution_count": 16,
     "metadata": {},
     "output_type": "execute_result"
    }
   ],
   "source": [
    "myNewFile"
   ]
  },
  {
   "cell_type": "code",
   "execution_count": 17,
   "id": "cf2bd3db-f989-453e-afbe-dad50c9d6b99",
   "metadata": {},
   "outputs": [],
   "source": [
    "with open(\"myfile.txt\", mode=\"r\") as myFile2:\n",
    "    myContent = myFile2.read()"
   ]
  },
  {
   "cell_type": "code",
   "execution_count": 18,
   "id": "2fa9f65e-c914-47fa-8a7e-83a2e0207efe",
   "metadata": {},
   "outputs": [
    {
     "data": {
      "text/plain": [
       "'test 4'"
      ]
     },
     "execution_count": 18,
     "metadata": {},
     "output_type": "execute_result"
    }
   ],
   "source": [
    "myContent"
   ]
  },
  {
   "cell_type": "markdown",
   "id": "e61936d2-3585-43b4-87f6-576a2012b4b3",
   "metadata": {},
   "source": [
    "# w -> write, r -> read, a -> append"
   ]
  },
  {
   "cell_type": "code",
   "execution_count": 21,
   "id": "7560c65d-e6ab-466f-86bb-d88a5c7da16a",
   "metadata": {},
   "outputs": [],
   "source": [
    "with open(\"myfile.txt\", mode=\"a\") as myNewFile3:\n",
    "    myNewFile3.write(\"test 5\")"
   ]
  },
  {
   "cell_type": "code",
   "execution_count": 23,
   "id": "65caa0ce-82c3-4412-b6ea-e59715c3c041",
   "metadata": {},
   "outputs": [],
   "source": [
    "with open(\"myfile.txt\", mode=\"r\") as myNewFile4:\n",
    "    myContent = myNewFile4.read()"
   ]
  },
  {
   "cell_type": "code",
   "execution_count": 24,
   "id": "3a7c1afb-e1ea-41b0-963d-b61bf090674d",
   "metadata": {},
   "outputs": [
    {
     "data": {
      "text/plain": [
       "'test 4test 4test 5'"
      ]
     },
     "execution_count": 24,
     "metadata": {},
     "output_type": "execute_result"
    }
   ],
   "source": [
    "myContent"
   ]
  },
  {
   "cell_type": "code",
   "execution_count": null,
   "id": "ad76b417-9b4e-44d0-b016-49e8aeb63507",
   "metadata": {},
   "outputs": [],
   "source": []
  }
 ],
 "metadata": {
  "kernelspec": {
   "display_name": "Python 3 (ipykernel)",
   "language": "python",
   "name": "python3"
  },
  "language_info": {
   "codemirror_mode": {
    "name": "ipython",
    "version": 3
   },
   "file_extension": ".py",
   "mimetype": "text/x-python",
   "name": "python",
   "nbconvert_exporter": "python",
   "pygments_lexer": "ipython3",
   "version": "3.13.5"
  }
 },
 "nbformat": 4,
 "nbformat_minor": 5
}
