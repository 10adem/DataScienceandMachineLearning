{
 "cells": [
  {
   "cell_type": "markdown",
   "id": "57219f55-d351-4e07-937f-3649a7a481f2",
   "metadata": {},
   "source": [
    "String"
   ]
  },
  {
   "cell_type": "code",
   "execution_count": 1,
   "id": "a9f4d166-ce9e-40c1-8026-cb45c4cde72e",
   "metadata": {},
   "outputs": [
    {
     "ename": "SyntaxError",
     "evalue": "invalid syntax (3537592377.py, line 1)",
     "output_type": "error",
     "traceback": [
      "\u001b[1;36m  Cell \u001b[1;32mIn[1], line 1\u001b[1;36m\u001b[0m\n\u001b[1;33m    hello world\u001b[0m\n\u001b[1;37m          ^\u001b[0m\n\u001b[1;31mSyntaxError\u001b[0m\u001b[1;31m:\u001b[0m invalid syntax\n"
     ]
    }
   ],
   "source": [
    "hello world"
   ]
  },
  {
   "cell_type": "code",
   "execution_count": 2,
   "id": "6e366340-740b-490f-9dcb-c58f9e4a2d59",
   "metadata": {},
   "outputs": [
    {
     "data": {
      "text/plain": [
       "'hello world'"
      ]
     },
     "execution_count": 2,
     "metadata": {},
     "output_type": "execute_result"
    }
   ],
   "source": [
    "\"hello world\""
   ]
  },
  {
   "cell_type": "code",
   "execution_count": 3,
   "id": "c9344d37-05c7-4dbf-a053-b75bee8b340e",
   "metadata": {},
   "outputs": [
    {
     "name": "stdout",
     "output_type": "stream",
     "text": [
      "hello world\n"
     ]
    }
   ],
   "source": [
    "print(\"hello world\")"
   ]
  },
  {
   "cell_type": "code",
   "execution_count": 5,
   "id": "c860d096-1b80-4ee8-8065-20d5caaac061",
   "metadata": {},
   "outputs": [
    {
     "name": "stdout",
     "output_type": "stream",
     "text": [
      "hello python\n"
     ]
    }
   ],
   "source": [
    "print(\"hello python\")"
   ]
  },
  {
   "cell_type": "code",
   "execution_count": 6,
   "id": "08393d3a-04c7-4e4a-94c5-6754229e083c",
   "metadata": {},
   "outputs": [],
   "source": [
    "name = \"adem\""
   ]
  },
  {
   "cell_type": "code",
   "execution_count": 8,
   "id": "03556418-5623-44ef-8e25-6ad17986a44c",
   "metadata": {},
   "outputs": [
    {
     "data": {
      "text/plain": [
       "str"
      ]
     },
     "execution_count": 8,
     "metadata": {},
     "output_type": "execute_result"
    }
   ],
   "source": [
    "type(name)"
   ]
  },
  {
   "cell_type": "code",
   "execution_count": 9,
   "id": "cc3c2f8c-a199-4726-9b9f-a4ac580d0503",
   "metadata": {},
   "outputs": [
    {
     "data": {
      "text/plain": [
       "'adem yildiz'"
      ]
     },
     "execution_count": 9,
     "metadata": {},
     "output_type": "execute_result"
    }
   ],
   "source": [
    "'adem yildiz'"
   ]
  },
  {
   "cell_type": "code",
   "execution_count": 10,
   "id": "d3325b4c-9ea9-4e9b-8f2f-ea3f298123e5",
   "metadata": {},
   "outputs": [
    {
     "data": {
      "text/plain": [
       "'adem yildiz'"
      ]
     },
     "execution_count": 10,
     "metadata": {},
     "output_type": "execute_result"
    }
   ],
   "source": [
    "\"adem yildiz\""
   ]
  },
  {
   "cell_type": "code",
   "execution_count": 11,
   "id": "8b5dcbd9-4b6e-4291-a6a8-2835c7833b7d",
   "metadata": {},
   "outputs": [
    {
     "data": {
      "text/plain": [
       "\"adem's restaurant\""
      ]
     },
     "execution_count": 11,
     "metadata": {},
     "output_type": "execute_result"
    }
   ],
   "source": [
    "\"adem's restaurant\""
   ]
  },
  {
   "cell_type": "code",
   "execution_count": 1,
   "id": "5f9b492a-74f1-4ce0-8449-1afe494d8c78",
   "metadata": {},
   "outputs": [],
   "source": [
    "name = \"adem\""
   ]
  },
  {
   "cell_type": "code",
   "execution_count": 2,
   "id": "83a13c21-f926-45c5-9f44-418183789393",
   "metadata": {},
   "outputs": [
    {
     "data": {
      "text/plain": [
       "str"
      ]
     },
     "execution_count": 2,
     "metadata": {},
     "output_type": "execute_result"
    }
   ],
   "source": [
    "type(name)"
   ]
  },
  {
   "cell_type": "code",
   "execution_count": 3,
   "id": "d8226dbc-9cc1-4851-9fd8-9464f159fd43",
   "metadata": {},
   "outputs": [],
   "source": [
    "name = \"adem yildiz\""
   ]
  },
  {
   "cell_type": "code",
   "execution_count": 5,
   "id": "ef1e322f-b50b-4d44-a48c-74294cf34d4c",
   "metadata": {},
   "outputs": [
    {
     "data": {
      "text/plain": [
       "'Adem yildiz'"
      ]
     },
     "execution_count": 5,
     "metadata": {},
     "output_type": "execute_result"
    }
   ],
   "source": [
    "name.capitalize() # İlk harfini büyük yaz"
   ]
  },
  {
   "cell_type": "code",
   "execution_count": 6,
   "id": "bad7397b-bb8b-4ec3-8444-e0e42541173c",
   "metadata": {},
   "outputs": [
    {
     "data": {
      "text/plain": [
       "<function str.capitalize()>"
      ]
     },
     "execution_count": 6,
     "metadata": {},
     "output_type": "execute_result"
    }
   ],
   "source": [
    "name.capitalize"
   ]
  },
  {
   "cell_type": "code",
   "execution_count": 7,
   "id": "35e8d5c3-3351-42e3-b7b6-e90d656cf0d0",
   "metadata": {},
   "outputs": [],
   "source": [
    "x = 10"
   ]
  },
  {
   "cell_type": "code",
   "execution_count": 9,
   "id": "25fd612f-828f-4a5a-8614-34c79b179c59",
   "metadata": {},
   "outputs": [],
   "source": [
    "x = 8"
   ]
  },
  {
   "cell_type": "code",
   "execution_count": 10,
   "id": "3119e606-c531-4f55-89cd-61f291c66e8e",
   "metadata": {},
   "outputs": [
    {
     "data": {
      "text/plain": [
       "'adem yildiz'"
      ]
     },
     "execution_count": 10,
     "metadata": {},
     "output_type": "execute_result"
    }
   ],
   "source": [
    "name"
   ]
  },
  {
   "cell_type": "code",
   "execution_count": 12,
   "id": "ad5e467f-9580-4eb6-b9c8-9ec295ac1826",
   "metadata": {},
   "outputs": [
    {
     "name": "stdout",
     "output_type": "stream",
     "text": [
      "Help on built-in function count:\n",
      "\n",
      "count(sub[, start[, end]], /) method of builtins.str instance\n",
      "    Return the number of non-overlapping occurrences of substring sub in string S[start:end].\n",
      "\n",
      "    Optional arguments start and end are interpreted as in slice notation.\n",
      "\n"
     ]
    }
   ],
   "source": [
    "help(name.count)"
   ]
  },
  {
   "cell_type": "code",
   "execution_count": 13,
   "id": "4a6fceca-55ec-4529-85bf-8762d5d6a93e",
   "metadata": {},
   "outputs": [
    {
     "name": "stdout",
     "output_type": "stream",
     "text": [
      "Help on built-in function capitalize:\n",
      "\n",
      "capitalize() method of builtins.str instance\n",
      "    Return a capitalized version of the string.\n",
      "\n",
      "    More specifically, make the first character have upper case and the rest lower\n",
      "    case.\n",
      "\n"
     ]
    }
   ],
   "source": [
    "help(name.capitalize)"
   ]
  },
  {
   "cell_type": "code",
   "execution_count": 14,
   "id": "4030ac73-2edc-4390-b9fe-342c0d7a9c75",
   "metadata": {},
   "outputs": [
    {
     "data": {
      "text/plain": [
       "1"
      ]
     },
     "execution_count": 14,
     "metadata": {},
     "output_type": "execute_result"
    }
   ],
   "source": [
    "name.count(\"a\")"
   ]
  },
  {
   "cell_type": "code",
   "execution_count": 15,
   "id": "a320bf18-20cd-4bd8-b8c3-3dc504a87093",
   "metadata": {},
   "outputs": [
    {
     "data": {
      "text/plain": [
       "0"
      ]
     },
     "execution_count": 15,
     "metadata": {},
     "output_type": "execute_result"
    }
   ],
   "source": [
    "name.count(\"b\")"
   ]
  },
  {
   "cell_type": "code",
   "execution_count": 16,
   "id": "e5d63852-9f29-44a3-86c5-3e67a6d462f6",
   "metadata": {},
   "outputs": [
    {
     "data": {
      "text/plain": [
       "'ADEM YILDIZ'"
      ]
     },
     "execution_count": 16,
     "metadata": {},
     "output_type": "execute_result"
    }
   ],
   "source": [
    "name.upper()"
   ]
  },
  {
   "cell_type": "code",
   "execution_count": 17,
   "id": "7cbdf810-6ac2-4652-8216-804e8f1670d8",
   "metadata": {},
   "outputs": [
    {
     "data": {
      "text/plain": [
       "'adem yildiz'"
      ]
     },
     "execution_count": 17,
     "metadata": {},
     "output_type": "execute_result"
    }
   ],
   "source": [
    "name"
   ]
  },
  {
   "cell_type": "code",
   "execution_count": 19,
   "id": "ad88930d-cd56-4f6a-9e11-ee2cf85b791e",
   "metadata": {},
   "outputs": [],
   "source": [
    "x = 10\n",
    "y = 5"
   ]
  },
  {
   "cell_type": "code",
   "execution_count": 20,
   "id": "c3440e1f-dcf0-44df-a802-7f2df888f5b4",
   "metadata": {},
   "outputs": [
    {
     "data": {
      "text/plain": [
       "15"
      ]
     },
     "execution_count": 20,
     "metadata": {},
     "output_type": "execute_result"
    }
   ],
   "source": [
    "x + y "
   ]
  },
  {
   "cell_type": "code",
   "execution_count": 21,
   "id": "1b5a124c-2e02-4878-b936-199165e6d6cf",
   "metadata": {},
   "outputs": [],
   "source": [
    "z = x + y"
   ]
  },
  {
   "cell_type": "code",
   "execution_count": 22,
   "id": "f9f269eb-914b-4286-86ea-cebe758a7152",
   "metadata": {},
   "outputs": [
    {
     "data": {
      "text/plain": [
       "15"
      ]
     },
     "execution_count": 22,
     "metadata": {},
     "output_type": "execute_result"
    }
   ],
   "source": [
    "z"
   ]
  },
  {
   "cell_type": "code",
   "execution_count": 23,
   "id": "a8a71fdf-44bd-48d3-9338-47367ec673f7",
   "metadata": {},
   "outputs": [
    {
     "data": {
      "text/plain": [
       "'adem yildiz'"
      ]
     },
     "execution_count": 23,
     "metadata": {},
     "output_type": "execute_result"
    }
   ],
   "source": [
    "name"
   ]
  },
  {
   "cell_type": "code",
   "execution_count": 24,
   "id": "982766c8-a63a-4191-9529-46938771ef18",
   "metadata": {},
   "outputs": [],
   "source": [
    "nameUpper = name.upper()"
   ]
  },
  {
   "cell_type": "code",
   "execution_count": 25,
   "id": "5977b38d-76be-4d54-8749-b51af4e1bae5",
   "metadata": {},
   "outputs": [
    {
     "data": {
      "text/plain": [
       "'ADEM YILDIZ'"
      ]
     },
     "execution_count": 25,
     "metadata": {},
     "output_type": "execute_result"
    }
   ],
   "source": [
    "nameUpper"
   ]
  },
  {
   "cell_type": "code",
   "execution_count": 26,
   "id": "f6762837-1abe-46ce-872e-8d0b8e541ac6",
   "metadata": {},
   "outputs": [
    {
     "data": {
      "text/plain": [
       "'adem yildiz'"
      ]
     },
     "execution_count": 26,
     "metadata": {},
     "output_type": "execute_result"
    }
   ],
   "source": [
    "name"
   ]
  },
  {
   "cell_type": "code",
   "execution_count": 27,
   "id": "c0fdcb6c-d301-4ed2-9d6e-2b6eab384d0c",
   "metadata": {},
   "outputs": [
    {
     "name": "stdout",
     "output_type": "stream",
     "text": [
      "ADEM YILDIZ\n"
     ]
    }
   ],
   "source": [
    "print(name.upper())"
   ]
  },
  {
   "cell_type": "code",
   "execution_count": 28,
   "id": "a6e57706-3433-43a9-bfbc-7feddce0c404",
   "metadata": {},
   "outputs": [
    {
     "name": "stdout",
     "output_type": "stream",
     "text": [
      "Help on built-in function upper:\n",
      "\n",
      "upper() method of builtins.str instance\n",
      "    Return a copy of the string converted to uppercase.\n",
      "\n"
     ]
    }
   ],
   "source": [
    "help(name.upper)"
   ]
  },
  {
   "cell_type": "code",
   "execution_count": 29,
   "id": "c5b382d7-3766-493a-a1a0-de521df033ac",
   "metadata": {},
   "outputs": [
    {
     "data": {
      "text/plain": [
       "11"
      ]
     },
     "execution_count": 29,
     "metadata": {},
     "output_type": "execute_result"
    }
   ],
   "source": [
    "len(name) # length"
   ]
  },
  {
   "cell_type": "code",
   "execution_count": 30,
   "id": "f4e7b1fe-ea4c-4fb3-abe6-2f58e3d72eda",
   "metadata": {},
   "outputs": [
    {
     "name": "stdout",
     "output_type": "stream",
     "text": [
      "adem yildiz\n"
     ]
    }
   ],
   "source": [
    "print(\"adem yildiz\")"
   ]
  },
  {
   "cell_type": "code",
   "execution_count": 31,
   "id": "ad9dda00-fbb1-40e9-99b1-b0c16af77d73",
   "metadata": {},
   "outputs": [
    {
     "name": "stdout",
     "output_type": "stream",
     "text": [
      "adem \n",
      "yildiz\n"
     ]
    }
   ],
   "source": [
    "print(\"adem \\nyildiz\")"
   ]
  },
  {
   "cell_type": "code",
   "execution_count": 32,
   "id": "cd436b48-2ff7-4b16-9ebd-97ef7059383d",
   "metadata": {},
   "outputs": [],
   "source": [
    "# \\n -> new line"
   ]
  },
  {
   "cell_type": "code",
   "execution_count": 33,
   "id": "908c8afd-62d3-49b7-a4c3-a6f69f49371d",
   "metadata": {},
   "outputs": [],
   "source": [
    "# escape characters"
   ]
  },
  {
   "cell_type": "code",
   "execution_count": 34,
   "id": "3195c74c-b0a3-4b71-93db-8642dd70fd2a",
   "metadata": {},
   "outputs": [],
   "source": [
    "# |t -> tab"
   ]
  },
  {
   "cell_type": "code",
   "execution_count": 35,
   "id": "15c5918b-99a1-40ef-b91c-11903a4b5ca4",
   "metadata": {},
   "outputs": [
    {
     "name": "stdout",
     "output_type": "stream",
     "text": [
      "adem \tyildiz\n"
     ]
    }
   ],
   "source": [
    "print(\"adem \\tyildiz\")"
   ]
  },
  {
   "cell_type": "markdown",
   "id": "205f3a38-5b8d-4d63-b996-f9981e1fd91a",
   "metadata": {},
   "source": [
    "# index"
   ]
  },
  {
   "cell_type": "code",
   "execution_count": 36,
   "id": "1866dba7-399a-4ffa-96fe-f8eee2e23c2a",
   "metadata": {},
   "outputs": [],
   "source": [
    "myString = \"hello python\""
   ]
  },
  {
   "cell_type": "code",
   "execution_count": 37,
   "id": "b51da423-6a0a-4f47-bd9d-d701b941364f",
   "metadata": {},
   "outputs": [
    {
     "data": {
      "text/plain": [
       "'hello python'"
      ]
     },
     "execution_count": 37,
     "metadata": {},
     "output_type": "execute_result"
    }
   ],
   "source": [
    "myString"
   ]
  },
  {
   "cell_type": "code",
   "execution_count": 38,
   "id": "5be92e6c-4605-4e1e-80c2-b5dbc8afc813",
   "metadata": {},
   "outputs": [
    {
     "data": {
      "text/plain": [
       "'o'"
      ]
     },
     "execution_count": 38,
     "metadata": {},
     "output_type": "execute_result"
    }
   ],
   "source": [
    "myString[4]"
   ]
  },
  {
   "cell_type": "code",
   "execution_count": 39,
   "id": "d32c1529-6181-48d8-a5ab-23d2395d9cd3",
   "metadata": {},
   "outputs": [
    {
     "data": {
      "text/plain": [
       "'h'"
      ]
     },
     "execution_count": 39,
     "metadata": {},
     "output_type": "execute_result"
    }
   ],
   "source": [
    "myString[0]"
   ]
  },
  {
   "cell_type": "code",
   "execution_count": 40,
   "id": "85db0758-846c-4c76-8b90-ad9c19116784",
   "metadata": {},
   "outputs": [
    {
     "data": {
      "text/plain": [
       "'e'"
      ]
     },
     "execution_count": 40,
     "metadata": {},
     "output_type": "execute_result"
    }
   ],
   "source": [
    "myString[1]"
   ]
  },
  {
   "cell_type": "code",
   "execution_count": 41,
   "id": "e7f188ec-c0ff-4430-bbc8-e7aaf15db58b",
   "metadata": {},
   "outputs": [
    {
     "data": {
      "text/plain": [
       "'n'"
      ]
     },
     "execution_count": 41,
     "metadata": {},
     "output_type": "execute_result"
    }
   ],
   "source": [
    "myString[11]"
   ]
  },
  {
   "cell_type": "code",
   "execution_count": 42,
   "id": "ed9ce026-c670-4c44-872c-cab51509dbd5",
   "metadata": {},
   "outputs": [
    {
     "ename": "IndexError",
     "evalue": "string index out of range",
     "output_type": "error",
     "traceback": [
      "\u001b[1;31m---------------------------------------------------------------------------\u001b[0m",
      "\u001b[1;31mIndexError\u001b[0m                                Traceback (most recent call last)",
      "Cell \u001b[1;32mIn[42], line 1\u001b[0m\n\u001b[1;32m----> 1\u001b[0m myString[\u001b[38;5;241m12\u001b[39m]\n",
      "\u001b[1;31mIndexError\u001b[0m: string index out of range"
     ]
    }
   ],
   "source": [
    "myString[12]"
   ]
  },
  {
   "cell_type": "code",
   "execution_count": 43,
   "id": "a87b966f-e5e2-4644-afd6-681d968f0de8",
   "metadata": {},
   "outputs": [
    {
     "data": {
      "text/plain": [
       "'o'"
      ]
     },
     "execution_count": 43,
     "metadata": {},
     "output_type": "execute_result"
    }
   ],
   "source": [
    "myString[10]"
   ]
  },
  {
   "cell_type": "code",
   "execution_count": 44,
   "id": "237cd046-2f5c-4360-8d53-37efa425b737",
   "metadata": {},
   "outputs": [],
   "source": [
    "myString = \"adem yildiz\""
   ]
  },
  {
   "cell_type": "code",
   "execution_count": 45,
   "id": "d083700c-0d5d-4205-8b54-e297347006b2",
   "metadata": {},
   "outputs": [
    {
     "data": {
      "text/plain": [
       "'a'"
      ]
     },
     "execution_count": 45,
     "metadata": {},
     "output_type": "execute_result"
    }
   ],
   "source": [
    "myString[0]"
   ]
  },
  {
   "cell_type": "code",
   "execution_count": 47,
   "id": "0f6f054a-d5bf-4b34-9488-8dfefd1a49cf",
   "metadata": {},
   "outputs": [
    {
     "data": {
      "text/plain": [
       "'z'"
      ]
     },
     "execution_count": 47,
     "metadata": {},
     "output_type": "execute_result"
    }
   ],
   "source": [
    "myString[10]"
   ]
  },
  {
   "cell_type": "code",
   "execution_count": 48,
   "id": "95d65d9a-ee8e-4c66-85a4-fcbaa134f4f2",
   "metadata": {},
   "outputs": [
    {
     "data": {
      "text/plain": [
       "11"
      ]
     },
     "execution_count": 48,
     "metadata": {},
     "output_type": "execute_result"
    }
   ],
   "source": [
    "len(myString)"
   ]
  },
  {
   "cell_type": "code",
   "execution_count": 49,
   "id": "425fe2c7-4166-4ea9-9f5d-758a1aaabfb1",
   "metadata": {},
   "outputs": [
    {
     "data": {
      "text/plain": [
       "10"
      ]
     },
     "execution_count": 49,
     "metadata": {},
     "output_type": "execute_result"
    }
   ],
   "source": [
    "len(myString) - 1"
   ]
  },
  {
   "cell_type": "code",
   "execution_count": 50,
   "id": "effed09e-ec1b-49ab-a86d-4eeee8e82b82",
   "metadata": {},
   "outputs": [],
   "source": [
    "myName = \"Jack Sparrow\""
   ]
  },
  {
   "cell_type": "code",
   "execution_count": 51,
   "id": "4da77869-124e-42e3-8df1-6c9f4f68ae58",
   "metadata": {},
   "outputs": [
    {
     "data": {
      "text/plain": [
       "11"
      ]
     },
     "execution_count": 51,
     "metadata": {},
     "output_type": "execute_result"
    }
   ],
   "source": [
    "len(myName) - 1"
   ]
  },
  {
   "cell_type": "code",
   "execution_count": 56,
   "id": "59a9e969-877b-417a-8229-85aea67fbd0f",
   "metadata": {},
   "outputs": [
    {
     "data": {
      "text/plain": [
       "'w'"
      ]
     },
     "execution_count": 56,
     "metadata": {},
     "output_type": "execute_result"
    }
   ],
   "source": [
    "myName[len(myName) - 1] # Yukarıda ki ismin en son harfini getir."
   ]
  },
  {
   "cell_type": "code",
   "execution_count": 57,
   "id": "7496512a-4562-418d-a94e-0ba8e08be339",
   "metadata": {},
   "outputs": [
    {
     "data": {
      "text/plain": [
       "'w'"
      ]
     },
     "execution_count": 57,
     "metadata": {},
     "output_type": "execute_result"
    }
   ],
   "source": [
    "myName[-1] # Bu da python da son harfi getşrmek için kullanılır. Yukarıda kim işlemin aynısıdır."
   ]
  },
  {
   "cell_type": "code",
   "execution_count": 58,
   "id": "bdd88248-e235-4a58-aae6-d15492737696",
   "metadata": {},
   "outputs": [
    {
     "data": {
      "text/plain": [
       "'o'"
      ]
     },
     "execution_count": 58,
     "metadata": {},
     "output_type": "execute_result"
    }
   ],
   "source": [
    "myName[-2]"
   ]
  },
  {
   "cell_type": "markdown",
   "id": "df49a08e-10e4-4dca-9f6e-62b8689ede4f",
   "metadata": {},
   "source": [
    "# slicing"
   ]
  },
  {
   "cell_type": "code",
   "execution_count": 15,
   "id": "4e4dc1a5-5667-41cd-a33d-565709716e0f",
   "metadata": {},
   "outputs": [],
   "source": [
    "barcode = \"ABCDE123123982\""
   ]
  },
  {
   "cell_type": "code",
   "execution_count": 60,
   "id": "95448dbd-60eb-4246-865d-fd376442c5ec",
   "metadata": {},
   "outputs": [
    {
     "data": {
      "text/plain": [
       "'A'"
      ]
     },
     "execution_count": 60,
     "metadata": {},
     "output_type": "execute_result"
    }
   ],
   "source": [
    "barcode[0]"
   ]
  },
  {
   "cell_type": "code",
   "execution_count": 61,
   "id": "b60bfc21-88f6-486d-95f2-aa24d60fc724",
   "metadata": {},
   "outputs": [
    {
     "data": {
      "text/plain": [
       "'B'"
      ]
     },
     "execution_count": 61,
     "metadata": {},
     "output_type": "execute_result"
    }
   ],
   "source": [
    "barcode[1]"
   ]
  },
  {
   "cell_type": "code",
   "execution_count": 62,
   "id": "7486a6b4-14d4-4c34-8992-7d143f9c0ced",
   "metadata": {},
   "outputs": [
    {
     "data": {
      "text/plain": [
       "'C'"
      ]
     },
     "execution_count": 62,
     "metadata": {},
     "output_type": "execute_result"
    }
   ],
   "source": [
    "barcode[2]"
   ]
  },
  {
   "cell_type": "code",
   "execution_count": 63,
   "id": "d5c9e343-2fa3-4849-98d4-ddc2edb22c8a",
   "metadata": {},
   "outputs": [
    {
     "data": {
      "text/plain": [
       "30"
      ]
     },
     "execution_count": 63,
     "metadata": {},
     "output_type": "execute_result"
    }
   ],
   "source": [
    "10 + 20"
   ]
  },
  {
   "cell_type": "code",
   "execution_count": 64,
   "id": "85ba1f7f-e22a-4fb1-ba15-0c552c164855",
   "metadata": {},
   "outputs": [
    {
     "data": {
      "text/plain": [
       "'AB'"
      ]
     },
     "execution_count": 64,
     "metadata": {},
     "output_type": "execute_result"
    }
   ],
   "source": [
    "\"A\" + \"B\""
   ]
  },
  {
   "cell_type": "code",
   "execution_count": 2,
   "id": "b2fdec7b-f022-47b0-8209-a26609e9ad83",
   "metadata": {},
   "outputs": [],
   "source": [
    "name = \"adem\""
   ]
  },
  {
   "cell_type": "code",
   "execution_count": 3,
   "id": "b09adbc6-f05e-42cf-820c-cfccab7216d9",
   "metadata": {},
   "outputs": [],
   "source": [
    "surname = \"yildiz\""
   ]
  },
  {
   "cell_type": "code",
   "execution_count": 6,
   "id": "8d44ae29-b89d-40f1-b6f0-cdca16d68dda",
   "metadata": {},
   "outputs": [],
   "source": [
    "fullname = name + surname"
   ]
  },
  {
   "cell_type": "code",
   "execution_count": 7,
   "id": "07e93df9-37f8-4a63-965f-db438b5a4dd4",
   "metadata": {},
   "outputs": [
    {
     "data": {
      "text/plain": [
       "'ademyildiz'"
      ]
     },
     "execution_count": 7,
     "metadata": {},
     "output_type": "execute_result"
    }
   ],
   "source": [
    "fullname"
   ]
  },
  {
   "cell_type": "code",
   "execution_count": 8,
   "id": "867920d2-47cc-430a-a94b-583e49409cde",
   "metadata": {},
   "outputs": [
    {
     "data": {
      "text/plain": [
       "'adem yildiz'"
      ]
     },
     "execution_count": 8,
     "metadata": {},
     "output_type": "execute_result"
    }
   ],
   "source": [
    "name + \" \" + surname"
   ]
  },
  {
   "cell_type": "code",
   "execution_count": 9,
   "id": "f37252a3-df5a-4bea-8385-30245cd0ae7d",
   "metadata": {},
   "outputs": [
    {
     "data": {
      "text/plain": [
       "'ademyildiz'"
      ]
     },
     "execution_count": 9,
     "metadata": {},
     "output_type": "execute_result"
    }
   ],
   "source": [
    "fullname"
   ]
  },
  {
   "cell_type": "code",
   "execution_count": 10,
   "id": "23513120-6a51-4029-bbbf-44cda19fd3dd",
   "metadata": {},
   "outputs": [
    {
     "data": {
      "text/plain": [
       "'ademyildizademyildizademyildizademyildizademyildiz'"
      ]
     },
     "execution_count": 10,
     "metadata": {},
     "output_type": "execute_result"
    }
   ],
   "source": [
    "fullname * 5"
   ]
  },
  {
   "cell_type": "code",
   "execution_count": 11,
   "id": "5d5ded55-d854-4f36-b65b-90ccc7926c0a",
   "metadata": {},
   "outputs": [
    {
     "data": {
      "text/plain": [
       "'aaaaaaaaaaaaaaaaaaaaaaaaaaaaaaaaaaaaaaaaaaaaaaaaaaaaaaaaaaaaaaaaaaaaaaaaaaaaaaaaaaaaaaaaaaaaaaaaaaaa'"
      ]
     },
     "execution_count": 11,
     "metadata": {},
     "output_type": "execute_result"
    }
   ],
   "source": [
    "100 * \"a\""
   ]
  },
  {
   "cell_type": "code",
   "execution_count": 12,
   "id": "f13c36dc-f327-4c01-b5ce-11d9dffa0a14",
   "metadata": {},
   "outputs": [
    {
     "ename": "TypeError",
     "evalue": "unsupported operand type(s) for /: 'str' and 'int'",
     "output_type": "error",
     "traceback": [
      "\u001b[1;31m---------------------------------------------------------------------------\u001b[0m",
      "\u001b[1;31mTypeError\u001b[0m                                 Traceback (most recent call last)",
      "Cell \u001b[1;32mIn[12], line 1\u001b[0m\n\u001b[1;32m----> 1\u001b[0m fullname \u001b[38;5;241m/\u001b[39m \u001b[38;5;241m5\u001b[39m\n",
      "\u001b[1;31mTypeError\u001b[0m: unsupported operand type(s) for /: 'str' and 'int'"
     ]
    }
   ],
   "source": [
    "fullname / 5"
   ]
  },
  {
   "cell_type": "code",
   "execution_count": 13,
   "id": "62707348-48a7-40f8-b6a3-77e382d95be0",
   "metadata": {},
   "outputs": [
    {
     "ename": "TypeError",
     "evalue": "unsupported operand type(s) for -: 'str' and 'int'",
     "output_type": "error",
     "traceback": [
      "\u001b[1;31m---------------------------------------------------------------------------\u001b[0m",
      "\u001b[1;31mTypeError\u001b[0m                                 Traceback (most recent call last)",
      "Cell \u001b[1;32mIn[13], line 1\u001b[0m\n\u001b[1;32m----> 1\u001b[0m fullname \u001b[38;5;241m-\u001b[39m \u001b[38;5;241m5\u001b[39m\n",
      "\u001b[1;31mTypeError\u001b[0m: unsupported operand type(s) for -: 'str' and 'int'"
     ]
    }
   ],
   "source": [
    "fullname - 5"
   ]
  },
  {
   "cell_type": "code",
   "execution_count": 17,
   "id": "50821b99-8a19-44cf-8f16-717b08eafa4c",
   "metadata": {},
   "outputs": [
    {
     "data": {
      "text/plain": [
       "'ABCDE123123982'"
      ]
     },
     "execution_count": 17,
     "metadata": {},
     "output_type": "execute_result"
    }
   ],
   "source": [
    "barcode"
   ]
  },
  {
   "cell_type": "code",
   "execution_count": 16,
   "id": "6ab9e602-98e1-4d44-856d-e82a7791b581",
   "metadata": {},
   "outputs": [
    {
     "data": {
      "text/plain": [
       "'ABC'"
      ]
     },
     "execution_count": 16,
     "metadata": {},
     "output_type": "execute_result"
    }
   ],
   "source": [
    "barcode[0] + barcode[1] + barcode[2]"
   ]
  },
  {
   "cell_type": "code",
   "execution_count": 22,
   "id": "9e518451-3936-4eea-9ded-d796f049b66f",
   "metadata": {},
   "outputs": [],
   "source": [
    "# slicing, starting index, stopping index, stepping index"
   ]
  },
  {
   "cell_type": "code",
   "execution_count": 21,
   "id": "bf3881d6-deae-4a85-85bd-61e780d3b0d4",
   "metadata": {},
   "outputs": [
    {
     "data": {
      "text/plain": [
       "'ABCDE123123982'"
      ]
     },
     "execution_count": 21,
     "metadata": {},
     "output_type": "execute_result"
    }
   ],
   "source": [
    "barcode[::]"
   ]
  },
  {
   "cell_type": "code",
   "execution_count": 26,
   "id": "cb5b4a02-19e6-4bab-af47-95d1367f27ab",
   "metadata": {},
   "outputs": [],
   "source": [
    "#barcode[starting index:stopping index:stepping size]"
   ]
  },
  {
   "cell_type": "code",
   "execution_count": 27,
   "id": "4242dd97-4ad3-4cfe-b0a0-a20a2884dec6",
   "metadata": {},
   "outputs": [
    {
     "data": {
      "text/plain": [
       "'DE123123982'"
      ]
     },
     "execution_count": 27,
     "metadata": {},
     "output_type": "execute_result"
    }
   ],
   "source": [
    "barcode[3::] # ilk 3 karakteri alma"
   ]
  },
  {
   "cell_type": "code",
   "execution_count": 29,
   "id": "8c01c584-9ff4-488b-9012-05a70a636113",
   "metadata": {},
   "outputs": [
    {
     "data": {
      "text/plain": [
       "'ABC'"
      ]
     },
     "execution_count": 29,
     "metadata": {},
     "output_type": "execute_result"
    }
   ],
   "source": [
    "barcode[:3:] # 3. indexte dur"
   ]
  },
  {
   "cell_type": "code",
   "execution_count": 30,
   "id": "9befdffd-8d7e-4a6f-941c-84d0cac8efa9",
   "metadata": {},
   "outputs": [
    {
     "data": {
      "text/plain": [
       "'ABCDE'"
      ]
     },
     "execution_count": 30,
     "metadata": {},
     "output_type": "execute_result"
    }
   ],
   "source": [
    "barcode[:5:]"
   ]
  },
  {
   "cell_type": "code",
   "execution_count": 31,
   "id": "5dabcc19-051a-4435-b7e2-7be6282e21b1",
   "metadata": {},
   "outputs": [
    {
     "data": {
      "text/plain": [
       "'ABCDE123123982'"
      ]
     },
     "execution_count": 31,
     "metadata": {},
     "output_type": "execute_result"
    }
   ],
   "source": [
    "barcode"
   ]
  },
  {
   "cell_type": "code",
   "execution_count": 32,
   "id": "98286ce1-4bbc-485c-91b1-c577ea047df2",
   "metadata": {},
   "outputs": [
    {
     "data": {
      "text/plain": [
       "'ACE2138'"
      ]
     },
     "execution_count": 32,
     "metadata": {},
     "output_type": "execute_result"
    }
   ],
   "source": [
    "barcode[::2]"
   ]
  },
  {
   "cell_type": "code",
   "execution_count": 34,
   "id": "5e1d5773-5f53-4ba7-9d7b-f7b963b1374b",
   "metadata": {},
   "outputs": [
    {
     "data": {
      "text/plain": [
       "'AD228'"
      ]
     },
     "execution_count": 34,
     "metadata": {},
     "output_type": "execute_result"
    }
   ],
   "source": [
    "barcode[::3]"
   ]
  },
  {
   "cell_type": "code",
   "execution_count": 35,
   "id": "da440d58-e5c8-4e2c-b49a-fe8b866560d1",
   "metadata": {},
   "outputs": [
    {
     "data": {
      "text/plain": [
       "'ABCDE123123982'"
      ]
     },
     "execution_count": 35,
     "metadata": {},
     "output_type": "execute_result"
    }
   ],
   "source": [
    "barcode[::]"
   ]
  },
  {
   "cell_type": "code",
   "execution_count": 36,
   "id": "1dca7a1b-be44-476d-996f-f13b0c7f61ea",
   "metadata": {},
   "outputs": [
    {
     "data": {
      "text/plain": [
       "'DE'"
      ]
     },
     "execution_count": 36,
     "metadata": {},
     "output_type": "execute_result"
    }
   ],
   "source": [
    "barcode[3:5:]"
   ]
  },
  {
   "cell_type": "code",
   "execution_count": 37,
   "id": "361274a9-9209-4e01-8a83-e231103f0494",
   "metadata": {},
   "outputs": [
    {
     "data": {
      "text/plain": [
       "'DE'"
      ]
     },
     "execution_count": 37,
     "metadata": {},
     "output_type": "execute_result"
    }
   ],
   "source": [
    "barcode[3:5] # stepping size kullanmayacaksam bu şekilde kullanabilirim."
   ]
  },
  {
   "cell_type": "code",
   "execution_count": 38,
   "id": "34b9a3ab-ea1b-4d65-9594-4813d654e991",
   "metadata": {},
   "outputs": [
    {
     "data": {
      "text/plain": [
       "'ABC'"
      ]
     },
     "execution_count": 38,
     "metadata": {},
     "output_type": "execute_result"
    }
   ],
   "source": [
    "barcode[0:3:1]"
   ]
  },
  {
   "cell_type": "code",
   "execution_count": 40,
   "id": "2ab1f37b-5fa1-4085-a53e-9bdaf1ea88fb",
   "metadata": {},
   "outputs": [
    {
     "data": {
      "text/plain": [
       "'289321321EDCBA'"
      ]
     },
     "execution_count": 40,
     "metadata": {},
     "output_type": "execute_result"
    }
   ],
   "source": [
    "barcode[::-1] # stringi ters çevirir."
   ]
  },
  {
   "cell_type": "code",
   "execution_count": 41,
   "id": "aa1a6cf7-1985-4b6d-89ef-80826c36fb19",
   "metadata": {},
   "outputs": [
    {
     "data": {
      "text/plain": [
       "'ABCDE123123982'"
      ]
     },
     "execution_count": 41,
     "metadata": {},
     "output_type": "execute_result"
    }
   ],
   "source": [
    "barcode"
   ]
  },
  {
   "cell_type": "code",
   "execution_count": 42,
   "id": "05c0c4de-1121-4cf6-b24d-a0a0e4db1731",
   "metadata": {},
   "outputs": [],
   "source": [
    "name = \"adem yildiz\""
   ]
  },
  {
   "cell_type": "code",
   "execution_count": 43,
   "id": "f501ab73-e9db-499c-a887-cb5c7154cfe8",
   "metadata": {},
   "outputs": [
    {
     "name": "stdout",
     "output_type": "stream",
     "text": [
      "Help on built-in function index:\n",
      "\n",
      "index(sub[, start[, end]], /) method of builtins.str instance\n",
      "    Return the lowest index in S where substring sub is found, such that sub is contained within S[start:end].\n",
      "\n",
      "    Optional arguments start and end are interpreted as in slice notation.\n",
      "    Raises ValueError when the substring is not found.\n",
      "\n"
     ]
    }
   ],
   "source": [
    "help(name.index)"
   ]
  },
  {
   "cell_type": "code",
   "execution_count": 45,
   "id": "15e7274a-3166-42c9-8638-33520c509632",
   "metadata": {},
   "outputs": [
    {
     "data": {
      "text/plain": [
       "5"
      ]
     },
     "execution_count": 45,
     "metadata": {},
     "output_type": "execute_result"
    }
   ],
   "source": [
    "name.index(\"y\")"
   ]
  },
  {
   "cell_type": "code",
   "execution_count": 46,
   "id": "eb5c854a-1437-4e5a-9f8f-874150cb396b",
   "metadata": {},
   "outputs": [
    {
     "data": {
      "text/plain": [
       "['adem', 'yildiz']"
      ]
     },
     "execution_count": 46,
     "metadata": {},
     "output_type": "execute_result"
    }
   ],
   "source": [
    "name.split()"
   ]
  },
  {
   "cell_type": "code",
   "execution_count": 47,
   "id": "3c67fac2-124e-4bec-af08-da24470ca27a",
   "metadata": {},
   "outputs": [
    {
     "data": {
      "text/plain": [
       "list"
      ]
     },
     "execution_count": 47,
     "metadata": {},
     "output_type": "execute_result"
    }
   ],
   "source": [
    "type(name.split())"
   ]
  },
  {
   "cell_type": "code",
   "execution_count": null,
   "id": "d35bd761-2878-45d3-afc5-f8d2556be4bd",
   "metadata": {},
   "outputs": [],
   "source": []
  }
 ],
 "metadata": {
  "kernelspec": {
   "display_name": "Python 3 (ipykernel)",
   "language": "python",
   "name": "python3"
  },
  "language_info": {
   "codemirror_mode": {
    "name": "ipython",
    "version": 3
   },
   "file_extension": ".py",
   "mimetype": "text/x-python",
   "name": "python",
   "nbconvert_exporter": "python",
   "pygments_lexer": "ipython3",
   "version": "3.13.5"
  }
 },
 "nbformat": 4,
 "nbformat_minor": 5
}
