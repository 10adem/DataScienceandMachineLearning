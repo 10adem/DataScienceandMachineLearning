{
 "cells": [
  {
   "cell_type": "code",
   "execution_count": 1,
   "id": "afa7dbe0-acca-44d4-b7cb-a6efc952ad3f",
   "metadata": {},
   "outputs": [],
   "source": [
    "import numpy as np"
   ]
  },
  {
   "cell_type": "code",
   "execution_count": 2,
   "id": "d2d6f671-db45-474d-9517-225c1f8a8aeb",
   "metadata": {},
   "outputs": [],
   "source": [
    "import pandas as pd"
   ]
  },
  {
   "cell_type": "code",
   "execution_count": 3,
   "id": "5967852d-3811-4e38-badb-d9c3ee64d502",
   "metadata": {},
   "outputs": [],
   "source": [
    "# !pip install pandas"
   ]
  },
  {
   "cell_type": "code",
   "execution_count": 4,
   "id": "aa9e6f88-05b7-428b-889b-92c40cfb4080",
   "metadata": {},
   "outputs": [],
   "source": [
    "grades = {\"Adem\": 50, \"James\": 60, \"Lars\": 30}"
   ]
  },
  {
   "cell_type": "code",
   "execution_count": 5,
   "id": "b9dcbb19-3c10-46ea-97f1-9c6fcf06fdb4",
   "metadata": {},
   "outputs": [
    {
     "data": {
      "text/plain": [
       "Adem     50\n",
       "James    60\n",
       "Lars     30\n",
       "dtype: int64"
      ]
     },
     "execution_count": 5,
     "metadata": {},
     "output_type": "execute_result"
    }
   ],
   "source": [
    "pd.Series(grades)"
   ]
  },
  {
   "cell_type": "code",
   "execution_count": 7,
   "id": "135330f6-48a1-4400-8a21-5f1e15323a3e",
   "metadata": {},
   "outputs": [],
   "source": [
    "names = [\"Adem\", \"James\", \"Lars\"]\n",
    "grades = [50, 60, 30]"
   ]
  },
  {
   "cell_type": "code",
   "execution_count": 8,
   "id": "1ff498c7-25bb-4225-8d00-cba387e2be93",
   "metadata": {},
   "outputs": [
    {
     "data": {
      "text/plain": [
       "0     Adem\n",
       "1    James\n",
       "2     Lars\n",
       "dtype: object"
      ]
     },
     "execution_count": 8,
     "metadata": {},
     "output_type": "execute_result"
    }
   ],
   "source": [
    "pd.Series(names)"
   ]
  },
  {
   "cell_type": "code",
   "execution_count": 9,
   "id": "6c808811-7abd-4d6a-83ce-8bf46c4369bc",
   "metadata": {},
   "outputs": [
    {
     "data": {
      "text/plain": [
       "0    50\n",
       "1    60\n",
       "2    30\n",
       "dtype: int64"
      ]
     },
     "execution_count": 9,
     "metadata": {},
     "output_type": "execute_result"
    }
   ],
   "source": [
    "pd.Series(grades)"
   ]
  },
  {
   "cell_type": "code",
   "execution_count": 10,
   "id": "702eb6fb-b840-4184-aee1-d1f908dcd60e",
   "metadata": {},
   "outputs": [
    {
     "data": {
      "text/plain": [
       "50     Adem\n",
       "60    James\n",
       "30     Lars\n",
       "dtype: object"
      ]
     },
     "execution_count": 10,
     "metadata": {},
     "output_type": "execute_result"
    }
   ],
   "source": [
    "pd.Series(names, grades)"
   ]
  },
  {
   "cell_type": "code",
   "execution_count": 11,
   "id": "b68e5869-133f-4804-b297-1cd8d63dea0b",
   "metadata": {},
   "outputs": [
    {
     "data": {
      "text/plain": [
       "Adem     50\n",
       "James    60\n",
       "Lars     30\n",
       "dtype: int64"
      ]
     },
     "execution_count": 11,
     "metadata": {},
     "output_type": "execute_result"
    }
   ],
   "source": [
    "pd.Series(grades, names)"
   ]
  },
  {
   "cell_type": "code",
   "execution_count": 12,
   "id": "a1beb1c7-3dd4-43db-9257-893f54d204b3",
   "metadata": {},
   "outputs": [
    {
     "data": {
      "text/plain": [
       "Adem     50\n",
       "James    60\n",
       "Lars     30\n",
       "dtype: int64"
      ]
     },
     "execution_count": 12,
     "metadata": {},
     "output_type": "execute_result"
    }
   ],
   "source": [
    "pd.Series(data=grades, index=names)"
   ]
  },
  {
   "cell_type": "code",
   "execution_count": 13,
   "id": "2f0b362e-a237-4ec1-ae2c-fd4077eb2a20",
   "metadata": {},
   "outputs": [],
   "source": [
    "# with numpy"
   ]
  },
  {
   "cell_type": "code",
   "execution_count": 14,
   "id": "7d35c3c3-41ca-4a56-bc75-880d7a2900e5",
   "metadata": {},
   "outputs": [],
   "source": [
    "numpy_array = np.array([50,40,30,20])"
   ]
  },
  {
   "cell_type": "code",
   "execution_count": 15,
   "id": "fa4c4725-8f47-4189-b384-d2663d934331",
   "metadata": {},
   "outputs": [
    {
     "data": {
      "text/plain": [
       "0    50\n",
       "1    40\n",
       "2    30\n",
       "3    20\n",
       "dtype: int64"
      ]
     },
     "execution_count": 15,
     "metadata": {},
     "output_type": "execute_result"
    }
   ],
   "source": [
    "pd.Series(numpy_array)"
   ]
  },
  {
   "cell_type": "code",
   "execution_count": 16,
   "id": "52fe2a3d-6aac-467e-b5b2-9ddc6fe1ef81",
   "metadata": {},
   "outputs": [],
   "source": [
    "# arithmetic"
   ]
  },
  {
   "cell_type": "code",
   "execution_count": 17,
   "id": "5336b207-a92c-44f5-a587-8eac5d10bd65",
   "metadata": {},
   "outputs": [],
   "source": [
    "contest_result = pd.Series(data=[10,5,100], index=[\"Adem\", \"James\", \"Lars\"])"
   ]
  },
  {
   "cell_type": "code",
   "execution_count": 18,
   "id": "e1106fba-8812-47af-9b7c-93966e2e7ea8",
   "metadata": {},
   "outputs": [],
   "source": [
    "contest_result2 = pd.Series(data=[20,50,10], index=[\"Adem\", \"James\", \"Lars\"])"
   ]
  },
  {
   "cell_type": "code",
   "execution_count": 19,
   "id": "c355825f-039b-48ea-a101-8c06931a289f",
   "metadata": {},
   "outputs": [
    {
     "data": {
      "text/plain": [
       "Adem      10\n",
       "James      5\n",
       "Lars     100\n",
       "dtype: int64"
      ]
     },
     "execution_count": 19,
     "metadata": {},
     "output_type": "execute_result"
    }
   ],
   "source": [
    "contest_result"
   ]
  },
  {
   "cell_type": "code",
   "execution_count": 20,
   "id": "849d30ce-478b-48a1-a545-bc3865b16e51",
   "metadata": {},
   "outputs": [
    {
     "data": {
      "text/plain": [
       "np.int64(10)"
      ]
     },
     "execution_count": 20,
     "metadata": {},
     "output_type": "execute_result"
    }
   ],
   "source": [
    "contest_result[\"Adem\"]"
   ]
  },
  {
   "cell_type": "code",
   "execution_count": 22,
   "id": "1dbdfca0-4bf3-441e-a1a2-98315ba31cb0",
   "metadata": {},
   "outputs": [
    {
     "data": {
      "text/plain": [
       "np.int64(50)"
      ]
     },
     "execution_count": 22,
     "metadata": {},
     "output_type": "execute_result"
    }
   ],
   "source": [
    "contest_result2[\"James\"]"
   ]
  },
  {
   "cell_type": "code",
   "execution_count": 23,
   "id": "f534dbcd-0eee-45d0-8c3b-58711457331a",
   "metadata": {},
   "outputs": [],
   "source": [
    "final_result = contest_result + contest_result2"
   ]
  },
  {
   "cell_type": "code",
   "execution_count": 24,
   "id": "da8bce16-a549-48ca-95ad-526446bb13c7",
   "metadata": {},
   "outputs": [
    {
     "data": {
      "text/plain": [
       "Adem      30\n",
       "James     55\n",
       "Lars     110\n",
       "dtype: int64"
      ]
     },
     "execution_count": 24,
     "metadata": {},
     "output_type": "execute_result"
    }
   ],
   "source": [
    "final_result"
   ]
  },
  {
   "cell_type": "code",
   "execution_count": 25,
   "id": "a1c1c6f0-0eb5-42e1-9e86-ec75675e7c42",
   "metadata": {},
   "outputs": [
    {
     "data": {
      "text/plain": [
       "Adem    -10\n",
       "James   -45\n",
       "Lars     90\n",
       "dtype: int64"
      ]
     },
     "execution_count": 25,
     "metadata": {},
     "output_type": "execute_result"
    }
   ],
   "source": [
    "contest_result - contest_result2"
   ]
  },
  {
   "cell_type": "code",
   "execution_count": 26,
   "id": "fc751ef6-d5a8-4758-b69e-22a3dbc1e70a",
   "metadata": {},
   "outputs": [
    {
     "data": {
      "text/plain": [
       "Adem      200\n",
       "James     250\n",
       "Lars     1000\n",
       "dtype: int64"
      ]
     },
     "execution_count": 26,
     "metadata": {},
     "output_type": "execute_result"
    }
   ],
   "source": [
    "contest_result * contest_result2"
   ]
  },
  {
   "cell_type": "code",
   "execution_count": 27,
   "id": "9a1eafc7-c483-43db-b2e8-937715d10c58",
   "metadata": {},
   "outputs": [
    {
     "data": {
      "text/plain": [
       "Adem      0.5\n",
       "James     0.1\n",
       "Lars     10.0\n",
       "dtype: float64"
      ]
     },
     "execution_count": 27,
     "metadata": {},
     "output_type": "execute_result"
    }
   ],
   "source": [
    "contest_result / contest_result2"
   ]
  },
  {
   "cell_type": "code",
   "execution_count": 28,
   "id": "c22e937e-9930-429b-b9ef-2df856b18516",
   "metadata": {},
   "outputs": [],
   "source": [
    "different_series = pd.Series([20,30,40,50], [\"a\", \"b\", \"c\", \"d\"])"
   ]
  },
  {
   "cell_type": "code",
   "execution_count": 29,
   "id": "a7842778-dd92-4a1f-ac85-1664ca73a634",
   "metadata": {},
   "outputs": [
    {
     "data": {
      "text/plain": [
       "a    20\n",
       "b    30\n",
       "c    40\n",
       "d    50\n",
       "dtype: int64"
      ]
     },
     "execution_count": 29,
     "metadata": {},
     "output_type": "execute_result"
    }
   ],
   "source": [
    "different_series"
   ]
  },
  {
   "cell_type": "code",
   "execution_count": 30,
   "id": "c759a01f-8757-40b2-897d-a8cd2729a7bc",
   "metadata": {},
   "outputs": [],
   "source": [
    "different_series2 = pd.Series([10,5,3,1], [\"a\", \"c\", \"f\", \"g\"])"
   ]
  },
  {
   "cell_type": "code",
   "execution_count": 31,
   "id": "6591343e-a3e5-45ea-a412-6e1755df65eb",
   "metadata": {},
   "outputs": [
    {
     "data": {
      "text/plain": [
       "a    10\n",
       "c     5\n",
       "f     3\n",
       "g     1\n",
       "dtype: int64"
      ]
     },
     "execution_count": 31,
     "metadata": {},
     "output_type": "execute_result"
    }
   ],
   "source": [
    "different_series2"
   ]
  },
  {
   "cell_type": "code",
   "execution_count": 32,
   "id": "6904b5a2-615a-42e7-9f61-5a21527e0aeb",
   "metadata": {},
   "outputs": [
    {
     "data": {
      "text/plain": [
       "a    30.0\n",
       "b     NaN\n",
       "c    45.0\n",
       "d     NaN\n",
       "f     NaN\n",
       "g     NaN\n",
       "dtype: float64"
      ]
     },
     "execution_count": 32,
     "metadata": {},
     "output_type": "execute_result"
    }
   ],
   "source": [
    "different_series + different_series2"
   ]
  },
  {
   "cell_type": "code",
   "execution_count": null,
   "id": "3c72c815-f4ec-45c7-9462-a9d4ec21cc86",
   "metadata": {},
   "outputs": [],
   "source": []
  }
 ],
 "metadata": {
  "kernelspec": {
   "display_name": "Python 3 (ipykernel)",
   "language": "python",
   "name": "python3"
  },
  "language_info": {
   "codemirror_mode": {
    "name": "ipython",
    "version": 3
   },
   "file_extension": ".py",
   "mimetype": "text/x-python",
   "name": "python",
   "nbconvert_exporter": "python",
   "pygments_lexer": "ipython3",
   "version": "3.13.5"
  }
 },
 "nbformat": 4,
 "nbformat_minor": 5
}
