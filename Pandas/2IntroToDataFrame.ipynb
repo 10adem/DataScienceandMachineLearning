{
 "cells": [
  {
   "cell_type": "code",
   "execution_count": 1,
   "id": "77f3014d-2c00-4bd0-881b-47cb6a95034b",
   "metadata": {},
   "outputs": [],
   "source": [
    "import numpy as np\n",
    "import pandas as pd"
   ]
  },
  {
   "cell_type": "code",
   "execution_count": 2,
   "id": "8233d5e2-39e2-4294-8433-87e195e86717",
   "metadata": {},
   "outputs": [],
   "source": [
    "data = np.random.randn(4,3)"
   ]
  },
  {
   "cell_type": "code",
   "execution_count": 3,
   "id": "05a0d036-ba6b-4c41-a9a0-4264e9b574f9",
   "metadata": {},
   "outputs": [
    {
     "data": {
      "text/plain": [
       "array([[-0.50120042, -0.70845568, -1.60884547],\n",
       "       [-0.06816638, -0.97208287, -1.03964542],\n",
       "       [-1.16753511, -0.16024904, -1.14783342],\n",
       "       [ 1.77640295,  0.58576201, -0.5289231 ]])"
      ]
     },
     "execution_count": 3,
     "metadata": {},
     "output_type": "execute_result"
    }
   ],
   "source": [
    "data"
   ]
  },
  {
   "cell_type": "code",
   "execution_count": 4,
   "id": "cf2ed235-b3c9-423e-bc6b-846fc01ceddd",
   "metadata": {},
   "outputs": [
    {
     "ename": "ValueError",
     "evalue": "Data must be 1-dimensional, got ndarray of shape (4, 3) instead",
     "output_type": "error",
     "traceback": [
      "\u001b[1;31m---------------------------------------------------------------------------\u001b[0m",
      "\u001b[1;31mValueError\u001b[0m                                Traceback (most recent call last)",
      "Cell \u001b[1;32mIn[4], line 1\u001b[0m\n\u001b[1;32m----> 1\u001b[0m data_frame_deneme \u001b[38;5;241m=\u001b[39m pd\u001b[38;5;241m.\u001b[39mSeries(data)\n",
      "File \u001b[1;32m~\\AppData\\Roaming\\Python\\Python313\\site-packages\\pandas\\core\\series.py:584\u001b[0m, in \u001b[0;36mSeries.__init__\u001b[1;34m(self, data, index, dtype, name, copy, fastpath)\u001b[0m\n\u001b[0;32m    582\u001b[0m         data \u001b[38;5;241m=\u001b[39m data\u001b[38;5;241m.\u001b[39mcopy()\n\u001b[0;32m    583\u001b[0m \u001b[38;5;28;01melse\u001b[39;00m:\n\u001b[1;32m--> 584\u001b[0m     data \u001b[38;5;241m=\u001b[39m sanitize_array(data, index, dtype, copy)\n\u001b[0;32m    586\u001b[0m     manager \u001b[38;5;241m=\u001b[39m _get_option(\u001b[38;5;124m\"\u001b[39m\u001b[38;5;124mmode.data_manager\u001b[39m\u001b[38;5;124m\"\u001b[39m, silent\u001b[38;5;241m=\u001b[39m\u001b[38;5;28;01mTrue\u001b[39;00m)\n\u001b[0;32m    587\u001b[0m     \u001b[38;5;28;01mif\u001b[39;00m manager \u001b[38;5;241m==\u001b[39m \u001b[38;5;124m\"\u001b[39m\u001b[38;5;124mblock\u001b[39m\u001b[38;5;124m\"\u001b[39m:\n",
      "File \u001b[1;32m~\\AppData\\Roaming\\Python\\Python313\\site-packages\\pandas\\core\\construction.py:656\u001b[0m, in \u001b[0;36msanitize_array\u001b[1;34m(data, index, dtype, copy, allow_2d)\u001b[0m\n\u001b[0;32m    653\u001b[0m             subarr \u001b[38;5;241m=\u001b[39m cast(np\u001b[38;5;241m.\u001b[39mndarray, subarr)\n\u001b[0;32m    654\u001b[0m             subarr \u001b[38;5;241m=\u001b[39m maybe_infer_to_datetimelike(subarr)\n\u001b[1;32m--> 656\u001b[0m subarr \u001b[38;5;241m=\u001b[39m _sanitize_ndim(subarr, data, dtype, index, allow_2d\u001b[38;5;241m=\u001b[39mallow_2d)\n\u001b[0;32m    658\u001b[0m \u001b[38;5;28;01mif\u001b[39;00m \u001b[38;5;28misinstance\u001b[39m(subarr, np\u001b[38;5;241m.\u001b[39mndarray):\n\u001b[0;32m    659\u001b[0m     \u001b[38;5;66;03m# at this point we should have dtype be None or subarr.dtype == dtype\u001b[39;00m\n\u001b[0;32m    660\u001b[0m     dtype \u001b[38;5;241m=\u001b[39m cast(np\u001b[38;5;241m.\u001b[39mdtype, dtype)\n",
      "File \u001b[1;32m~\\AppData\\Roaming\\Python\\Python313\\site-packages\\pandas\\core\\construction.py:715\u001b[0m, in \u001b[0;36m_sanitize_ndim\u001b[1;34m(result, data, dtype, index, allow_2d)\u001b[0m\n\u001b[0;32m    713\u001b[0m     \u001b[38;5;28;01mif\u001b[39;00m allow_2d:\n\u001b[0;32m    714\u001b[0m         \u001b[38;5;28;01mreturn\u001b[39;00m result\n\u001b[1;32m--> 715\u001b[0m     \u001b[38;5;28;01mraise\u001b[39;00m \u001b[38;5;167;01mValueError\u001b[39;00m(\n\u001b[0;32m    716\u001b[0m         \u001b[38;5;124mf\u001b[39m\u001b[38;5;124m\"\u001b[39m\u001b[38;5;124mData must be 1-dimensional, got ndarray of shape \u001b[39m\u001b[38;5;132;01m{\u001b[39;00mdata\u001b[38;5;241m.\u001b[39mshape\u001b[38;5;132;01m}\u001b[39;00m\u001b[38;5;124m instead\u001b[39m\u001b[38;5;124m\"\u001b[39m\n\u001b[0;32m    717\u001b[0m     )\n\u001b[0;32m    718\u001b[0m \u001b[38;5;28;01mif\u001b[39;00m is_object_dtype(dtype) \u001b[38;5;129;01mand\u001b[39;00m \u001b[38;5;28misinstance\u001b[39m(dtype, ExtensionDtype):\n\u001b[0;32m    719\u001b[0m     \u001b[38;5;66;03m# i.e. NumpyEADtype(\"O\")\u001b[39;00m\n\u001b[0;32m    721\u001b[0m     result \u001b[38;5;241m=\u001b[39m com\u001b[38;5;241m.\u001b[39masarray_tuplesafe(data, dtype\u001b[38;5;241m=\u001b[39mnp\u001b[38;5;241m.\u001b[39mdtype(\u001b[38;5;124m\"\u001b[39m\u001b[38;5;124mobject\u001b[39m\u001b[38;5;124m\"\u001b[39m))\n",
      "\u001b[1;31mValueError\u001b[0m: Data must be 1-dimensional, got ndarray of shape (4, 3) instead"
     ]
    }
   ],
   "source": [
    "data_frame_deneme = pd.Series(data)"
   ]
  },
  {
   "cell_type": "code",
   "execution_count": 5,
   "id": "7f34ac59-de00-4518-85fa-13d64c0668e9",
   "metadata": {},
   "outputs": [],
   "source": [
    "data_frame = pd.DataFrame(data)"
   ]
  },
  {
   "cell_type": "code",
   "execution_count": 6,
   "id": "08f42ae7-39b3-48f8-85ce-3c834de08280",
   "metadata": {},
   "outputs": [
    {
     "data": {
      "text/html": [
       "<div>\n",
       "<style scoped>\n",
       "    .dataframe tbody tr th:only-of-type {\n",
       "        vertical-align: middle;\n",
       "    }\n",
       "\n",
       "    .dataframe tbody tr th {\n",
       "        vertical-align: top;\n",
       "    }\n",
       "\n",
       "    .dataframe thead th {\n",
       "        text-align: right;\n",
       "    }\n",
       "</style>\n",
       "<table border=\"1\" class=\"dataframe\">\n",
       "  <thead>\n",
       "    <tr style=\"text-align: right;\">\n",
       "      <th></th>\n",
       "      <th>0</th>\n",
       "      <th>1</th>\n",
       "      <th>2</th>\n",
       "    </tr>\n",
       "  </thead>\n",
       "  <tbody>\n",
       "    <tr>\n",
       "      <th>0</th>\n",
       "      <td>-0.501200</td>\n",
       "      <td>-0.708456</td>\n",
       "      <td>-1.608845</td>\n",
       "    </tr>\n",
       "    <tr>\n",
       "      <th>1</th>\n",
       "      <td>-0.068166</td>\n",
       "      <td>-0.972083</td>\n",
       "      <td>-1.039645</td>\n",
       "    </tr>\n",
       "    <tr>\n",
       "      <th>2</th>\n",
       "      <td>-1.167535</td>\n",
       "      <td>-0.160249</td>\n",
       "      <td>-1.147833</td>\n",
       "    </tr>\n",
       "    <tr>\n",
       "      <th>3</th>\n",
       "      <td>1.776403</td>\n",
       "      <td>0.585762</td>\n",
       "      <td>-0.528923</td>\n",
       "    </tr>\n",
       "  </tbody>\n",
       "</table>\n",
       "</div>"
      ],
      "text/plain": [
       "          0         1         2\n",
       "0 -0.501200 -0.708456 -1.608845\n",
       "1 -0.068166 -0.972083 -1.039645\n",
       "2 -1.167535 -0.160249 -1.147833\n",
       "3  1.776403  0.585762 -0.528923"
      ]
     },
     "execution_count": 6,
     "metadata": {},
     "output_type": "execute_result"
    }
   ],
   "source": [
    "data_frame"
   ]
  },
  {
   "cell_type": "code",
   "execution_count": 7,
   "id": "60c79b5b-b144-44c3-bfe6-b4e570cfdd6b",
   "metadata": {},
   "outputs": [
    {
     "data": {
      "text/plain": [
       "pandas.core.frame.DataFrame"
      ]
     },
     "execution_count": 7,
     "metadata": {},
     "output_type": "execute_result"
    }
   ],
   "source": [
    "type(data_frame)"
   ]
  },
  {
   "cell_type": "code",
   "execution_count": 8,
   "id": "a02ee176-91a5-4028-b50b-e135031d02cc",
   "metadata": {},
   "outputs": [
    {
     "data": {
      "text/plain": [
       "0   -0.501200\n",
       "1   -0.068166\n",
       "2   -1.167535\n",
       "3    1.776403\n",
       "Name: 0, dtype: float64"
      ]
     },
     "execution_count": 8,
     "metadata": {},
     "output_type": "execute_result"
    }
   ],
   "source": [
    "data_frame[0]"
   ]
  },
  {
   "cell_type": "code",
   "execution_count": 9,
   "id": "eb3f51bb-a30a-447b-a5b2-7dd8ed2eb733",
   "metadata": {},
   "outputs": [
    {
     "data": {
      "text/plain": [
       "pandas.core.series.Series"
      ]
     },
     "execution_count": 9,
     "metadata": {},
     "output_type": "execute_result"
    }
   ],
   "source": [
    "type(data_frame[0])"
   ]
  },
  {
   "cell_type": "code",
   "execution_count": 13,
   "id": "2486fc5f-98e7-4fbb-8365-90112e3be8b0",
   "metadata": {},
   "outputs": [],
   "source": [
    "new_df = pd.DataFrame(data, index = [\"Adem\", \"Derya\", \"Deniz\", \"Ahmet\"], columns = [\"Salary\", \"Age\", \"Seniority\"])"
   ]
  },
  {
   "cell_type": "code",
   "execution_count": 14,
   "id": "6acb3f30-a528-4067-9825-05a0b5a76626",
   "metadata": {},
   "outputs": [
    {
     "data": {
      "text/html": [
       "<div>\n",
       "<style scoped>\n",
       "    .dataframe tbody tr th:only-of-type {\n",
       "        vertical-align: middle;\n",
       "    }\n",
       "\n",
       "    .dataframe tbody tr th {\n",
       "        vertical-align: top;\n",
       "    }\n",
       "\n",
       "    .dataframe thead th {\n",
       "        text-align: right;\n",
       "    }\n",
       "</style>\n",
       "<table border=\"1\" class=\"dataframe\">\n",
       "  <thead>\n",
       "    <tr style=\"text-align: right;\">\n",
       "      <th></th>\n",
       "      <th>Salary</th>\n",
       "      <th>Age</th>\n",
       "      <th>Seniority</th>\n",
       "    </tr>\n",
       "  </thead>\n",
       "  <tbody>\n",
       "    <tr>\n",
       "      <th>Adem</th>\n",
       "      <td>-0.501200</td>\n",
       "      <td>-0.708456</td>\n",
       "      <td>-1.608845</td>\n",
       "    </tr>\n",
       "    <tr>\n",
       "      <th>Derya</th>\n",
       "      <td>-0.068166</td>\n",
       "      <td>-0.972083</td>\n",
       "      <td>-1.039645</td>\n",
       "    </tr>\n",
       "    <tr>\n",
       "      <th>Deniz</th>\n",
       "      <td>-1.167535</td>\n",
       "      <td>-0.160249</td>\n",
       "      <td>-1.147833</td>\n",
       "    </tr>\n",
       "    <tr>\n",
       "      <th>Ahmet</th>\n",
       "      <td>1.776403</td>\n",
       "      <td>0.585762</td>\n",
       "      <td>-0.528923</td>\n",
       "    </tr>\n",
       "  </tbody>\n",
       "</table>\n",
       "</div>"
      ],
      "text/plain": [
       "         Salary       Age  Seniority\n",
       "Adem  -0.501200 -0.708456  -1.608845\n",
       "Derya -0.068166 -0.972083  -1.039645\n",
       "Deniz -1.167535 -0.160249  -1.147833\n",
       "Ahmet  1.776403  0.585762  -0.528923"
      ]
     },
     "execution_count": 14,
     "metadata": {},
     "output_type": "execute_result"
    }
   ],
   "source": [
    "new_df"
   ]
  },
  {
   "cell_type": "code",
   "execution_count": 15,
   "id": "173f3883-5f95-4b7c-a7a1-f82122639c74",
   "metadata": {},
   "outputs": [
    {
     "data": {
      "text/plain": [
       "Adem    -0.708456\n",
       "Derya   -0.972083\n",
       "Deniz   -0.160249\n",
       "Ahmet    0.585762\n",
       "Name: Age, dtype: float64"
      ]
     },
     "execution_count": 15,
     "metadata": {},
     "output_type": "execute_result"
    }
   ],
   "source": [
    "new_df[\"Age\"]"
   ]
  },
  {
   "cell_type": "code",
   "execution_count": 16,
   "id": "65d89bd1-a632-4bda-9db0-a66839fabc0b",
   "metadata": {},
   "outputs": [
    {
     "data": {
      "text/plain": [
       "Adem    -0.501200\n",
       "Derya   -0.068166\n",
       "Deniz   -1.167535\n",
       "Ahmet    1.776403\n",
       "Name: Salary, dtype: float64"
      ]
     },
     "execution_count": 16,
     "metadata": {},
     "output_type": "execute_result"
    }
   ],
   "source": [
    "new_df[\"Salary\"]"
   ]
  },
  {
   "cell_type": "code",
   "execution_count": 18,
   "id": "6b661a60-5a9b-46d3-92a5-c4413cb9988a",
   "metadata": {},
   "outputs": [
    {
     "data": {
      "text/html": [
       "<div>\n",
       "<style scoped>\n",
       "    .dataframe tbody tr th:only-of-type {\n",
       "        vertical-align: middle;\n",
       "    }\n",
       "\n",
       "    .dataframe tbody tr th {\n",
       "        vertical-align: top;\n",
       "    }\n",
       "\n",
       "    .dataframe thead th {\n",
       "        text-align: right;\n",
       "    }\n",
       "</style>\n",
       "<table border=\"1\" class=\"dataframe\">\n",
       "  <thead>\n",
       "    <tr style=\"text-align: right;\">\n",
       "      <th></th>\n",
       "      <th>Age</th>\n",
       "      <th>Salary</th>\n",
       "    </tr>\n",
       "  </thead>\n",
       "  <tbody>\n",
       "    <tr>\n",
       "      <th>Adem</th>\n",
       "      <td>-0.708456</td>\n",
       "      <td>-0.501200</td>\n",
       "    </tr>\n",
       "    <tr>\n",
       "      <th>Derya</th>\n",
       "      <td>-0.972083</td>\n",
       "      <td>-0.068166</td>\n",
       "    </tr>\n",
       "    <tr>\n",
       "      <th>Deniz</th>\n",
       "      <td>-0.160249</td>\n",
       "      <td>-1.167535</td>\n",
       "    </tr>\n",
       "    <tr>\n",
       "      <th>Ahmet</th>\n",
       "      <td>0.585762</td>\n",
       "      <td>1.776403</td>\n",
       "    </tr>\n",
       "  </tbody>\n",
       "</table>\n",
       "</div>"
      ],
      "text/plain": [
       "            Age    Salary\n",
       "Adem  -0.708456 -0.501200\n",
       "Derya -0.972083 -0.068166\n",
       "Deniz -0.160249 -1.167535\n",
       "Ahmet  0.585762  1.776403"
      ]
     },
     "execution_count": 18,
     "metadata": {},
     "output_type": "execute_result"
    }
   ],
   "source": [
    "new_df[[\"Age\", \"Salary\"]]"
   ]
  },
  {
   "cell_type": "code",
   "execution_count": 19,
   "id": "ab3b8281-4933-4cd3-98ec-ea1ce1e6c516",
   "metadata": {},
   "outputs": [
    {
     "data": {
      "text/plain": [
       "Salary      -0.501200\n",
       "Age         -0.708456\n",
       "Seniority   -1.608845\n",
       "Name: Adem, dtype: float64"
      ]
     },
     "execution_count": 19,
     "metadata": {},
     "output_type": "execute_result"
    }
   ],
   "source": [
    "new_df.loc[\"Adem\"]"
   ]
  },
  {
   "cell_type": "code",
   "execution_count": 20,
   "id": "b9befc50-b029-471e-858f-50dc16ad8f2c",
   "metadata": {},
   "outputs": [
    {
     "data": {
      "text/plain": [
       "Salary      -0.501200\n",
       "Age         -0.708456\n",
       "Seniority   -1.608845\n",
       "Name: Adem, dtype: float64"
      ]
     },
     "execution_count": 20,
     "metadata": {},
     "output_type": "execute_result"
    }
   ],
   "source": [
    "new_df.iloc[0]"
   ]
  },
  {
   "cell_type": "code",
   "execution_count": 21,
   "id": "d00b71fb-b487-4764-88ad-ef41f89329b9",
   "metadata": {},
   "outputs": [
    {
     "data": {
      "text/plain": [
       "Salary      -0.068166\n",
       "Age         -0.972083\n",
       "Seniority   -1.039645\n",
       "Name: Derya, dtype: float64"
      ]
     },
     "execution_count": 21,
     "metadata": {},
     "output_type": "execute_result"
    }
   ],
   "source": [
    "new_df.iloc[1]"
   ]
  },
  {
   "cell_type": "code",
   "execution_count": 22,
   "id": "d1aa4e30-5172-454f-ab2c-6e3886af1205",
   "metadata": {},
   "outputs": [
    {
     "data": {
      "text/html": [
       "<div>\n",
       "<style scoped>\n",
       "    .dataframe tbody tr th:only-of-type {\n",
       "        vertical-align: middle;\n",
       "    }\n",
       "\n",
       "    .dataframe tbody tr th {\n",
       "        vertical-align: top;\n",
       "    }\n",
       "\n",
       "    .dataframe thead th {\n",
       "        text-align: right;\n",
       "    }\n",
       "</style>\n",
       "<table border=\"1\" class=\"dataframe\">\n",
       "  <thead>\n",
       "    <tr style=\"text-align: right;\">\n",
       "      <th></th>\n",
       "      <th>Salary</th>\n",
       "      <th>Age</th>\n",
       "      <th>Seniority</th>\n",
       "    </tr>\n",
       "  </thead>\n",
       "  <tbody>\n",
       "    <tr>\n",
       "      <th>Adem</th>\n",
       "      <td>-0.501200</td>\n",
       "      <td>-0.708456</td>\n",
       "      <td>-1.608845</td>\n",
       "    </tr>\n",
       "    <tr>\n",
       "      <th>Derya</th>\n",
       "      <td>-0.068166</td>\n",
       "      <td>-0.972083</td>\n",
       "      <td>-1.039645</td>\n",
       "    </tr>\n",
       "    <tr>\n",
       "      <th>Deniz</th>\n",
       "      <td>-1.167535</td>\n",
       "      <td>-0.160249</td>\n",
       "      <td>-1.147833</td>\n",
       "    </tr>\n",
       "    <tr>\n",
       "      <th>Ahmet</th>\n",
       "      <td>1.776403</td>\n",
       "      <td>0.585762</td>\n",
       "      <td>-0.528923</td>\n",
       "    </tr>\n",
       "  </tbody>\n",
       "</table>\n",
       "</div>"
      ],
      "text/plain": [
       "         Salary       Age  Seniority\n",
       "Adem  -0.501200 -0.708456  -1.608845\n",
       "Derya -0.068166 -0.972083  -1.039645\n",
       "Deniz -1.167535 -0.160249  -1.147833\n",
       "Ahmet  1.776403  0.585762  -0.528923"
      ]
     },
     "execution_count": 22,
     "metadata": {},
     "output_type": "execute_result"
    }
   ],
   "source": [
    "new_df"
   ]
  },
  {
   "cell_type": "code",
   "execution_count": 24,
   "id": "6b5e8bc6-a591-45f7-808e-74c8ed7a6d7e",
   "metadata": {},
   "outputs": [
    {
     "data": {
      "text/plain": [
       "Adem    -0.708456\n",
       "Derya   -0.972083\n",
       "Deniz   -0.160249\n",
       "Ahmet    0.585762\n",
       "Name: Age, dtype: float64"
      ]
     },
     "execution_count": 24,
     "metadata": {},
     "output_type": "execute_result"
    }
   ],
   "source": [
    "new_df.iloc[:,1] # iki nokta üst üste tüm satırları seç demek sonrasında ki değer ise ilgili kolonu getir demek."
   ]
  },
  {
   "cell_type": "code",
   "execution_count": 25,
   "id": "73ee8959-9d4b-4031-b4a5-f8adeb04acbb",
   "metadata": {},
   "outputs": [
    {
     "data": {
      "text/plain": [
       "Adem    -0.501200\n",
       "Derya   -0.068166\n",
       "Deniz   -1.167535\n",
       "Ahmet    1.776403\n",
       "Name: Salary, dtype: float64"
      ]
     },
     "execution_count": 25,
     "metadata": {},
     "output_type": "execute_result"
    }
   ],
   "source": [
    "new_df.iloc[:,0]"
   ]
  },
  {
   "cell_type": "code",
   "execution_count": 26,
   "id": "fb2ca72f-3033-487e-9cda-f3853ae4e46b",
   "metadata": {},
   "outputs": [
    {
     "data": {
      "text/plain": [
       "Adem    -1.608845\n",
       "Derya   -1.039645\n",
       "Deniz   -1.147833\n",
       "Ahmet   -0.528923\n",
       "Name: Seniority, dtype: float64"
      ]
     },
     "execution_count": 26,
     "metadata": {},
     "output_type": "execute_result"
    }
   ],
   "source": [
    "new_df.iloc[:,2]"
   ]
  },
  {
   "cell_type": "code",
   "execution_count": 27,
   "id": "adb72a2e-a278-4ed9-8a32-8b511b9608f7",
   "metadata": {},
   "outputs": [
    {
     "data": {
      "text/plain": [
       "Adem    -0.708456\n",
       "Derya   -0.972083\n",
       "Deniz   -0.160249\n",
       "Ahmet    0.585762\n",
       "Name: Age, dtype: float64"
      ]
     },
     "execution_count": 27,
     "metadata": {},
     "output_type": "execute_result"
    }
   ],
   "source": [
    "new_df[\"Age\"]"
   ]
  },
  {
   "cell_type": "code",
   "execution_count": 28,
   "id": "f16a16e4-3f32-47c7-a8ef-33ab8f87fb61",
   "metadata": {},
   "outputs": [],
   "source": [
    "new_df[\"Extra\"] = 10"
   ]
  },
  {
   "cell_type": "code",
   "execution_count": 29,
   "id": "b94ddea0-5f88-4b30-b3f0-11c27ee222c0",
   "metadata": {},
   "outputs": [
    {
     "data": {
      "text/html": [
       "<div>\n",
       "<style scoped>\n",
       "    .dataframe tbody tr th:only-of-type {\n",
       "        vertical-align: middle;\n",
       "    }\n",
       "\n",
       "    .dataframe tbody tr th {\n",
       "        vertical-align: top;\n",
       "    }\n",
       "\n",
       "    .dataframe thead th {\n",
       "        text-align: right;\n",
       "    }\n",
       "</style>\n",
       "<table border=\"1\" class=\"dataframe\">\n",
       "  <thead>\n",
       "    <tr style=\"text-align: right;\">\n",
       "      <th></th>\n",
       "      <th>Salary</th>\n",
       "      <th>Age</th>\n",
       "      <th>Seniority</th>\n",
       "      <th>Extra</th>\n",
       "    </tr>\n",
       "  </thead>\n",
       "  <tbody>\n",
       "    <tr>\n",
       "      <th>Adem</th>\n",
       "      <td>-0.501200</td>\n",
       "      <td>-0.708456</td>\n",
       "      <td>-1.608845</td>\n",
       "      <td>10</td>\n",
       "    </tr>\n",
       "    <tr>\n",
       "      <th>Derya</th>\n",
       "      <td>-0.068166</td>\n",
       "      <td>-0.972083</td>\n",
       "      <td>-1.039645</td>\n",
       "      <td>10</td>\n",
       "    </tr>\n",
       "    <tr>\n",
       "      <th>Deniz</th>\n",
       "      <td>-1.167535</td>\n",
       "      <td>-0.160249</td>\n",
       "      <td>-1.147833</td>\n",
       "      <td>10</td>\n",
       "    </tr>\n",
       "    <tr>\n",
       "      <th>Ahmet</th>\n",
       "      <td>1.776403</td>\n",
       "      <td>0.585762</td>\n",
       "      <td>-0.528923</td>\n",
       "      <td>10</td>\n",
       "    </tr>\n",
       "  </tbody>\n",
       "</table>\n",
       "</div>"
      ],
      "text/plain": [
       "         Salary       Age  Seniority  Extra\n",
       "Adem  -0.501200 -0.708456  -1.608845     10\n",
       "Derya -0.068166 -0.972083  -1.039645     10\n",
       "Deniz -1.167535 -0.160249  -1.147833     10\n",
       "Ahmet  1.776403  0.585762  -0.528923     10"
      ]
     },
     "execution_count": 29,
     "metadata": {},
     "output_type": "execute_result"
    }
   ],
   "source": [
    "new_df"
   ]
  },
  {
   "cell_type": "code",
   "execution_count": 30,
   "id": "9cf7a611-04b2-4a78-82ff-53702d8b0302",
   "metadata": {},
   "outputs": [
    {
     "data": {
      "text/html": [
       "<div>\n",
       "<style scoped>\n",
       "    .dataframe tbody tr th:only-of-type {\n",
       "        vertical-align: middle;\n",
       "    }\n",
       "\n",
       "    .dataframe tbody tr th {\n",
       "        vertical-align: top;\n",
       "    }\n",
       "\n",
       "    .dataframe thead th {\n",
       "        text-align: right;\n",
       "    }\n",
       "</style>\n",
       "<table border=\"1\" class=\"dataframe\">\n",
       "  <thead>\n",
       "    <tr style=\"text-align: right;\">\n",
       "      <th></th>\n",
       "      <th>Salary</th>\n",
       "      <th>Age</th>\n",
       "      <th>Seniority</th>\n",
       "    </tr>\n",
       "  </thead>\n",
       "  <tbody>\n",
       "    <tr>\n",
       "      <th>Adem</th>\n",
       "      <td>-0.501200</td>\n",
       "      <td>-0.708456</td>\n",
       "      <td>-1.608845</td>\n",
       "    </tr>\n",
       "    <tr>\n",
       "      <th>Derya</th>\n",
       "      <td>-0.068166</td>\n",
       "      <td>-0.972083</td>\n",
       "      <td>-1.039645</td>\n",
       "    </tr>\n",
       "    <tr>\n",
       "      <th>Deniz</th>\n",
       "      <td>-1.167535</td>\n",
       "      <td>-0.160249</td>\n",
       "      <td>-1.147833</td>\n",
       "    </tr>\n",
       "    <tr>\n",
       "      <th>Ahmet</th>\n",
       "      <td>1.776403</td>\n",
       "      <td>0.585762</td>\n",
       "      <td>-0.528923</td>\n",
       "    </tr>\n",
       "  </tbody>\n",
       "</table>\n",
       "</div>"
      ],
      "text/plain": [
       "         Salary       Age  Seniority\n",
       "Adem  -0.501200 -0.708456  -1.608845\n",
       "Derya -0.068166 -0.972083  -1.039645\n",
       "Deniz -1.167535 -0.160249  -1.147833\n",
       "Ahmet  1.776403  0.585762  -0.528923"
      ]
     },
     "execution_count": 30,
     "metadata": {},
     "output_type": "execute_result"
    }
   ],
   "source": [
    "new_df.drop(\"Extra\", axis=1) # axis -> eksen, 1 -> kolonlar, 0 -> satırlar"
   ]
  },
  {
   "cell_type": "code",
   "execution_count": 31,
   "id": "734b7957-ac12-4e1b-96f0-732be39c5ac5",
   "metadata": {},
   "outputs": [
    {
     "data": {
      "text/html": [
       "<div>\n",
       "<style scoped>\n",
       "    .dataframe tbody tr th:only-of-type {\n",
       "        vertical-align: middle;\n",
       "    }\n",
       "\n",
       "    .dataframe tbody tr th {\n",
       "        vertical-align: top;\n",
       "    }\n",
       "\n",
       "    .dataframe thead th {\n",
       "        text-align: right;\n",
       "    }\n",
       "</style>\n",
       "<table border=\"1\" class=\"dataframe\">\n",
       "  <thead>\n",
       "    <tr style=\"text-align: right;\">\n",
       "      <th></th>\n",
       "      <th>Salary</th>\n",
       "      <th>Age</th>\n",
       "      <th>Seniority</th>\n",
       "      <th>Extra</th>\n",
       "    </tr>\n",
       "  </thead>\n",
       "  <tbody>\n",
       "    <tr>\n",
       "      <th>Adem</th>\n",
       "      <td>-0.501200</td>\n",
       "      <td>-0.708456</td>\n",
       "      <td>-1.608845</td>\n",
       "      <td>10</td>\n",
       "    </tr>\n",
       "    <tr>\n",
       "      <th>Derya</th>\n",
       "      <td>-0.068166</td>\n",
       "      <td>-0.972083</td>\n",
       "      <td>-1.039645</td>\n",
       "      <td>10</td>\n",
       "    </tr>\n",
       "    <tr>\n",
       "      <th>Deniz</th>\n",
       "      <td>-1.167535</td>\n",
       "      <td>-0.160249</td>\n",
       "      <td>-1.147833</td>\n",
       "      <td>10</td>\n",
       "    </tr>\n",
       "    <tr>\n",
       "      <th>Ahmet</th>\n",
       "      <td>1.776403</td>\n",
       "      <td>0.585762</td>\n",
       "      <td>-0.528923</td>\n",
       "      <td>10</td>\n",
       "    </tr>\n",
       "  </tbody>\n",
       "</table>\n",
       "</div>"
      ],
      "text/plain": [
       "         Salary       Age  Seniority  Extra\n",
       "Adem  -0.501200 -0.708456  -1.608845     10\n",
       "Derya -0.068166 -0.972083  -1.039645     10\n",
       "Deniz -1.167535 -0.160249  -1.147833     10\n",
       "Ahmet  1.776403  0.585762  -0.528923     10"
      ]
     },
     "execution_count": 31,
     "metadata": {},
     "output_type": "execute_result"
    }
   ],
   "source": [
    "new_df"
   ]
  },
  {
   "cell_type": "code",
   "execution_count": 32,
   "id": "66451faf-19b0-4549-8b92-2552a30ce27e",
   "metadata": {},
   "outputs": [],
   "source": [
    "# Extra kolonunu sildik ancak data frame ataması yapmadık bunun için ya\n",
    "# new_df = new_df.drop(\"Extra\") yaparız ya da \n",
    "# new_df.drop(\"Extra\", axis = 1, inplace = True) yaparız."
   ]
  },
  {
   "cell_type": "code",
   "execution_count": 33,
   "id": "e6a87ce7-e859-4d71-b8dc-7055bc6f576a",
   "metadata": {},
   "outputs": [],
   "source": [
    "new_df.drop(\"Extra\", axis = 1, inplace = True)"
   ]
  },
  {
   "cell_type": "code",
   "execution_count": 35,
   "id": "d8246dd9-723a-49ce-9c86-5d570ebab6f9",
   "metadata": {},
   "outputs": [
    {
     "data": {
      "text/html": [
       "<div>\n",
       "<style scoped>\n",
       "    .dataframe tbody tr th:only-of-type {\n",
       "        vertical-align: middle;\n",
       "    }\n",
       "\n",
       "    .dataframe tbody tr th {\n",
       "        vertical-align: top;\n",
       "    }\n",
       "\n",
       "    .dataframe thead th {\n",
       "        text-align: right;\n",
       "    }\n",
       "</style>\n",
       "<table border=\"1\" class=\"dataframe\">\n",
       "  <thead>\n",
       "    <tr style=\"text-align: right;\">\n",
       "      <th></th>\n",
       "      <th>Salary</th>\n",
       "      <th>Age</th>\n",
       "      <th>Seniority</th>\n",
       "    </tr>\n",
       "  </thead>\n",
       "  <tbody>\n",
       "    <tr>\n",
       "      <th>Adem</th>\n",
       "      <td>-0.501200</td>\n",
       "      <td>-0.708456</td>\n",
       "      <td>-1.608845</td>\n",
       "    </tr>\n",
       "    <tr>\n",
       "      <th>Derya</th>\n",
       "      <td>-0.068166</td>\n",
       "      <td>-0.972083</td>\n",
       "      <td>-1.039645</td>\n",
       "    </tr>\n",
       "    <tr>\n",
       "      <th>Deniz</th>\n",
       "      <td>-1.167535</td>\n",
       "      <td>-0.160249</td>\n",
       "      <td>-1.147833</td>\n",
       "    </tr>\n",
       "    <tr>\n",
       "      <th>Ahmet</th>\n",
       "      <td>1.776403</td>\n",
       "      <td>0.585762</td>\n",
       "      <td>-0.528923</td>\n",
       "    </tr>\n",
       "  </tbody>\n",
       "</table>\n",
       "</div>"
      ],
      "text/plain": [
       "         Salary       Age  Seniority\n",
       "Adem  -0.501200 -0.708456  -1.608845\n",
       "Derya -0.068166 -0.972083  -1.039645\n",
       "Deniz -1.167535 -0.160249  -1.147833\n",
       "Ahmet  1.776403  0.585762  -0.528923"
      ]
     },
     "execution_count": 35,
     "metadata": {},
     "output_type": "execute_result"
    }
   ],
   "source": [
    "new_df"
   ]
  },
  {
   "cell_type": "code",
   "execution_count": 36,
   "id": "d70f7e34-6f8b-4af6-aaba-781907f4cc2e",
   "metadata": {},
   "outputs": [],
   "source": [
    "new_df[\"Ahmet\"] = 10"
   ]
  },
  {
   "cell_type": "code",
   "execution_count": 37,
   "id": "54114cf0-511a-4f3a-8586-5eaf5c545b8a",
   "metadata": {},
   "outputs": [
    {
     "data": {
      "text/html": [
       "<div>\n",
       "<style scoped>\n",
       "    .dataframe tbody tr th:only-of-type {\n",
       "        vertical-align: middle;\n",
       "    }\n",
       "\n",
       "    .dataframe tbody tr th {\n",
       "        vertical-align: top;\n",
       "    }\n",
       "\n",
       "    .dataframe thead th {\n",
       "        text-align: right;\n",
       "    }\n",
       "</style>\n",
       "<table border=\"1\" class=\"dataframe\">\n",
       "  <thead>\n",
       "    <tr style=\"text-align: right;\">\n",
       "      <th></th>\n",
       "      <th>Salary</th>\n",
       "      <th>Age</th>\n",
       "      <th>Seniority</th>\n",
       "      <th>Ahmet</th>\n",
       "    </tr>\n",
       "  </thead>\n",
       "  <tbody>\n",
       "    <tr>\n",
       "      <th>Adem</th>\n",
       "      <td>-0.501200</td>\n",
       "      <td>-0.708456</td>\n",
       "      <td>-1.608845</td>\n",
       "      <td>10</td>\n",
       "    </tr>\n",
       "    <tr>\n",
       "      <th>Derya</th>\n",
       "      <td>-0.068166</td>\n",
       "      <td>-0.972083</td>\n",
       "      <td>-1.039645</td>\n",
       "      <td>10</td>\n",
       "    </tr>\n",
       "    <tr>\n",
       "      <th>Deniz</th>\n",
       "      <td>-1.167535</td>\n",
       "      <td>-0.160249</td>\n",
       "      <td>-1.147833</td>\n",
       "      <td>10</td>\n",
       "    </tr>\n",
       "    <tr>\n",
       "      <th>Ahmet</th>\n",
       "      <td>1.776403</td>\n",
       "      <td>0.585762</td>\n",
       "      <td>-0.528923</td>\n",
       "      <td>10</td>\n",
       "    </tr>\n",
       "  </tbody>\n",
       "</table>\n",
       "</div>"
      ],
      "text/plain": [
       "         Salary       Age  Seniority  Ahmet\n",
       "Adem  -0.501200 -0.708456  -1.608845     10\n",
       "Derya -0.068166 -0.972083  -1.039645     10\n",
       "Deniz -1.167535 -0.160249  -1.147833     10\n",
       "Ahmet  1.776403  0.585762  -0.528923     10"
      ]
     },
     "execution_count": 37,
     "metadata": {},
     "output_type": "execute_result"
    }
   ],
   "source": [
    "new_df"
   ]
  },
  {
   "cell_type": "code",
   "execution_count": 38,
   "id": "c80c586e-2bae-4468-bbf5-b4a3003cd973",
   "metadata": {},
   "outputs": [
    {
     "data": {
      "text/html": [
       "<div>\n",
       "<style scoped>\n",
       "    .dataframe tbody tr th:only-of-type {\n",
       "        vertical-align: middle;\n",
       "    }\n",
       "\n",
       "    .dataframe tbody tr th {\n",
       "        vertical-align: top;\n",
       "    }\n",
       "\n",
       "    .dataframe thead th {\n",
       "        text-align: right;\n",
       "    }\n",
       "</style>\n",
       "<table border=\"1\" class=\"dataframe\">\n",
       "  <thead>\n",
       "    <tr style=\"text-align: right;\">\n",
       "      <th></th>\n",
       "      <th>Salary</th>\n",
       "      <th>Age</th>\n",
       "      <th>Seniority</th>\n",
       "      <th>Ahmet</th>\n",
       "    </tr>\n",
       "  </thead>\n",
       "  <tbody>\n",
       "    <tr>\n",
       "      <th>Adem</th>\n",
       "      <td>-0.501200</td>\n",
       "      <td>-0.708456</td>\n",
       "      <td>-1.608845</td>\n",
       "      <td>10</td>\n",
       "    </tr>\n",
       "    <tr>\n",
       "      <th>Derya</th>\n",
       "      <td>-0.068166</td>\n",
       "      <td>-0.972083</td>\n",
       "      <td>-1.039645</td>\n",
       "      <td>10</td>\n",
       "    </tr>\n",
       "    <tr>\n",
       "      <th>Deniz</th>\n",
       "      <td>-1.167535</td>\n",
       "      <td>-0.160249</td>\n",
       "      <td>-1.147833</td>\n",
       "      <td>10</td>\n",
       "    </tr>\n",
       "  </tbody>\n",
       "</table>\n",
       "</div>"
      ],
      "text/plain": [
       "         Salary       Age  Seniority  Ahmet\n",
       "Adem  -0.501200 -0.708456  -1.608845     10\n",
       "Derya -0.068166 -0.972083  -1.039645     10\n",
       "Deniz -1.167535 -0.160249  -1.147833     10"
      ]
     },
     "execution_count": 38,
     "metadata": {},
     "output_type": "execute_result"
    }
   ],
   "source": [
    "new_df.drop(\"Ahmet\")"
   ]
  },
  {
   "cell_type": "code",
   "execution_count": 39,
   "id": "3f4fe253-0253-4a5b-b897-a98a3d34ba41",
   "metadata": {},
   "outputs": [
    {
     "data": {
      "text/html": [
       "<div>\n",
       "<style scoped>\n",
       "    .dataframe tbody tr th:only-of-type {\n",
       "        vertical-align: middle;\n",
       "    }\n",
       "\n",
       "    .dataframe tbody tr th {\n",
       "        vertical-align: top;\n",
       "    }\n",
       "\n",
       "    .dataframe thead th {\n",
       "        text-align: right;\n",
       "    }\n",
       "</style>\n",
       "<table border=\"1\" class=\"dataframe\">\n",
       "  <thead>\n",
       "    <tr style=\"text-align: right;\">\n",
       "      <th></th>\n",
       "      <th>Salary</th>\n",
       "      <th>Age</th>\n",
       "      <th>Seniority</th>\n",
       "      <th>Ahmet</th>\n",
       "    </tr>\n",
       "  </thead>\n",
       "  <tbody>\n",
       "    <tr>\n",
       "      <th>Adem</th>\n",
       "      <td>-0.501200</td>\n",
       "      <td>-0.708456</td>\n",
       "      <td>-1.608845</td>\n",
       "      <td>10</td>\n",
       "    </tr>\n",
       "    <tr>\n",
       "      <th>Derya</th>\n",
       "      <td>-0.068166</td>\n",
       "      <td>-0.972083</td>\n",
       "      <td>-1.039645</td>\n",
       "      <td>10</td>\n",
       "    </tr>\n",
       "    <tr>\n",
       "      <th>Deniz</th>\n",
       "      <td>-1.167535</td>\n",
       "      <td>-0.160249</td>\n",
       "      <td>-1.147833</td>\n",
       "      <td>10</td>\n",
       "    </tr>\n",
       "    <tr>\n",
       "      <th>Ahmet</th>\n",
       "      <td>1.776403</td>\n",
       "      <td>0.585762</td>\n",
       "      <td>-0.528923</td>\n",
       "      <td>10</td>\n",
       "    </tr>\n",
       "  </tbody>\n",
       "</table>\n",
       "</div>"
      ],
      "text/plain": [
       "         Salary       Age  Seniority  Ahmet\n",
       "Adem  -0.501200 -0.708456  -1.608845     10\n",
       "Derya -0.068166 -0.972083  -1.039645     10\n",
       "Deniz -1.167535 -0.160249  -1.147833     10\n",
       "Ahmet  1.776403  0.585762  -0.528923     10"
      ]
     },
     "execution_count": 39,
     "metadata": {},
     "output_type": "execute_result"
    }
   ],
   "source": [
    "new_df"
   ]
  },
  {
   "cell_type": "code",
   "execution_count": 40,
   "id": "4f61ab6f-ad94-4e22-89e2-95f8db2dcbea",
   "metadata": {},
   "outputs": [],
   "source": [
    "new_df.drop(\"Ahmet\", axis=1, inplace=True)"
   ]
  },
  {
   "cell_type": "code",
   "execution_count": 41,
   "id": "049ef498-4087-4f31-a397-6c039c54a6d3",
   "metadata": {},
   "outputs": [
    {
     "data": {
      "text/html": [
       "<div>\n",
       "<style scoped>\n",
       "    .dataframe tbody tr th:only-of-type {\n",
       "        vertical-align: middle;\n",
       "    }\n",
       "\n",
       "    .dataframe tbody tr th {\n",
       "        vertical-align: top;\n",
       "    }\n",
       "\n",
       "    .dataframe thead th {\n",
       "        text-align: right;\n",
       "    }\n",
       "</style>\n",
       "<table border=\"1\" class=\"dataframe\">\n",
       "  <thead>\n",
       "    <tr style=\"text-align: right;\">\n",
       "      <th></th>\n",
       "      <th>Salary</th>\n",
       "      <th>Age</th>\n",
       "      <th>Seniority</th>\n",
       "    </tr>\n",
       "  </thead>\n",
       "  <tbody>\n",
       "    <tr>\n",
       "      <th>Adem</th>\n",
       "      <td>-0.501200</td>\n",
       "      <td>-0.708456</td>\n",
       "      <td>-1.608845</td>\n",
       "    </tr>\n",
       "    <tr>\n",
       "      <th>Derya</th>\n",
       "      <td>-0.068166</td>\n",
       "      <td>-0.972083</td>\n",
       "      <td>-1.039645</td>\n",
       "    </tr>\n",
       "    <tr>\n",
       "      <th>Deniz</th>\n",
       "      <td>-1.167535</td>\n",
       "      <td>-0.160249</td>\n",
       "      <td>-1.147833</td>\n",
       "    </tr>\n",
       "    <tr>\n",
       "      <th>Ahmet</th>\n",
       "      <td>1.776403</td>\n",
       "      <td>0.585762</td>\n",
       "      <td>-0.528923</td>\n",
       "    </tr>\n",
       "  </tbody>\n",
       "</table>\n",
       "</div>"
      ],
      "text/plain": [
       "         Salary       Age  Seniority\n",
       "Adem  -0.501200 -0.708456  -1.608845\n",
       "Derya -0.068166 -0.972083  -1.039645\n",
       "Deniz -1.167535 -0.160249  -1.147833\n",
       "Ahmet  1.776403  0.585762  -0.528923"
      ]
     },
     "execution_count": 41,
     "metadata": {},
     "output_type": "execute_result"
    }
   ],
   "source": [
    "new_df"
   ]
  },
  {
   "cell_type": "code",
   "execution_count": 42,
   "id": "3ab0ea64-3434-47c9-98bc-f69b7f9b58cd",
   "metadata": {},
   "outputs": [
    {
     "data": {
      "text/html": [
       "<div>\n",
       "<style scoped>\n",
       "    .dataframe tbody tr th:only-of-type {\n",
       "        vertical-align: middle;\n",
       "    }\n",
       "\n",
       "    .dataframe tbody tr th {\n",
       "        vertical-align: top;\n",
       "    }\n",
       "\n",
       "    .dataframe thead th {\n",
       "        text-align: right;\n",
       "    }\n",
       "</style>\n",
       "<table border=\"1\" class=\"dataframe\">\n",
       "  <thead>\n",
       "    <tr style=\"text-align: right;\">\n",
       "      <th></th>\n",
       "      <th>Salary</th>\n",
       "      <th>Age</th>\n",
       "      <th>Seniority</th>\n",
       "    </tr>\n",
       "  </thead>\n",
       "  <tbody>\n",
       "    <tr>\n",
       "      <th>Adem</th>\n",
       "      <td>-0.501200</td>\n",
       "      <td>-0.708456</td>\n",
       "      <td>-1.608845</td>\n",
       "    </tr>\n",
       "    <tr>\n",
       "      <th>Derya</th>\n",
       "      <td>-0.068166</td>\n",
       "      <td>-0.972083</td>\n",
       "      <td>-1.039645</td>\n",
       "    </tr>\n",
       "    <tr>\n",
       "      <th>Deniz</th>\n",
       "      <td>-1.167535</td>\n",
       "      <td>-0.160249</td>\n",
       "      <td>-1.147833</td>\n",
       "    </tr>\n",
       "  </tbody>\n",
       "</table>\n",
       "</div>"
      ],
      "text/plain": [
       "         Salary       Age  Seniority\n",
       "Adem  -0.501200 -0.708456  -1.608845\n",
       "Derya -0.068166 -0.972083  -1.039645\n",
       "Deniz -1.167535 -0.160249  -1.147833"
      ]
     },
     "execution_count": 42,
     "metadata": {},
     "output_type": "execute_result"
    }
   ],
   "source": [
    "new_df.drop(\"Ahmet\", axis=0)"
   ]
  },
  {
   "cell_type": "code",
   "execution_count": 43,
   "id": "924f2e41-d559-4041-aece-910612e6a5ea",
   "metadata": {},
   "outputs": [
    {
     "data": {
      "text/html": [
       "<div>\n",
       "<style scoped>\n",
       "    .dataframe tbody tr th:only-of-type {\n",
       "        vertical-align: middle;\n",
       "    }\n",
       "\n",
       "    .dataframe tbody tr th {\n",
       "        vertical-align: top;\n",
       "    }\n",
       "\n",
       "    .dataframe thead th {\n",
       "        text-align: right;\n",
       "    }\n",
       "</style>\n",
       "<table border=\"1\" class=\"dataframe\">\n",
       "  <thead>\n",
       "    <tr style=\"text-align: right;\">\n",
       "      <th></th>\n",
       "      <th>Salary</th>\n",
       "      <th>Age</th>\n",
       "      <th>Seniority</th>\n",
       "    </tr>\n",
       "  </thead>\n",
       "  <tbody>\n",
       "    <tr>\n",
       "      <th>Adem</th>\n",
       "      <td>-0.501200</td>\n",
       "      <td>-0.708456</td>\n",
       "      <td>-1.608845</td>\n",
       "    </tr>\n",
       "    <tr>\n",
       "      <th>Derya</th>\n",
       "      <td>-0.068166</td>\n",
       "      <td>-0.972083</td>\n",
       "      <td>-1.039645</td>\n",
       "    </tr>\n",
       "    <tr>\n",
       "      <th>Deniz</th>\n",
       "      <td>-1.167535</td>\n",
       "      <td>-0.160249</td>\n",
       "      <td>-1.147833</td>\n",
       "    </tr>\n",
       "    <tr>\n",
       "      <th>Ahmet</th>\n",
       "      <td>1.776403</td>\n",
       "      <td>0.585762</td>\n",
       "      <td>-0.528923</td>\n",
       "    </tr>\n",
       "  </tbody>\n",
       "</table>\n",
       "</div>"
      ],
      "text/plain": [
       "         Salary       Age  Seniority\n",
       "Adem  -0.501200 -0.708456  -1.608845\n",
       "Derya -0.068166 -0.972083  -1.039645\n",
       "Deniz -1.167535 -0.160249  -1.147833\n",
       "Ahmet  1.776403  0.585762  -0.528923"
      ]
     },
     "execution_count": 43,
     "metadata": {},
     "output_type": "execute_result"
    }
   ],
   "source": [
    "new_df"
   ]
  },
  {
   "cell_type": "code",
   "execution_count": 45,
   "id": "82a8a876-4b74-46b5-a53b-70ce8a258a59",
   "metadata": {},
   "outputs": [
    {
     "data": {
      "text/plain": [
       "Salary      -0.068166\n",
       "Age         -0.972083\n",
       "Seniority   -1.039645\n",
       "Name: Derya, dtype: float64"
      ]
     },
     "execution_count": 45,
     "metadata": {},
     "output_type": "execute_result"
    }
   ],
   "source": [
    "new_df.loc[\"Derya\"]"
   ]
  },
  {
   "cell_type": "code",
   "execution_count": 46,
   "id": "ed8b5fce-c3c1-4c6f-ba55-4aaeb3ff1036",
   "metadata": {},
   "outputs": [
    {
     "data": {
      "text/plain": [
       "np.float64(-0.06816637895872339)"
      ]
     },
     "execution_count": 46,
     "metadata": {},
     "output_type": "execute_result"
    }
   ],
   "source": [
    "new_df.loc[\"Derya\"][\"Salary\"]"
   ]
  },
  {
   "cell_type": "code",
   "execution_count": 47,
   "id": "60035cb8-2382-456e-a9dc-d4a53ff1be0a",
   "metadata": {},
   "outputs": [
    {
     "data": {
      "text/plain": [
       "np.float64(-0.06816637895872339)"
      ]
     },
     "execution_count": 47,
     "metadata": {},
     "output_type": "execute_result"
    }
   ],
   "source": [
    "new_df.loc[\"Derya\", \"Salary\"]"
   ]
  },
  {
   "cell_type": "code",
   "execution_count": 48,
   "id": "0304bc15-0f34-4649-b188-4fc277fa04ca",
   "metadata": {},
   "outputs": [],
   "source": [
    "new_df.loc[\"Derya\", \"Salary\"] = 100"
   ]
  },
  {
   "cell_type": "code",
   "execution_count": 50,
   "id": "23f69367-1af8-4a58-81b7-ca6eac1a5786",
   "metadata": {},
   "outputs": [
    {
     "data": {
      "text/html": [
       "<div>\n",
       "<style scoped>\n",
       "    .dataframe tbody tr th:only-of-type {\n",
       "        vertical-align: middle;\n",
       "    }\n",
       "\n",
       "    .dataframe tbody tr th {\n",
       "        vertical-align: top;\n",
       "    }\n",
       "\n",
       "    .dataframe thead th {\n",
       "        text-align: right;\n",
       "    }\n",
       "</style>\n",
       "<table border=\"1\" class=\"dataframe\">\n",
       "  <thead>\n",
       "    <tr style=\"text-align: right;\">\n",
       "      <th></th>\n",
       "      <th>Salary</th>\n",
       "      <th>Age</th>\n",
       "      <th>Seniority</th>\n",
       "    </tr>\n",
       "  </thead>\n",
       "  <tbody>\n",
       "    <tr>\n",
       "      <th>Adem</th>\n",
       "      <td>-0.501200</td>\n",
       "      <td>-0.708456</td>\n",
       "      <td>-1.608845</td>\n",
       "    </tr>\n",
       "    <tr>\n",
       "      <th>Derya</th>\n",
       "      <td>100.000000</td>\n",
       "      <td>-0.972083</td>\n",
       "      <td>-1.039645</td>\n",
       "    </tr>\n",
       "    <tr>\n",
       "      <th>Deniz</th>\n",
       "      <td>-1.167535</td>\n",
       "      <td>-0.160249</td>\n",
       "      <td>-1.147833</td>\n",
       "    </tr>\n",
       "    <tr>\n",
       "      <th>Ahmet</th>\n",
       "      <td>1.776403</td>\n",
       "      <td>0.585762</td>\n",
       "      <td>-0.528923</td>\n",
       "    </tr>\n",
       "  </tbody>\n",
       "</table>\n",
       "</div>"
      ],
      "text/plain": [
       "           Salary       Age  Seniority\n",
       "Adem    -0.501200 -0.708456  -1.608845\n",
       "Derya  100.000000 -0.972083  -1.039645\n",
       "Deniz   -1.167535 -0.160249  -1.147833\n",
       "Ahmet    1.776403  0.585762  -0.528923"
      ]
     },
     "execution_count": 50,
     "metadata": {},
     "output_type": "execute_result"
    }
   ],
   "source": [
    "new_df"
   ]
  },
  {
   "cell_type": "code",
   "execution_count": 51,
   "id": "7e118365-faea-4386-a366-32e16bc37b65",
   "metadata": {},
   "outputs": [
    {
     "data": {
      "text/html": [
       "<div>\n",
       "<style scoped>\n",
       "    .dataframe tbody tr th:only-of-type {\n",
       "        vertical-align: middle;\n",
       "    }\n",
       "\n",
       "    .dataframe tbody tr th {\n",
       "        vertical-align: top;\n",
       "    }\n",
       "\n",
       "    .dataframe thead th {\n",
       "        text-align: right;\n",
       "    }\n",
       "</style>\n",
       "<table border=\"1\" class=\"dataframe\">\n",
       "  <thead>\n",
       "    <tr style=\"text-align: right;\">\n",
       "      <th></th>\n",
       "      <th>Salary</th>\n",
       "      <th>Age</th>\n",
       "      <th>Seniority</th>\n",
       "    </tr>\n",
       "  </thead>\n",
       "  <tbody>\n",
       "    <tr>\n",
       "      <th>Adem</th>\n",
       "      <td>False</td>\n",
       "      <td>False</td>\n",
       "      <td>False</td>\n",
       "    </tr>\n",
       "    <tr>\n",
       "      <th>Derya</th>\n",
       "      <td>True</td>\n",
       "      <td>False</td>\n",
       "      <td>False</td>\n",
       "    </tr>\n",
       "    <tr>\n",
       "      <th>Deniz</th>\n",
       "      <td>False</td>\n",
       "      <td>False</td>\n",
       "      <td>False</td>\n",
       "    </tr>\n",
       "    <tr>\n",
       "      <th>Ahmet</th>\n",
       "      <td>True</td>\n",
       "      <td>True</td>\n",
       "      <td>False</td>\n",
       "    </tr>\n",
       "  </tbody>\n",
       "</table>\n",
       "</div>"
      ],
      "text/plain": [
       "       Salary    Age  Seniority\n",
       "Adem    False  False      False\n",
       "Derya    True  False      False\n",
       "Deniz   False  False      False\n",
       "Ahmet    True   True      False"
      ]
     },
     "execution_count": 51,
     "metadata": {},
     "output_type": "execute_result"
    }
   ],
   "source": [
    "new_df > 0"
   ]
  },
  {
   "cell_type": "code",
   "execution_count": 52,
   "id": "ac64aca1-357e-4093-a341-e81bfbf99351",
   "metadata": {},
   "outputs": [
    {
     "data": {
      "text/html": [
       "<div>\n",
       "<style scoped>\n",
       "    .dataframe tbody tr th:only-of-type {\n",
       "        vertical-align: middle;\n",
       "    }\n",
       "\n",
       "    .dataframe tbody tr th {\n",
       "        vertical-align: top;\n",
       "    }\n",
       "\n",
       "    .dataframe thead th {\n",
       "        text-align: right;\n",
       "    }\n",
       "</style>\n",
       "<table border=\"1\" class=\"dataframe\">\n",
       "  <thead>\n",
       "    <tr style=\"text-align: right;\">\n",
       "      <th></th>\n",
       "      <th>Salary</th>\n",
       "      <th>Age</th>\n",
       "      <th>Seniority</th>\n",
       "    </tr>\n",
       "  </thead>\n",
       "  <tbody>\n",
       "    <tr>\n",
       "      <th>Adem</th>\n",
       "      <td>NaN</td>\n",
       "      <td>NaN</td>\n",
       "      <td>NaN</td>\n",
       "    </tr>\n",
       "    <tr>\n",
       "      <th>Derya</th>\n",
       "      <td>100.000000</td>\n",
       "      <td>NaN</td>\n",
       "      <td>NaN</td>\n",
       "    </tr>\n",
       "    <tr>\n",
       "      <th>Deniz</th>\n",
       "      <td>NaN</td>\n",
       "      <td>NaN</td>\n",
       "      <td>NaN</td>\n",
       "    </tr>\n",
       "    <tr>\n",
       "      <th>Ahmet</th>\n",
       "      <td>1.776403</td>\n",
       "      <td>0.585762</td>\n",
       "      <td>NaN</td>\n",
       "    </tr>\n",
       "  </tbody>\n",
       "</table>\n",
       "</div>"
      ],
      "text/plain": [
       "           Salary       Age  Seniority\n",
       "Adem          NaN       NaN        NaN\n",
       "Derya  100.000000       NaN        NaN\n",
       "Deniz         NaN       NaN        NaN\n",
       "Ahmet    1.776403  0.585762        NaN"
      ]
     },
     "execution_count": 52,
     "metadata": {},
     "output_type": "execute_result"
    }
   ],
   "source": [
    "new_df[new_df > 0]"
   ]
  },
  {
   "cell_type": "code",
   "execution_count": 53,
   "id": "6d0cca8d-c184-4cac-8d39-98f34e536044",
   "metadata": {},
   "outputs": [],
   "source": [
    "boolean_frame = new_df > 0"
   ]
  },
  {
   "cell_type": "code",
   "execution_count": 55,
   "id": "c8799beb-ceae-49d4-a412-3c52914a7ca3",
   "metadata": {},
   "outputs": [
    {
     "data": {
      "text/html": [
       "<div>\n",
       "<style scoped>\n",
       "    .dataframe tbody tr th:only-of-type {\n",
       "        vertical-align: middle;\n",
       "    }\n",
       "\n",
       "    .dataframe tbody tr th {\n",
       "        vertical-align: top;\n",
       "    }\n",
       "\n",
       "    .dataframe thead th {\n",
       "        text-align: right;\n",
       "    }\n",
       "</style>\n",
       "<table border=\"1\" class=\"dataframe\">\n",
       "  <thead>\n",
       "    <tr style=\"text-align: right;\">\n",
       "      <th></th>\n",
       "      <th>Salary</th>\n",
       "      <th>Age</th>\n",
       "      <th>Seniority</th>\n",
       "    </tr>\n",
       "  </thead>\n",
       "  <tbody>\n",
       "    <tr>\n",
       "      <th>Adem</th>\n",
       "      <td>NaN</td>\n",
       "      <td>NaN</td>\n",
       "      <td>NaN</td>\n",
       "    </tr>\n",
       "    <tr>\n",
       "      <th>Derya</th>\n",
       "      <td>100.000000</td>\n",
       "      <td>NaN</td>\n",
       "      <td>NaN</td>\n",
       "    </tr>\n",
       "    <tr>\n",
       "      <th>Deniz</th>\n",
       "      <td>NaN</td>\n",
       "      <td>NaN</td>\n",
       "      <td>NaN</td>\n",
       "    </tr>\n",
       "    <tr>\n",
       "      <th>Ahmet</th>\n",
       "      <td>1.776403</td>\n",
       "      <td>0.585762</td>\n",
       "      <td>NaN</td>\n",
       "    </tr>\n",
       "  </tbody>\n",
       "</table>\n",
       "</div>"
      ],
      "text/plain": [
       "           Salary       Age  Seniority\n",
       "Adem          NaN       NaN        NaN\n",
       "Derya  100.000000       NaN        NaN\n",
       "Deniz         NaN       NaN        NaN\n",
       "Ahmet    1.776403  0.585762        NaN"
      ]
     },
     "execution_count": 55,
     "metadata": {},
     "output_type": "execute_result"
    }
   ],
   "source": [
    "new_df[boolean_frame]"
   ]
  },
  {
   "cell_type": "code",
   "execution_count": 56,
   "id": "c006a868-285f-49fd-9577-e72174b40f33",
   "metadata": {},
   "outputs": [
    {
     "data": {
      "text/html": [
       "<div>\n",
       "<style scoped>\n",
       "    .dataframe tbody tr th:only-of-type {\n",
       "        vertical-align: middle;\n",
       "    }\n",
       "\n",
       "    .dataframe tbody tr th {\n",
       "        vertical-align: top;\n",
       "    }\n",
       "\n",
       "    .dataframe thead th {\n",
       "        text-align: right;\n",
       "    }\n",
       "</style>\n",
       "<table border=\"1\" class=\"dataframe\">\n",
       "  <thead>\n",
       "    <tr style=\"text-align: right;\">\n",
       "      <th></th>\n",
       "      <th>Salary</th>\n",
       "      <th>Age</th>\n",
       "      <th>Seniority</th>\n",
       "    </tr>\n",
       "  </thead>\n",
       "  <tbody>\n",
       "    <tr>\n",
       "      <th>Adem</th>\n",
       "      <td>NaN</td>\n",
       "      <td>NaN</td>\n",
       "      <td>NaN</td>\n",
       "    </tr>\n",
       "    <tr>\n",
       "      <th>Derya</th>\n",
       "      <td>100.000000</td>\n",
       "      <td>NaN</td>\n",
       "      <td>NaN</td>\n",
       "    </tr>\n",
       "    <tr>\n",
       "      <th>Deniz</th>\n",
       "      <td>NaN</td>\n",
       "      <td>NaN</td>\n",
       "      <td>NaN</td>\n",
       "    </tr>\n",
       "    <tr>\n",
       "      <th>Ahmet</th>\n",
       "      <td>1.776403</td>\n",
       "      <td>0.585762</td>\n",
       "      <td>NaN</td>\n",
       "    </tr>\n",
       "  </tbody>\n",
       "</table>\n",
       "</div>"
      ],
      "text/plain": [
       "           Salary       Age  Seniority\n",
       "Adem          NaN       NaN        NaN\n",
       "Derya  100.000000       NaN        NaN\n",
       "Deniz         NaN       NaN        NaN\n",
       "Ahmet    1.776403  0.585762        NaN"
      ]
     },
     "execution_count": 56,
     "metadata": {},
     "output_type": "execute_result"
    }
   ],
   "source": [
    "new_df[new_df > 0]"
   ]
  },
  {
   "cell_type": "code",
   "execution_count": 57,
   "id": "d79a7189-8b67-4683-8cf7-3238bd280631",
   "metadata": {},
   "outputs": [
    {
     "data": {
      "text/html": [
       "<div>\n",
       "<style scoped>\n",
       "    .dataframe tbody tr th:only-of-type {\n",
       "        vertical-align: middle;\n",
       "    }\n",
       "\n",
       "    .dataframe tbody tr th {\n",
       "        vertical-align: top;\n",
       "    }\n",
       "\n",
       "    .dataframe thead th {\n",
       "        text-align: right;\n",
       "    }\n",
       "</style>\n",
       "<table border=\"1\" class=\"dataframe\">\n",
       "  <thead>\n",
       "    <tr style=\"text-align: right;\">\n",
       "      <th></th>\n",
       "      <th>Salary</th>\n",
       "      <th>Age</th>\n",
       "      <th>Seniority</th>\n",
       "    </tr>\n",
       "  </thead>\n",
       "  <tbody>\n",
       "    <tr>\n",
       "      <th>Derya</th>\n",
       "      <td>100.000000</td>\n",
       "      <td>-0.972083</td>\n",
       "      <td>-1.039645</td>\n",
       "    </tr>\n",
       "    <tr>\n",
       "      <th>Ahmet</th>\n",
       "      <td>1.776403</td>\n",
       "      <td>0.585762</td>\n",
       "      <td>-0.528923</td>\n",
       "    </tr>\n",
       "  </tbody>\n",
       "</table>\n",
       "</div>"
      ],
      "text/plain": [
       "           Salary       Age  Seniority\n",
       "Derya  100.000000 -0.972083  -1.039645\n",
       "Ahmet    1.776403  0.585762  -0.528923"
      ]
     },
     "execution_count": 57,
     "metadata": {},
     "output_type": "execute_result"
    }
   ],
   "source": [
    "new_df[new_df[\"Salary\"] > 1]"
   ]
  },
  {
   "cell_type": "code",
   "execution_count": 58,
   "id": "b924d385-0afc-4517-b8b7-c534c9f4d5c1",
   "metadata": {},
   "outputs": [
    {
     "data": {
      "text/html": [
       "<div>\n",
       "<style scoped>\n",
       "    .dataframe tbody tr th:only-of-type {\n",
       "        vertical-align: middle;\n",
       "    }\n",
       "\n",
       "    .dataframe tbody tr th {\n",
       "        vertical-align: top;\n",
       "    }\n",
       "\n",
       "    .dataframe thead th {\n",
       "        text-align: right;\n",
       "    }\n",
       "</style>\n",
       "<table border=\"1\" class=\"dataframe\">\n",
       "  <thead>\n",
       "    <tr style=\"text-align: right;\">\n",
       "      <th></th>\n",
       "      <th>Salary</th>\n",
       "      <th>Age</th>\n",
       "      <th>Seniority</th>\n",
       "    </tr>\n",
       "  </thead>\n",
       "  <tbody>\n",
       "    <tr>\n",
       "      <th>Adem</th>\n",
       "      <td>-0.501200</td>\n",
       "      <td>-0.708456</td>\n",
       "      <td>-1.608845</td>\n",
       "    </tr>\n",
       "    <tr>\n",
       "      <th>Derya</th>\n",
       "      <td>100.000000</td>\n",
       "      <td>-0.972083</td>\n",
       "      <td>-1.039645</td>\n",
       "    </tr>\n",
       "    <tr>\n",
       "      <th>Deniz</th>\n",
       "      <td>-1.167535</td>\n",
       "      <td>-0.160249</td>\n",
       "      <td>-1.147833</td>\n",
       "    </tr>\n",
       "    <tr>\n",
       "      <th>Ahmet</th>\n",
       "      <td>1.776403</td>\n",
       "      <td>0.585762</td>\n",
       "      <td>-0.528923</td>\n",
       "    </tr>\n",
       "  </tbody>\n",
       "</table>\n",
       "</div>"
      ],
      "text/plain": [
       "           Salary       Age  Seniority\n",
       "Adem    -0.501200 -0.708456  -1.608845\n",
       "Derya  100.000000 -0.972083  -1.039645\n",
       "Deniz   -1.167535 -0.160249  -1.147833\n",
       "Ahmet    1.776403  0.585762  -0.528923"
      ]
     },
     "execution_count": 58,
     "metadata": {},
     "output_type": "execute_result"
    }
   ],
   "source": [
    "new_df"
   ]
  },
  {
   "cell_type": "code",
   "execution_count": 59,
   "id": "3c2ccc5f-7557-449b-9776-9429fa9bc92c",
   "metadata": {},
   "outputs": [
    {
     "data": {
      "text/html": [
       "<div>\n",
       "<style scoped>\n",
       "    .dataframe tbody tr th:only-of-type {\n",
       "        vertical-align: middle;\n",
       "    }\n",
       "\n",
       "    .dataframe tbody tr th {\n",
       "        vertical-align: top;\n",
       "    }\n",
       "\n",
       "    .dataframe thead th {\n",
       "        text-align: right;\n",
       "    }\n",
       "</style>\n",
       "<table border=\"1\" class=\"dataframe\">\n",
       "  <thead>\n",
       "    <tr style=\"text-align: right;\">\n",
       "      <th></th>\n",
       "      <th>Salary</th>\n",
       "      <th>Age</th>\n",
       "      <th>Seniority</th>\n",
       "    </tr>\n",
       "  </thead>\n",
       "  <tbody>\n",
       "  </tbody>\n",
       "</table>\n",
       "</div>"
      ],
      "text/plain": [
       "Empty DataFrame\n",
       "Columns: [Salary, Age, Seniority]\n",
       "Index: []"
      ]
     },
     "execution_count": 59,
     "metadata": {},
     "output_type": "execute_result"
    }
   ],
   "source": [
    "new_df[new_df[\"Age\"] > 1]"
   ]
  },
  {
   "cell_type": "code",
   "execution_count": 60,
   "id": "225ceeeb-4941-4870-b7c7-7445375c2857",
   "metadata": {},
   "outputs": [
    {
     "data": {
      "text/html": [
       "<div>\n",
       "<style scoped>\n",
       "    .dataframe tbody tr th:only-of-type {\n",
       "        vertical-align: middle;\n",
       "    }\n",
       "\n",
       "    .dataframe tbody tr th {\n",
       "        vertical-align: top;\n",
       "    }\n",
       "\n",
       "    .dataframe thead th {\n",
       "        text-align: right;\n",
       "    }\n",
       "</style>\n",
       "<table border=\"1\" class=\"dataframe\">\n",
       "  <thead>\n",
       "    <tr style=\"text-align: right;\">\n",
       "      <th></th>\n",
       "      <th>Salary</th>\n",
       "      <th>Age</th>\n",
       "      <th>Seniority</th>\n",
       "    </tr>\n",
       "  </thead>\n",
       "  <tbody>\n",
       "  </tbody>\n",
       "</table>\n",
       "</div>"
      ],
      "text/plain": [
       "Empty DataFrame\n",
       "Columns: [Salary, Age, Seniority]\n",
       "Index: []"
      ]
     },
     "execution_count": 60,
     "metadata": {},
     "output_type": "execute_result"
    }
   ],
   "source": [
    "new_df[new_df[\"Seniority\"] > 1]"
   ]
  },
  {
   "cell_type": "code",
   "execution_count": 61,
   "id": "b04652f2-08c3-43e5-9f31-c697c99e5e44",
   "metadata": {},
   "outputs": [
    {
     "data": {
      "text/html": [
       "<div>\n",
       "<style scoped>\n",
       "    .dataframe tbody tr th:only-of-type {\n",
       "        vertical-align: middle;\n",
       "    }\n",
       "\n",
       "    .dataframe tbody tr th {\n",
       "        vertical-align: top;\n",
       "    }\n",
       "\n",
       "    .dataframe thead th {\n",
       "        text-align: right;\n",
       "    }\n",
       "</style>\n",
       "<table border=\"1\" class=\"dataframe\">\n",
       "  <thead>\n",
       "    <tr style=\"text-align: right;\">\n",
       "      <th></th>\n",
       "      <th>Salary</th>\n",
       "      <th>Age</th>\n",
       "      <th>Seniority</th>\n",
       "    </tr>\n",
       "  </thead>\n",
       "  <tbody>\n",
       "    <tr>\n",
       "      <th>Ahmet</th>\n",
       "      <td>1.776403</td>\n",
       "      <td>0.585762</td>\n",
       "      <td>-0.528923</td>\n",
       "    </tr>\n",
       "  </tbody>\n",
       "</table>\n",
       "</div>"
      ],
      "text/plain": [
       "         Salary       Age  Seniority\n",
       "Ahmet  1.776403  0.585762  -0.528923"
      ]
     },
     "execution_count": 61,
     "metadata": {},
     "output_type": "execute_result"
    }
   ],
   "source": [
    "new_df[new_df[\"Age\"] > 0]"
   ]
  },
  {
   "cell_type": "code",
   "execution_count": 62,
   "id": "0cfa816e-3ddf-46b3-947e-f53be68c352a",
   "metadata": {},
   "outputs": [
    {
     "data": {
      "text/html": [
       "<div>\n",
       "<style scoped>\n",
       "    .dataframe tbody tr th:only-of-type {\n",
       "        vertical-align: middle;\n",
       "    }\n",
       "\n",
       "    .dataframe tbody tr th {\n",
       "        vertical-align: top;\n",
       "    }\n",
       "\n",
       "    .dataframe thead th {\n",
       "        text-align: right;\n",
       "    }\n",
       "</style>\n",
       "<table border=\"1\" class=\"dataframe\">\n",
       "  <thead>\n",
       "    <tr style=\"text-align: right;\">\n",
       "      <th></th>\n",
       "      <th>Salary</th>\n",
       "      <th>Age</th>\n",
       "      <th>Seniority</th>\n",
       "    </tr>\n",
       "  </thead>\n",
       "  <tbody>\n",
       "    <tr>\n",
       "      <th>Adem</th>\n",
       "      <td>-0.501200</td>\n",
       "      <td>-0.708456</td>\n",
       "      <td>-1.608845</td>\n",
       "    </tr>\n",
       "    <tr>\n",
       "      <th>Derya</th>\n",
       "      <td>100.000000</td>\n",
       "      <td>-0.972083</td>\n",
       "      <td>-1.039645</td>\n",
       "    </tr>\n",
       "    <tr>\n",
       "      <th>Deniz</th>\n",
       "      <td>-1.167535</td>\n",
       "      <td>-0.160249</td>\n",
       "      <td>-1.147833</td>\n",
       "    </tr>\n",
       "    <tr>\n",
       "      <th>Ahmet</th>\n",
       "      <td>1.776403</td>\n",
       "      <td>0.585762</td>\n",
       "      <td>-0.528923</td>\n",
       "    </tr>\n",
       "  </tbody>\n",
       "</table>\n",
       "</div>"
      ],
      "text/plain": [
       "           Salary       Age  Seniority\n",
       "Adem    -0.501200 -0.708456  -1.608845\n",
       "Derya  100.000000 -0.972083  -1.039645\n",
       "Deniz   -1.167535 -0.160249  -1.147833\n",
       "Ahmet    1.776403  0.585762  -0.528923"
      ]
     },
     "execution_count": 62,
     "metadata": {},
     "output_type": "execute_result"
    }
   ],
   "source": [
    "new_df"
   ]
  },
  {
   "cell_type": "code",
   "execution_count": 63,
   "id": "d993eb74-80fd-4c0a-9d15-8a93ff38a65d",
   "metadata": {},
   "outputs": [
    {
     "data": {
      "text/html": [
       "<div>\n",
       "<style scoped>\n",
       "    .dataframe tbody tr th:only-of-type {\n",
       "        vertical-align: middle;\n",
       "    }\n",
       "\n",
       "    .dataframe tbody tr th {\n",
       "        vertical-align: top;\n",
       "    }\n",
       "\n",
       "    .dataframe thead th {\n",
       "        text-align: right;\n",
       "    }\n",
       "</style>\n",
       "<table border=\"1\" class=\"dataframe\">\n",
       "  <thead>\n",
       "    <tr style=\"text-align: right;\">\n",
       "      <th></th>\n",
       "      <th>index</th>\n",
       "      <th>Salary</th>\n",
       "      <th>Age</th>\n",
       "      <th>Seniority</th>\n",
       "    </tr>\n",
       "  </thead>\n",
       "  <tbody>\n",
       "    <tr>\n",
       "      <th>0</th>\n",
       "      <td>Adem</td>\n",
       "      <td>-0.501200</td>\n",
       "      <td>-0.708456</td>\n",
       "      <td>-1.608845</td>\n",
       "    </tr>\n",
       "    <tr>\n",
       "      <th>1</th>\n",
       "      <td>Derya</td>\n",
       "      <td>100.000000</td>\n",
       "      <td>-0.972083</td>\n",
       "      <td>-1.039645</td>\n",
       "    </tr>\n",
       "    <tr>\n",
       "      <th>2</th>\n",
       "      <td>Deniz</td>\n",
       "      <td>-1.167535</td>\n",
       "      <td>-0.160249</td>\n",
       "      <td>-1.147833</td>\n",
       "    </tr>\n",
       "    <tr>\n",
       "      <th>3</th>\n",
       "      <td>Ahmet</td>\n",
       "      <td>1.776403</td>\n",
       "      <td>0.585762</td>\n",
       "      <td>-0.528923</td>\n",
       "    </tr>\n",
       "  </tbody>\n",
       "</table>\n",
       "</div>"
      ],
      "text/plain": [
       "   index      Salary       Age  Seniority\n",
       "0   Adem   -0.501200 -0.708456  -1.608845\n",
       "1  Derya  100.000000 -0.972083  -1.039645\n",
       "2  Deniz   -1.167535 -0.160249  -1.147833\n",
       "3  Ahmet    1.776403  0.585762  -0.528923"
      ]
     },
     "execution_count": 63,
     "metadata": {},
     "output_type": "execute_result"
    }
   ],
   "source": [
    "new_df.reset_index()"
   ]
  },
  {
   "cell_type": "code",
   "execution_count": 64,
   "id": "918e917c-30f7-408f-9110-f57606845d3d",
   "metadata": {},
   "outputs": [
    {
     "data": {
      "text/html": [
       "<div>\n",
       "<style scoped>\n",
       "    .dataframe tbody tr th:only-of-type {\n",
       "        vertical-align: middle;\n",
       "    }\n",
       "\n",
       "    .dataframe tbody tr th {\n",
       "        vertical-align: top;\n",
       "    }\n",
       "\n",
       "    .dataframe thead th {\n",
       "        text-align: right;\n",
       "    }\n",
       "</style>\n",
       "<table border=\"1\" class=\"dataframe\">\n",
       "  <thead>\n",
       "    <tr style=\"text-align: right;\">\n",
       "      <th></th>\n",
       "      <th>Salary</th>\n",
       "      <th>Age</th>\n",
       "      <th>Seniority</th>\n",
       "    </tr>\n",
       "  </thead>\n",
       "  <tbody>\n",
       "    <tr>\n",
       "      <th>Adem</th>\n",
       "      <td>-0.501200</td>\n",
       "      <td>-0.708456</td>\n",
       "      <td>-1.608845</td>\n",
       "    </tr>\n",
       "    <tr>\n",
       "      <th>Derya</th>\n",
       "      <td>100.000000</td>\n",
       "      <td>-0.972083</td>\n",
       "      <td>-1.039645</td>\n",
       "    </tr>\n",
       "    <tr>\n",
       "      <th>Deniz</th>\n",
       "      <td>-1.167535</td>\n",
       "      <td>-0.160249</td>\n",
       "      <td>-1.147833</td>\n",
       "    </tr>\n",
       "    <tr>\n",
       "      <th>Ahmet</th>\n",
       "      <td>1.776403</td>\n",
       "      <td>0.585762</td>\n",
       "      <td>-0.528923</td>\n",
       "    </tr>\n",
       "  </tbody>\n",
       "</table>\n",
       "</div>"
      ],
      "text/plain": [
       "           Salary       Age  Seniority\n",
       "Adem    -0.501200 -0.708456  -1.608845\n",
       "Derya  100.000000 -0.972083  -1.039645\n",
       "Deniz   -1.167535 -0.160249  -1.147833\n",
       "Ahmet    1.776403  0.585762  -0.528923"
      ]
     },
     "execution_count": 64,
     "metadata": {},
     "output_type": "execute_result"
    }
   ],
   "source": [
    "new_df"
   ]
  },
  {
   "cell_type": "code",
   "execution_count": 65,
   "id": "eed8e6e6-1954-402e-8e9b-3476691c0842",
   "metadata": {},
   "outputs": [],
   "source": [
    "reset_frame = new_df.reset_index()"
   ]
  },
  {
   "cell_type": "code",
   "execution_count": 66,
   "id": "d2adc53f-9649-4eb3-ab75-9dba026f03cb",
   "metadata": {},
   "outputs": [
    {
     "data": {
      "text/html": [
       "<div>\n",
       "<style scoped>\n",
       "    .dataframe tbody tr th:only-of-type {\n",
       "        vertical-align: middle;\n",
       "    }\n",
       "\n",
       "    .dataframe tbody tr th {\n",
       "        vertical-align: top;\n",
       "    }\n",
       "\n",
       "    .dataframe thead th {\n",
       "        text-align: right;\n",
       "    }\n",
       "</style>\n",
       "<table border=\"1\" class=\"dataframe\">\n",
       "  <thead>\n",
       "    <tr style=\"text-align: right;\">\n",
       "      <th></th>\n",
       "      <th>index</th>\n",
       "      <th>Salary</th>\n",
       "      <th>Age</th>\n",
       "      <th>Seniority</th>\n",
       "    </tr>\n",
       "  </thead>\n",
       "  <tbody>\n",
       "    <tr>\n",
       "      <th>0</th>\n",
       "      <td>Adem</td>\n",
       "      <td>-0.501200</td>\n",
       "      <td>-0.708456</td>\n",
       "      <td>-1.608845</td>\n",
       "    </tr>\n",
       "    <tr>\n",
       "      <th>1</th>\n",
       "      <td>Derya</td>\n",
       "      <td>100.000000</td>\n",
       "      <td>-0.972083</td>\n",
       "      <td>-1.039645</td>\n",
       "    </tr>\n",
       "    <tr>\n",
       "      <th>2</th>\n",
       "      <td>Deniz</td>\n",
       "      <td>-1.167535</td>\n",
       "      <td>-0.160249</td>\n",
       "      <td>-1.147833</td>\n",
       "    </tr>\n",
       "    <tr>\n",
       "      <th>3</th>\n",
       "      <td>Ahmet</td>\n",
       "      <td>1.776403</td>\n",
       "      <td>0.585762</td>\n",
       "      <td>-0.528923</td>\n",
       "    </tr>\n",
       "  </tbody>\n",
       "</table>\n",
       "</div>"
      ],
      "text/plain": [
       "   index      Salary       Age  Seniority\n",
       "0   Adem   -0.501200 -0.708456  -1.608845\n",
       "1  Derya  100.000000 -0.972083  -1.039645\n",
       "2  Deniz   -1.167535 -0.160249  -1.147833\n",
       "3  Ahmet    1.776403  0.585762  -0.528923"
      ]
     },
     "execution_count": 66,
     "metadata": {},
     "output_type": "execute_result"
    }
   ],
   "source": [
    "reset_frame"
   ]
  },
  {
   "cell_type": "code",
   "execution_count": 67,
   "id": "85e636d8-ef6e-4600-bd5b-b2bb079d52b7",
   "metadata": {},
   "outputs": [
    {
     "data": {
      "text/plain": [
       "index            Adem\n",
       "Salary        -0.5012\n",
       "Age         -0.708456\n",
       "Seniority   -1.608845\n",
       "Name: 0, dtype: object"
      ]
     },
     "execution_count": 67,
     "metadata": {},
     "output_type": "execute_result"
    }
   ],
   "source": [
    "reset_frame.loc[0]"
   ]
  },
  {
   "cell_type": "code",
   "execution_count": 68,
   "id": "7e85c6e6-c83f-4ed7-b8dd-47b53cedf577",
   "metadata": {},
   "outputs": [
    {
     "data": {
      "text/plain": [
       "index            Adem\n",
       "Salary        -0.5012\n",
       "Age         -0.708456\n",
       "Seniority   -1.608845\n",
       "Name: 0, dtype: object"
      ]
     },
     "execution_count": 68,
     "metadata": {},
     "output_type": "execute_result"
    }
   ],
   "source": [
    "reset_frame.iloc[0]"
   ]
  },
  {
   "cell_type": "code",
   "execution_count": 69,
   "id": "cee53475-7ee4-4c33-a6a0-15aac83ea164",
   "metadata": {},
   "outputs": [],
   "source": [
    "new_indices = [\"Ade\", \"Der\", \"Den\", \"Ahm\"]"
   ]
  },
  {
   "cell_type": "code",
   "execution_count": 70,
   "id": "4b5b0783-1fd0-4081-92e3-f7c2528dcd14",
   "metadata": {},
   "outputs": [],
   "source": [
    "new_df[\"NewIndex\"] = new_indices"
   ]
  },
  {
   "cell_type": "code",
   "execution_count": 71,
   "id": "37ca2695-e50a-4e3f-b78d-126b259d372e",
   "metadata": {},
   "outputs": [
    {
     "data": {
      "text/html": [
       "<div>\n",
       "<style scoped>\n",
       "    .dataframe tbody tr th:only-of-type {\n",
       "        vertical-align: middle;\n",
       "    }\n",
       "\n",
       "    .dataframe tbody tr th {\n",
       "        vertical-align: top;\n",
       "    }\n",
       "\n",
       "    .dataframe thead th {\n",
       "        text-align: right;\n",
       "    }\n",
       "</style>\n",
       "<table border=\"1\" class=\"dataframe\">\n",
       "  <thead>\n",
       "    <tr style=\"text-align: right;\">\n",
       "      <th></th>\n",
       "      <th>Salary</th>\n",
       "      <th>Age</th>\n",
       "      <th>Seniority</th>\n",
       "      <th>NewIndex</th>\n",
       "    </tr>\n",
       "  </thead>\n",
       "  <tbody>\n",
       "    <tr>\n",
       "      <th>Adem</th>\n",
       "      <td>-0.501200</td>\n",
       "      <td>-0.708456</td>\n",
       "      <td>-1.608845</td>\n",
       "      <td>Ade</td>\n",
       "    </tr>\n",
       "    <tr>\n",
       "      <th>Derya</th>\n",
       "      <td>100.000000</td>\n",
       "      <td>-0.972083</td>\n",
       "      <td>-1.039645</td>\n",
       "      <td>Der</td>\n",
       "    </tr>\n",
       "    <tr>\n",
       "      <th>Deniz</th>\n",
       "      <td>-1.167535</td>\n",
       "      <td>-0.160249</td>\n",
       "      <td>-1.147833</td>\n",
       "      <td>Den</td>\n",
       "    </tr>\n",
       "    <tr>\n",
       "      <th>Ahmet</th>\n",
       "      <td>1.776403</td>\n",
       "      <td>0.585762</td>\n",
       "      <td>-0.528923</td>\n",
       "      <td>Ahm</td>\n",
       "    </tr>\n",
       "  </tbody>\n",
       "</table>\n",
       "</div>"
      ],
      "text/plain": [
       "           Salary       Age  Seniority NewIndex\n",
       "Adem    -0.501200 -0.708456  -1.608845      Ade\n",
       "Derya  100.000000 -0.972083  -1.039645      Der\n",
       "Deniz   -1.167535 -0.160249  -1.147833      Den\n",
       "Ahmet    1.776403  0.585762  -0.528923      Ahm"
      ]
     },
     "execution_count": 71,
     "metadata": {},
     "output_type": "execute_result"
    }
   ],
   "source": [
    "new_df"
   ]
  },
  {
   "cell_type": "code",
   "execution_count": 73,
   "id": "f1734e7f-5d62-46f9-b92e-b12205549572",
   "metadata": {},
   "outputs": [],
   "source": [
    "new_df.set_index(\"NewIndex\", inplace=True)"
   ]
  },
  {
   "cell_type": "code",
   "execution_count": 74,
   "id": "91606302-58c8-4cdf-b175-422a979d4f51",
   "metadata": {},
   "outputs": [
    {
     "data": {
      "text/html": [
       "<div>\n",
       "<style scoped>\n",
       "    .dataframe tbody tr th:only-of-type {\n",
       "        vertical-align: middle;\n",
       "    }\n",
       "\n",
       "    .dataframe tbody tr th {\n",
       "        vertical-align: top;\n",
       "    }\n",
       "\n",
       "    .dataframe thead th {\n",
       "        text-align: right;\n",
       "    }\n",
       "</style>\n",
       "<table border=\"1\" class=\"dataframe\">\n",
       "  <thead>\n",
       "    <tr style=\"text-align: right;\">\n",
       "      <th></th>\n",
       "      <th>Salary</th>\n",
       "      <th>Age</th>\n",
       "      <th>Seniority</th>\n",
       "    </tr>\n",
       "    <tr>\n",
       "      <th>NewIndex</th>\n",
       "      <th></th>\n",
       "      <th></th>\n",
       "      <th></th>\n",
       "    </tr>\n",
       "  </thead>\n",
       "  <tbody>\n",
       "    <tr>\n",
       "      <th>Ade</th>\n",
       "      <td>-0.501200</td>\n",
       "      <td>-0.708456</td>\n",
       "      <td>-1.608845</td>\n",
       "    </tr>\n",
       "    <tr>\n",
       "      <th>Der</th>\n",
       "      <td>100.000000</td>\n",
       "      <td>-0.972083</td>\n",
       "      <td>-1.039645</td>\n",
       "    </tr>\n",
       "    <tr>\n",
       "      <th>Den</th>\n",
       "      <td>-1.167535</td>\n",
       "      <td>-0.160249</td>\n",
       "      <td>-1.147833</td>\n",
       "    </tr>\n",
       "    <tr>\n",
       "      <th>Ahm</th>\n",
       "      <td>1.776403</td>\n",
       "      <td>0.585762</td>\n",
       "      <td>-0.528923</td>\n",
       "    </tr>\n",
       "  </tbody>\n",
       "</table>\n",
       "</div>"
      ],
      "text/plain": [
       "              Salary       Age  Seniority\n",
       "NewIndex                                 \n",
       "Ade        -0.501200 -0.708456  -1.608845\n",
       "Der       100.000000 -0.972083  -1.039645\n",
       "Den        -1.167535 -0.160249  -1.147833\n",
       "Ahm         1.776403  0.585762  -0.528923"
      ]
     },
     "execution_count": 74,
     "metadata": {},
     "output_type": "execute_result"
    }
   ],
   "source": [
    "new_df"
   ]
  },
  {
   "cell_type": "code",
   "execution_count": 75,
   "id": "3a0db6cb-3e45-4155-945c-620afca8d332",
   "metadata": {},
   "outputs": [
    {
     "data": {
      "text/plain": [
       "Salary      -0.501200\n",
       "Age         -0.708456\n",
       "Seniority   -1.608845\n",
       "Name: Ade, dtype: float64"
      ]
     },
     "execution_count": 75,
     "metadata": {},
     "output_type": "execute_result"
    }
   ],
   "source": [
    "new_df.loc[\"Ade\"]"
   ]
  },
  {
   "cell_type": "code",
   "execution_count": 76,
   "id": "2790c066-f2fb-4841-bd12-40cd4e136203",
   "metadata": {},
   "outputs": [],
   "source": [
    "# multi index"
   ]
  },
  {
   "cell_type": "code",
   "execution_count": 77,
   "id": "ddd19663-0755-4a2c-b503-6a5bf9dfe4ca",
   "metadata": {},
   "outputs": [],
   "source": [
    "first_index = [\"Simpson\", \"Simpson\", \"Simpson\", \"South Park\", \"South Park\", \"South Park\"]"
   ]
  },
  {
   "cell_type": "code",
   "execution_count": 78,
   "id": "521240bb-eea0-48ec-9fd4-67f8b8efa5a3",
   "metadata": {},
   "outputs": [],
   "source": [
    "inner_index = [\"Homer\", \"Bart\", \"Marge\", \"Cartman\", \"Kenny\", \"Kyle\"]"
   ]
  },
  {
   "cell_type": "code",
   "execution_count": 79,
   "id": "b1aa7740-bd18-4067-b9f4-34c8986a971c",
   "metadata": {},
   "outputs": [],
   "source": [
    "zipped_index = list(zip(first_index, inner_index))"
   ]
  },
  {
   "cell_type": "code",
   "execution_count": 80,
   "id": "95426932-e21d-42a4-88cc-f03095ca195d",
   "metadata": {},
   "outputs": [
    {
     "data": {
      "text/plain": [
       "[('Simpson', 'Homer'),\n",
       " ('Simpson', 'Bart'),\n",
       " ('Simpson', 'Marge'),\n",
       " ('South Park', 'Cartman'),\n",
       " ('South Park', 'Kenny'),\n",
       " ('South Park', 'Kyle')]"
      ]
     },
     "execution_count": 80,
     "metadata": {},
     "output_type": "execute_result"
    }
   ],
   "source": [
    "zipped_index"
   ]
  },
  {
   "cell_type": "code",
   "execution_count": 81,
   "id": "869f0d30-518a-4a87-b72b-9202005fae41",
   "metadata": {},
   "outputs": [],
   "source": [
    "zipped_index = pd.MultiIndex.from_tuples(zipped_index)"
   ]
  },
  {
   "cell_type": "code",
   "execution_count": 82,
   "id": "57c682c0-6485-4753-8b06-158af5c0d5ac",
   "metadata": {},
   "outputs": [
    {
     "data": {
      "text/plain": [
       "MultiIndex([(   'Simpson',   'Homer'),\n",
       "            (   'Simpson',    'Bart'),\n",
       "            (   'Simpson',   'Marge'),\n",
       "            ('South Park', 'Cartman'),\n",
       "            ('South Park',   'Kenny'),\n",
       "            ('South Park',    'Kyle')],\n",
       "           )"
      ]
     },
     "execution_count": 82,
     "metadata": {},
     "output_type": "execute_result"
    }
   ],
   "source": [
    "zipped_index"
   ]
  },
  {
   "cell_type": "code",
   "execution_count": 83,
   "id": "42f31139-8683-4bd2-a2f9-fa64dd6bbb0b",
   "metadata": {},
   "outputs": [],
   "source": [
    "sample_values = np.ones((6,2))"
   ]
  },
  {
   "cell_type": "code",
   "execution_count": 85,
   "id": "febef941-f572-468e-a53e-f3ee4494fb87",
   "metadata": {},
   "outputs": [],
   "source": [
    "big_df = pd.DataFrame(sample_values, index=zipped_index, columns= [\"Age\", \"Salary\"])"
   ]
  },
  {
   "cell_type": "code",
   "execution_count": 86,
   "id": "0b7266c6-31ae-4d7c-a67c-619abb87f192",
   "metadata": {},
   "outputs": [
    {
     "data": {
      "text/html": [
       "<div>\n",
       "<style scoped>\n",
       "    .dataframe tbody tr th:only-of-type {\n",
       "        vertical-align: middle;\n",
       "    }\n",
       "\n",
       "    .dataframe tbody tr th {\n",
       "        vertical-align: top;\n",
       "    }\n",
       "\n",
       "    .dataframe thead th {\n",
       "        text-align: right;\n",
       "    }\n",
       "</style>\n",
       "<table border=\"1\" class=\"dataframe\">\n",
       "  <thead>\n",
       "    <tr style=\"text-align: right;\">\n",
       "      <th></th>\n",
       "      <th></th>\n",
       "      <th>Age</th>\n",
       "      <th>Salary</th>\n",
       "    </tr>\n",
       "  </thead>\n",
       "  <tbody>\n",
       "    <tr>\n",
       "      <th rowspan=\"3\" valign=\"top\">Simpson</th>\n",
       "      <th>Homer</th>\n",
       "      <td>1.0</td>\n",
       "      <td>1.0</td>\n",
       "    </tr>\n",
       "    <tr>\n",
       "      <th>Bart</th>\n",
       "      <td>1.0</td>\n",
       "      <td>1.0</td>\n",
       "    </tr>\n",
       "    <tr>\n",
       "      <th>Marge</th>\n",
       "      <td>1.0</td>\n",
       "      <td>1.0</td>\n",
       "    </tr>\n",
       "    <tr>\n",
       "      <th rowspan=\"3\" valign=\"top\">South Park</th>\n",
       "      <th>Cartman</th>\n",
       "      <td>1.0</td>\n",
       "      <td>1.0</td>\n",
       "    </tr>\n",
       "    <tr>\n",
       "      <th>Kenny</th>\n",
       "      <td>1.0</td>\n",
       "      <td>1.0</td>\n",
       "    </tr>\n",
       "    <tr>\n",
       "      <th>Kyle</th>\n",
       "      <td>1.0</td>\n",
       "      <td>1.0</td>\n",
       "    </tr>\n",
       "  </tbody>\n",
       "</table>\n",
       "</div>"
      ],
      "text/plain": [
       "                    Age  Salary\n",
       "Simpson    Homer    1.0     1.0\n",
       "           Bart     1.0     1.0\n",
       "           Marge    1.0     1.0\n",
       "South Park Cartman  1.0     1.0\n",
       "           Kenny    1.0     1.0\n",
       "           Kyle     1.0     1.0"
      ]
     },
     "execution_count": 86,
     "metadata": {},
     "output_type": "execute_result"
    }
   ],
   "source": [
    "big_df"
   ]
  },
  {
   "cell_type": "code",
   "execution_count": 87,
   "id": "2300363c-cc37-497d-bc49-a720c783c0b6",
   "metadata": {},
   "outputs": [
    {
     "data": {
      "text/plain": [
       "Simpson     Homer      1.0\n",
       "            Bart       1.0\n",
       "            Marge      1.0\n",
       "South Park  Cartman    1.0\n",
       "            Kenny      1.0\n",
       "            Kyle       1.0\n",
       "Name: Age, dtype: float64"
      ]
     },
     "execution_count": 87,
     "metadata": {},
     "output_type": "execute_result"
    }
   ],
   "source": [
    "big_df['Age']"
   ]
  },
  {
   "cell_type": "code",
   "execution_count": 89,
   "id": "c9330274-78ab-480a-986f-e8396f99878e",
   "metadata": {},
   "outputs": [],
   "source": [
    "# big_df.loc[\"Homer\"]"
   ]
  },
  {
   "cell_type": "code",
   "execution_count": 90,
   "id": "96c66311-366f-4ed2-b8f0-328b88dbda32",
   "metadata": {},
   "outputs": [
    {
     "data": {
      "text/html": [
       "<div>\n",
       "<style scoped>\n",
       "    .dataframe tbody tr th:only-of-type {\n",
       "        vertical-align: middle;\n",
       "    }\n",
       "\n",
       "    .dataframe tbody tr th {\n",
       "        vertical-align: top;\n",
       "    }\n",
       "\n",
       "    .dataframe thead th {\n",
       "        text-align: right;\n",
       "    }\n",
       "</style>\n",
       "<table border=\"1\" class=\"dataframe\">\n",
       "  <thead>\n",
       "    <tr style=\"text-align: right;\">\n",
       "      <th></th>\n",
       "      <th>Age</th>\n",
       "      <th>Salary</th>\n",
       "    </tr>\n",
       "  </thead>\n",
       "  <tbody>\n",
       "    <tr>\n",
       "      <th>Homer</th>\n",
       "      <td>1.0</td>\n",
       "      <td>1.0</td>\n",
       "    </tr>\n",
       "    <tr>\n",
       "      <th>Bart</th>\n",
       "      <td>1.0</td>\n",
       "      <td>1.0</td>\n",
       "    </tr>\n",
       "    <tr>\n",
       "      <th>Marge</th>\n",
       "      <td>1.0</td>\n",
       "      <td>1.0</td>\n",
       "    </tr>\n",
       "  </tbody>\n",
       "</table>\n",
       "</div>"
      ],
      "text/plain": [
       "       Age  Salary\n",
       "Homer  1.0     1.0\n",
       "Bart   1.0     1.0\n",
       "Marge  1.0     1.0"
      ]
     },
     "execution_count": 90,
     "metadata": {},
     "output_type": "execute_result"
    }
   ],
   "source": [
    "big_df.loc[\"Simpson\"]"
   ]
  },
  {
   "cell_type": "code",
   "execution_count": 91,
   "id": "aca4fc55-cfb2-493c-8ed7-9a49cacca558",
   "metadata": {},
   "outputs": [
    {
     "data": {
      "text/plain": [
       "Age       1.0\n",
       "Salary    1.0\n",
       "Name: Homer, dtype: float64"
      ]
     },
     "execution_count": 91,
     "metadata": {},
     "output_type": "execute_result"
    }
   ],
   "source": [
    "big_df.loc[\"Simpson\"].loc[\"Homer\"]"
   ]
  },
  {
   "cell_type": "code",
   "execution_count": null,
   "id": "34cc518e-658b-42a4-8265-d9070c4fe53a",
   "metadata": {},
   "outputs": [],
   "source": []
  }
 ],
 "metadata": {
  "kernelspec": {
   "display_name": "Python 3 (ipykernel)",
   "language": "python",
   "name": "python3"
  },
  "language_info": {
   "codemirror_mode": {
    "name": "ipython",
    "version": 3
   },
   "file_extension": ".py",
   "mimetype": "text/x-python",
   "name": "python",
   "nbconvert_exporter": "python",
   "pygments_lexer": "ipython3",
   "version": "3.13.5"
  }
 },
 "nbformat": 4,
 "nbformat_minor": 5
}
